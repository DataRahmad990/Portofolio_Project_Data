{
 "cells": [
  {
   "cell_type": "markdown",
   "metadata": {},
   "source": [
    "# info awalan untuk mengetahui diabetes"
   ]
  },
  {
   "cell_type": "code",
   "execution_count": 1,
   "metadata": {},
   "outputs": [],
   "source": [
    "import pandas as pd\n",
    "import numpy as np\n",
    "from pycaret.classification import *"
   ]
  },
  {
   "cell_type": "code",
   "execution_count": 2,
   "metadata": {},
   "outputs": [],
   "source": [
    "diabetes_data=pd.read_csv('diabetes.csv')\n"
   ]
  },
  {
   "cell_type": "code",
   "execution_count": 3,
   "metadata": {},
   "outputs": [
    {
     "data": {
      "text/html": [
       "<div>\n",
       "<style scoped>\n",
       "    .dataframe tbody tr th:only-of-type {\n",
       "        vertical-align: middle;\n",
       "    }\n",
       "\n",
       "    .dataframe tbody tr th {\n",
       "        vertical-align: top;\n",
       "    }\n",
       "\n",
       "    .dataframe thead th {\n",
       "        text-align: right;\n",
       "    }\n",
       "</style>\n",
       "<table border=\"1\" class=\"dataframe\">\n",
       "  <thead>\n",
       "    <tr style=\"text-align: right;\">\n",
       "      <th></th>\n",
       "      <th>Pregnancies</th>\n",
       "      <th>Glucose</th>\n",
       "      <th>BloodPressure</th>\n",
       "      <th>SkinThickness</th>\n",
       "      <th>Insulin</th>\n",
       "      <th>BMI</th>\n",
       "      <th>DiabetesPedigreeFunction</th>\n",
       "      <th>Age</th>\n",
       "      <th>Outcome</th>\n",
       "    </tr>\n",
       "  </thead>\n",
       "  <tbody>\n",
       "    <tr>\n",
       "      <th>0</th>\n",
       "      <td>6</td>\n",
       "      <td>148</td>\n",
       "      <td>72</td>\n",
       "      <td>35</td>\n",
       "      <td>0</td>\n",
       "      <td>33.6</td>\n",
       "      <td>0.627</td>\n",
       "      <td>50</td>\n",
       "      <td>1</td>\n",
       "    </tr>\n",
       "    <tr>\n",
       "      <th>1</th>\n",
       "      <td>1</td>\n",
       "      <td>85</td>\n",
       "      <td>66</td>\n",
       "      <td>29</td>\n",
       "      <td>0</td>\n",
       "      <td>26.6</td>\n",
       "      <td>0.351</td>\n",
       "      <td>31</td>\n",
       "      <td>0</td>\n",
       "    </tr>\n",
       "    <tr>\n",
       "      <th>2</th>\n",
       "      <td>8</td>\n",
       "      <td>183</td>\n",
       "      <td>64</td>\n",
       "      <td>0</td>\n",
       "      <td>0</td>\n",
       "      <td>23.3</td>\n",
       "      <td>0.672</td>\n",
       "      <td>32</td>\n",
       "      <td>1</td>\n",
       "    </tr>\n",
       "    <tr>\n",
       "      <th>3</th>\n",
       "      <td>1</td>\n",
       "      <td>89</td>\n",
       "      <td>66</td>\n",
       "      <td>23</td>\n",
       "      <td>94</td>\n",
       "      <td>28.1</td>\n",
       "      <td>0.167</td>\n",
       "      <td>21</td>\n",
       "      <td>0</td>\n",
       "    </tr>\n",
       "    <tr>\n",
       "      <th>4</th>\n",
       "      <td>0</td>\n",
       "      <td>137</td>\n",
       "      <td>40</td>\n",
       "      <td>35</td>\n",
       "      <td>168</td>\n",
       "      <td>43.1</td>\n",
       "      <td>2.288</td>\n",
       "      <td>33</td>\n",
       "      <td>1</td>\n",
       "    </tr>\n",
       "  </tbody>\n",
       "</table>\n",
       "</div>"
      ],
      "text/plain": [
       "   Pregnancies  Glucose  BloodPressure  SkinThickness  Insulin   BMI  \\\n",
       "0            6      148             72             35        0  33.6   \n",
       "1            1       85             66             29        0  26.6   \n",
       "2            8      183             64              0        0  23.3   \n",
       "3            1       89             66             23       94  28.1   \n",
       "4            0      137             40             35      168  43.1   \n",
       "\n",
       "   DiabetesPedigreeFunction  Age  Outcome  \n",
       "0                     0.627   50        1  \n",
       "1                     0.351   31        0  \n",
       "2                     0.672   32        1  \n",
       "3                     0.167   21        0  \n",
       "4                     2.288   33        1  "
      ]
     },
     "execution_count": 3,
     "metadata": {},
     "output_type": "execute_result"
    }
   ],
   "source": [
    "diabetes_data.head()"
   ]
  },
  {
   "cell_type": "code",
   "execution_count": 4,
   "metadata": {},
   "outputs": [
    {
     "name": "stdout",
     "output_type": "stream",
     "text": [
      "<class 'pandas.core.frame.DataFrame'>\n",
      "RangeIndex: 768 entries, 0 to 767\n",
      "Data columns (total 9 columns):\n",
      " #   Column                    Non-Null Count  Dtype  \n",
      "---  ------                    --------------  -----  \n",
      " 0   Pregnancies               768 non-null    int64  \n",
      " 1   Glucose                   768 non-null    int64  \n",
      " 2   BloodPressure             768 non-null    int64  \n",
      " 3   SkinThickness             768 non-null    int64  \n",
      " 4   Insulin                   768 non-null    int64  \n",
      " 5   BMI                       768 non-null    float64\n",
      " 6   DiabetesPedigreeFunction  768 non-null    float64\n",
      " 7   Age                       768 non-null    int64  \n",
      " 8   Outcome                   768 non-null    int64  \n",
      "dtypes: float64(2), int64(7)\n",
      "memory usage: 54.1 KB\n"
     ]
    }
   ],
   "source": [
    "diabetes_data.info()"
   ]
  },
  {
   "cell_type": "code",
   "execution_count": 5,
   "metadata": {},
   "outputs": [
    {
     "data": {
      "text/html": [
       "<div>\n",
       "<style scoped>\n",
       "    .dataframe tbody tr th:only-of-type {\n",
       "        vertical-align: middle;\n",
       "    }\n",
       "\n",
       "    .dataframe tbody tr th {\n",
       "        vertical-align: top;\n",
       "    }\n",
       "\n",
       "    .dataframe thead th {\n",
       "        text-align: right;\n",
       "    }\n",
       "</style>\n",
       "<table border=\"1\" class=\"dataframe\">\n",
       "  <thead>\n",
       "    <tr style=\"text-align: right;\">\n",
       "      <th></th>\n",
       "      <th>Pregnancies</th>\n",
       "      <th>Glucose</th>\n",
       "      <th>BloodPressure</th>\n",
       "      <th>SkinThickness</th>\n",
       "      <th>Insulin</th>\n",
       "      <th>BMI</th>\n",
       "      <th>DiabetesPedigreeFunction</th>\n",
       "      <th>Age</th>\n",
       "      <th>Outcome</th>\n",
       "    </tr>\n",
       "  </thead>\n",
       "  <tbody>\n",
       "    <tr>\n",
       "      <th>count</th>\n",
       "      <td>768.000000</td>\n",
       "      <td>768.000000</td>\n",
       "      <td>768.000000</td>\n",
       "      <td>768.000000</td>\n",
       "      <td>768.000000</td>\n",
       "      <td>768.000000</td>\n",
       "      <td>768.000000</td>\n",
       "      <td>768.000000</td>\n",
       "      <td>768.000000</td>\n",
       "    </tr>\n",
       "    <tr>\n",
       "      <th>mean</th>\n",
       "      <td>3.845052</td>\n",
       "      <td>120.894531</td>\n",
       "      <td>69.105469</td>\n",
       "      <td>20.536458</td>\n",
       "      <td>79.799479</td>\n",
       "      <td>31.992578</td>\n",
       "      <td>0.471876</td>\n",
       "      <td>33.240885</td>\n",
       "      <td>0.348958</td>\n",
       "    </tr>\n",
       "    <tr>\n",
       "      <th>std</th>\n",
       "      <td>3.369578</td>\n",
       "      <td>31.972618</td>\n",
       "      <td>19.355807</td>\n",
       "      <td>15.952218</td>\n",
       "      <td>115.244002</td>\n",
       "      <td>7.884160</td>\n",
       "      <td>0.331329</td>\n",
       "      <td>11.760232</td>\n",
       "      <td>0.476951</td>\n",
       "    </tr>\n",
       "    <tr>\n",
       "      <th>min</th>\n",
       "      <td>0.000000</td>\n",
       "      <td>0.000000</td>\n",
       "      <td>0.000000</td>\n",
       "      <td>0.000000</td>\n",
       "      <td>0.000000</td>\n",
       "      <td>0.000000</td>\n",
       "      <td>0.078000</td>\n",
       "      <td>21.000000</td>\n",
       "      <td>0.000000</td>\n",
       "    </tr>\n",
       "    <tr>\n",
       "      <th>25%</th>\n",
       "      <td>1.000000</td>\n",
       "      <td>99.000000</td>\n",
       "      <td>62.000000</td>\n",
       "      <td>0.000000</td>\n",
       "      <td>0.000000</td>\n",
       "      <td>27.300000</td>\n",
       "      <td>0.243750</td>\n",
       "      <td>24.000000</td>\n",
       "      <td>0.000000</td>\n",
       "    </tr>\n",
       "    <tr>\n",
       "      <th>50%</th>\n",
       "      <td>3.000000</td>\n",
       "      <td>117.000000</td>\n",
       "      <td>72.000000</td>\n",
       "      <td>23.000000</td>\n",
       "      <td>30.500000</td>\n",
       "      <td>32.000000</td>\n",
       "      <td>0.372500</td>\n",
       "      <td>29.000000</td>\n",
       "      <td>0.000000</td>\n",
       "    </tr>\n",
       "    <tr>\n",
       "      <th>75%</th>\n",
       "      <td>6.000000</td>\n",
       "      <td>140.250000</td>\n",
       "      <td>80.000000</td>\n",
       "      <td>32.000000</td>\n",
       "      <td>127.250000</td>\n",
       "      <td>36.600000</td>\n",
       "      <td>0.626250</td>\n",
       "      <td>41.000000</td>\n",
       "      <td>1.000000</td>\n",
       "    </tr>\n",
       "    <tr>\n",
       "      <th>max</th>\n",
       "      <td>17.000000</td>\n",
       "      <td>199.000000</td>\n",
       "      <td>122.000000</td>\n",
       "      <td>99.000000</td>\n",
       "      <td>846.000000</td>\n",
       "      <td>67.100000</td>\n",
       "      <td>2.420000</td>\n",
       "      <td>81.000000</td>\n",
       "      <td>1.000000</td>\n",
       "    </tr>\n",
       "  </tbody>\n",
       "</table>\n",
       "</div>"
      ],
      "text/plain": [
       "       Pregnancies     Glucose  BloodPressure  SkinThickness     Insulin  \\\n",
       "count   768.000000  768.000000     768.000000     768.000000  768.000000   \n",
       "mean      3.845052  120.894531      69.105469      20.536458   79.799479   \n",
       "std       3.369578   31.972618      19.355807      15.952218  115.244002   \n",
       "min       0.000000    0.000000       0.000000       0.000000    0.000000   \n",
       "25%       1.000000   99.000000      62.000000       0.000000    0.000000   \n",
       "50%       3.000000  117.000000      72.000000      23.000000   30.500000   \n",
       "75%       6.000000  140.250000      80.000000      32.000000  127.250000   \n",
       "max      17.000000  199.000000     122.000000      99.000000  846.000000   \n",
       "\n",
       "              BMI  DiabetesPedigreeFunction         Age     Outcome  \n",
       "count  768.000000                768.000000  768.000000  768.000000  \n",
       "mean    31.992578                  0.471876   33.240885    0.348958  \n",
       "std      7.884160                  0.331329   11.760232    0.476951  \n",
       "min      0.000000                  0.078000   21.000000    0.000000  \n",
       "25%     27.300000                  0.243750   24.000000    0.000000  \n",
       "50%     32.000000                  0.372500   29.000000    0.000000  \n",
       "75%     36.600000                  0.626250   41.000000    1.000000  \n",
       "max     67.100000                  2.420000   81.000000    1.000000  "
      ]
     },
     "execution_count": 5,
     "metadata": {},
     "output_type": "execute_result"
    }
   ],
   "source": [
    "diabetes_data.describe()"
   ]
  },
  {
   "cell_type": "markdown",
   "metadata": {},
   "source": [
    "# looking and see relationship Diabetes with the other data"
   ]
  },
  {
   "cell_type": "code",
   "execution_count": 6,
   "metadata": {},
   "outputs": [
    {
     "data": {
      "application/vnd.jupyter.widget-view+json": {
       "model_id": "0ba2bd8367f8414e95c39fd8ce12e928",
       "version_major": 2,
       "version_minor": 0
      },
      "text/plain": [
       "Summarize dataset:   0%|          | 0/5 [00:00<?, ?it/s]"
      ]
     },
     "metadata": {},
     "output_type": "display_data"
    },
    {
     "data": {
      "application/vnd.jupyter.widget-view+json": {
       "model_id": "8bd250b5d6e44d41aaf4191d7db00663",
       "version_major": 2,
       "version_minor": 0
      },
      "text/plain": [
       "Generate report structure:   0%|          | 0/1 [00:00<?, ?it/s]"
      ]
     },
     "metadata": {},
     "output_type": "display_data"
    },
    {
     "data": {
      "application/vnd.jupyter.widget-view+json": {
       "model_id": "9714fce651fc424696cb435bee9b385b",
       "version_major": 2,
       "version_minor": 0
      },
      "text/plain": [
       "Render widgets:   0%|          | 0/1 [00:00<?, ?it/s]"
      ]
     },
     "metadata": {},
     "output_type": "display_data"
    },
    {
     "data": {
      "application/vnd.jupyter.widget-view+json": {
       "model_id": "72293cb8087c4175ab58262239bf3ab3",
       "version_major": 2,
       "version_minor": 0
      },
      "text/plain": [
       "VBox(children=(Tab(children=(Tab(children=(GridBox(children=(VBox(children=(GridspecLayout(children=(HTML(valu…"
      ]
     },
     "metadata": {},
     "output_type": "display_data"
    }
   ],
   "source": [
    "from pandas_profiling import ProfileReport\n",
    "profile = ProfileReport(diabetes_data, explorative=True)\n",
    "profile.to_widgets()"
   ]
  },
  {
   "cell_type": "code",
   "execution_count": 7,
   "metadata": {},
   "outputs": [],
   "source": [
    "import matplotlib.pyplot as plt \n",
    "import seaborn as sns"
   ]
  },
  {
   "cell_type": "code",
   "execution_count": 23,
   "metadata": {},
   "outputs": [
    {
     "data": {
      "text/html": [
       "<div>\n",
       "<style scoped>\n",
       "    .dataframe tbody tr th:only-of-type {\n",
       "        vertical-align: middle;\n",
       "    }\n",
       "\n",
       "    .dataframe tbody tr th {\n",
       "        vertical-align: top;\n",
       "    }\n",
       "\n",
       "    .dataframe thead th {\n",
       "        text-align: right;\n",
       "    }\n",
       "</style>\n",
       "<table border=\"1\" class=\"dataframe\">\n",
       "  <thead>\n",
       "    <tr style=\"text-align: right;\">\n",
       "      <th></th>\n",
       "      <th>Pregnancies</th>\n",
       "      <th>Glucose</th>\n",
       "      <th>BloodPressure</th>\n",
       "      <th>SkinThickness</th>\n",
       "      <th>Insulin</th>\n",
       "      <th>BMI</th>\n",
       "      <th>DiabetesPedigreeFunction</th>\n",
       "      <th>Age</th>\n",
       "    </tr>\n",
       "    <tr>\n",
       "      <th>Outcome</th>\n",
       "      <th></th>\n",
       "      <th></th>\n",
       "      <th></th>\n",
       "      <th></th>\n",
       "      <th></th>\n",
       "      <th></th>\n",
       "      <th></th>\n",
       "      <th></th>\n",
       "    </tr>\n",
       "  </thead>\n",
       "  <tbody>\n",
       "    <tr>\n",
       "      <th>0</th>\n",
       "      <td>3.298000</td>\n",
       "      <td>109.980000</td>\n",
       "      <td>68.184000</td>\n",
       "      <td>19.664000</td>\n",
       "      <td>68.792000</td>\n",
       "      <td>30.304200</td>\n",
       "      <td>0.429734</td>\n",
       "      <td>31.190000</td>\n",
       "    </tr>\n",
       "    <tr>\n",
       "      <th>1</th>\n",
       "      <td>4.865672</td>\n",
       "      <td>141.257463</td>\n",
       "      <td>70.824627</td>\n",
       "      <td>22.164179</td>\n",
       "      <td>100.335821</td>\n",
       "      <td>35.142537</td>\n",
       "      <td>0.550500</td>\n",
       "      <td>37.067164</td>\n",
       "    </tr>\n",
       "  </tbody>\n",
       "</table>\n",
       "</div>"
      ],
      "text/plain": [
       "         Pregnancies     Glucose  BloodPressure  SkinThickness     Insulin  \\\n",
       "Outcome                                                                      \n",
       "0           3.298000  109.980000      68.184000      19.664000   68.792000   \n",
       "1           4.865672  141.257463      70.824627      22.164179  100.335821   \n",
       "\n",
       "               BMI  DiabetesPedigreeFunction        Age  \n",
       "Outcome                                                  \n",
       "0        30.304200                  0.429734  31.190000  \n",
       "1        35.142537                  0.550500  37.067164  "
      ]
     },
     "execution_count": 23,
     "metadata": {},
     "output_type": "execute_result"
    }
   ],
   "source": [
    "diabetes_data.groupby('Outcome').mean()"
   ]
  },
  {
   "cell_type": "markdown",
   "metadata": {},
   "source": [
    "kita bisa lihat disini jika rata-rata orang yang terkena diabetes yaitu  poin 1 adalah orang-orang yang kadar gula dararahnya 141, insulin yang tinggi dan umur 35+ "
   ]
  },
  {
   "cell_type": "code",
   "execution_count": 7,
   "metadata": {},
   "outputs": [
    {
     "data": {
      "application/vnd.plotly.v1+json": {
       "config": {
        "plotlyServerURL": "https://plot.ly"
       },
       "data": [
        {
         "customdata": [
          [
           50,
           6
          ],
          [
           31,
           1
          ],
          [
           32,
           8
          ],
          [
           21,
           1
          ],
          [
           33,
           0
          ],
          [
           30,
           5
          ],
          [
           26,
           3
          ],
          [
           29,
           10
          ],
          [
           53,
           2
          ],
          [
           54,
           8
          ],
          [
           30,
           4
          ],
          [
           34,
           10
          ],
          [
           57,
           10
          ],
          [
           59,
           1
          ],
          [
           51,
           5
          ],
          [
           32,
           7
          ],
          [
           31,
           0
          ],
          [
           31,
           7
          ],
          [
           33,
           1
          ],
          [
           32,
           1
          ],
          [
           27,
           3
          ],
          [
           50,
           8
          ],
          [
           41,
           7
          ],
          [
           29,
           9
          ],
          [
           51,
           11
          ],
          [
           41,
           10
          ],
          [
           43,
           7
          ],
          [
           22,
           1
          ],
          [
           57,
           13
          ],
          [
           38,
           5
          ],
          [
           60,
           5
          ],
          [
           28,
           3
          ],
          [
           22,
           3
          ],
          [
           28,
           6
          ],
          [
           45,
           10
          ],
          [
           33,
           4
          ],
          [
           35,
           11
          ],
          [
           46,
           9
          ],
          [
           27,
           2
          ],
          [
           56,
           4
          ],
          [
           26,
           3
          ],
          [
           37,
           7
          ],
          [
           48,
           7
          ],
          [
           54,
           9
          ],
          [
           40,
           7
          ],
          [
           25,
           0
          ],
          [
           29,
           1
          ],
          [
           22,
           2
          ],
          [
           31,
           7
          ],
          [
           24,
           7
          ],
          [
           22,
           1
          ],
          [
           26,
           1
          ],
          [
           30,
           5
          ],
          [
           58,
           8
          ],
          [
           42,
           7
          ],
          [
           21,
           1
          ],
          [
           41,
           7
          ],
          [
           31,
           0
          ],
          [
           44,
           0
          ],
          [
           22,
           0
          ],
          [
           21,
           2
          ],
          [
           39,
           8
          ],
          [
           36,
           5
          ],
          [
           24,
           2
          ],
          [
           42,
           7
          ],
          [
           32,
           5
          ],
          [
           38,
           0
          ],
          [
           54,
           2
          ],
          [
           25,
           1
          ],
          [
           27,
           4
          ],
          [
           28,
           2
          ],
          [
           26,
           5
          ],
          [
           42,
           13
          ],
          [
           23,
           4
          ],
          [
           22,
           1
          ],
          [
           22,
           1
          ],
          [
           41,
           7
          ],
          [
           27,
           5
          ],
          [
           26,
           0
          ],
          [
           24,
           2
          ],
          [
           22,
           3
          ],
          [
           22,
           2
          ],
          [
           36,
           7
          ],
          [
           22,
           0
          ],
          [
           37,
           5
          ],
          [
           27,
           2
          ],
          [
           45,
           13
          ],
          [
           26,
           2
          ],
          [
           43,
           15
          ],
          [
           24,
           1
          ],
          [
           21,
           1
          ],
          [
           34,
           4
          ],
          [
           42,
           7
          ],
          [
           60,
           4
          ],
          [
           21,
           2
          ],
          [
           40,
           6
          ],
          [
           24,
           2
          ],
          [
           22,
           1
          ],
          [
           23,
           6
          ],
          [
           31,
           1
          ],
          [
           33,
           1
          ],
          [
           22,
           1
          ],
          [
           21,
           0
          ],
          [
           24,
           1
          ],
          [
           27,
           2
          ],
          [
           21,
           1
          ],
          [
           27,
           1
          ],
          [
           37,
           4
          ],
          [
           25,
           3
          ],
          [
           24,
           0
          ],
          [
           24,
           3
          ],
          [
           46,
           8
          ],
          [
           23,
           1
          ],
          [
           25,
           4
          ],
          [
           39,
           7
          ],
          [
           61,
           4
          ],
          [
           38,
           5
          ],
          [
           25,
           5
          ],
          [
           22,
           4
          ],
          [
           21,
           4
          ],
          [
           25,
           0
          ],
          [
           24,
           6
          ],
          [
           23,
           2
          ],
          [
           69,
           5
          ],
          [
           23,
           0
          ],
          [
           26,
           1
          ],
          [
           30,
           3
          ],
          [
           23,
           1
          ],
          [
           40,
           1
          ],
          [
           62,
           0
          ],
          [
           33,
           4
          ],
          [
           33,
           9
          ],
          [
           30,
           3
          ],
          [
           39,
           8
          ],
          [
           26,
           2
          ],
          [
           31,
           2
          ],
          [
           21,
           0
          ],
          [
           22,
           0
          ],
          [
           29,
           0
          ],
          [
           28,
           5
          ],
          [
           55,
           3
          ],
          [
           38,
           5
          ],
          [
           22,
           2
          ],
          [
           42,
           10
          ],
          [
           23,
           4
          ],
          [
           21,
           0
          ],
          [
           41,
           9
          ],
          [
           34,
           2
          ],
          [
           65,
           5
          ],
          [
           22,
           2
          ],
          [
           24,
           1
          ],
          [
           37,
           4
          ],
          [
           42,
           9
          ],
          [
           23,
           1
          ],
          [
           43,
           8
          ],
          [
           36,
           7
          ],
          [
           21,
           2
          ],
          [
           23,
           1
          ],
          [
           22,
           2
          ],
          [
           47,
           17
          ],
          [
           36,
           4
          ],
          [
           45,
           7
          ],
          [
           27,
           0
          ],
          [
           21,
           2
          ],
          [
           32,
           0
          ],
          [
           41,
           6
          ],
          [
           22,
           3
          ],
          [
           34,
           4
          ],
          [
           29,
           4
          ],
          [
           29,
           3
          ],
          [
           36,
           6
          ],
          [
           29,
           6
          ],
          [
           25,
           2
          ],
          [
           23,
           1
          ],
          [
           33,
           2
          ],
          [
           36,
           8
          ],
          [
           42,
           6
          ],
          [
           26,
           0
          ],
          [
           47,
           5
          ],
          [
           37,
           5
          ],
          [
           32,
           6
          ],
          [
           23,
           0
          ],
          [
           21,
           1
          ],
          [
           27,
           5
          ],
          [
           40,
           4
          ],
          [
           41,
           7
          ],
          [
           60,
           8
          ],
          [
           33,
           1
          ],
          [
           31,
           8
          ],
          [
           25,
           5
          ],
          [
           21,
           3
          ],
          [
           40,
           9
          ],
          [
           36,
           7
          ],
          [
           40,
           11
          ],
          [
           42,
           8
          ],
          [
           29,
           5
          ],
          [
           21,
           1
          ],
          [
           23,
           3
          ],
          [
           26,
           4
          ],
          [
           29,
           4
          ],
          [
           21,
           0
          ],
          [
           28,
           1
          ],
          [
           32,
           0
          ],
          [
           27,
           2
          ],
          [
           55,
           6
          ],
          [
           27,
           5
          ],
          [
           57,
           8
          ],
          [
           52,
           5
          ],
          [
           21,
           1
          ],
          [
           41,
           7
          ],
          [
           25,
           2
          ],
          [
           24,
           0
          ],
          [
           60,
           7
          ],
          [
           24,
           0
          ],
          [
           36,
           9
          ],
          [
           38,
           12
          ],
          [
           25,
           5
          ],
          [
           32,
           6
          ],
          [
           32,
           5
          ],
          [
           41,
           5
          ],
          [
           21,
           0
          ],
          [
           66,
           2
          ],
          [
           37,
           7
          ],
          [
           61,
           7
          ],
          [
           26,
           1
          ],
          [
           22,
           1
          ],
          [
           26,
           0
          ],
          [
           24,
           3
          ],
          [
           31,
           4
          ],
          [
           24,
           0
          ],
          [
           22,
           4
          ],
          [
           46,
           6
          ],
          [
           22,
           1
          ],
          [
           29,
           4
          ],
          [
           23,
           3
          ],
          [
           26,
           4
          ],
          [
           51,
           7
          ],
          [
           23,
           0
          ],
          [
           32,
           9
          ],
          [
           27,
           0
          ],
          [
           21,
           1
          ],
          [
           22,
           4
          ],
          [
           22,
           3
          ],
          [
           33,
           6
          ],
          [
           29,
           2
          ],
          [
           49,
           9
          ],
          [
           41,
           10
          ],
          [
           23,
           0
          ],
          [
           34,
           9
          ],
          [
           23,
           1
          ],
          [
           42,
           9
          ],
          [
           27,
           2
          ],
          [
           24,
           2
          ],
          [
           25,
           0
          ],
          [
           44,
           12
          ],
          [
           21,
           1
          ],
          [
           30,
           3
          ],
          [
           25,
           2
          ],
          [
           24,
           1
          ],
          [
           51,
           11
          ],
          [
           34,
           3
          ],
          [
           27,
           3
          ],
          [
           24,
           4
          ],
          [
           63,
           3
          ],
          [
           35,
           4
          ],
          [
           43,
           5
          ],
          [
           25,
           0
          ],
          [
           24,
           2
          ],
          [
           21,
           0
          ],
          [
           28,
           2
          ],
          [
           38,
           10
          ],
          [
           21,
           2
          ],
          [
           40,
           3
          ],
          [
           21,
           1
          ],
          [
           52,
           13
          ],
          [
           25,
           2
          ],
          [
           29,
           7
          ],
          [
           23,
           0
          ],
          [
           57,
           5
          ],
          [
           22,
           2
          ],
          [
           28,
           0
          ],
          [
           39,
           10
          ],
          [
           37,
           7
          ],
          [
           47,
           7
          ],
          [
           52,
           2
          ],
          [
           51,
           7
          ],
          [
           34,
           5
          ],
          [
           29,
           1
          ],
          [
           26,
           4
          ],
          [
           33,
           5
          ],
          [
           21,
           0
          ],
          [
           25,
           0
          ],
          [
           31,
           2
          ],
          [
           24,
           1
          ],
          [
           65,
           0
          ],
          [
           28,
           6
          ],
          [
           29,
           2
          ],
          [
           24,
           0
          ],
          [
           46,
           14
          ],
          [
           58,
           8
          ],
          [
           30,
           0
          ],
          [
           25,
           2
          ],
          [
           35,
           5
          ],
          [
           28,
           5
          ],
          [
           37,
           3
          ],
          [
           29,
           2
          ],
          [
           47,
           10
          ],
          [
           21,
           0
          ],
          [
           25,
           0
          ],
          [
           30,
           2
          ],
          [
           41,
           6
          ],
          [
           22,
           0
          ],
          [
           27,
           2
          ],
          [
           25,
           3
          ],
          [
           43,
           7
          ],
          [
           26,
           2
          ],
          [
           30,
           3
          ],
          [
           29,
           3
          ],
          [
           28,
           3
          ],
          [
           59,
           6
          ],
          [
           31,
           4
          ],
          [
           25,
           3
          ],
          [
           36,
           0
          ],
          [
           43,
           13
          ],
          [
           21,
           2
          ],
          [
           24,
           1
          ],
          [
           30,
           1
          ],
          [
           37,
           10
          ],
          [
           23,
           2
          ],
          [
           37,
           6
          ],
          [
           46,
           8
          ],
          [
           25,
           2
          ],
          [
           41,
           1
          ],
          [
           44,
           12
          ],
          [
           22,
           1
          ],
          [
           26,
           0
          ],
          [
           44,
           0
          ],
          [
           44,
           5
          ],
          [
           33,
           9
          ],
          [
           41,
           7
          ],
          [
           22,
           1
          ],
          [
           36,
           1
          ],
          [
           22,
           1
          ],
          [
           33,
           5
          ],
          [
           57,
           8
          ],
          [
           49,
           8
          ],
          [
           22,
           1
          ],
          [
           23,
           3
          ],
          [
           26,
           3
          ],
          [
           37,
           5
          ],
          [
           29,
           4
          ],
          [
           30,
           4
          ],
          [
           46,
           3
          ],
          [
           24,
           1
          ],
          [
           21,
           3
          ],
          [
           49,
           9
          ],
          [
           28,
           1
          ],
          [
           44,
           13
          ],
          [
           48,
           12
          ],
          [
           29,
           1
          ],
          [
           29,
           5
          ],
          [
           63,
           5
          ],
          [
           65,
           5
          ],
          [
           67,
           4
          ],
          [
           30,
           4
          ],
          [
           30,
           5
          ],
          [
           29,
           6
          ],
          [
           21,
           0
          ],
          [
           22,
           3
          ],
          [
           45,
           1
          ],
          [
           25,
           3
          ],
          [
           21,
           0
          ],
          [
           21,
           0
          ],
          [
           25,
           2
          ],
          [
           28,
           2
          ],
          [
           58,
           12
          ],
          [
           22,
           0
          ],
          [
           22,
           1
          ],
          [
           32,
           4
          ],
          [
           35,
           0
          ],
          [
           24,
           1
          ],
          [
           22,
           0
          ],
          [
           21,
           1
          ],
          [
           25,
           1
          ],
          [
           25,
           1
          ],
          [
           24,
           1
          ],
          [
           35,
           5
          ],
          [
           45,
           8
          ],
          [
           58,
           5
          ],
          [
           28,
           3
          ],
          [
           42,
           1
          ],
          [
           27,
           5
          ],
          [
           21,
           1
          ],
          [
           37,
           4
          ],
          [
           31,
           4
          ],
          [
           25,
           2
          ],
          [
           39,
           3
          ],
          [
           22,
           0
          ],
          [
           25,
           3
          ],
          [
           25,
           3
          ],
          [
           31,
           4
          ],
          [
           55,
           6
          ],
          [
           35,
           5
          ],
          [
           38,
           9
          ],
          [
           41,
           5
          ],
          [
           26,
           2
          ],
          [
           46,
           4
          ],
          [
           25,
           0
          ],
          [
           39,
           8
          ],
          [
           28,
           1
          ],
          [
           28,
           6
          ],
          [
           25,
           1
          ],
          [
           22,
           1
          ],
          [
           21,
           1
          ],
          [
           21,
           0
          ],
          [
           22,
           3
          ],
          [
           22,
           1
          ],
          [
           37,
           4
          ],
          [
           27,
           1
          ],
          [
           28,
           3
          ],
          [
           26,
           1
          ],
          [
           21,
           2
          ],
          [
           21,
           0
          ],
          [
           21,
           2
          ],
          [
           36,
           8
          ],
          [
           31,
           4
          ],
          [
           25,
           0
          ],
          [
           38,
           1
          ],
          [
           26,
           0
          ],
          [
           43,
           1
          ],
          [
           23,
           2
          ],
          [
           38,
           3
          ],
          [
           22,
           1
          ],
          [
           29,
           2
          ],
          [
           36,
           1
          ],
          [
           29,
           0
          ],
          [
           41,
           12
          ],
          [
           28,
           5
          ],
          [
           21,
           1
          ],
          [
           31,
           6
          ],
          [
           41,
           0
          ],
          [
           22,
           2
          ],
          [
           24,
           4
          ],
          [
           33,
           8
          ],
          [
           30,
           4
          ],
          [
           25,
           0
          ],
          [
           28,
           1
          ],
          [
           26,
           0
          ],
          [
           22,
           0
          ],
          [
           26,
           0
          ],
          [
           23,
           1
          ],
          [
           23,
           2
          ],
          [
           25,
           0
          ],
          [
           72,
           2
          ],
          [
           24,
           2
          ],
          [
           38,
           14
          ],
          [
           62,
           1
          ],
          [
           24,
           5
          ],
          [
           51,
           10
          ],
          [
           81,
           9
          ],
          [
           48,
           9
          ],
          [
           26,
           1
          ],
          [
           39,
           8
          ],
          [
           37,
           5
          ],
          [
           34,
           10
          ],
          [
           21,
           0
          ],
          [
           22,
           0
          ],
          [
           25,
           0
          ],
          [
           38,
           8
          ],
          [
           27,
           6
          ],
          [
           28,
           1
          ],
          [
           22,
           0
          ],
          [
           22,
           0
          ],
          [
           50,
           7
          ],
          [
           24,
           4
          ],
          [
           59,
           0
          ],
          [
           29,
           2
          ],
          [
           31,
           7
          ],
          [
           39,
           8
          ],
          [
           63,
           4
          ],
          [
           35,
           3
          ],
          [
           29,
           0
          ],
          [
           28,
           4
          ],
          [
           23,
           0
          ],
          [
           31,
           0
          ],
          [
           24,
           0
          ],
          [
           21,
           1
          ],
          [
           58,
           0
          ],
          [
           28,
           4
          ],
          [
           67,
           8
          ],
          [
           24,
           2
          ],
          [
           42,
           2
          ],
          [
           33,
           4
          ],
          [
           45,
           4
          ],
          [
           22,
           3
          ],
          [
           66,
           6
          ],
          [
           30,
           5
          ],
          [
           25,
           2
          ],
          [
           55,
           7
          ],
          [
           39,
           6
          ],
          [
           21,
           2
          ],
          [
           28,
           3
          ],
          [
           41,
           6
          ],
          [
           41,
           7
          ],
          [
           40,
           3
          ],
          [
           38,
           10
          ],
          [
           35,
           0
          ],
          [
           21,
           1
          ],
          [
           21,
           2
          ],
          [
           64,
           8
          ],
          [
           46,
           12
          ],
          [
           21,
           0
          ],
          [
           58,
           9
          ],
          [
           22,
           2
          ],
          [
           24,
           3
          ],
          [
           28,
           3
          ],
          [
           53,
           9
          ],
          [
           51,
           7
          ],
          [
           41,
           13
          ],
          [
           60,
           6
          ],
          [
           25,
           2
          ],
          [
           26,
           3
          ],
          [
           26,
           6
          ],
          [
           45,
           9
          ],
          [
           24,
           3
          ],
          [
           21,
           3
          ],
          [
           21,
           1
          ],
          [
           24,
           3
          ],
          [
           22,
           0
          ],
          [
           31,
           0
          ],
          [
           22,
           2
          ],
          [
           24,
           0
          ],
          [
           29,
           1
          ],
          [
           31,
           6
          ],
          [
           24,
           1
          ],
          [
           23,
           4
          ],
          [
           46,
           0
          ],
          [
           67,
           0
          ],
          [
           23,
           0
          ],
          [
           32,
           3
          ],
          [
           43,
           8
          ],
          [
           27,
           3
          ],
          [
           56,
           10
          ],
          [
           25,
           4
          ],
          [
           29,
           1
          ],
          [
           37,
           8
          ],
          [
           53,
           5
          ],
          [
           28,
           4
          ],
          [
           50,
           1
          ],
          [
           37,
           4
          ],
          [
           21,
           1
          ],
          [
           25,
           3
          ],
          [
           66,
           6
          ],
          [
           23,
           1
          ],
          [
           28,
           1
          ],
          [
           37,
           7
          ],
          [
           30,
           1
          ],
          [
           58,
           8
          ],
          [
           42,
           11
          ],
          [
           35,
           11
          ],
          [
           54,
           6
          ],
          [
           28,
           0
          ],
          [
           24,
           1
          ],
          [
           32,
           6
          ],
          [
           27,
           0
          ],
          [
           22,
           2
          ],
          [
           21,
           1
          ],
          [
           46,
           6
          ],
          [
           37,
           4
          ],
          [
           33,
           0
          ],
          [
           39,
           3
          ],
          [
           21,
           2
          ],
          [
           22,
           3
          ],
          [
           22,
           2
          ],
          [
           23,
           1
          ],
          [
           25,
           1
          ],
          [
           35,
           6
          ],
          [
           21,
           2
          ],
          [
           36,
           10
          ],
          [
           62,
           2
          ],
          [
           21,
           0
          ],
          [
           27,
           6
          ],
          [
           62,
           12
          ],
          [
           42,
           8
          ],
          [
           52,
           8
          ],
          [
           22,
           1
          ],
          [
           41,
           8
          ],
          [
           29,
           6
          ],
          [
           52,
           3
          ],
          [
           25,
           0
          ],
          [
           45,
           11
          ],
          [
           24,
           2
          ],
          [
           44,
           3
          ],
          [
           25,
           2
          ],
          [
           34,
           6
          ],
          [
           22,
           0
          ],
          [
           46,
           0
          ],
          [
           21,
           1
          ],
          [
           38,
           1
          ],
          [
           26,
           1
          ],
          [
           24,
           1
          ],
          [
           28,
           6
          ],
          [
           30,
           1
          ],
          [
           54,
           7
          ],
          [
           36,
           4
          ],
          [
           21,
           1
          ],
          [
           22,
           1
          ],
          [
           25,
           1
          ],
          [
           27,
           0
          ],
          [
           23,
           1
          ],
          [
           24,
           3
          ],
          [
           36,
           3
          ],
          [
           40,
           7
          ],
          [
           26,
           6
          ],
          [
           50,
           11
          ],
          [
           27,
           3
          ],
          [
           30,
           6
          ],
          [
           23,
           2
          ],
          [
           50,
           9
          ],
          [
           24,
           0
          ],
          [
           28,
           2
          ],
          [
           28,
           2
          ],
          [
           45,
           6
          ],
          [
           21,
           0
          ],
          [
           21,
           2
          ],
          [
           29,
           4
          ],
          [
           21,
           0
          ],
          [
           21,
           0
          ],
          [
           45,
           5
          ],
          [
           21,
           4
          ],
          [
           34,
           7
          ],
          [
           24,
           0
          ],
          [
           23,
           2
          ],
          [
           22,
           1
          ],
          [
           31,
           10
          ],
          [
           38,
           13
          ],
          [
           48,
           5
          ],
          [
           23,
           2
          ],
          [
           32,
           7
          ],
          [
           28,
           1
          ],
          [
           27,
           0
          ],
          [
           24,
           4
          ],
          [
           50,
           6
          ],
          [
           31,
           4
          ],
          [
           27,
           3
          ],
          [
           30,
           2
          ],
          [
           33,
           1
          ],
          [
           22,
           0
          ],
          [
           42,
           11
          ],
          [
           23,
           0
          ],
          [
           23,
           1
          ],
          [
           27,
           1
          ],
          [
           28,
           5
          ],
          [
           27,
           2
          ],
          [
           22,
           1
          ],
          [
           25,
           2
          ],
          [
           22,
           2
          ],
          [
           41,
           1
          ],
          [
           51,
           11
          ],
          [
           27,
           3
          ],
          [
           54,
           10
          ],
          [
           22,
           1
          ],
          [
           43,
           8
          ],
          [
           40,
           9
          ],
          [
           40,
           6
          ],
          [
           24,
           1
          ],
          [
           70,
           4
          ],
          [
           40,
           10
          ],
          [
           43,
           6
          ],
          [
           45,
           9
          ],
          [
           49,
           6
          ],
          [
           21,
           1
          ],
          [
           47,
           10
          ],
          [
           22,
           3
          ],
          [
           68,
           8
          ],
          [
           31,
           6
          ],
          [
           53,
           9
          ],
          [
           25,
           0
          ],
          [
           25,
           3
          ],
          [
           23,
           2
          ],
          [
           22,
           2
          ],
          [
           26,
           0
          ],
          [
           22,
           0
          ],
          [
           27,
           4
          ],
          [
           69,
           5
          ],
          [
           25,
           2
          ],
          [
           22,
           3
          ],
          [
           29,
           1
          ],
          [
           23,
           1
          ],
          [
           46,
           1
          ],
          [
           34,
           8
          ],
          [
           44,
           13
          ],
          [
           23,
           2
          ],
          [
           43,
           7
          ],
          [
           25,
           2
          ],
          [
           43,
           7
          ],
          [
           31,
           3
          ],
          [
           22,
           0
          ],
          [
           28,
           4
          ],
          [
           26,
           4
          ],
          [
           26,
           2
          ],
          [
           49,
           6
          ],
          [
           52,
           1
          ],
          [
           41,
           2
          ],
          [
           27,
           4
          ],
          [
           28,
           6
          ],
          [
           30,
           10
          ],
          [
           22,
           2
          ],
          [
           45,
           9
          ],
          [
           23,
           2
          ],
          [
           24,
           3
          ],
          [
           40,
           5
          ],
          [
           38,
           10
          ],
          [
           21,
           0
          ],
          [
           32,
           3
          ],
          [
           34,
           7
          ],
          [
           31,
           3
          ],
          [
           56,
           10
          ],
          [
           24,
           1
          ],
          [
           52,
           5
          ],
          [
           34,
           4
          ],
          [
           21,
           1
          ],
          [
           42,
           1
          ],
          [
           42,
           5
          ],
          [
           45,
           1
          ],
          [
           38,
           4
          ],
          [
           25,
           1
          ],
          [
           22,
           0
          ],
          [
           22,
           2
          ],
          [
           22,
           2
          ],
          [
           34,
           3
          ],
          [
           22,
           8
          ],
          [
           24,
           2
          ],
          [
           22,
           2
          ],
          [
           53,
           2
          ],
          [
           28,
           4
          ],
          [
           21,
           0
          ],
          [
           42,
           8
          ],
          [
           21,
           2
          ],
          [
           42,
           1
          ],
          [
           48,
           11
          ],
          [
           26,
           3
          ],
          [
           22,
           1
          ],
          [
           45,
           9
          ],
          [
           39,
           13
          ],
          [
           46,
           12
          ],
          [
           27,
           1
          ],
          [
           32,
           1
          ],
          [
           36,
           3
          ],
          [
           50,
           6
          ],
          [
           22,
           4
          ],
          [
           28,
           1
          ],
          [
           25,
           3
          ],
          [
           26,
           0
          ],
          [
           45,
           8
          ],
          [
           37,
           1
          ],
          [
           39,
           7
          ],
          [
           52,
           0
          ],
          [
           26,
           1
          ],
          [
           66,
           6
          ],
          [
           22,
           2
          ],
          [
           43,
           9
          ],
          [
           33,
           9
          ],
          [
           63,
           10
          ],
          [
           27,
           2
          ],
          [
           30,
           5
          ],
          [
           47,
           1
          ],
          [
           23,
           1
          ]
         ],
         "hovertemplate": "Kadar Glukosa=%{x}<br>Indeks Massa Tubuh=%{y}<br>Age=%{customdata[0]}<br>Pregnancies=%{customdata[1]}<br>Outcome=%{marker.color}<extra></extra>",
         "legendgroup": "",
         "marker": {
          "color": [
           1,
           0,
           1,
           0,
           1,
           0,
           1,
           0,
           1,
           1,
           0,
           1,
           0,
           1,
           1,
           1,
           1,
           1,
           0,
           1,
           0,
           0,
           1,
           1,
           1,
           1,
           1,
           0,
           0,
           0,
           0,
           1,
           0,
           0,
           0,
           0,
           0,
           1,
           1,
           1,
           0,
           0,
           0,
           1,
           0,
           1,
           0,
           0,
           1,
           0,
           0,
           0,
           0,
           1,
           0,
           0,
           1,
           0,
           0,
           0,
           0,
           1,
           0,
           0,
           1,
           0,
           1,
           0,
           0,
           0,
           1,
           0,
           1,
           0,
           0,
           0,
           0,
           0,
           1,
           0,
           0,
           0,
           0,
           0,
           1,
           0,
           0,
           0,
           1,
           0,
           0,
           0,
           0,
           1,
           0,
           0,
           0,
           0,
           0,
           1,
           1,
           0,
           0,
           0,
           0,
           0,
           0,
           0,
           0,
           1,
           1,
           1,
           0,
           0,
           1,
           1,
           1,
           0,
           0,
           0,
           1,
           0,
           0,
           0,
           1,
           1,
           0,
           0,
           1,
           1,
           1,
           1,
           1,
           0,
           0,
           0,
           0,
           0,
           0,
           0,
           0,
           0,
           0,
           1,
           0,
           0,
           0,
           0,
           0,
           0,
           0,
           0,
           1,
           0,
           1,
           1,
           0,
           0,
           0,
           1,
           0,
           0,
           0,
           0,
           1,
           1,
           0,
           0,
           0,
           0,
           1,
           1,
           0,
           0,
           0,
           1,
           0,
           1,
           0,
           1,
           0,
           0,
           0,
           0,
           0,
           1,
           1,
           1,
           1,
           1,
           0,
           0,
           1,
           1,
           0,
           1,
           0,
           1,
           1,
           1,
           0,
           0,
           0,
           0,
           0,
           0,
           1,
           1,
           0,
           1,
           0,
           0,
           0,
           1,
           1,
           1,
           1,
           0,
           1,
           1,
           1,
           1,
           0,
           0,
           0,
           0,
           0,
           1,
           0,
           0,
           1,
           1,
           0,
           0,
           0,
           1,
           1,
           1,
           1,
           0,
           0,
           0,
           1,
           1,
           0,
           1,
           0,
           0,
           0,
           0,
           0,
           0,
           0,
           0,
           1,
           1,
           0,
           0,
           0,
           1,
           0,
           1,
           0,
           0,
           1,
           0,
           1,
           0,
           0,
           1,
           1,
           0,
           0,
           0,
           0,
           0,
           1,
           0,
           0,
           0,
           1,
           0,
           0,
           1,
           1,
           0,
           0,
           1,
           0,
           0,
           0,
           1,
           1,
           1,
           0,
           0,
           1,
           0,
           1,
           0,
           1,
           1,
           0,
           1,
           0,
           0,
           1,
           0,
           1,
           1,
           0,
           0,
           1,
           0,
           1,
           0,
           0,
           1,
           0,
           1,
           0,
           1,
           1,
           1,
           0,
           0,
           1,
           0,
           1,
           0,
           0,
           0,
           1,
           0,
           0,
           0,
           0,
           1,
           1,
           1,
           0,
           0,
           0,
           0,
           0,
           0,
           0,
           0,
           0,
           1,
           0,
           0,
           0,
           0,
           0,
           1,
           1,
           1,
           0,
           1,
           1,
           0,
           0,
           1,
           0,
           0,
           1,
           0,
           0,
           1,
           1,
           0,
           0,
           0,
           0,
           1,
           0,
           0,
           1,
           0,
           0,
           0,
           0,
           0,
           0,
           0,
           1,
           1,
           1,
           0,
           0,
           1,
           0,
           0,
           1,
           0,
           0,
           1,
           0,
           1,
           1,
           0,
           1,
           0,
           1,
           0,
           1,
           0,
           1,
           1,
           0,
           0,
           0,
           0,
           1,
           1,
           0,
           1,
           0,
           1,
           0,
           0,
           0,
           0,
           1,
           1,
           0,
           1,
           0,
           1,
           0,
           0,
           0,
           0,
           0,
           1,
           0,
           0,
           0,
           0,
           1,
           0,
           0,
           1,
           1,
           1,
           0,
           0,
           1,
           0,
           0,
           1,
           0,
           0,
           0,
           1,
           0,
           0,
           1,
           0,
           0,
           0,
           0,
           0,
           0,
           0,
           0,
           0,
           1,
           0,
           0,
           0,
           0,
           0,
           0,
           0,
           1,
           0,
           0,
           0,
           1,
           0,
           0,
           0,
           1,
           1,
           0,
           0,
           0,
           0,
           0,
           0,
           0,
           1,
           0,
           0,
           0,
           0,
           1,
           0,
           0,
           0,
           1,
           0,
           0,
           0,
           1,
           0,
           0,
           0,
           1,
           0,
           0,
           0,
           0,
           1,
           1,
           0,
           0,
           0,
           0,
           0,
           0,
           1,
           0,
           0,
           0,
           0,
           0,
           0,
           0,
           0,
           0,
           0,
           0,
           1,
           0,
           0,
           0,
           1,
           1,
           1,
           1,
           0,
           0,
           1,
           1,
           0,
           0,
           0,
           0,
           0,
           0,
           0,
           0,
           0,
           0,
           0,
           0,
           0,
           1,
           1,
           0,
           0,
           0,
           0,
           0,
           0,
           0,
           1,
           0,
           0,
           0,
           0,
           0,
           0,
           0,
           1,
           0,
           1,
           1,
           0,
           0,
           0,
           1,
           0,
           1,
           0,
           1,
           0,
           1,
           0,
           1,
           0,
           0,
           1,
           0,
           0,
           1,
           0,
           0,
           0,
           0,
           1,
           1,
           0,
           1,
           0,
           0,
           0,
           0,
           1,
           1,
           0,
           1,
           0,
           0,
           0,
           1,
           1,
           0,
           0,
           0,
           0,
           0,
           0,
           0,
           0,
           0,
           0,
           1,
           0,
           0,
           0,
           0,
           1,
           0,
           0,
           1,
           0,
           0,
           0,
           1,
           0,
           0,
           0,
           1,
           1,
           1,
           0,
           0,
           0,
           0,
           0,
           0,
           1,
           0,
           0,
           0,
           1,
           0,
           1,
           1,
           1,
           1,
           0,
           1,
           1,
           0,
           0,
           0,
           0,
           0,
           0,
           0,
           1,
           1,
           0,
           1,
           0,
           0,
           1,
           0,
           1,
           0,
           0,
           0,
           0,
           0,
           1,
           0,
           1,
           0,
           1,
           0,
           1,
           1,
           0,
           0,
           0,
           0,
           1,
           1,
           0,
           0,
           0,
           1,
           0,
           1,
           1,
           0,
           0,
           1,
           0,
           0,
           1,
           1,
           0,
           0,
           1,
           0,
           0,
           1,
           0,
           0,
           0,
           0,
           0,
           0,
           0,
           1,
           1,
           1,
           0,
           0,
           0,
           0,
           0,
           0,
           1,
           1,
           0,
           0,
           1,
           0,
           0,
           1,
           0,
           1,
           1,
           1,
           0,
           0,
           1,
           1,
           1,
           0,
           1,
           0,
           1,
           0,
           1,
           0,
           0,
           0,
           0,
           1,
           0
          ],
          "coloraxis": "coloraxis",
          "symbol": "circle"
         },
         "mode": "markers",
         "name": "",
         "orientation": "v",
         "showlegend": false,
         "type": "scatter",
         "x": [
          148,
          85,
          183,
          89,
          137,
          116,
          78,
          115,
          197,
          125,
          110,
          168,
          139,
          189,
          166,
          100,
          118,
          107,
          103,
          115,
          126,
          99,
          196,
          119,
          143,
          125,
          147,
          97,
          145,
          117,
          109,
          158,
          88,
          92,
          122,
          103,
          138,
          102,
          90,
          111,
          180,
          133,
          106,
          171,
          159,
          180,
          146,
          71,
          103,
          105,
          103,
          101,
          88,
          176,
          150,
          73,
          187,
          100,
          146,
          105,
          84,
          133,
          44,
          141,
          114,
          99,
          109,
          109,
          95,
          146,
          100,
          139,
          126,
          129,
          79,
          0,
          62,
          95,
          131,
          112,
          113,
          74,
          83,
          101,
          137,
          110,
          106,
          100,
          136,
          107,
          80,
          123,
          81,
          134,
          142,
          144,
          92,
          71,
          93,
          122,
          163,
          151,
          125,
          81,
          85,
          126,
          96,
          144,
          83,
          95,
          171,
          155,
          89,
          76,
          160,
          146,
          124,
          78,
          97,
          99,
          162,
          111,
          107,
          132,
          113,
          88,
          120,
          118,
          117,
          105,
          173,
          122,
          170,
          84,
          96,
          125,
          100,
          93,
          129,
          105,
          128,
          106,
          108,
          108,
          154,
          102,
          57,
          106,
          147,
          90,
          136,
          114,
          156,
          153,
          188,
          152,
          99,
          109,
          88,
          163,
          151,
          102,
          114,
          100,
          131,
          104,
          148,
          120,
          110,
          111,
          102,
          134,
          87,
          79,
          75,
          179,
          85,
          129,
          143,
          130,
          87,
          119,
          0,
          73,
          141,
          194,
          181,
          128,
          109,
          139,
          111,
          123,
          159,
          135,
          85,
          158,
          105,
          107,
          109,
          148,
          113,
          138,
          108,
          99,
          103,
          111,
          196,
          162,
          96,
          184,
          81,
          147,
          179,
          140,
          112,
          151,
          109,
          125,
          85,
          112,
          177,
          158,
          119,
          142,
          100,
          87,
          101,
          162,
          197,
          117,
          142,
          134,
          79,
          122,
          74,
          171,
          181,
          179,
          164,
          104,
          91,
          91,
          139,
          119,
          146,
          184,
          122,
          165,
          124,
          111,
          106,
          129,
          90,
          86,
          92,
          113,
          111,
          114,
          193,
          155,
          191,
          141,
          95,
          142,
          123,
          96,
          138,
          128,
          102,
          146,
          101,
          108,
          122,
          71,
          106,
          100,
          106,
          104,
          114,
          108,
          146,
          129,
          133,
          161,
          108,
          136,
          155,
          119,
          96,
          108,
          78,
          107,
          128,
          128,
          161,
          151,
          146,
          126,
          100,
          112,
          167,
          144,
          77,
          115,
          150,
          120,
          161,
          137,
          128,
          124,
          80,
          106,
          155,
          113,
          109,
          112,
          99,
          182,
          115,
          194,
          129,
          112,
          124,
          152,
          112,
          157,
          122,
          179,
          102,
          105,
          118,
          87,
          180,
          106,
          95,
          165,
          117,
          115,
          152,
          178,
          130,
          95,
          0,
          122,
          95,
          126,
          139,
          116,
          99,
          0,
          92,
          137,
          61,
          90,
          90,
          165,
          125,
          129,
          88,
          196,
          189,
          158,
          103,
          146,
          147,
          99,
          124,
          101,
          81,
          133,
          173,
          118,
          84,
          105,
          122,
          140,
          98,
          87,
          156,
          93,
          107,
          105,
          109,
          90,
          125,
          119,
          116,
          105,
          144,
          100,
          100,
          166,
          131,
          116,
          158,
          127,
          96,
          131,
          82,
          193,
          95,
          137,
          136,
          72,
          168,
          123,
          115,
          101,
          197,
          172,
          102,
          112,
          143,
          143,
          138,
          173,
          97,
          144,
          83,
          129,
          119,
          94,
          102,
          115,
          151,
          184,
          94,
          181,
          135,
          95,
          99,
          89,
          80,
          139,
          90,
          141,
          140,
          147,
          97,
          107,
          189,
          83,
          117,
          108,
          117,
          180,
          100,
          95,
          104,
          120,
          82,
          134,
          91,
          119,
          100,
          175,
          135,
          86,
          148,
          134,
          120,
          71,
          74,
          88,
          115,
          124,
          74,
          97,
          120,
          154,
          144,
          137,
          119,
          136,
          114,
          137,
          105,
          114,
          126,
          132,
          158,
          123,
          85,
          84,
          145,
          135,
          139,
          173,
          99,
          194,
          83,
          89,
          99,
          125,
          80,
          166,
          110,
          81,
          195,
          154,
          117,
          84,
          0,
          94,
          96,
          75,
          180,
          130,
          84,
          120,
          84,
          139,
          91,
          91,
          99,
          163,
          145,
          125,
          76,
          129,
          68,
          124,
          114,
          130,
          125,
          87,
          97,
          116,
          117,
          111,
          122,
          107,
          86,
          91,
          77,
          132,
          105,
          57,
          127,
          129,
          100,
          128,
          90,
          84,
          88,
          186,
          187,
          131,
          164,
          189,
          116,
          84,
          114,
          88,
          84,
          124,
          97,
          110,
          103,
          85,
          125,
          198,
          87,
          99,
          91,
          95,
          99,
          92,
          154,
          121,
          78,
          130,
          111,
          98,
          143,
          119,
          108,
          118,
          133,
          197,
          151,
          109,
          121,
          100,
          124,
          93,
          143,
          103,
          176,
          73,
          111,
          112,
          132,
          82,
          123,
          188,
          67,
          89,
          173,
          109,
          108,
          96,
          124,
          150,
          183,
          124,
          181,
          92,
          152,
          111,
          106,
          174,
          168,
          105,
          138,
          106,
          117,
          68,
          112,
          119,
          112,
          92,
          183,
          94,
          108,
          90,
          125,
          132,
          128,
          94,
          114,
          102,
          111,
          128,
          92,
          104,
          104,
          94,
          97,
          100,
          102,
          128,
          147,
          90,
          103,
          157,
          167,
          179,
          136,
          107,
          91,
          117,
          123,
          120,
          106,
          155,
          101,
          120,
          127,
          80,
          162,
          199,
          167,
          145,
          115,
          112,
          145,
          111,
          98,
          154,
          165,
          99,
          68,
          123,
          91,
          195,
          156,
          93,
          121,
          101,
          56,
          162,
          95,
          125,
          136,
          129,
          130,
          107,
          140,
          144,
          107,
          158,
          121,
          129,
          90,
          142,
          169,
          99,
          127,
          118,
          122,
          125,
          168,
          129,
          110,
          80,
          115,
          127,
          164,
          93,
          158,
          126,
          129,
          134,
          102,
          187,
          173,
          94,
          108,
          97,
          83,
          114,
          149,
          117,
          111,
          112,
          116,
          141,
          175,
          92,
          130,
          120,
          174,
          106,
          105,
          95,
          126,
          65,
          99,
          102,
          120,
          102,
          109,
          140,
          153,
          100,
          147,
          81,
          187,
          162,
          136,
          121,
          108,
          181,
          154,
          128,
          137,
          123,
          106,
          190,
          88,
          170,
          89,
          101,
          122,
          121,
          126,
          93
         ],
         "xaxis": "x",
         "y": [
          33.6,
          26.6,
          23.3,
          28.1,
          43.1,
          25.6,
          31,
          35.3,
          30.5,
          0,
          37.6,
          38,
          27.1,
          30.1,
          25.8,
          30,
          45.8,
          29.6,
          43.3,
          34.6,
          39.3,
          35.4,
          39.8,
          29,
          36.6,
          31.1,
          39.4,
          23.2,
          22.2,
          34.1,
          36,
          31.6,
          24.8,
          19.9,
          27.6,
          24,
          33.2,
          32.9,
          38.2,
          37.1,
          34,
          40.2,
          22.7,
          45.4,
          27.4,
          42,
          29.7,
          28,
          39.1,
          0,
          19.4,
          24.2,
          24.4,
          33.7,
          34.7,
          23,
          37.7,
          46.8,
          40.5,
          41.5,
          0,
          32.9,
          25,
          25.4,
          32.8,
          29,
          32.5,
          42.7,
          19.6,
          28.9,
          32.9,
          28.6,
          43.4,
          35.1,
          32,
          24.7,
          32.6,
          37.7,
          43.2,
          25,
          22.4,
          0,
          29.3,
          24.6,
          48.8,
          32.4,
          36.6,
          38.5,
          37.1,
          26.5,
          19.1,
          32,
          46.7,
          23.8,
          24.7,
          33.9,
          31.6,
          20.4,
          28.7,
          49.7,
          39,
          26.1,
          22.5,
          26.6,
          39.6,
          28.7,
          22.4,
          29.5,
          34.3,
          37.4,
          33.3,
          34,
          31.2,
          34,
          30.5,
          31.2,
          34,
          33.7,
          28.2,
          23.2,
          53.2,
          34.2,
          33.6,
          26.8,
          33.3,
          55,
          42.9,
          33.3,
          34.5,
          27.9,
          29.7,
          33.3,
          34.5,
          38.3,
          21.1,
          33.8,
          30.8,
          28.7,
          31.2,
          36.9,
          21.1,
          39.5,
          32.5,
          32.4,
          32.8,
          0,
          32.8,
          30.5,
          33.7,
          27.3,
          37.4,
          21.9,
          34.3,
          40.6,
          47.9,
          50,
          24.6,
          25.2,
          29,
          40.9,
          29.7,
          37.2,
          44.2,
          29.7,
          31.6,
          29.9,
          32.5,
          29.6,
          31.9,
          28.4,
          30.8,
          35.4,
          28.9,
          43.5,
          29.7,
          32.7,
          31.2,
          67.1,
          45,
          39.1,
          23.2,
          34.9,
          27.7,
          26.8,
          27.6,
          35.9,
          30.1,
          32,
          27.9,
          31.6,
          22.6,
          33.1,
          30.4,
          52.3,
          24.4,
          39.4,
          24.3,
          22.9,
          34.8,
          30.9,
          31,
          40.1,
          27.3,
          20.4,
          37.7,
          23.9,
          37.5,
          37.7,
          33.2,
          35.5,
          27.7,
          42.8,
          34.2,
          42.6,
          34.2,
          41.8,
          35.8,
          30,
          29,
          37.8,
          34.6,
          31.6,
          25.2,
          28.8,
          23.6,
          34.6,
          35.7,
          37.2,
          36.7,
          45.2,
          44,
          46.2,
          25.4,
          35,
          29.7,
          43.6,
          35.9,
          44.1,
          30.8,
          18.4,
          29.2,
          33.1,
          25.6,
          27.1,
          38.2,
          30,
          31.2,
          52.3,
          35.4,
          30.1,
          31.2,
          28,
          24.4,
          35.8,
          27.6,
          33.6,
          30.1,
          28.7,
          25.9,
          33.3,
          30.9,
          30,
          32.1,
          32.4,
          32,
          33.6,
          36.3,
          40,
          25.1,
          27.5,
          45.6,
          25.2,
          23,
          33.2,
          34.2,
          40.5,
          26.5,
          27.8,
          24.9,
          25.3,
          37.9,
          35.9,
          32.4,
          30.4,
          27,
          26,
          38.7,
          45.6,
          20.8,
          36.1,
          36.9,
          36.6,
          43.3,
          40.5,
          21.9,
          35.5,
          28,
          30.7,
          36.6,
          23.6,
          32.3,
          31.6,
          35.8,
          52.9,
          21,
          39.7,
          25.5,
          24.8,
          30.5,
          32.9,
          26.2,
          39.4,
          26.6,
          29.5,
          35.9,
          34.1,
          19.3,
          30.5,
          38.1,
          23.5,
          27.5,
          31.6,
          27.4,
          26.8,
          35.7,
          25.6,
          35.1,
          35.1,
          45.5,
          30.8,
          23.1,
          32.7,
          43.3,
          23.6,
          23.9,
          47.9,
          33.8,
          31.2,
          34.2,
          39.9,
          25.9,
          25.9,
          32,
          34.7,
          36.8,
          38.5,
          28.7,
          23.5,
          21.8,
          41,
          42.2,
          31.2,
          34.4,
          27.2,
          42.7,
          30.4,
          33.3,
          39.9,
          35.3,
          36.5,
          31.2,
          29.8,
          39.2,
          38.5,
          34.9,
          34,
          27.6,
          21,
          27.5,
          32.8,
          38.4,
          0,
          35.8,
          34.9,
          36.2,
          39.2,
          25.2,
          37.2,
          48.3,
          43.4,
          30.8,
          20,
          25.4,
          25.1,
          24.3,
          22.3,
          32.3,
          43.3,
          32,
          31.6,
          32,
          45.7,
          23.7,
          22.1,
          32.9,
          27.7,
          24.7,
          34.3,
          21.1,
          34.9,
          32,
          24.2,
          35,
          31.6,
          32.9,
          42.1,
          28.9,
          21.9,
          25.9,
          42.4,
          35.7,
          34.4,
          42.4,
          26.2,
          34.6,
          35.7,
          27.2,
          38.5,
          18.2,
          26.4,
          45.3,
          26,
          40.6,
          30.8,
          42.9,
          37,
          0,
          34.1,
          40.6,
          35,
          22.2,
          30.4,
          30,
          25.6,
          24.5,
          42.4,
          37.4,
          29.9,
          18.2,
          36.8,
          34.3,
          32.2,
          33.2,
          30.5,
          29.7,
          59.4,
          25.3,
          36.5,
          33.6,
          30.5,
          21.2,
          28.9,
          39.9,
          19.6,
          37.8,
          33.6,
          26.7,
          30.2,
          37.6,
          25.9,
          20.8,
          21.8,
          35.3,
          27.6,
          24,
          21.8,
          27.8,
          36.8,
          30,
          46.1,
          41.3,
          33.2,
          38.8,
          29.9,
          28.9,
          27.3,
          33.7,
          23.8,
          25.9,
          28,
          35.5,
          35.2,
          27.8,
          38.2,
          44.2,
          42.3,
          40.7,
          46.5,
          25.6,
          26.1,
          36.8,
          33.5,
          32.8,
          28.9,
          0,
          26.6,
          26,
          30.1,
          25.1,
          29.3,
          25.2,
          37.2,
          39,
          33.3,
          37.3,
          33.3,
          36.5,
          28.6,
          30.4,
          25,
          29.7,
          22.1,
          24.2,
          27.3,
          25.6,
          31.6,
          30.3,
          37.6,
          32.8,
          19.6,
          25,
          33.2,
          0,
          34.2,
          31.6,
          21.8,
          18.2,
          26.3,
          30.8,
          24.6,
          29.8,
          45.3,
          41.3,
          29.8,
          33.3,
          32.9,
          29.6,
          21.7,
          36.3,
          36.4,
          39.4,
          32.4,
          34.9,
          39.5,
          32,
          34.5,
          43.6,
          33.1,
          32.8,
          28.5,
          27.4,
          31.9,
          27.8,
          29.9,
          36.9,
          25.5,
          38.1,
          27.8,
          46.2,
          30.1,
          33.8,
          41.3,
          37.6,
          26.9,
          32.4,
          26.1,
          38.6,
          32,
          31.3,
          34.3,
          32.5,
          22.6,
          29.5,
          34.7,
          30.1,
          35.5,
          24,
          42.9,
          27,
          34.7,
          42.1,
          25,
          26.5,
          38.7,
          28.7,
          22.5,
          34.9,
          24.3,
          33.3,
          21.1,
          46.8,
          39.4,
          34.4,
          28.5,
          33.6,
          32,
          45.3,
          27.8,
          36.8,
          23.1,
          27.1,
          23.7,
          27.8,
          35.2,
          28.4,
          35.8,
          40,
          19.5,
          41.5,
          24,
          30.9,
          32.9,
          38.2,
          32.5,
          36.1,
          25.8,
          28.7,
          20.1,
          28.2,
          32.4,
          38.4,
          24.2,
          40.8,
          43.5,
          30.8,
          37.7,
          24.7,
          32.4,
          34.6,
          24.7,
          27.4,
          34.5,
          26.2,
          27.5,
          25.9,
          31.2,
          28.8,
          31.6,
          40.9,
          19.5,
          29.3,
          34.3,
          29.5,
          28,
          27.6,
          39.4,
          23.4,
          37.8,
          28.3,
          26.4,
          25.2,
          33.8,
          34.1,
          26.8,
          34.2,
          38.7,
          21.8,
          38.9,
          39,
          34.2,
          27.7,
          42.9,
          37.6,
          37.9,
          33.7,
          34.8,
          32.5,
          27.5,
          34,
          30.9,
          33.6,
          25.4,
          35.5,
          57.3,
          35.6,
          30.9,
          24.8,
          35.3,
          36,
          24.2,
          24.2,
          49.6,
          44.6,
          32.3,
          0,
          33.2,
          23.1,
          28.3,
          24.1,
          46.1,
          24.6,
          42.3,
          39.1,
          38.5,
          23.5,
          30.4,
          29.9,
          25,
          34.5,
          44.5,
          35.9,
          27.6,
          35,
          38.5,
          28.4,
          39.8,
          0,
          34.4,
          32.8,
          38,
          31.2,
          29.6,
          41.2,
          26.4,
          29.5,
          33.9,
          33.8,
          23.1,
          35.5,
          35.6,
          29.3,
          38.1,
          29.3,
          39.1,
          32.8,
          39.4,
          36.1,
          32.4,
          22.9,
          30.1,
          28.4,
          28.4,
          44.5,
          29,
          23.3,
          35.4,
          27.4,
          32,
          36.6,
          39.5,
          42.3,
          30.8,
          28.5,
          32.7,
          40.6,
          30,
          49.3,
          46.3,
          36.4,
          24.3,
          31.2,
          39,
          26,
          43.3,
          32.4,
          36.5,
          32,
          36.3,
          37.5,
          35.5,
          28.4,
          44,
          22.5,
          32.9,
          36.8,
          26.2,
          30.1,
          30.4
         ],
         "yaxis": "y"
        }
       ],
       "layout": {
        "coloraxis": {
         "colorbar": {
          "title": {
           "text": "Outcome"
          }
         },
         "colorscale": [
          [
           0,
           "#0d0887"
          ],
          [
           0.1111111111111111,
           "#46039f"
          ],
          [
           0.2222222222222222,
           "#7201a8"
          ],
          [
           0.3333333333333333,
           "#9c179e"
          ],
          [
           0.4444444444444444,
           "#bd3786"
          ],
          [
           0.5555555555555556,
           "#d8576b"
          ],
          [
           0.6666666666666666,
           "#ed7953"
          ],
          [
           0.7777777777777778,
           "#fb9f3a"
          ],
          [
           0.8888888888888888,
           "#fdca26"
          ],
          [
           1,
           "#f0f921"
          ]
         ]
        },
        "legend": {
         "tracegroupgap": 0
        },
        "template": {
         "data": {
          "bar": [
           {
            "error_x": {
             "color": "#2a3f5f"
            },
            "error_y": {
             "color": "#2a3f5f"
            },
            "marker": {
             "line": {
              "color": "#E5ECF6",
              "width": 0.5
             },
             "pattern": {
              "fillmode": "overlay",
              "size": 10,
              "solidity": 0.2
             }
            },
            "type": "bar"
           }
          ],
          "barpolar": [
           {
            "marker": {
             "line": {
              "color": "#E5ECF6",
              "width": 0.5
             },
             "pattern": {
              "fillmode": "overlay",
              "size": 10,
              "solidity": 0.2
             }
            },
            "type": "barpolar"
           }
          ],
          "carpet": [
           {
            "aaxis": {
             "endlinecolor": "#2a3f5f",
             "gridcolor": "white",
             "linecolor": "white",
             "minorgridcolor": "white",
             "startlinecolor": "#2a3f5f"
            },
            "baxis": {
             "endlinecolor": "#2a3f5f",
             "gridcolor": "white",
             "linecolor": "white",
             "minorgridcolor": "white",
             "startlinecolor": "#2a3f5f"
            },
            "type": "carpet"
           }
          ],
          "choropleth": [
           {
            "colorbar": {
             "outlinewidth": 0,
             "ticks": ""
            },
            "type": "choropleth"
           }
          ],
          "contour": [
           {
            "colorbar": {
             "outlinewidth": 0,
             "ticks": ""
            },
            "colorscale": [
             [
              0,
              "#0d0887"
             ],
             [
              0.1111111111111111,
              "#46039f"
             ],
             [
              0.2222222222222222,
              "#7201a8"
             ],
             [
              0.3333333333333333,
              "#9c179e"
             ],
             [
              0.4444444444444444,
              "#bd3786"
             ],
             [
              0.5555555555555556,
              "#d8576b"
             ],
             [
              0.6666666666666666,
              "#ed7953"
             ],
             [
              0.7777777777777778,
              "#fb9f3a"
             ],
             [
              0.8888888888888888,
              "#fdca26"
             ],
             [
              1,
              "#f0f921"
             ]
            ],
            "type": "contour"
           }
          ],
          "contourcarpet": [
           {
            "colorbar": {
             "outlinewidth": 0,
             "ticks": ""
            },
            "type": "contourcarpet"
           }
          ],
          "heatmap": [
           {
            "colorbar": {
             "outlinewidth": 0,
             "ticks": ""
            },
            "colorscale": [
             [
              0,
              "#0d0887"
             ],
             [
              0.1111111111111111,
              "#46039f"
             ],
             [
              0.2222222222222222,
              "#7201a8"
             ],
             [
              0.3333333333333333,
              "#9c179e"
             ],
             [
              0.4444444444444444,
              "#bd3786"
             ],
             [
              0.5555555555555556,
              "#d8576b"
             ],
             [
              0.6666666666666666,
              "#ed7953"
             ],
             [
              0.7777777777777778,
              "#fb9f3a"
             ],
             [
              0.8888888888888888,
              "#fdca26"
             ],
             [
              1,
              "#f0f921"
             ]
            ],
            "type": "heatmap"
           }
          ],
          "heatmapgl": [
           {
            "colorbar": {
             "outlinewidth": 0,
             "ticks": ""
            },
            "colorscale": [
             [
              0,
              "#0d0887"
             ],
             [
              0.1111111111111111,
              "#46039f"
             ],
             [
              0.2222222222222222,
              "#7201a8"
             ],
             [
              0.3333333333333333,
              "#9c179e"
             ],
             [
              0.4444444444444444,
              "#bd3786"
             ],
             [
              0.5555555555555556,
              "#d8576b"
             ],
             [
              0.6666666666666666,
              "#ed7953"
             ],
             [
              0.7777777777777778,
              "#fb9f3a"
             ],
             [
              0.8888888888888888,
              "#fdca26"
             ],
             [
              1,
              "#f0f921"
             ]
            ],
            "type": "heatmapgl"
           }
          ],
          "histogram": [
           {
            "marker": {
             "pattern": {
              "fillmode": "overlay",
              "size": 10,
              "solidity": 0.2
             }
            },
            "type": "histogram"
           }
          ],
          "histogram2d": [
           {
            "colorbar": {
             "outlinewidth": 0,
             "ticks": ""
            },
            "colorscale": [
             [
              0,
              "#0d0887"
             ],
             [
              0.1111111111111111,
              "#46039f"
             ],
             [
              0.2222222222222222,
              "#7201a8"
             ],
             [
              0.3333333333333333,
              "#9c179e"
             ],
             [
              0.4444444444444444,
              "#bd3786"
             ],
             [
              0.5555555555555556,
              "#d8576b"
             ],
             [
              0.6666666666666666,
              "#ed7953"
             ],
             [
              0.7777777777777778,
              "#fb9f3a"
             ],
             [
              0.8888888888888888,
              "#fdca26"
             ],
             [
              1,
              "#f0f921"
             ]
            ],
            "type": "histogram2d"
           }
          ],
          "histogram2dcontour": [
           {
            "colorbar": {
             "outlinewidth": 0,
             "ticks": ""
            },
            "colorscale": [
             [
              0,
              "#0d0887"
             ],
             [
              0.1111111111111111,
              "#46039f"
             ],
             [
              0.2222222222222222,
              "#7201a8"
             ],
             [
              0.3333333333333333,
              "#9c179e"
             ],
             [
              0.4444444444444444,
              "#bd3786"
             ],
             [
              0.5555555555555556,
              "#d8576b"
             ],
             [
              0.6666666666666666,
              "#ed7953"
             ],
             [
              0.7777777777777778,
              "#fb9f3a"
             ],
             [
              0.8888888888888888,
              "#fdca26"
             ],
             [
              1,
              "#f0f921"
             ]
            ],
            "type": "histogram2dcontour"
           }
          ],
          "mesh3d": [
           {
            "colorbar": {
             "outlinewidth": 0,
             "ticks": ""
            },
            "type": "mesh3d"
           }
          ],
          "parcoords": [
           {
            "line": {
             "colorbar": {
              "outlinewidth": 0,
              "ticks": ""
             }
            },
            "type": "parcoords"
           }
          ],
          "pie": [
           {
            "automargin": true,
            "type": "pie"
           }
          ],
          "scatter": [
           {
            "fillpattern": {
             "fillmode": "overlay",
             "size": 10,
             "solidity": 0.2
            },
            "type": "scatter"
           }
          ],
          "scatter3d": [
           {
            "line": {
             "colorbar": {
              "outlinewidth": 0,
              "ticks": ""
             }
            },
            "marker": {
             "colorbar": {
              "outlinewidth": 0,
              "ticks": ""
             }
            },
            "type": "scatter3d"
           }
          ],
          "scattercarpet": [
           {
            "marker": {
             "colorbar": {
              "outlinewidth": 0,
              "ticks": ""
             }
            },
            "type": "scattercarpet"
           }
          ],
          "scattergeo": [
           {
            "marker": {
             "colorbar": {
              "outlinewidth": 0,
              "ticks": ""
             }
            },
            "type": "scattergeo"
           }
          ],
          "scattergl": [
           {
            "marker": {
             "colorbar": {
              "outlinewidth": 0,
              "ticks": ""
             }
            },
            "type": "scattergl"
           }
          ],
          "scattermapbox": [
           {
            "marker": {
             "colorbar": {
              "outlinewidth": 0,
              "ticks": ""
             }
            },
            "type": "scattermapbox"
           }
          ],
          "scatterpolar": [
           {
            "marker": {
             "colorbar": {
              "outlinewidth": 0,
              "ticks": ""
             }
            },
            "type": "scatterpolar"
           }
          ],
          "scatterpolargl": [
           {
            "marker": {
             "colorbar": {
              "outlinewidth": 0,
              "ticks": ""
             }
            },
            "type": "scatterpolargl"
           }
          ],
          "scatterternary": [
           {
            "marker": {
             "colorbar": {
              "outlinewidth": 0,
              "ticks": ""
             }
            },
            "type": "scatterternary"
           }
          ],
          "surface": [
           {
            "colorbar": {
             "outlinewidth": 0,
             "ticks": ""
            },
            "colorscale": [
             [
              0,
              "#0d0887"
             ],
             [
              0.1111111111111111,
              "#46039f"
             ],
             [
              0.2222222222222222,
              "#7201a8"
             ],
             [
              0.3333333333333333,
              "#9c179e"
             ],
             [
              0.4444444444444444,
              "#bd3786"
             ],
             [
              0.5555555555555556,
              "#d8576b"
             ],
             [
              0.6666666666666666,
              "#ed7953"
             ],
             [
              0.7777777777777778,
              "#fb9f3a"
             ],
             [
              0.8888888888888888,
              "#fdca26"
             ],
             [
              1,
              "#f0f921"
             ]
            ],
            "type": "surface"
           }
          ],
          "table": [
           {
            "cells": {
             "fill": {
              "color": "#EBF0F8"
             },
             "line": {
              "color": "white"
             }
            },
            "header": {
             "fill": {
              "color": "#C8D4E3"
             },
             "line": {
              "color": "white"
             }
            },
            "type": "table"
           }
          ]
         },
         "layout": {
          "annotationdefaults": {
           "arrowcolor": "#2a3f5f",
           "arrowhead": 0,
           "arrowwidth": 1
          },
          "autotypenumbers": "strict",
          "coloraxis": {
           "colorbar": {
            "outlinewidth": 0,
            "ticks": ""
           }
          },
          "colorscale": {
           "diverging": [
            [
             0,
             "#8e0152"
            ],
            [
             0.1,
             "#c51b7d"
            ],
            [
             0.2,
             "#de77ae"
            ],
            [
             0.3,
             "#f1b6da"
            ],
            [
             0.4,
             "#fde0ef"
            ],
            [
             0.5,
             "#f7f7f7"
            ],
            [
             0.6,
             "#e6f5d0"
            ],
            [
             0.7,
             "#b8e186"
            ],
            [
             0.8,
             "#7fbc41"
            ],
            [
             0.9,
             "#4d9221"
            ],
            [
             1,
             "#276419"
            ]
           ],
           "sequential": [
            [
             0,
             "#0d0887"
            ],
            [
             0.1111111111111111,
             "#46039f"
            ],
            [
             0.2222222222222222,
             "#7201a8"
            ],
            [
             0.3333333333333333,
             "#9c179e"
            ],
            [
             0.4444444444444444,
             "#bd3786"
            ],
            [
             0.5555555555555556,
             "#d8576b"
            ],
            [
             0.6666666666666666,
             "#ed7953"
            ],
            [
             0.7777777777777778,
             "#fb9f3a"
            ],
            [
             0.8888888888888888,
             "#fdca26"
            ],
            [
             1,
             "#f0f921"
            ]
           ],
           "sequentialminus": [
            [
             0,
             "#0d0887"
            ],
            [
             0.1111111111111111,
             "#46039f"
            ],
            [
             0.2222222222222222,
             "#7201a8"
            ],
            [
             0.3333333333333333,
             "#9c179e"
            ],
            [
             0.4444444444444444,
             "#bd3786"
            ],
            [
             0.5555555555555556,
             "#d8576b"
            ],
            [
             0.6666666666666666,
             "#ed7953"
            ],
            [
             0.7777777777777778,
             "#fb9f3a"
            ],
            [
             0.8888888888888888,
             "#fdca26"
            ],
            [
             1,
             "#f0f921"
            ]
           ]
          },
          "colorway": [
           "#636efa",
           "#EF553B",
           "#00cc96",
           "#ab63fa",
           "#FFA15A",
           "#19d3f3",
           "#FF6692",
           "#B6E880",
           "#FF97FF",
           "#FECB52"
          ],
          "font": {
           "color": "#2a3f5f"
          },
          "geo": {
           "bgcolor": "white",
           "lakecolor": "white",
           "landcolor": "#E5ECF6",
           "showlakes": true,
           "showland": true,
           "subunitcolor": "white"
          },
          "hoverlabel": {
           "align": "left"
          },
          "hovermode": "closest",
          "mapbox": {
           "style": "light"
          },
          "paper_bgcolor": "white",
          "plot_bgcolor": "#E5ECF6",
          "polar": {
           "angularaxis": {
            "gridcolor": "white",
            "linecolor": "white",
            "ticks": ""
           },
           "bgcolor": "#E5ECF6",
           "radialaxis": {
            "gridcolor": "white",
            "linecolor": "white",
            "ticks": ""
           }
          },
          "scene": {
           "xaxis": {
            "backgroundcolor": "#E5ECF6",
            "gridcolor": "white",
            "gridwidth": 2,
            "linecolor": "white",
            "showbackground": true,
            "ticks": "",
            "zerolinecolor": "white"
           },
           "yaxis": {
            "backgroundcolor": "#E5ECF6",
            "gridcolor": "white",
            "gridwidth": 2,
            "linecolor": "white",
            "showbackground": true,
            "ticks": "",
            "zerolinecolor": "white"
           },
           "zaxis": {
            "backgroundcolor": "#E5ECF6",
            "gridcolor": "white",
            "gridwidth": 2,
            "linecolor": "white",
            "showbackground": true,
            "ticks": "",
            "zerolinecolor": "white"
           }
          },
          "shapedefaults": {
           "line": {
            "color": "#2a3f5f"
           }
          },
          "ternary": {
           "aaxis": {
            "gridcolor": "white",
            "linecolor": "white",
            "ticks": ""
           },
           "baxis": {
            "gridcolor": "white",
            "linecolor": "white",
            "ticks": ""
           },
           "bgcolor": "#E5ECF6",
           "caxis": {
            "gridcolor": "white",
            "linecolor": "white",
            "ticks": ""
           }
          },
          "title": {
           "x": 0.05
          },
          "xaxis": {
           "automargin": true,
           "gridcolor": "white",
           "linecolor": "white",
           "ticks": "",
           "title": {
            "standoff": 15
           },
           "zerolinecolor": "white",
           "zerolinewidth": 2
          },
          "yaxis": {
           "automargin": true,
           "gridcolor": "white",
           "linecolor": "white",
           "ticks": "",
           "title": {
            "standoff": 15
           },
           "zerolinecolor": "white",
           "zerolinewidth": 2
          }
         }
        },
        "title": {
         "text": "Glucose vs BMI berdasarkan Outcome"
        },
        "xaxis": {
         "anchor": "y",
         "domain": [
          0,
          1
         ],
         "title": {
          "text": "Kadar Glukosa"
         }
        },
        "yaxis": {
         "anchor": "x",
         "domain": [
          0,
          1
         ],
         "title": {
          "text": "Indeks Massa Tubuh"
         }
        }
       }
      }
     },
     "metadata": {},
     "output_type": "display_data"
    }
   ],
   "source": [
    "import plotly.express as px\n",
    "import pandas as pd\n",
    "\n",
    "# Contoh diabetes_data (gunakan diabetes_data sebenarnya dari Anda)\n",
    "diabetes_data = pd.read_csv('diabetes.csv')\n",
    "\n",
    "# Membuat scatter plot interaktif\n",
    "fig = px.scatter(diabetes_data, x='Glucose', y='BMI', color='Outcome', \n",
    "                 title='Glucose vs BMI berdasarkan Outcome',\n",
    "                 labels={'Glucose': 'Kadar Glukosa', 'BMI': 'Indeks Massa Tubuh'},\n",
    "                 hover_data=['Age', 'Pregnancies'])\n",
    "\n",
    "# Menyimpan ke dalam file HTML\n",
    "fig.write_html(\"glucose_bmi_interactive.html\")\n",
    "\n",
    "# Menampilkan plot\n",
    "fig.show()"
   ]
  },
  {
   "cell_type": "code",
   "execution_count": 8,
   "metadata": {},
   "outputs": [
    {
     "data": {
      "application/vnd.plotly.v1+json": {
       "config": {
        "plotlyServerURL": "https://plot.ly"
       },
       "data": [
        {
         "alignmentgroup": "True",
         "hovertemplate": "Outcome=%{marker.color}<br>Rata-rata Glukosa=%{y}<extra></extra>",
         "legendgroup": "",
         "marker": {
          "color": [
           1,
           0,
           1,
           0,
           1,
           0,
           1,
           0,
           1,
           1,
           0,
           1,
           0,
           1,
           1,
           1,
           1,
           1,
           0,
           1,
           0,
           0,
           1,
           1,
           1,
           1,
           1,
           0,
           0,
           0,
           0,
           1,
           0,
           0,
           0,
           0,
           0,
           1,
           1,
           1,
           0,
           0,
           0,
           1,
           0,
           1,
           0,
           0,
           1,
           0,
           0,
           0,
           0,
           1,
           0,
           0,
           1,
           0,
           0,
           0,
           0,
           1,
           0,
           0,
           1,
           0,
           1,
           0,
           0,
           0,
           1,
           0,
           1,
           0,
           0,
           0,
           0,
           0,
           1,
           0,
           0,
           0,
           0,
           0,
           1,
           0,
           0,
           0,
           1,
           0,
           0,
           0,
           0,
           1,
           0,
           0,
           0,
           0,
           0,
           1,
           1,
           0,
           0,
           0,
           0,
           0,
           0,
           0,
           0,
           1,
           1,
           1,
           0,
           0,
           1,
           1,
           1,
           0,
           0,
           0,
           1,
           0,
           0,
           0,
           1,
           1,
           0,
           0,
           1,
           1,
           1,
           1,
           1,
           0,
           0,
           0,
           0,
           0,
           0,
           0,
           0,
           0,
           0,
           1,
           0,
           0,
           0,
           0,
           0,
           0,
           0,
           0,
           1,
           0,
           1,
           1,
           0,
           0,
           0,
           1,
           0,
           0,
           0,
           0,
           1,
           1,
           0,
           0,
           0,
           0,
           1,
           1,
           0,
           0,
           0,
           1,
           0,
           1,
           0,
           1,
           0,
           0,
           0,
           0,
           0,
           1,
           1,
           1,
           1,
           1,
           0,
           0,
           1,
           1,
           0,
           1,
           0,
           1,
           1,
           1,
           0,
           0,
           0,
           0,
           0,
           0,
           1,
           1,
           0,
           1,
           0,
           0,
           0,
           1,
           1,
           1,
           1,
           0,
           1,
           1,
           1,
           1,
           0,
           0,
           0,
           0,
           0,
           1,
           0,
           0,
           1,
           1,
           0,
           0,
           0,
           1,
           1,
           1,
           1,
           0,
           0,
           0,
           1,
           1,
           0,
           1,
           0,
           0,
           0,
           0,
           0,
           0,
           0,
           0,
           1,
           1,
           0,
           0,
           0,
           1,
           0,
           1,
           0,
           0,
           1,
           0,
           1,
           0,
           0,
           1,
           1,
           0,
           0,
           0,
           0,
           0,
           1,
           0,
           0,
           0,
           1,
           0,
           0,
           1,
           1,
           0,
           0,
           1,
           0,
           0,
           0,
           1,
           1,
           1,
           0,
           0,
           1,
           0,
           1,
           0,
           1,
           1,
           0,
           1,
           0,
           0,
           1,
           0,
           1,
           1,
           0,
           0,
           1,
           0,
           1,
           0,
           0,
           1,
           0,
           1,
           0,
           1,
           1,
           1,
           0,
           0,
           1,
           0,
           1,
           0,
           0,
           0,
           1,
           0,
           0,
           0,
           0,
           1,
           1,
           1,
           0,
           0,
           0,
           0,
           0,
           0,
           0,
           0,
           0,
           1,
           0,
           0,
           0,
           0,
           0,
           1,
           1,
           1,
           0,
           1,
           1,
           0,
           0,
           1,
           0,
           0,
           1,
           0,
           0,
           1,
           1,
           0,
           0,
           0,
           0,
           1,
           0,
           0,
           1,
           0,
           0,
           0,
           0,
           0,
           0,
           0,
           1,
           1,
           1,
           0,
           0,
           1,
           0,
           0,
           1,
           0,
           0,
           1,
           0,
           1,
           1,
           0,
           1,
           0,
           1,
           0,
           1,
           0,
           1,
           1,
           0,
           0,
           0,
           0,
           1,
           1,
           0,
           1,
           0,
           1,
           0,
           0,
           0,
           0,
           1,
           1,
           0,
           1,
           0,
           1,
           0,
           0,
           0,
           0,
           0,
           1,
           0,
           0,
           0,
           0,
           1,
           0,
           0,
           1,
           1,
           1,
           0,
           0,
           1,
           0,
           0,
           1,
           0,
           0,
           0,
           1,
           0,
           0,
           1,
           0,
           0,
           0,
           0,
           0,
           0,
           0,
           0,
           0,
           1,
           0,
           0,
           0,
           0,
           0,
           0,
           0,
           1,
           0,
           0,
           0,
           1,
           0,
           0,
           0,
           1,
           1,
           0,
           0,
           0,
           0,
           0,
           0,
           0,
           1,
           0,
           0,
           0,
           0,
           1,
           0,
           0,
           0,
           1,
           0,
           0,
           0,
           1,
           0,
           0,
           0,
           1,
           0,
           0,
           0,
           0,
           1,
           1,
           0,
           0,
           0,
           0,
           0,
           0,
           1,
           0,
           0,
           0,
           0,
           0,
           0,
           0,
           0,
           0,
           0,
           0,
           1,
           0,
           0,
           0,
           1,
           1,
           1,
           1,
           0,
           0,
           1,
           1,
           0,
           0,
           0,
           0,
           0,
           0,
           0,
           0,
           0,
           0,
           0,
           0,
           0,
           1,
           1,
           0,
           0,
           0,
           0,
           0,
           0,
           0,
           1,
           0,
           0,
           0,
           0,
           0,
           0,
           0,
           1,
           0,
           1,
           1,
           0,
           0,
           0,
           1,
           0,
           1,
           0,
           1,
           0,
           1,
           0,
           1,
           0,
           0,
           1,
           0,
           0,
           1,
           0,
           0,
           0,
           0,
           1,
           1,
           0,
           1,
           0,
           0,
           0,
           0,
           1,
           1,
           0,
           1,
           0,
           0,
           0,
           1,
           1,
           0,
           0,
           0,
           0,
           0,
           0,
           0,
           0,
           0,
           0,
           1,
           0,
           0,
           0,
           0,
           1,
           0,
           0,
           1,
           0,
           0,
           0,
           1,
           0,
           0,
           0,
           1,
           1,
           1,
           0,
           0,
           0,
           0,
           0,
           0,
           1,
           0,
           0,
           0,
           1,
           0,
           1,
           1,
           1,
           1,
           0,
           1,
           1,
           0,
           0,
           0,
           0,
           0,
           0,
           0,
           1,
           1,
           0,
           1,
           0,
           0,
           1,
           0,
           1,
           0,
           0,
           0,
           0,
           0,
           1,
           0,
           1,
           0,
           1,
           0,
           1,
           1,
           0,
           0,
           0,
           0,
           1,
           1,
           0,
           0,
           0,
           1,
           0,
           1,
           1,
           0,
           0,
           1,
           0,
           0,
           1,
           1,
           0,
           0,
           1,
           0,
           0,
           1,
           0,
           0,
           0,
           0,
           0,
           0,
           0,
           1,
           1,
           1,
           0,
           0,
           0,
           0,
           0,
           0,
           1,
           1,
           0,
           0,
           1,
           0,
           0,
           1,
           0,
           1,
           1,
           1,
           0,
           0,
           1,
           1,
           1,
           0,
           1,
           0,
           1,
           0,
           1,
           0,
           0,
           0,
           0,
           1,
           0
          ],
          "coloraxis": "coloraxis",
          "pattern": {
           "shape": ""
          }
         },
         "name": "",
         "offsetgroup": "",
         "orientation": "v",
         "showlegend": false,
         "textposition": "auto",
         "type": "bar",
         "x": [
          1,
          0,
          1,
          0,
          1,
          0,
          1,
          0,
          1,
          1,
          0,
          1,
          0,
          1,
          1,
          1,
          1,
          1,
          0,
          1,
          0,
          0,
          1,
          1,
          1,
          1,
          1,
          0,
          0,
          0,
          0,
          1,
          0,
          0,
          0,
          0,
          0,
          1,
          1,
          1,
          0,
          0,
          0,
          1,
          0,
          1,
          0,
          0,
          1,
          0,
          0,
          0,
          0,
          1,
          0,
          0,
          1,
          0,
          0,
          0,
          0,
          1,
          0,
          0,
          1,
          0,
          1,
          0,
          0,
          0,
          1,
          0,
          1,
          0,
          0,
          0,
          0,
          0,
          1,
          0,
          0,
          0,
          0,
          0,
          1,
          0,
          0,
          0,
          1,
          0,
          0,
          0,
          0,
          1,
          0,
          0,
          0,
          0,
          0,
          1,
          1,
          0,
          0,
          0,
          0,
          0,
          0,
          0,
          0,
          1,
          1,
          1,
          0,
          0,
          1,
          1,
          1,
          0,
          0,
          0,
          1,
          0,
          0,
          0,
          1,
          1,
          0,
          0,
          1,
          1,
          1,
          1,
          1,
          0,
          0,
          0,
          0,
          0,
          0,
          0,
          0,
          0,
          0,
          1,
          0,
          0,
          0,
          0,
          0,
          0,
          0,
          0,
          1,
          0,
          1,
          1,
          0,
          0,
          0,
          1,
          0,
          0,
          0,
          0,
          1,
          1,
          0,
          0,
          0,
          0,
          1,
          1,
          0,
          0,
          0,
          1,
          0,
          1,
          0,
          1,
          0,
          0,
          0,
          0,
          0,
          1,
          1,
          1,
          1,
          1,
          0,
          0,
          1,
          1,
          0,
          1,
          0,
          1,
          1,
          1,
          0,
          0,
          0,
          0,
          0,
          0,
          1,
          1,
          0,
          1,
          0,
          0,
          0,
          1,
          1,
          1,
          1,
          0,
          1,
          1,
          1,
          1,
          0,
          0,
          0,
          0,
          0,
          1,
          0,
          0,
          1,
          1,
          0,
          0,
          0,
          1,
          1,
          1,
          1,
          0,
          0,
          0,
          1,
          1,
          0,
          1,
          0,
          0,
          0,
          0,
          0,
          0,
          0,
          0,
          1,
          1,
          0,
          0,
          0,
          1,
          0,
          1,
          0,
          0,
          1,
          0,
          1,
          0,
          0,
          1,
          1,
          0,
          0,
          0,
          0,
          0,
          1,
          0,
          0,
          0,
          1,
          0,
          0,
          1,
          1,
          0,
          0,
          1,
          0,
          0,
          0,
          1,
          1,
          1,
          0,
          0,
          1,
          0,
          1,
          0,
          1,
          1,
          0,
          1,
          0,
          0,
          1,
          0,
          1,
          1,
          0,
          0,
          1,
          0,
          1,
          0,
          0,
          1,
          0,
          1,
          0,
          1,
          1,
          1,
          0,
          0,
          1,
          0,
          1,
          0,
          0,
          0,
          1,
          0,
          0,
          0,
          0,
          1,
          1,
          1,
          0,
          0,
          0,
          0,
          0,
          0,
          0,
          0,
          0,
          1,
          0,
          0,
          0,
          0,
          0,
          1,
          1,
          1,
          0,
          1,
          1,
          0,
          0,
          1,
          0,
          0,
          1,
          0,
          0,
          1,
          1,
          0,
          0,
          0,
          0,
          1,
          0,
          0,
          1,
          0,
          0,
          0,
          0,
          0,
          0,
          0,
          1,
          1,
          1,
          0,
          0,
          1,
          0,
          0,
          1,
          0,
          0,
          1,
          0,
          1,
          1,
          0,
          1,
          0,
          1,
          0,
          1,
          0,
          1,
          1,
          0,
          0,
          0,
          0,
          1,
          1,
          0,
          1,
          0,
          1,
          0,
          0,
          0,
          0,
          1,
          1,
          0,
          1,
          0,
          1,
          0,
          0,
          0,
          0,
          0,
          1,
          0,
          0,
          0,
          0,
          1,
          0,
          0,
          1,
          1,
          1,
          0,
          0,
          1,
          0,
          0,
          1,
          0,
          0,
          0,
          1,
          0,
          0,
          1,
          0,
          0,
          0,
          0,
          0,
          0,
          0,
          0,
          0,
          1,
          0,
          0,
          0,
          0,
          0,
          0,
          0,
          1,
          0,
          0,
          0,
          1,
          0,
          0,
          0,
          1,
          1,
          0,
          0,
          0,
          0,
          0,
          0,
          0,
          1,
          0,
          0,
          0,
          0,
          1,
          0,
          0,
          0,
          1,
          0,
          0,
          0,
          1,
          0,
          0,
          0,
          1,
          0,
          0,
          0,
          0,
          1,
          1,
          0,
          0,
          0,
          0,
          0,
          0,
          1,
          0,
          0,
          0,
          0,
          0,
          0,
          0,
          0,
          0,
          0,
          0,
          1,
          0,
          0,
          0,
          1,
          1,
          1,
          1,
          0,
          0,
          1,
          1,
          0,
          0,
          0,
          0,
          0,
          0,
          0,
          0,
          0,
          0,
          0,
          0,
          0,
          1,
          1,
          0,
          0,
          0,
          0,
          0,
          0,
          0,
          1,
          0,
          0,
          0,
          0,
          0,
          0,
          0,
          1,
          0,
          1,
          1,
          0,
          0,
          0,
          1,
          0,
          1,
          0,
          1,
          0,
          1,
          0,
          1,
          0,
          0,
          1,
          0,
          0,
          1,
          0,
          0,
          0,
          0,
          1,
          1,
          0,
          1,
          0,
          0,
          0,
          0,
          1,
          1,
          0,
          1,
          0,
          0,
          0,
          1,
          1,
          0,
          0,
          0,
          0,
          0,
          0,
          0,
          0,
          0,
          0,
          1,
          0,
          0,
          0,
          0,
          1,
          0,
          0,
          1,
          0,
          0,
          0,
          1,
          0,
          0,
          0,
          1,
          1,
          1,
          0,
          0,
          0,
          0,
          0,
          0,
          1,
          0,
          0,
          0,
          1,
          0,
          1,
          1,
          1,
          1,
          0,
          1,
          1,
          0,
          0,
          0,
          0,
          0,
          0,
          0,
          1,
          1,
          0,
          1,
          0,
          0,
          1,
          0,
          1,
          0,
          0,
          0,
          0,
          0,
          1,
          0,
          1,
          0,
          1,
          0,
          1,
          1,
          0,
          0,
          0,
          0,
          1,
          1,
          0,
          0,
          0,
          1,
          0,
          1,
          1,
          0,
          0,
          1,
          0,
          0,
          1,
          1,
          0,
          0,
          1,
          0,
          0,
          1,
          0,
          0,
          0,
          0,
          0,
          0,
          0,
          1,
          1,
          1,
          0,
          0,
          0,
          0,
          0,
          0,
          1,
          1,
          0,
          0,
          1,
          0,
          0,
          1,
          0,
          1,
          1,
          1,
          0,
          0,
          1,
          1,
          1,
          0,
          1,
          0,
          1,
          0,
          1,
          0,
          0,
          0,
          0,
          1,
          0
         ],
         "xaxis": "x",
         "y": [
          148,
          85,
          183,
          89,
          137,
          116,
          78,
          115,
          197,
          125,
          110,
          168,
          139,
          189,
          166,
          100,
          118,
          107,
          103,
          115,
          126,
          99,
          196,
          119,
          143,
          125,
          147,
          97,
          145,
          117,
          109,
          158,
          88,
          92,
          122,
          103,
          138,
          102,
          90,
          111,
          180,
          133,
          106,
          171,
          159,
          180,
          146,
          71,
          103,
          105,
          103,
          101,
          88,
          176,
          150,
          73,
          187,
          100,
          146,
          105,
          84,
          133,
          44,
          141,
          114,
          99,
          109,
          109,
          95,
          146,
          100,
          139,
          126,
          129,
          79,
          0,
          62,
          95,
          131,
          112,
          113,
          74,
          83,
          101,
          137,
          110,
          106,
          100,
          136,
          107,
          80,
          123,
          81,
          134,
          142,
          144,
          92,
          71,
          93,
          122,
          163,
          151,
          125,
          81,
          85,
          126,
          96,
          144,
          83,
          95,
          171,
          155,
          89,
          76,
          160,
          146,
          124,
          78,
          97,
          99,
          162,
          111,
          107,
          132,
          113,
          88,
          120,
          118,
          117,
          105,
          173,
          122,
          170,
          84,
          96,
          125,
          100,
          93,
          129,
          105,
          128,
          106,
          108,
          108,
          154,
          102,
          57,
          106,
          147,
          90,
          136,
          114,
          156,
          153,
          188,
          152,
          99,
          109,
          88,
          163,
          151,
          102,
          114,
          100,
          131,
          104,
          148,
          120,
          110,
          111,
          102,
          134,
          87,
          79,
          75,
          179,
          85,
          129,
          143,
          130,
          87,
          119,
          0,
          73,
          141,
          194,
          181,
          128,
          109,
          139,
          111,
          123,
          159,
          135,
          85,
          158,
          105,
          107,
          109,
          148,
          113,
          138,
          108,
          99,
          103,
          111,
          196,
          162,
          96,
          184,
          81,
          147,
          179,
          140,
          112,
          151,
          109,
          125,
          85,
          112,
          177,
          158,
          119,
          142,
          100,
          87,
          101,
          162,
          197,
          117,
          142,
          134,
          79,
          122,
          74,
          171,
          181,
          179,
          164,
          104,
          91,
          91,
          139,
          119,
          146,
          184,
          122,
          165,
          124,
          111,
          106,
          129,
          90,
          86,
          92,
          113,
          111,
          114,
          193,
          155,
          191,
          141,
          95,
          142,
          123,
          96,
          138,
          128,
          102,
          146,
          101,
          108,
          122,
          71,
          106,
          100,
          106,
          104,
          114,
          108,
          146,
          129,
          133,
          161,
          108,
          136,
          155,
          119,
          96,
          108,
          78,
          107,
          128,
          128,
          161,
          151,
          146,
          126,
          100,
          112,
          167,
          144,
          77,
          115,
          150,
          120,
          161,
          137,
          128,
          124,
          80,
          106,
          155,
          113,
          109,
          112,
          99,
          182,
          115,
          194,
          129,
          112,
          124,
          152,
          112,
          157,
          122,
          179,
          102,
          105,
          118,
          87,
          180,
          106,
          95,
          165,
          117,
          115,
          152,
          178,
          130,
          95,
          0,
          122,
          95,
          126,
          139,
          116,
          99,
          0,
          92,
          137,
          61,
          90,
          90,
          165,
          125,
          129,
          88,
          196,
          189,
          158,
          103,
          146,
          147,
          99,
          124,
          101,
          81,
          133,
          173,
          118,
          84,
          105,
          122,
          140,
          98,
          87,
          156,
          93,
          107,
          105,
          109,
          90,
          125,
          119,
          116,
          105,
          144,
          100,
          100,
          166,
          131,
          116,
          158,
          127,
          96,
          131,
          82,
          193,
          95,
          137,
          136,
          72,
          168,
          123,
          115,
          101,
          197,
          172,
          102,
          112,
          143,
          143,
          138,
          173,
          97,
          144,
          83,
          129,
          119,
          94,
          102,
          115,
          151,
          184,
          94,
          181,
          135,
          95,
          99,
          89,
          80,
          139,
          90,
          141,
          140,
          147,
          97,
          107,
          189,
          83,
          117,
          108,
          117,
          180,
          100,
          95,
          104,
          120,
          82,
          134,
          91,
          119,
          100,
          175,
          135,
          86,
          148,
          134,
          120,
          71,
          74,
          88,
          115,
          124,
          74,
          97,
          120,
          154,
          144,
          137,
          119,
          136,
          114,
          137,
          105,
          114,
          126,
          132,
          158,
          123,
          85,
          84,
          145,
          135,
          139,
          173,
          99,
          194,
          83,
          89,
          99,
          125,
          80,
          166,
          110,
          81,
          195,
          154,
          117,
          84,
          0,
          94,
          96,
          75,
          180,
          130,
          84,
          120,
          84,
          139,
          91,
          91,
          99,
          163,
          145,
          125,
          76,
          129,
          68,
          124,
          114,
          130,
          125,
          87,
          97,
          116,
          117,
          111,
          122,
          107,
          86,
          91,
          77,
          132,
          105,
          57,
          127,
          129,
          100,
          128,
          90,
          84,
          88,
          186,
          187,
          131,
          164,
          189,
          116,
          84,
          114,
          88,
          84,
          124,
          97,
          110,
          103,
          85,
          125,
          198,
          87,
          99,
          91,
          95,
          99,
          92,
          154,
          121,
          78,
          130,
          111,
          98,
          143,
          119,
          108,
          118,
          133,
          197,
          151,
          109,
          121,
          100,
          124,
          93,
          143,
          103,
          176,
          73,
          111,
          112,
          132,
          82,
          123,
          188,
          67,
          89,
          173,
          109,
          108,
          96,
          124,
          150,
          183,
          124,
          181,
          92,
          152,
          111,
          106,
          174,
          168,
          105,
          138,
          106,
          117,
          68,
          112,
          119,
          112,
          92,
          183,
          94,
          108,
          90,
          125,
          132,
          128,
          94,
          114,
          102,
          111,
          128,
          92,
          104,
          104,
          94,
          97,
          100,
          102,
          128,
          147,
          90,
          103,
          157,
          167,
          179,
          136,
          107,
          91,
          117,
          123,
          120,
          106,
          155,
          101,
          120,
          127,
          80,
          162,
          199,
          167,
          145,
          115,
          112,
          145,
          111,
          98,
          154,
          165,
          99,
          68,
          123,
          91,
          195,
          156,
          93,
          121,
          101,
          56,
          162,
          95,
          125,
          136,
          129,
          130,
          107,
          140,
          144,
          107,
          158,
          121,
          129,
          90,
          142,
          169,
          99,
          127,
          118,
          122,
          125,
          168,
          129,
          110,
          80,
          115,
          127,
          164,
          93,
          158,
          126,
          129,
          134,
          102,
          187,
          173,
          94,
          108,
          97,
          83,
          114,
          149,
          117,
          111,
          112,
          116,
          141,
          175,
          92,
          130,
          120,
          174,
          106,
          105,
          95,
          126,
          65,
          99,
          102,
          120,
          102,
          109,
          140,
          153,
          100,
          147,
          81,
          187,
          162,
          136,
          121,
          108,
          181,
          154,
          128,
          137,
          123,
          106,
          190,
          88,
          170,
          89,
          101,
          122,
          121,
          126,
          93
         ],
         "yaxis": "y"
        }
       ],
       "layout": {
        "barmode": "group",
        "coloraxis": {
         "colorbar": {
          "title": {
           "text": "Outcome"
          }
         },
         "colorscale": [
          [
           0,
           "#0d0887"
          ],
          [
           0.1111111111111111,
           "#46039f"
          ],
          [
           0.2222222222222222,
           "#7201a8"
          ],
          [
           0.3333333333333333,
           "#9c179e"
          ],
          [
           0.4444444444444444,
           "#bd3786"
          ],
          [
           0.5555555555555556,
           "#d8576b"
          ],
          [
           0.6666666666666666,
           "#ed7953"
          ],
          [
           0.7777777777777778,
           "#fb9f3a"
          ],
          [
           0.8888888888888888,
           "#fdca26"
          ],
          [
           1,
           "#f0f921"
          ]
         ]
        },
        "legend": {
         "tracegroupgap": 0
        },
        "template": {
         "data": {
          "bar": [
           {
            "error_x": {
             "color": "#2a3f5f"
            },
            "error_y": {
             "color": "#2a3f5f"
            },
            "marker": {
             "line": {
              "color": "#E5ECF6",
              "width": 0.5
             },
             "pattern": {
              "fillmode": "overlay",
              "size": 10,
              "solidity": 0.2
             }
            },
            "type": "bar"
           }
          ],
          "barpolar": [
           {
            "marker": {
             "line": {
              "color": "#E5ECF6",
              "width": 0.5
             },
             "pattern": {
              "fillmode": "overlay",
              "size": 10,
              "solidity": 0.2
             }
            },
            "type": "barpolar"
           }
          ],
          "carpet": [
           {
            "aaxis": {
             "endlinecolor": "#2a3f5f",
             "gridcolor": "white",
             "linecolor": "white",
             "minorgridcolor": "white",
             "startlinecolor": "#2a3f5f"
            },
            "baxis": {
             "endlinecolor": "#2a3f5f",
             "gridcolor": "white",
             "linecolor": "white",
             "minorgridcolor": "white",
             "startlinecolor": "#2a3f5f"
            },
            "type": "carpet"
           }
          ],
          "choropleth": [
           {
            "colorbar": {
             "outlinewidth": 0,
             "ticks": ""
            },
            "type": "choropleth"
           }
          ],
          "contour": [
           {
            "colorbar": {
             "outlinewidth": 0,
             "ticks": ""
            },
            "colorscale": [
             [
              0,
              "#0d0887"
             ],
             [
              0.1111111111111111,
              "#46039f"
             ],
             [
              0.2222222222222222,
              "#7201a8"
             ],
             [
              0.3333333333333333,
              "#9c179e"
             ],
             [
              0.4444444444444444,
              "#bd3786"
             ],
             [
              0.5555555555555556,
              "#d8576b"
             ],
             [
              0.6666666666666666,
              "#ed7953"
             ],
             [
              0.7777777777777778,
              "#fb9f3a"
             ],
             [
              0.8888888888888888,
              "#fdca26"
             ],
             [
              1,
              "#f0f921"
             ]
            ],
            "type": "contour"
           }
          ],
          "contourcarpet": [
           {
            "colorbar": {
             "outlinewidth": 0,
             "ticks": ""
            },
            "type": "contourcarpet"
           }
          ],
          "heatmap": [
           {
            "colorbar": {
             "outlinewidth": 0,
             "ticks": ""
            },
            "colorscale": [
             [
              0,
              "#0d0887"
             ],
             [
              0.1111111111111111,
              "#46039f"
             ],
             [
              0.2222222222222222,
              "#7201a8"
             ],
             [
              0.3333333333333333,
              "#9c179e"
             ],
             [
              0.4444444444444444,
              "#bd3786"
             ],
             [
              0.5555555555555556,
              "#d8576b"
             ],
             [
              0.6666666666666666,
              "#ed7953"
             ],
             [
              0.7777777777777778,
              "#fb9f3a"
             ],
             [
              0.8888888888888888,
              "#fdca26"
             ],
             [
              1,
              "#f0f921"
             ]
            ],
            "type": "heatmap"
           }
          ],
          "heatmapgl": [
           {
            "colorbar": {
             "outlinewidth": 0,
             "ticks": ""
            },
            "colorscale": [
             [
              0,
              "#0d0887"
             ],
             [
              0.1111111111111111,
              "#46039f"
             ],
             [
              0.2222222222222222,
              "#7201a8"
             ],
             [
              0.3333333333333333,
              "#9c179e"
             ],
             [
              0.4444444444444444,
              "#bd3786"
             ],
             [
              0.5555555555555556,
              "#d8576b"
             ],
             [
              0.6666666666666666,
              "#ed7953"
             ],
             [
              0.7777777777777778,
              "#fb9f3a"
             ],
             [
              0.8888888888888888,
              "#fdca26"
             ],
             [
              1,
              "#f0f921"
             ]
            ],
            "type": "heatmapgl"
           }
          ],
          "histogram": [
           {
            "marker": {
             "pattern": {
              "fillmode": "overlay",
              "size": 10,
              "solidity": 0.2
             }
            },
            "type": "histogram"
           }
          ],
          "histogram2d": [
           {
            "colorbar": {
             "outlinewidth": 0,
             "ticks": ""
            },
            "colorscale": [
             [
              0,
              "#0d0887"
             ],
             [
              0.1111111111111111,
              "#46039f"
             ],
             [
              0.2222222222222222,
              "#7201a8"
             ],
             [
              0.3333333333333333,
              "#9c179e"
             ],
             [
              0.4444444444444444,
              "#bd3786"
             ],
             [
              0.5555555555555556,
              "#d8576b"
             ],
             [
              0.6666666666666666,
              "#ed7953"
             ],
             [
              0.7777777777777778,
              "#fb9f3a"
             ],
             [
              0.8888888888888888,
              "#fdca26"
             ],
             [
              1,
              "#f0f921"
             ]
            ],
            "type": "histogram2d"
           }
          ],
          "histogram2dcontour": [
           {
            "colorbar": {
             "outlinewidth": 0,
             "ticks": ""
            },
            "colorscale": [
             [
              0,
              "#0d0887"
             ],
             [
              0.1111111111111111,
              "#46039f"
             ],
             [
              0.2222222222222222,
              "#7201a8"
             ],
             [
              0.3333333333333333,
              "#9c179e"
             ],
             [
              0.4444444444444444,
              "#bd3786"
             ],
             [
              0.5555555555555556,
              "#d8576b"
             ],
             [
              0.6666666666666666,
              "#ed7953"
             ],
             [
              0.7777777777777778,
              "#fb9f3a"
             ],
             [
              0.8888888888888888,
              "#fdca26"
             ],
             [
              1,
              "#f0f921"
             ]
            ],
            "type": "histogram2dcontour"
           }
          ],
          "mesh3d": [
           {
            "colorbar": {
             "outlinewidth": 0,
             "ticks": ""
            },
            "type": "mesh3d"
           }
          ],
          "parcoords": [
           {
            "line": {
             "colorbar": {
              "outlinewidth": 0,
              "ticks": ""
             }
            },
            "type": "parcoords"
           }
          ],
          "pie": [
           {
            "automargin": true,
            "type": "pie"
           }
          ],
          "scatter": [
           {
            "fillpattern": {
             "fillmode": "overlay",
             "size": 10,
             "solidity": 0.2
            },
            "type": "scatter"
           }
          ],
          "scatter3d": [
           {
            "line": {
             "colorbar": {
              "outlinewidth": 0,
              "ticks": ""
             }
            },
            "marker": {
             "colorbar": {
              "outlinewidth": 0,
              "ticks": ""
             }
            },
            "type": "scatter3d"
           }
          ],
          "scattercarpet": [
           {
            "marker": {
             "colorbar": {
              "outlinewidth": 0,
              "ticks": ""
             }
            },
            "type": "scattercarpet"
           }
          ],
          "scattergeo": [
           {
            "marker": {
             "colorbar": {
              "outlinewidth": 0,
              "ticks": ""
             }
            },
            "type": "scattergeo"
           }
          ],
          "scattergl": [
           {
            "marker": {
             "colorbar": {
              "outlinewidth": 0,
              "ticks": ""
             }
            },
            "type": "scattergl"
           }
          ],
          "scattermapbox": [
           {
            "marker": {
             "colorbar": {
              "outlinewidth": 0,
              "ticks": ""
             }
            },
            "type": "scattermapbox"
           }
          ],
          "scatterpolar": [
           {
            "marker": {
             "colorbar": {
              "outlinewidth": 0,
              "ticks": ""
             }
            },
            "type": "scatterpolar"
           }
          ],
          "scatterpolargl": [
           {
            "marker": {
             "colorbar": {
              "outlinewidth": 0,
              "ticks": ""
             }
            },
            "type": "scatterpolargl"
           }
          ],
          "scatterternary": [
           {
            "marker": {
             "colorbar": {
              "outlinewidth": 0,
              "ticks": ""
             }
            },
            "type": "scatterternary"
           }
          ],
          "surface": [
           {
            "colorbar": {
             "outlinewidth": 0,
             "ticks": ""
            },
            "colorscale": [
             [
              0,
              "#0d0887"
             ],
             [
              0.1111111111111111,
              "#46039f"
             ],
             [
              0.2222222222222222,
              "#7201a8"
             ],
             [
              0.3333333333333333,
              "#9c179e"
             ],
             [
              0.4444444444444444,
              "#bd3786"
             ],
             [
              0.5555555555555556,
              "#d8576b"
             ],
             [
              0.6666666666666666,
              "#ed7953"
             ],
             [
              0.7777777777777778,
              "#fb9f3a"
             ],
             [
              0.8888888888888888,
              "#fdca26"
             ],
             [
              1,
              "#f0f921"
             ]
            ],
            "type": "surface"
           }
          ],
          "table": [
           {
            "cells": {
             "fill": {
              "color": "#EBF0F8"
             },
             "line": {
              "color": "white"
             }
            },
            "header": {
             "fill": {
              "color": "#C8D4E3"
             },
             "line": {
              "color": "white"
             }
            },
            "type": "table"
           }
          ]
         },
         "layout": {
          "annotationdefaults": {
           "arrowcolor": "#2a3f5f",
           "arrowhead": 0,
           "arrowwidth": 1
          },
          "autotypenumbers": "strict",
          "coloraxis": {
           "colorbar": {
            "outlinewidth": 0,
            "ticks": ""
           }
          },
          "colorscale": {
           "diverging": [
            [
             0,
             "#8e0152"
            ],
            [
             0.1,
             "#c51b7d"
            ],
            [
             0.2,
             "#de77ae"
            ],
            [
             0.3,
             "#f1b6da"
            ],
            [
             0.4,
             "#fde0ef"
            ],
            [
             0.5,
             "#f7f7f7"
            ],
            [
             0.6,
             "#e6f5d0"
            ],
            [
             0.7,
             "#b8e186"
            ],
            [
             0.8,
             "#7fbc41"
            ],
            [
             0.9,
             "#4d9221"
            ],
            [
             1,
             "#276419"
            ]
           ],
           "sequential": [
            [
             0,
             "#0d0887"
            ],
            [
             0.1111111111111111,
             "#46039f"
            ],
            [
             0.2222222222222222,
             "#7201a8"
            ],
            [
             0.3333333333333333,
             "#9c179e"
            ],
            [
             0.4444444444444444,
             "#bd3786"
            ],
            [
             0.5555555555555556,
             "#d8576b"
            ],
            [
             0.6666666666666666,
             "#ed7953"
            ],
            [
             0.7777777777777778,
             "#fb9f3a"
            ],
            [
             0.8888888888888888,
             "#fdca26"
            ],
            [
             1,
             "#f0f921"
            ]
           ],
           "sequentialminus": [
            [
             0,
             "#0d0887"
            ],
            [
             0.1111111111111111,
             "#46039f"
            ],
            [
             0.2222222222222222,
             "#7201a8"
            ],
            [
             0.3333333333333333,
             "#9c179e"
            ],
            [
             0.4444444444444444,
             "#bd3786"
            ],
            [
             0.5555555555555556,
             "#d8576b"
            ],
            [
             0.6666666666666666,
             "#ed7953"
            ],
            [
             0.7777777777777778,
             "#fb9f3a"
            ],
            [
             0.8888888888888888,
             "#fdca26"
            ],
            [
             1,
             "#f0f921"
            ]
           ]
          },
          "colorway": [
           "#636efa",
           "#EF553B",
           "#00cc96",
           "#ab63fa",
           "#FFA15A",
           "#19d3f3",
           "#FF6692",
           "#B6E880",
           "#FF97FF",
           "#FECB52"
          ],
          "font": {
           "color": "#2a3f5f"
          },
          "geo": {
           "bgcolor": "white",
           "lakecolor": "white",
           "landcolor": "#E5ECF6",
           "showlakes": true,
           "showland": true,
           "subunitcolor": "white"
          },
          "hoverlabel": {
           "align": "left"
          },
          "hovermode": "closest",
          "mapbox": {
           "style": "light"
          },
          "paper_bgcolor": "white",
          "plot_bgcolor": "#E5ECF6",
          "polar": {
           "angularaxis": {
            "gridcolor": "white",
            "linecolor": "white",
            "ticks": ""
           },
           "bgcolor": "#E5ECF6",
           "radialaxis": {
            "gridcolor": "white",
            "linecolor": "white",
            "ticks": ""
           }
          },
          "scene": {
           "xaxis": {
            "backgroundcolor": "#E5ECF6",
            "gridcolor": "white",
            "gridwidth": 2,
            "linecolor": "white",
            "showbackground": true,
            "ticks": "",
            "zerolinecolor": "white"
           },
           "yaxis": {
            "backgroundcolor": "#E5ECF6",
            "gridcolor": "white",
            "gridwidth": 2,
            "linecolor": "white",
            "showbackground": true,
            "ticks": "",
            "zerolinecolor": "white"
           },
           "zaxis": {
            "backgroundcolor": "#E5ECF6",
            "gridcolor": "white",
            "gridwidth": 2,
            "linecolor": "white",
            "showbackground": true,
            "ticks": "",
            "zerolinecolor": "white"
           }
          },
          "shapedefaults": {
           "line": {
            "color": "#2a3f5f"
           }
          },
          "ternary": {
           "aaxis": {
            "gridcolor": "white",
            "linecolor": "white",
            "ticks": ""
           },
           "baxis": {
            "gridcolor": "white",
            "linecolor": "white",
            "ticks": ""
           },
           "bgcolor": "#E5ECF6",
           "caxis": {
            "gridcolor": "white",
            "linecolor": "white",
            "ticks": ""
           }
          },
          "title": {
           "x": 0.05
          },
          "xaxis": {
           "automargin": true,
           "gridcolor": "white",
           "linecolor": "white",
           "ticks": "",
           "title": {
            "standoff": 15
           },
           "zerolinecolor": "white",
           "zerolinewidth": 2
          },
          "yaxis": {
           "automargin": true,
           "gridcolor": "white",
           "linecolor": "white",
           "ticks": "",
           "title": {
            "standoff": 15
           },
           "zerolinecolor": "white",
           "zerolinewidth": 2
          }
         }
        },
        "title": {
         "text": "Rata-rata Glucose berdasarkan Outcome"
        },
        "xaxis": {
         "anchor": "y",
         "domain": [
          0,
          1
         ],
         "title": {
          "text": "Outcome"
         }
        },
        "yaxis": {
         "anchor": "x",
         "domain": [
          0,
          1
         ],
         "title": {
          "text": "Rata-rata Glukosa"
         }
        }
       }
      }
     },
     "metadata": {},
     "output_type": "display_data"
    }
   ],
   "source": [
    "\n",
    "import plotly.express as px\n",
    "import pandas as pd\n",
    "\n",
    "# Membaca data\n",
    "diabetes_data = pd.read_csv('diabetes.csv')\n",
    "\n",
    "# Membuat bar chart untuk melihat distribusi Outcome\n",
    "fig = px.bar(diabetes_data, x='Outcome', y='Glucose', \n",
    "             title='Rata-rata Glucose berdasarkan Outcome',\n",
    "             labels={'Glucose': 'Rata-rata Glukosa', 'Outcome': 'Outcome'},\n",
    "             color='Outcome',\n",
    "             barmode='group')\n",
    "\n",
    "fig.show()\n"
   ]
  },
  {
   "cell_type": "markdown",
   "metadata": {},
   "source": [
    "these we know that mean of glucose among not and diabetes, "
   ]
  },
  {
   "cell_type": "code",
   "execution_count": 9,
   "metadata": {},
   "outputs": [
    {
     "data": {
      "application/vnd.plotly.v1+json": {
       "config": {
        "plotlyServerURL": "https://plot.ly"
       },
       "data": [
        {
         "alignmentgroup": "True",
         "box": {
          "visible": true
         },
         "hovertemplate": "Outcome=%{x}<br>Indeks Massa Tubuh=%{y}<extra></extra>",
         "legendgroup": "1",
         "marker": {
          "color": "#636efa"
         },
         "name": "1",
         "offsetgroup": "1",
         "orientation": "v",
         "points": "all",
         "scalegroup": "True",
         "showlegend": true,
         "type": "violin",
         "x": [
          1,
          1,
          1,
          1,
          1,
          1,
          1,
          1,
          1,
          1,
          1,
          1,
          1,
          1,
          1,
          1,
          1,
          1,
          1,
          1,
          1,
          1,
          1,
          1,
          1,
          1,
          1,
          1,
          1,
          1,
          1,
          1,
          1,
          1,
          1,
          1,
          1,
          1,
          1,
          1,
          1,
          1,
          1,
          1,
          1,
          1,
          1,
          1,
          1,
          1,
          1,
          1,
          1,
          1,
          1,
          1,
          1,
          1,
          1,
          1,
          1,
          1,
          1,
          1,
          1,
          1,
          1,
          1,
          1,
          1,
          1,
          1,
          1,
          1,
          1,
          1,
          1,
          1,
          1,
          1,
          1,
          1,
          1,
          1,
          1,
          1,
          1,
          1,
          1,
          1,
          1,
          1,
          1,
          1,
          1,
          1,
          1,
          1,
          1,
          1,
          1,
          1,
          1,
          1,
          1,
          1,
          1,
          1,
          1,
          1,
          1,
          1,
          1,
          1,
          1,
          1,
          1,
          1,
          1,
          1,
          1,
          1,
          1,
          1,
          1,
          1,
          1,
          1,
          1,
          1,
          1,
          1,
          1,
          1,
          1,
          1,
          1,
          1,
          1,
          1,
          1,
          1,
          1,
          1,
          1,
          1,
          1,
          1,
          1,
          1,
          1,
          1,
          1,
          1,
          1,
          1,
          1,
          1,
          1,
          1,
          1,
          1,
          1,
          1,
          1,
          1,
          1,
          1,
          1,
          1,
          1,
          1,
          1,
          1,
          1,
          1,
          1,
          1,
          1,
          1,
          1,
          1,
          1,
          1,
          1,
          1,
          1,
          1,
          1,
          1,
          1,
          1,
          1,
          1,
          1,
          1,
          1,
          1,
          1,
          1,
          1,
          1,
          1,
          1,
          1,
          1,
          1,
          1,
          1,
          1,
          1,
          1,
          1,
          1,
          1,
          1,
          1,
          1,
          1,
          1,
          1,
          1,
          1,
          1,
          1,
          1,
          1,
          1,
          1,
          1,
          1,
          1,
          1,
          1,
          1,
          1,
          1,
          1,
          1,
          1,
          1,
          1,
          1,
          1,
          1,
          1,
          1,
          1,
          1,
          1,
          1,
          1,
          1,
          1,
          1,
          1,
          1,
          1,
          1,
          1,
          1,
          1,
          1,
          1,
          1,
          1,
          1,
          1
         ],
         "x0": " ",
         "xaxis": "x",
         "y": [
          33.6,
          23.3,
          43.1,
          31,
          30.5,
          0,
          38,
          30.1,
          25.8,
          30,
          45.8,
          29.6,
          34.6,
          39.8,
          29,
          36.6,
          31.1,
          39.4,
          31.6,
          32.9,
          38.2,
          37.1,
          45.4,
          42,
          39.1,
          33.7,
          37.7,
          32.9,
          32.8,
          32.5,
          32.9,
          43.4,
          43.2,
          48.8,
          37.1,
          23.8,
          49.7,
          39,
          37.4,
          33.3,
          34,
          30.5,
          31.2,
          34,
          53.2,
          33.3,
          55,
          34.5,
          27.9,
          29.7,
          33.3,
          34.5,
          32.4,
          34.3,
          47.9,
          50,
          40.9,
          31.6,
          29.9,
          30.8,
          35.4,
          32.7,
          67.1,
          39.1,
          35.9,
          30.1,
          32,
          27.9,
          31.6,
          30.4,
          52.3,
          39.4,
          22.9,
          34.8,
          30.9,
          37.5,
          37.7,
          35.5,
          42.6,
          34.2,
          41.8,
          35.8,
          29,
          37.8,
          34.6,
          31.6,
          37.2,
          44,
          46.2,
          43.6,
          35.9,
          44.1,
          30.8,
          25.6,
          27.1,
          30,
          27.6,
          33.6,
          33.3,
          30,
          32,
          36.3,
          27.5,
          45.6,
          26.5,
          37.9,
          30.4,
          27,
          45.6,
          36.6,
          43.3,
          40.5,
          28,
          36.6,
          32.3,
          31.6,
          52.9,
          25.5,
          30.5,
          32.9,
          26.6,
          35.9,
          30.5,
          23.5,
          31.6,
          27.4,
          26.8,
          35.1,
          45.5,
          43.3,
          31.2,
          34.2,
          39.9,
          41,
          30.4,
          33.3,
          39.9,
          36.5,
          31.2,
          38.5,
          27.6,
          32.8,
          38.4,
          39.2,
          48.3,
          32.3,
          43.3,
          32,
          45.7,
          32.9,
          34.3,
          34.9,
          32,
          35,
          32.9,
          28.9,
          25.9,
          42.4,
          34.6,
          35.7,
          38.5,
          26.4,
          42.9,
          37,
          34.1,
          35,
          42.4,
          34.3,
          30.5,
          29.7,
          59.4,
          33.6,
          28.9,
          33.6,
          37.6,
          30,
          33.7,
          35.5,
          44.2,
          42.3,
          28.9,
          25.1,
          39,
          36.5,
          29.7,
          31.6,
          30.3,
          34.2,
          32.9,
          36.4,
          39.4,
          32.4,
          34.9,
          34.5,
          43.6,
          33.8,
          41.3,
          34.3,
          42.9,
          34.7,
          42.1,
          28.7,
          34.9,
          33.3,
          46.8,
          34.4,
          32,
          36.8,
          35.2,
          28.4,
          40,
          32.9,
          38.2,
          36.1,
          28.2,
          32.4,
          27.4,
          31.2,
          40.9,
          29.5,
          23.4,
          37.8,
          28.3,
          38.7,
          34.2,
          42.9,
          37.6,
          37.9,
          33.7,
          32.5,
          27.5,
          30.9,
          24.8,
          36,
          49.6,
          32.3,
          46.1,
          42.3,
          38.5,
          30.4,
          29.9,
          27.6,
          35,
          0,
          32.8,
          38,
          41.2,
          33.9,
          33.8,
          35.6,
          29.3,
          28.4,
          28.4,
          44.5,
          39.5,
          42.3,
          32.7,
          49.3,
          36.4,
          24.3,
          31.2,
          43.3,
          32.4,
          36.5,
          36.3,
          35.5,
          44,
          30.1
         ],
         "y0": " ",
         "yaxis": "y"
        },
        {
         "alignmentgroup": "True",
         "box": {
          "visible": true
         },
         "hovertemplate": "Outcome=%{x}<br>Indeks Massa Tubuh=%{y}<extra></extra>",
         "legendgroup": "0",
         "marker": {
          "color": "#EF553B"
         },
         "name": "0",
         "offsetgroup": "0",
         "orientation": "v",
         "points": "all",
         "scalegroup": "True",
         "showlegend": true,
         "type": "violin",
         "x": [
          0,
          0,
          0,
          0,
          0,
          0,
          0,
          0,
          0,
          0,
          0,
          0,
          0,
          0,
          0,
          0,
          0,
          0,
          0,
          0,
          0,
          0,
          0,
          0,
          0,
          0,
          0,
          0,
          0,
          0,
          0,
          0,
          0,
          0,
          0,
          0,
          0,
          0,
          0,
          0,
          0,
          0,
          0,
          0,
          0,
          0,
          0,
          0,
          0,
          0,
          0,
          0,
          0,
          0,
          0,
          0,
          0,
          0,
          0,
          0,
          0,
          0,
          0,
          0,
          0,
          0,
          0,
          0,
          0,
          0,
          0,
          0,
          0,
          0,
          0,
          0,
          0,
          0,
          0,
          0,
          0,
          0,
          0,
          0,
          0,
          0,
          0,
          0,
          0,
          0,
          0,
          0,
          0,
          0,
          0,
          0,
          0,
          0,
          0,
          0,
          0,
          0,
          0,
          0,
          0,
          0,
          0,
          0,
          0,
          0,
          0,
          0,
          0,
          0,
          0,
          0,
          0,
          0,
          0,
          0,
          0,
          0,
          0,
          0,
          0,
          0,
          0,
          0,
          0,
          0,
          0,
          0,
          0,
          0,
          0,
          0,
          0,
          0,
          0,
          0,
          0,
          0,
          0,
          0,
          0,
          0,
          0,
          0,
          0,
          0,
          0,
          0,
          0,
          0,
          0,
          0,
          0,
          0,
          0,
          0,
          0,
          0,
          0,
          0,
          0,
          0,
          0,
          0,
          0,
          0,
          0,
          0,
          0,
          0,
          0,
          0,
          0,
          0,
          0,
          0,
          0,
          0,
          0,
          0,
          0,
          0,
          0,
          0,
          0,
          0,
          0,
          0,
          0,
          0,
          0,
          0,
          0,
          0,
          0,
          0,
          0,
          0,
          0,
          0,
          0,
          0,
          0,
          0,
          0,
          0,
          0,
          0,
          0,
          0,
          0,
          0,
          0,
          0,
          0,
          0,
          0,
          0,
          0,
          0,
          0,
          0,
          0,
          0,
          0,
          0,
          0,
          0,
          0,
          0,
          0,
          0,
          0,
          0,
          0,
          0,
          0,
          0,
          0,
          0,
          0,
          0,
          0,
          0,
          0,
          0,
          0,
          0,
          0,
          0,
          0,
          0,
          0,
          0,
          0,
          0,
          0,
          0,
          0,
          0,
          0,
          0,
          0,
          0,
          0,
          0,
          0,
          0,
          0,
          0,
          0,
          0,
          0,
          0,
          0,
          0,
          0,
          0,
          0,
          0,
          0,
          0,
          0,
          0,
          0,
          0,
          0,
          0,
          0,
          0,
          0,
          0,
          0,
          0,
          0,
          0,
          0,
          0,
          0,
          0,
          0,
          0,
          0,
          0,
          0,
          0,
          0,
          0,
          0,
          0,
          0,
          0,
          0,
          0,
          0,
          0,
          0,
          0,
          0,
          0,
          0,
          0,
          0,
          0,
          0,
          0,
          0,
          0,
          0,
          0,
          0,
          0,
          0,
          0,
          0,
          0,
          0,
          0,
          0,
          0,
          0,
          0,
          0,
          0,
          0,
          0,
          0,
          0,
          0,
          0,
          0,
          0,
          0,
          0,
          0,
          0,
          0,
          0,
          0,
          0,
          0,
          0,
          0,
          0,
          0,
          0,
          0,
          0,
          0,
          0,
          0,
          0,
          0,
          0,
          0,
          0,
          0,
          0,
          0,
          0,
          0,
          0,
          0,
          0,
          0,
          0,
          0,
          0,
          0,
          0,
          0,
          0,
          0,
          0,
          0,
          0,
          0,
          0,
          0,
          0,
          0,
          0,
          0,
          0,
          0,
          0,
          0,
          0,
          0,
          0,
          0,
          0,
          0,
          0,
          0,
          0,
          0,
          0,
          0,
          0,
          0,
          0,
          0,
          0,
          0,
          0,
          0,
          0,
          0,
          0,
          0,
          0,
          0,
          0,
          0,
          0,
          0,
          0,
          0,
          0,
          0,
          0,
          0,
          0,
          0,
          0,
          0,
          0,
          0,
          0,
          0,
          0,
          0,
          0,
          0,
          0,
          0,
          0,
          0,
          0,
          0,
          0,
          0,
          0,
          0,
          0,
          0,
          0,
          0,
          0,
          0,
          0,
          0,
          0,
          0,
          0,
          0,
          0,
          0,
          0,
          0,
          0,
          0,
          0,
          0,
          0,
          0,
          0,
          0,
          0,
          0,
          0,
          0,
          0,
          0,
          0
         ],
         "x0": " ",
         "xaxis": "x",
         "y": [
          26.6,
          28.1,
          25.6,
          35.3,
          37.6,
          27.1,
          43.3,
          39.3,
          35.4,
          23.2,
          22.2,
          34.1,
          36,
          24.8,
          19.9,
          27.6,
          24,
          33.2,
          34,
          40.2,
          22.7,
          27.4,
          29.7,
          28,
          0,
          19.4,
          24.2,
          24.4,
          34.7,
          23,
          46.8,
          40.5,
          41.5,
          0,
          25,
          25.4,
          29,
          42.7,
          19.6,
          28.9,
          28.6,
          35.1,
          32,
          24.7,
          32.6,
          37.7,
          25,
          22.4,
          0,
          29.3,
          24.6,
          32.4,
          36.6,
          38.5,
          26.5,
          19.1,
          32,
          46.7,
          24.7,
          33.9,
          31.6,
          20.4,
          28.7,
          26.1,
          22.5,
          26.6,
          39.6,
          28.7,
          22.4,
          29.5,
          34.3,
          31.2,
          34,
          33.7,
          28.2,
          23.2,
          34.2,
          33.6,
          26.8,
          42.9,
          33.3,
          38.3,
          21.1,
          33.8,
          30.8,
          28.7,
          31.2,
          36.9,
          21.1,
          39.5,
          32.5,
          32.8,
          0,
          32.8,
          30.5,
          33.7,
          27.3,
          37.4,
          21.9,
          40.6,
          24.6,
          25.2,
          29,
          29.7,
          37.2,
          44.2,
          29.7,
          32.5,
          29.6,
          31.9,
          28.4,
          28.9,
          43.5,
          29.7,
          31.2,
          45,
          23.2,
          34.9,
          27.7,
          26.8,
          27.6,
          22.6,
          33.1,
          24.4,
          24.3,
          31,
          40.1,
          27.3,
          20.4,
          37.7,
          23.9,
          33.2,
          27.7,
          42.8,
          34.2,
          30,
          25.2,
          28.8,
          23.6,
          34.6,
          35.7,
          36.7,
          45.2,
          25.4,
          35,
          29.7,
          18.4,
          29.2,
          33.1,
          38.2,
          31.2,
          52.3,
          35.4,
          30.1,
          31.2,
          28,
          24.4,
          35.8,
          30.1,
          28.7,
          25.9,
          30.9,
          32.1,
          32.4,
          33.6,
          40,
          25.1,
          25.2,
          23,
          33.2,
          34.2,
          40.5,
          27.8,
          24.9,
          25.3,
          35.9,
          32.4,
          26,
          38.7,
          20.8,
          36.1,
          36.9,
          21.9,
          35.5,
          30.7,
          23.6,
          35.8,
          21,
          39.7,
          24.8,
          26.2,
          39.4,
          29.5,
          34.1,
          19.3,
          38.1,
          27.5,
          35.7,
          25.6,
          35.1,
          30.8,
          23.1,
          32.7,
          23.6,
          23.9,
          47.9,
          33.8,
          25.9,
          25.9,
          32,
          34.7,
          36.8,
          38.5,
          28.7,
          23.5,
          21.8,
          42.2,
          31.2,
          34.4,
          27.2,
          42.7,
          35.3,
          29.8,
          39.2,
          34.9,
          34,
          21,
          27.5,
          0,
          35.8,
          34.9,
          36.2,
          25.2,
          37.2,
          43.4,
          30.8,
          20,
          25.4,
          25.1,
          24.3,
          22.3,
          31.6,
          32,
          23.7,
          22.1,
          27.7,
          24.7,
          21.1,
          24.2,
          31.6,
          42.1,
          21.9,
          35.7,
          34.4,
          42.4,
          26.2,
          27.2,
          18.2,
          45.3,
          26,
          40.6,
          30.8,
          0,
          40.6,
          22.2,
          30.4,
          30,
          25.6,
          24.5,
          37.4,
          29.9,
          18.2,
          36.8,
          32.2,
          33.2,
          25.3,
          36.5,
          30.5,
          21.2,
          39.9,
          19.6,
          37.8,
          26.7,
          30.2,
          25.9,
          20.8,
          21.8,
          35.3,
          27.6,
          24,
          21.8,
          27.8,
          36.8,
          46.1,
          41.3,
          33.2,
          38.8,
          29.9,
          28.9,
          27.3,
          23.8,
          25.9,
          28,
          35.2,
          27.8,
          38.2,
          40.7,
          46.5,
          25.6,
          26.1,
          36.8,
          33.5,
          32.8,
          0,
          26.6,
          26,
          30.1,
          29.3,
          25.2,
          37.2,
          33.3,
          37.3,
          33.3,
          28.6,
          30.4,
          25,
          22.1,
          24.2,
          27.3,
          25.6,
          37.6,
          32.8,
          19.6,
          25,
          33.2,
          0,
          31.6,
          21.8,
          18.2,
          26.3,
          30.8,
          24.6,
          29.8,
          45.3,
          41.3,
          29.8,
          33.3,
          29.6,
          21.7,
          36.3,
          39.5,
          32,
          33.1,
          32.8,
          28.5,
          27.4,
          31.9,
          27.8,
          29.9,
          36.9,
          25.5,
          38.1,
          27.8,
          46.2,
          30.1,
          37.6,
          26.9,
          32.4,
          26.1,
          38.6,
          32,
          31.3,
          32.5,
          22.6,
          29.5,
          34.7,
          30.1,
          35.5,
          24,
          27,
          25,
          26.5,
          38.7,
          22.5,
          24.3,
          21.1,
          39.4,
          28.5,
          33.6,
          45.3,
          27.8,
          23.1,
          27.1,
          23.7,
          27.8,
          35.8,
          19.5,
          41.5,
          24,
          30.9,
          32.5,
          25.8,
          28.7,
          20.1,
          38.4,
          24.2,
          40.8,
          43.5,
          30.8,
          37.7,
          24.7,
          32.4,
          34.6,
          24.7,
          34.5,
          26.2,
          27.5,
          25.9,
          28.8,
          31.6,
          19.5,
          29.3,
          34.3,
          28,
          27.6,
          39.4,
          26.4,
          25.2,
          33.8,
          34.1,
          26.8,
          34.2,
          21.8,
          38.9,
          39,
          27.7,
          34.8,
          34,
          30.9,
          33.6,
          25.4,
          35.5,
          57.3,
          35.6,
          35.3,
          24.2,
          24.2,
          44.6,
          0,
          33.2,
          23.1,
          28.3,
          24.1,
          24.6,
          39.1,
          23.5,
          25,
          34.5,
          44.5,
          35.9,
          38.5,
          28.4,
          39.8,
          34.4,
          31.2,
          29.6,
          26.4,
          29.5,
          23.1,
          35.5,
          29.3,
          38.1,
          39.1,
          32.8,
          39.4,
          36.1,
          32.4,
          22.9,
          30.1,
          29,
          23.3,
          35.4,
          27.4,
          32,
          36.6,
          30.8,
          28.5,
          40.6,
          30,
          46.3,
          39,
          26,
          32,
          37.5,
          28.4,
          22.5,
          32.9,
          36.8,
          26.2,
          30.4
         ],
         "y0": " ",
         "yaxis": "y"
        }
       ],
       "layout": {
        "legend": {
         "title": {
          "text": "Outcome"
         },
         "tracegroupgap": 0
        },
        "template": {
         "data": {
          "bar": [
           {
            "error_x": {
             "color": "#2a3f5f"
            },
            "error_y": {
             "color": "#2a3f5f"
            },
            "marker": {
             "line": {
              "color": "#E5ECF6",
              "width": 0.5
             },
             "pattern": {
              "fillmode": "overlay",
              "size": 10,
              "solidity": 0.2
             }
            },
            "type": "bar"
           }
          ],
          "barpolar": [
           {
            "marker": {
             "line": {
              "color": "#E5ECF6",
              "width": 0.5
             },
             "pattern": {
              "fillmode": "overlay",
              "size": 10,
              "solidity": 0.2
             }
            },
            "type": "barpolar"
           }
          ],
          "carpet": [
           {
            "aaxis": {
             "endlinecolor": "#2a3f5f",
             "gridcolor": "white",
             "linecolor": "white",
             "minorgridcolor": "white",
             "startlinecolor": "#2a3f5f"
            },
            "baxis": {
             "endlinecolor": "#2a3f5f",
             "gridcolor": "white",
             "linecolor": "white",
             "minorgridcolor": "white",
             "startlinecolor": "#2a3f5f"
            },
            "type": "carpet"
           }
          ],
          "choropleth": [
           {
            "colorbar": {
             "outlinewidth": 0,
             "ticks": ""
            },
            "type": "choropleth"
           }
          ],
          "contour": [
           {
            "colorbar": {
             "outlinewidth": 0,
             "ticks": ""
            },
            "colorscale": [
             [
              0,
              "#0d0887"
             ],
             [
              0.1111111111111111,
              "#46039f"
             ],
             [
              0.2222222222222222,
              "#7201a8"
             ],
             [
              0.3333333333333333,
              "#9c179e"
             ],
             [
              0.4444444444444444,
              "#bd3786"
             ],
             [
              0.5555555555555556,
              "#d8576b"
             ],
             [
              0.6666666666666666,
              "#ed7953"
             ],
             [
              0.7777777777777778,
              "#fb9f3a"
             ],
             [
              0.8888888888888888,
              "#fdca26"
             ],
             [
              1,
              "#f0f921"
             ]
            ],
            "type": "contour"
           }
          ],
          "contourcarpet": [
           {
            "colorbar": {
             "outlinewidth": 0,
             "ticks": ""
            },
            "type": "contourcarpet"
           }
          ],
          "heatmap": [
           {
            "colorbar": {
             "outlinewidth": 0,
             "ticks": ""
            },
            "colorscale": [
             [
              0,
              "#0d0887"
             ],
             [
              0.1111111111111111,
              "#46039f"
             ],
             [
              0.2222222222222222,
              "#7201a8"
             ],
             [
              0.3333333333333333,
              "#9c179e"
             ],
             [
              0.4444444444444444,
              "#bd3786"
             ],
             [
              0.5555555555555556,
              "#d8576b"
             ],
             [
              0.6666666666666666,
              "#ed7953"
             ],
             [
              0.7777777777777778,
              "#fb9f3a"
             ],
             [
              0.8888888888888888,
              "#fdca26"
             ],
             [
              1,
              "#f0f921"
             ]
            ],
            "type": "heatmap"
           }
          ],
          "heatmapgl": [
           {
            "colorbar": {
             "outlinewidth": 0,
             "ticks": ""
            },
            "colorscale": [
             [
              0,
              "#0d0887"
             ],
             [
              0.1111111111111111,
              "#46039f"
             ],
             [
              0.2222222222222222,
              "#7201a8"
             ],
             [
              0.3333333333333333,
              "#9c179e"
             ],
             [
              0.4444444444444444,
              "#bd3786"
             ],
             [
              0.5555555555555556,
              "#d8576b"
             ],
             [
              0.6666666666666666,
              "#ed7953"
             ],
             [
              0.7777777777777778,
              "#fb9f3a"
             ],
             [
              0.8888888888888888,
              "#fdca26"
             ],
             [
              1,
              "#f0f921"
             ]
            ],
            "type": "heatmapgl"
           }
          ],
          "histogram": [
           {
            "marker": {
             "pattern": {
              "fillmode": "overlay",
              "size": 10,
              "solidity": 0.2
             }
            },
            "type": "histogram"
           }
          ],
          "histogram2d": [
           {
            "colorbar": {
             "outlinewidth": 0,
             "ticks": ""
            },
            "colorscale": [
             [
              0,
              "#0d0887"
             ],
             [
              0.1111111111111111,
              "#46039f"
             ],
             [
              0.2222222222222222,
              "#7201a8"
             ],
             [
              0.3333333333333333,
              "#9c179e"
             ],
             [
              0.4444444444444444,
              "#bd3786"
             ],
             [
              0.5555555555555556,
              "#d8576b"
             ],
             [
              0.6666666666666666,
              "#ed7953"
             ],
             [
              0.7777777777777778,
              "#fb9f3a"
             ],
             [
              0.8888888888888888,
              "#fdca26"
             ],
             [
              1,
              "#f0f921"
             ]
            ],
            "type": "histogram2d"
           }
          ],
          "histogram2dcontour": [
           {
            "colorbar": {
             "outlinewidth": 0,
             "ticks": ""
            },
            "colorscale": [
             [
              0,
              "#0d0887"
             ],
             [
              0.1111111111111111,
              "#46039f"
             ],
             [
              0.2222222222222222,
              "#7201a8"
             ],
             [
              0.3333333333333333,
              "#9c179e"
             ],
             [
              0.4444444444444444,
              "#bd3786"
             ],
             [
              0.5555555555555556,
              "#d8576b"
             ],
             [
              0.6666666666666666,
              "#ed7953"
             ],
             [
              0.7777777777777778,
              "#fb9f3a"
             ],
             [
              0.8888888888888888,
              "#fdca26"
             ],
             [
              1,
              "#f0f921"
             ]
            ],
            "type": "histogram2dcontour"
           }
          ],
          "mesh3d": [
           {
            "colorbar": {
             "outlinewidth": 0,
             "ticks": ""
            },
            "type": "mesh3d"
           }
          ],
          "parcoords": [
           {
            "line": {
             "colorbar": {
              "outlinewidth": 0,
              "ticks": ""
             }
            },
            "type": "parcoords"
           }
          ],
          "pie": [
           {
            "automargin": true,
            "type": "pie"
           }
          ],
          "scatter": [
           {
            "fillpattern": {
             "fillmode": "overlay",
             "size": 10,
             "solidity": 0.2
            },
            "type": "scatter"
           }
          ],
          "scatter3d": [
           {
            "line": {
             "colorbar": {
              "outlinewidth": 0,
              "ticks": ""
             }
            },
            "marker": {
             "colorbar": {
              "outlinewidth": 0,
              "ticks": ""
             }
            },
            "type": "scatter3d"
           }
          ],
          "scattercarpet": [
           {
            "marker": {
             "colorbar": {
              "outlinewidth": 0,
              "ticks": ""
             }
            },
            "type": "scattercarpet"
           }
          ],
          "scattergeo": [
           {
            "marker": {
             "colorbar": {
              "outlinewidth": 0,
              "ticks": ""
             }
            },
            "type": "scattergeo"
           }
          ],
          "scattergl": [
           {
            "marker": {
             "colorbar": {
              "outlinewidth": 0,
              "ticks": ""
             }
            },
            "type": "scattergl"
           }
          ],
          "scattermapbox": [
           {
            "marker": {
             "colorbar": {
              "outlinewidth": 0,
              "ticks": ""
             }
            },
            "type": "scattermapbox"
           }
          ],
          "scatterpolar": [
           {
            "marker": {
             "colorbar": {
              "outlinewidth": 0,
              "ticks": ""
             }
            },
            "type": "scatterpolar"
           }
          ],
          "scatterpolargl": [
           {
            "marker": {
             "colorbar": {
              "outlinewidth": 0,
              "ticks": ""
             }
            },
            "type": "scatterpolargl"
           }
          ],
          "scatterternary": [
           {
            "marker": {
             "colorbar": {
              "outlinewidth": 0,
              "ticks": ""
             }
            },
            "type": "scatterternary"
           }
          ],
          "surface": [
           {
            "colorbar": {
             "outlinewidth": 0,
             "ticks": ""
            },
            "colorscale": [
             [
              0,
              "#0d0887"
             ],
             [
              0.1111111111111111,
              "#46039f"
             ],
             [
              0.2222222222222222,
              "#7201a8"
             ],
             [
              0.3333333333333333,
              "#9c179e"
             ],
             [
              0.4444444444444444,
              "#bd3786"
             ],
             [
              0.5555555555555556,
              "#d8576b"
             ],
             [
              0.6666666666666666,
              "#ed7953"
             ],
             [
              0.7777777777777778,
              "#fb9f3a"
             ],
             [
              0.8888888888888888,
              "#fdca26"
             ],
             [
              1,
              "#f0f921"
             ]
            ],
            "type": "surface"
           }
          ],
          "table": [
           {
            "cells": {
             "fill": {
              "color": "#EBF0F8"
             },
             "line": {
              "color": "white"
             }
            },
            "header": {
             "fill": {
              "color": "#C8D4E3"
             },
             "line": {
              "color": "white"
             }
            },
            "type": "table"
           }
          ]
         },
         "layout": {
          "annotationdefaults": {
           "arrowcolor": "#2a3f5f",
           "arrowhead": 0,
           "arrowwidth": 1
          },
          "autotypenumbers": "strict",
          "coloraxis": {
           "colorbar": {
            "outlinewidth": 0,
            "ticks": ""
           }
          },
          "colorscale": {
           "diverging": [
            [
             0,
             "#8e0152"
            ],
            [
             0.1,
             "#c51b7d"
            ],
            [
             0.2,
             "#de77ae"
            ],
            [
             0.3,
             "#f1b6da"
            ],
            [
             0.4,
             "#fde0ef"
            ],
            [
             0.5,
             "#f7f7f7"
            ],
            [
             0.6,
             "#e6f5d0"
            ],
            [
             0.7,
             "#b8e186"
            ],
            [
             0.8,
             "#7fbc41"
            ],
            [
             0.9,
             "#4d9221"
            ],
            [
             1,
             "#276419"
            ]
           ],
           "sequential": [
            [
             0,
             "#0d0887"
            ],
            [
             0.1111111111111111,
             "#46039f"
            ],
            [
             0.2222222222222222,
             "#7201a8"
            ],
            [
             0.3333333333333333,
             "#9c179e"
            ],
            [
             0.4444444444444444,
             "#bd3786"
            ],
            [
             0.5555555555555556,
             "#d8576b"
            ],
            [
             0.6666666666666666,
             "#ed7953"
            ],
            [
             0.7777777777777778,
             "#fb9f3a"
            ],
            [
             0.8888888888888888,
             "#fdca26"
            ],
            [
             1,
             "#f0f921"
            ]
           ],
           "sequentialminus": [
            [
             0,
             "#0d0887"
            ],
            [
             0.1111111111111111,
             "#46039f"
            ],
            [
             0.2222222222222222,
             "#7201a8"
            ],
            [
             0.3333333333333333,
             "#9c179e"
            ],
            [
             0.4444444444444444,
             "#bd3786"
            ],
            [
             0.5555555555555556,
             "#d8576b"
            ],
            [
             0.6666666666666666,
             "#ed7953"
            ],
            [
             0.7777777777777778,
             "#fb9f3a"
            ],
            [
             0.8888888888888888,
             "#fdca26"
            ],
            [
             1,
             "#f0f921"
            ]
           ]
          },
          "colorway": [
           "#636efa",
           "#EF553B",
           "#00cc96",
           "#ab63fa",
           "#FFA15A",
           "#19d3f3",
           "#FF6692",
           "#B6E880",
           "#FF97FF",
           "#FECB52"
          ],
          "font": {
           "color": "#2a3f5f"
          },
          "geo": {
           "bgcolor": "white",
           "lakecolor": "white",
           "landcolor": "#E5ECF6",
           "showlakes": true,
           "showland": true,
           "subunitcolor": "white"
          },
          "hoverlabel": {
           "align": "left"
          },
          "hovermode": "closest",
          "mapbox": {
           "style": "light"
          },
          "paper_bgcolor": "white",
          "plot_bgcolor": "#E5ECF6",
          "polar": {
           "angularaxis": {
            "gridcolor": "white",
            "linecolor": "white",
            "ticks": ""
           },
           "bgcolor": "#E5ECF6",
           "radialaxis": {
            "gridcolor": "white",
            "linecolor": "white",
            "ticks": ""
           }
          },
          "scene": {
           "xaxis": {
            "backgroundcolor": "#E5ECF6",
            "gridcolor": "white",
            "gridwidth": 2,
            "linecolor": "white",
            "showbackground": true,
            "ticks": "",
            "zerolinecolor": "white"
           },
           "yaxis": {
            "backgroundcolor": "#E5ECF6",
            "gridcolor": "white",
            "gridwidth": 2,
            "linecolor": "white",
            "showbackground": true,
            "ticks": "",
            "zerolinecolor": "white"
           },
           "zaxis": {
            "backgroundcolor": "#E5ECF6",
            "gridcolor": "white",
            "gridwidth": 2,
            "linecolor": "white",
            "showbackground": true,
            "ticks": "",
            "zerolinecolor": "white"
           }
          },
          "shapedefaults": {
           "line": {
            "color": "#2a3f5f"
           }
          },
          "ternary": {
           "aaxis": {
            "gridcolor": "white",
            "linecolor": "white",
            "ticks": ""
           },
           "baxis": {
            "gridcolor": "white",
            "linecolor": "white",
            "ticks": ""
           },
           "bgcolor": "#E5ECF6",
           "caxis": {
            "gridcolor": "white",
            "linecolor": "white",
            "ticks": ""
           }
          },
          "title": {
           "x": 0.05
          },
          "xaxis": {
           "automargin": true,
           "gridcolor": "white",
           "linecolor": "white",
           "ticks": "",
           "title": {
            "standoff": 15
           },
           "zerolinecolor": "white",
           "zerolinewidth": 2
          },
          "yaxis": {
           "automargin": true,
           "gridcolor": "white",
           "linecolor": "white",
           "ticks": "",
           "title": {
            "standoff": 15
           },
           "zerolinecolor": "white",
           "zerolinewidth": 2
          }
         }
        },
        "title": {
         "text": "Distribusi BMI berdasarkan Outcome"
        },
        "violinmode": "overlay",
        "xaxis": {
         "anchor": "y",
         "categoryarray": [
          1,
          0
         ],
         "categoryorder": "array",
         "domain": [
          0,
          1
         ],
         "title": {
          "text": "Outcome"
         }
        },
        "yaxis": {
         "anchor": "x",
         "domain": [
          0,
          1
         ],
         "title": {
          "text": "Indeks Massa Tubuh"
         }
        }
       }
      }
     },
     "metadata": {},
     "output_type": "display_data"
    }
   ],
   "source": [
    "import plotly.express as px\n",
    "\n",
    "# Membuat violin chart untuk melihat distribusi BMI berdasarkan Outcome\n",
    "fig = px.violin(diabetes_data, y='BMI', x='Outcome', \n",
    "                title='Distribusi BMI berdasarkan Outcome',\n",
    "                labels={'BMI': 'Indeks Massa Tubuh', 'Outcome': 'Outcome'},\n",
    "                color='Outcome', \n",
    "                box=True, points=\"all\")\n",
    "\n",
    "fig.show()\n"
   ]
  },
  {
   "cell_type": "code",
   "execution_count": 10,
   "metadata": {},
   "outputs": [
    {
     "data": {
      "application/vnd.plotly.v1+json": {
       "config": {
        "plotlyServerURL": "https://plot.ly"
       },
       "data": [
        {
         "alignmentgroup": "True",
         "bingroup": "x",
         "hovertemplate": "Outcome=1<br>Kadar Glukosa=%{x}<br>count=%{y}<extra></extra>",
         "legendgroup": "1",
         "marker": {
          "color": "#636efa",
          "opacity": 0.7,
          "pattern": {
           "shape": ""
          }
         },
         "name": "1",
         "nbinsx": 20,
         "offsetgroup": "1",
         "orientation": "v",
         "showlegend": true,
         "type": "histogram",
         "x": [
          148,
          183,
          137,
          78,
          197,
          125,
          168,
          189,
          166,
          100,
          118,
          107,
          115,
          196,
          119,
          143,
          125,
          147,
          158,
          102,
          90,
          111,
          171,
          180,
          103,
          176,
          187,
          133,
          114,
          109,
          100,
          126,
          131,
          137,
          136,
          134,
          122,
          163,
          95,
          171,
          155,
          160,
          146,
          124,
          162,
          113,
          88,
          117,
          105,
          173,
          122,
          170,
          108,
          156,
          188,
          152,
          163,
          131,
          104,
          102,
          134,
          179,
          129,
          130,
          194,
          181,
          128,
          109,
          139,
          159,
          135,
          158,
          107,
          109,
          148,
          196,
          162,
          184,
          140,
          112,
          151,
          109,
          85,
          112,
          177,
          158,
          162,
          142,
          134,
          171,
          181,
          179,
          164,
          139,
          119,
          184,
          92,
          113,
          155,
          141,
          123,
          138,
          146,
          101,
          106,
          146,
          161,
          108,
          119,
          107,
          128,
          128,
          146,
          100,
          167,
          144,
          115,
          161,
          128,
          124,
          155,
          109,
          182,
          194,
          112,
          124,
          152,
          122,
          102,
          180,
          115,
          152,
          178,
          0,
          165,
          125,
          129,
          196,
          189,
          146,
          124,
          133,
          173,
          140,
          156,
          116,
          105,
          144,
          166,
          158,
          131,
          193,
          95,
          136,
          168,
          115,
          197,
          172,
          138,
          173,
          144,
          129,
          151,
          184,
          181,
          95,
          141,
          189,
          108,
          117,
          180,
          104,
          134,
          175,
          148,
          120,
          105,
          158,
          145,
          135,
          125,
          195,
          0,
          180,
          84,
          163,
          145,
          130,
          132,
          129,
          100,
          128,
          90,
          186,
          187,
          125,
          198,
          121,
          118,
          197,
          151,
          124,
          143,
          176,
          111,
          132,
          188,
          173,
          150,
          183,
          181,
          174,
          168,
          138,
          112,
          119,
          114,
          104,
          97,
          147,
          167,
          179,
          136,
          155,
          80,
          199,
          167,
          145,
          115,
          145,
          111,
          195,
          156,
          121,
          162,
          125,
          144,
          158,
          129,
          142,
          169,
          125,
          168,
          115,
          164,
          93,
          129,
          187,
          173,
          97,
          149,
          130,
          120,
          174,
          102,
          120,
          140,
          147,
          187,
          162,
          136,
          181,
          154,
          128,
          123,
          190,
          170,
          126
         ],
         "xaxis": "x",
         "yaxis": "y"
        },
        {
         "alignmentgroup": "True",
         "bingroup": "x",
         "hovertemplate": "Outcome=0<br>Kadar Glukosa=%{x}<br>count=%{y}<extra></extra>",
         "legendgroup": "0",
         "marker": {
          "color": "#EF553B",
          "opacity": 0.7,
          "pattern": {
           "shape": ""
          }
         },
         "name": "0",
         "nbinsx": 20,
         "offsetgroup": "0",
         "orientation": "v",
         "showlegend": true,
         "type": "histogram",
         "x": [
          85,
          89,
          116,
          115,
          110,
          139,
          103,
          126,
          99,
          97,
          145,
          117,
          109,
          88,
          92,
          122,
          103,
          138,
          180,
          133,
          106,
          159,
          146,
          71,
          105,
          103,
          101,
          88,
          150,
          73,
          100,
          146,
          105,
          84,
          44,
          141,
          99,
          109,
          95,
          146,
          139,
          129,
          79,
          0,
          62,
          95,
          112,
          113,
          74,
          83,
          101,
          110,
          106,
          100,
          107,
          80,
          123,
          81,
          142,
          144,
          92,
          71,
          93,
          151,
          125,
          81,
          85,
          126,
          96,
          144,
          83,
          89,
          76,
          78,
          97,
          99,
          111,
          107,
          132,
          120,
          118,
          84,
          96,
          125,
          100,
          93,
          129,
          105,
          128,
          106,
          108,
          154,
          102,
          57,
          106,
          147,
          90,
          136,
          114,
          153,
          99,
          109,
          88,
          151,
          102,
          114,
          100,
          148,
          120,
          110,
          111,
          87,
          79,
          75,
          85,
          143,
          87,
          119,
          0,
          73,
          141,
          111,
          123,
          85,
          105,
          113,
          138,
          108,
          99,
          103,
          111,
          96,
          81,
          147,
          179,
          125,
          119,
          142,
          100,
          87,
          101,
          197,
          117,
          79,
          122,
          74,
          104,
          91,
          91,
          146,
          122,
          165,
          124,
          111,
          106,
          129,
          90,
          86,
          111,
          114,
          193,
          191,
          95,
          142,
          96,
          128,
          102,
          108,
          122,
          71,
          106,
          100,
          104,
          114,
          108,
          129,
          133,
          136,
          155,
          96,
          108,
          78,
          161,
          151,
          126,
          112,
          77,
          150,
          120,
          137,
          80,
          106,
          113,
          112,
          99,
          115,
          129,
          112,
          157,
          179,
          105,
          118,
          87,
          106,
          95,
          165,
          117,
          130,
          95,
          0,
          122,
          95,
          126,
          139,
          116,
          99,
          92,
          137,
          61,
          90,
          90,
          88,
          158,
          103,
          147,
          99,
          101,
          81,
          118,
          84,
          105,
          122,
          98,
          87,
          93,
          107,
          105,
          109,
          90,
          125,
          119,
          100,
          100,
          131,
          116,
          127,
          96,
          82,
          137,
          72,
          123,
          101,
          102,
          112,
          143,
          143,
          97,
          83,
          119,
          94,
          102,
          115,
          94,
          135,
          99,
          89,
          80,
          139,
          90,
          140,
          147,
          97,
          107,
          83,
          117,
          100,
          95,
          120,
          82,
          91,
          119,
          100,
          135,
          86,
          134,
          120,
          71,
          74,
          88,
          115,
          124,
          74,
          97,
          154,
          144,
          137,
          119,
          136,
          114,
          137,
          114,
          126,
          132,
          123,
          85,
          84,
          139,
          173,
          99,
          194,
          83,
          89,
          99,
          80,
          166,
          110,
          81,
          154,
          117,
          84,
          94,
          96,
          75,
          130,
          84,
          120,
          139,
          91,
          91,
          99,
          125,
          76,
          129,
          68,
          124,
          114,
          125,
          87,
          97,
          116,
          117,
          111,
          122,
          107,
          86,
          91,
          77,
          105,
          57,
          127,
          84,
          88,
          131,
          164,
          189,
          116,
          84,
          114,
          88,
          84,
          124,
          97,
          110,
          103,
          85,
          87,
          99,
          91,
          95,
          99,
          92,
          154,
          78,
          130,
          111,
          98,
          143,
          119,
          108,
          133,
          109,
          121,
          100,
          93,
          103,
          73,
          112,
          82,
          123,
          67,
          89,
          109,
          108,
          96,
          124,
          124,
          92,
          152,
          111,
          106,
          105,
          106,
          117,
          68,
          112,
          92,
          183,
          94,
          108,
          90,
          125,
          132,
          128,
          94,
          102,
          111,
          128,
          92,
          104,
          94,
          100,
          102,
          128,
          90,
          103,
          157,
          107,
          91,
          117,
          123,
          120,
          106,
          101,
          120,
          127,
          162,
          112,
          98,
          154,
          165,
          99,
          68,
          123,
          91,
          93,
          101,
          56,
          95,
          136,
          129,
          130,
          107,
          140,
          107,
          121,
          90,
          99,
          127,
          118,
          122,
          129,
          110,
          80,
          127,
          158,
          126,
          134,
          102,
          94,
          108,
          83,
          114,
          117,
          111,
          112,
          116,
          141,
          175,
          92,
          106,
          105,
          95,
          126,
          65,
          99,
          102,
          109,
          153,
          100,
          81,
          121,
          108,
          137,
          106,
          88,
          89,
          101,
          122,
          121,
          93
         ],
         "xaxis": "x",
         "yaxis": "y"
        }
       ],
       "layout": {
        "barmode": "relative",
        "legend": {
         "title": {
          "text": "Outcome"
         },
         "tracegroupgap": 0
        },
        "template": {
         "data": {
          "bar": [
           {
            "error_x": {
             "color": "#2a3f5f"
            },
            "error_y": {
             "color": "#2a3f5f"
            },
            "marker": {
             "line": {
              "color": "#E5ECF6",
              "width": 0.5
             },
             "pattern": {
              "fillmode": "overlay",
              "size": 10,
              "solidity": 0.2
             }
            },
            "type": "bar"
           }
          ],
          "barpolar": [
           {
            "marker": {
             "line": {
              "color": "#E5ECF6",
              "width": 0.5
             },
             "pattern": {
              "fillmode": "overlay",
              "size": 10,
              "solidity": 0.2
             }
            },
            "type": "barpolar"
           }
          ],
          "carpet": [
           {
            "aaxis": {
             "endlinecolor": "#2a3f5f",
             "gridcolor": "white",
             "linecolor": "white",
             "minorgridcolor": "white",
             "startlinecolor": "#2a3f5f"
            },
            "baxis": {
             "endlinecolor": "#2a3f5f",
             "gridcolor": "white",
             "linecolor": "white",
             "minorgridcolor": "white",
             "startlinecolor": "#2a3f5f"
            },
            "type": "carpet"
           }
          ],
          "choropleth": [
           {
            "colorbar": {
             "outlinewidth": 0,
             "ticks": ""
            },
            "type": "choropleth"
           }
          ],
          "contour": [
           {
            "colorbar": {
             "outlinewidth": 0,
             "ticks": ""
            },
            "colorscale": [
             [
              0,
              "#0d0887"
             ],
             [
              0.1111111111111111,
              "#46039f"
             ],
             [
              0.2222222222222222,
              "#7201a8"
             ],
             [
              0.3333333333333333,
              "#9c179e"
             ],
             [
              0.4444444444444444,
              "#bd3786"
             ],
             [
              0.5555555555555556,
              "#d8576b"
             ],
             [
              0.6666666666666666,
              "#ed7953"
             ],
             [
              0.7777777777777778,
              "#fb9f3a"
             ],
             [
              0.8888888888888888,
              "#fdca26"
             ],
             [
              1,
              "#f0f921"
             ]
            ],
            "type": "contour"
           }
          ],
          "contourcarpet": [
           {
            "colorbar": {
             "outlinewidth": 0,
             "ticks": ""
            },
            "type": "contourcarpet"
           }
          ],
          "heatmap": [
           {
            "colorbar": {
             "outlinewidth": 0,
             "ticks": ""
            },
            "colorscale": [
             [
              0,
              "#0d0887"
             ],
             [
              0.1111111111111111,
              "#46039f"
             ],
             [
              0.2222222222222222,
              "#7201a8"
             ],
             [
              0.3333333333333333,
              "#9c179e"
             ],
             [
              0.4444444444444444,
              "#bd3786"
             ],
             [
              0.5555555555555556,
              "#d8576b"
             ],
             [
              0.6666666666666666,
              "#ed7953"
             ],
             [
              0.7777777777777778,
              "#fb9f3a"
             ],
             [
              0.8888888888888888,
              "#fdca26"
             ],
             [
              1,
              "#f0f921"
             ]
            ],
            "type": "heatmap"
           }
          ],
          "heatmapgl": [
           {
            "colorbar": {
             "outlinewidth": 0,
             "ticks": ""
            },
            "colorscale": [
             [
              0,
              "#0d0887"
             ],
             [
              0.1111111111111111,
              "#46039f"
             ],
             [
              0.2222222222222222,
              "#7201a8"
             ],
             [
              0.3333333333333333,
              "#9c179e"
             ],
             [
              0.4444444444444444,
              "#bd3786"
             ],
             [
              0.5555555555555556,
              "#d8576b"
             ],
             [
              0.6666666666666666,
              "#ed7953"
             ],
             [
              0.7777777777777778,
              "#fb9f3a"
             ],
             [
              0.8888888888888888,
              "#fdca26"
             ],
             [
              1,
              "#f0f921"
             ]
            ],
            "type": "heatmapgl"
           }
          ],
          "histogram": [
           {
            "marker": {
             "pattern": {
              "fillmode": "overlay",
              "size": 10,
              "solidity": 0.2
             }
            },
            "type": "histogram"
           }
          ],
          "histogram2d": [
           {
            "colorbar": {
             "outlinewidth": 0,
             "ticks": ""
            },
            "colorscale": [
             [
              0,
              "#0d0887"
             ],
             [
              0.1111111111111111,
              "#46039f"
             ],
             [
              0.2222222222222222,
              "#7201a8"
             ],
             [
              0.3333333333333333,
              "#9c179e"
             ],
             [
              0.4444444444444444,
              "#bd3786"
             ],
             [
              0.5555555555555556,
              "#d8576b"
             ],
             [
              0.6666666666666666,
              "#ed7953"
             ],
             [
              0.7777777777777778,
              "#fb9f3a"
             ],
             [
              0.8888888888888888,
              "#fdca26"
             ],
             [
              1,
              "#f0f921"
             ]
            ],
            "type": "histogram2d"
           }
          ],
          "histogram2dcontour": [
           {
            "colorbar": {
             "outlinewidth": 0,
             "ticks": ""
            },
            "colorscale": [
             [
              0,
              "#0d0887"
             ],
             [
              0.1111111111111111,
              "#46039f"
             ],
             [
              0.2222222222222222,
              "#7201a8"
             ],
             [
              0.3333333333333333,
              "#9c179e"
             ],
             [
              0.4444444444444444,
              "#bd3786"
             ],
             [
              0.5555555555555556,
              "#d8576b"
             ],
             [
              0.6666666666666666,
              "#ed7953"
             ],
             [
              0.7777777777777778,
              "#fb9f3a"
             ],
             [
              0.8888888888888888,
              "#fdca26"
             ],
             [
              1,
              "#f0f921"
             ]
            ],
            "type": "histogram2dcontour"
           }
          ],
          "mesh3d": [
           {
            "colorbar": {
             "outlinewidth": 0,
             "ticks": ""
            },
            "type": "mesh3d"
           }
          ],
          "parcoords": [
           {
            "line": {
             "colorbar": {
              "outlinewidth": 0,
              "ticks": ""
             }
            },
            "type": "parcoords"
           }
          ],
          "pie": [
           {
            "automargin": true,
            "type": "pie"
           }
          ],
          "scatter": [
           {
            "fillpattern": {
             "fillmode": "overlay",
             "size": 10,
             "solidity": 0.2
            },
            "type": "scatter"
           }
          ],
          "scatter3d": [
           {
            "line": {
             "colorbar": {
              "outlinewidth": 0,
              "ticks": ""
             }
            },
            "marker": {
             "colorbar": {
              "outlinewidth": 0,
              "ticks": ""
             }
            },
            "type": "scatter3d"
           }
          ],
          "scattercarpet": [
           {
            "marker": {
             "colorbar": {
              "outlinewidth": 0,
              "ticks": ""
             }
            },
            "type": "scattercarpet"
           }
          ],
          "scattergeo": [
           {
            "marker": {
             "colorbar": {
              "outlinewidth": 0,
              "ticks": ""
             }
            },
            "type": "scattergeo"
           }
          ],
          "scattergl": [
           {
            "marker": {
             "colorbar": {
              "outlinewidth": 0,
              "ticks": ""
             }
            },
            "type": "scattergl"
           }
          ],
          "scattermapbox": [
           {
            "marker": {
             "colorbar": {
              "outlinewidth": 0,
              "ticks": ""
             }
            },
            "type": "scattermapbox"
           }
          ],
          "scatterpolar": [
           {
            "marker": {
             "colorbar": {
              "outlinewidth": 0,
              "ticks": ""
             }
            },
            "type": "scatterpolar"
           }
          ],
          "scatterpolargl": [
           {
            "marker": {
             "colorbar": {
              "outlinewidth": 0,
              "ticks": ""
             }
            },
            "type": "scatterpolargl"
           }
          ],
          "scatterternary": [
           {
            "marker": {
             "colorbar": {
              "outlinewidth": 0,
              "ticks": ""
             }
            },
            "type": "scatterternary"
           }
          ],
          "surface": [
           {
            "colorbar": {
             "outlinewidth": 0,
             "ticks": ""
            },
            "colorscale": [
             [
              0,
              "#0d0887"
             ],
             [
              0.1111111111111111,
              "#46039f"
             ],
             [
              0.2222222222222222,
              "#7201a8"
             ],
             [
              0.3333333333333333,
              "#9c179e"
             ],
             [
              0.4444444444444444,
              "#bd3786"
             ],
             [
              0.5555555555555556,
              "#d8576b"
             ],
             [
              0.6666666666666666,
              "#ed7953"
             ],
             [
              0.7777777777777778,
              "#fb9f3a"
             ],
             [
              0.8888888888888888,
              "#fdca26"
             ],
             [
              1,
              "#f0f921"
             ]
            ],
            "type": "surface"
           }
          ],
          "table": [
           {
            "cells": {
             "fill": {
              "color": "#EBF0F8"
             },
             "line": {
              "color": "white"
             }
            },
            "header": {
             "fill": {
              "color": "#C8D4E3"
             },
             "line": {
              "color": "white"
             }
            },
            "type": "table"
           }
          ]
         },
         "layout": {
          "annotationdefaults": {
           "arrowcolor": "#2a3f5f",
           "arrowhead": 0,
           "arrowwidth": 1
          },
          "autotypenumbers": "strict",
          "coloraxis": {
           "colorbar": {
            "outlinewidth": 0,
            "ticks": ""
           }
          },
          "colorscale": {
           "diverging": [
            [
             0,
             "#8e0152"
            ],
            [
             0.1,
             "#c51b7d"
            ],
            [
             0.2,
             "#de77ae"
            ],
            [
             0.3,
             "#f1b6da"
            ],
            [
             0.4,
             "#fde0ef"
            ],
            [
             0.5,
             "#f7f7f7"
            ],
            [
             0.6,
             "#e6f5d0"
            ],
            [
             0.7,
             "#b8e186"
            ],
            [
             0.8,
             "#7fbc41"
            ],
            [
             0.9,
             "#4d9221"
            ],
            [
             1,
             "#276419"
            ]
           ],
           "sequential": [
            [
             0,
             "#0d0887"
            ],
            [
             0.1111111111111111,
             "#46039f"
            ],
            [
             0.2222222222222222,
             "#7201a8"
            ],
            [
             0.3333333333333333,
             "#9c179e"
            ],
            [
             0.4444444444444444,
             "#bd3786"
            ],
            [
             0.5555555555555556,
             "#d8576b"
            ],
            [
             0.6666666666666666,
             "#ed7953"
            ],
            [
             0.7777777777777778,
             "#fb9f3a"
            ],
            [
             0.8888888888888888,
             "#fdca26"
            ],
            [
             1,
             "#f0f921"
            ]
           ],
           "sequentialminus": [
            [
             0,
             "#0d0887"
            ],
            [
             0.1111111111111111,
             "#46039f"
            ],
            [
             0.2222222222222222,
             "#7201a8"
            ],
            [
             0.3333333333333333,
             "#9c179e"
            ],
            [
             0.4444444444444444,
             "#bd3786"
            ],
            [
             0.5555555555555556,
             "#d8576b"
            ],
            [
             0.6666666666666666,
             "#ed7953"
            ],
            [
             0.7777777777777778,
             "#fb9f3a"
            ],
            [
             0.8888888888888888,
             "#fdca26"
            ],
            [
             1,
             "#f0f921"
            ]
           ]
          },
          "colorway": [
           "#636efa",
           "#EF553B",
           "#00cc96",
           "#ab63fa",
           "#FFA15A",
           "#19d3f3",
           "#FF6692",
           "#B6E880",
           "#FF97FF",
           "#FECB52"
          ],
          "font": {
           "color": "#2a3f5f"
          },
          "geo": {
           "bgcolor": "white",
           "lakecolor": "white",
           "landcolor": "#E5ECF6",
           "showlakes": true,
           "showland": true,
           "subunitcolor": "white"
          },
          "hoverlabel": {
           "align": "left"
          },
          "hovermode": "closest",
          "mapbox": {
           "style": "light"
          },
          "paper_bgcolor": "white",
          "plot_bgcolor": "#E5ECF6",
          "polar": {
           "angularaxis": {
            "gridcolor": "white",
            "linecolor": "white",
            "ticks": ""
           },
           "bgcolor": "#E5ECF6",
           "radialaxis": {
            "gridcolor": "white",
            "linecolor": "white",
            "ticks": ""
           }
          },
          "scene": {
           "xaxis": {
            "backgroundcolor": "#E5ECF6",
            "gridcolor": "white",
            "gridwidth": 2,
            "linecolor": "white",
            "showbackground": true,
            "ticks": "",
            "zerolinecolor": "white"
           },
           "yaxis": {
            "backgroundcolor": "#E5ECF6",
            "gridcolor": "white",
            "gridwidth": 2,
            "linecolor": "white",
            "showbackground": true,
            "ticks": "",
            "zerolinecolor": "white"
           },
           "zaxis": {
            "backgroundcolor": "#E5ECF6",
            "gridcolor": "white",
            "gridwidth": 2,
            "linecolor": "white",
            "showbackground": true,
            "ticks": "",
            "zerolinecolor": "white"
           }
          },
          "shapedefaults": {
           "line": {
            "color": "#2a3f5f"
           }
          },
          "ternary": {
           "aaxis": {
            "gridcolor": "white",
            "linecolor": "white",
            "ticks": ""
           },
           "baxis": {
            "gridcolor": "white",
            "linecolor": "white",
            "ticks": ""
           },
           "bgcolor": "#E5ECF6",
           "caxis": {
            "gridcolor": "white",
            "linecolor": "white",
            "ticks": ""
           }
          },
          "title": {
           "x": 0.05
          },
          "xaxis": {
           "automargin": true,
           "gridcolor": "white",
           "linecolor": "white",
           "ticks": "",
           "title": {
            "standoff": 15
           },
           "zerolinecolor": "white",
           "zerolinewidth": 2
          },
          "yaxis": {
           "automargin": true,
           "gridcolor": "white",
           "linecolor": "white",
           "ticks": "",
           "title": {
            "standoff": 15
           },
           "zerolinecolor": "white",
           "zerolinewidth": 2
          }
         }
        },
        "title": {
         "text": "Distribusi Glucose berdasarkan Outcome"
        },
        "xaxis": {
         "anchor": "y",
         "domain": [
          0,
          1
         ],
         "title": {
          "text": "Kadar Glukosa"
         }
        },
        "yaxis": {
         "anchor": "x",
         "domain": [
          0,
          1
         ],
         "title": {
          "text": "count"
         }
        }
       }
      }
     },
     "metadata": {},
     "output_type": "display_data"
    }
   ],
   "source": [
    "import plotly.express as px\n",
    "\n",
    "# Membuat histogram untuk Glucose\n",
    "fig = px.histogram(diabetes_data, x='Glucose', color='Outcome',\n",
    "                   title='Distribusi Glucose berdasarkan Outcome',\n",
    "                   labels={'Glucose': 'Kadar Glukosa', 'Outcome': 'Outcome'},\n",
    "                   nbins=20, opacity=0.7)\n",
    "\n",
    "fig.show()\n"
   ]
  },
  {
   "cell_type": "code",
   "execution_count": 8,
   "metadata": {},
   "outputs": [
    {
     "data": {
      "text/html": [
       "<style type=\"text/css\">\n",
       "#T_d148c_row8_col1, #T_d148c_row12_col1, #T_d148c_row14_col1 {\n",
       "  background-color: lightgreen;\n",
       "}\n",
       "</style>\n",
       "<table id=\"T_d148c\">\n",
       "  <thead>\n",
       "    <tr>\n",
       "      <th class=\"blank level0\" >&nbsp;</th>\n",
       "      <th id=\"T_d148c_level0_col0\" class=\"col_heading level0 col0\" >Description</th>\n",
       "      <th id=\"T_d148c_level0_col1\" class=\"col_heading level0 col1\" >Value</th>\n",
       "    </tr>\n",
       "  </thead>\n",
       "  <tbody>\n",
       "    <tr>\n",
       "      <th id=\"T_d148c_level0_row0\" class=\"row_heading level0 row0\" >0</th>\n",
       "      <td id=\"T_d148c_row0_col0\" class=\"data row0 col0\" >Session id</td>\n",
       "      <td id=\"T_d148c_row0_col1\" class=\"data row0 col1\" >123</td>\n",
       "    </tr>\n",
       "    <tr>\n",
       "      <th id=\"T_d148c_level0_row1\" class=\"row_heading level0 row1\" >1</th>\n",
       "      <td id=\"T_d148c_row1_col0\" class=\"data row1 col0\" >Target</td>\n",
       "      <td id=\"T_d148c_row1_col1\" class=\"data row1 col1\" >Outcome</td>\n",
       "    </tr>\n",
       "    <tr>\n",
       "      <th id=\"T_d148c_level0_row2\" class=\"row_heading level0 row2\" >2</th>\n",
       "      <td id=\"T_d148c_row2_col0\" class=\"data row2 col0\" >Target type</td>\n",
       "      <td id=\"T_d148c_row2_col1\" class=\"data row2 col1\" >Binary</td>\n",
       "    </tr>\n",
       "    <tr>\n",
       "      <th id=\"T_d148c_level0_row3\" class=\"row_heading level0 row3\" >3</th>\n",
       "      <td id=\"T_d148c_row3_col0\" class=\"data row3 col0\" >Original data shape</td>\n",
       "      <td id=\"T_d148c_row3_col1\" class=\"data row3 col1\" >(768, 9)</td>\n",
       "    </tr>\n",
       "    <tr>\n",
       "      <th id=\"T_d148c_level0_row4\" class=\"row_heading level0 row4\" >4</th>\n",
       "      <td id=\"T_d148c_row4_col0\" class=\"data row4 col0\" >Transformed data shape</td>\n",
       "      <td id=\"T_d148c_row4_col1\" class=\"data row4 col1\" >(954, 9)</td>\n",
       "    </tr>\n",
       "    <tr>\n",
       "      <th id=\"T_d148c_level0_row5\" class=\"row_heading level0 row5\" >5</th>\n",
       "      <td id=\"T_d148c_row5_col0\" class=\"data row5 col0\" >Transformed train set shape</td>\n",
       "      <td id=\"T_d148c_row5_col1\" class=\"data row5 col1\" >(800, 9)</td>\n",
       "    </tr>\n",
       "    <tr>\n",
       "      <th id=\"T_d148c_level0_row6\" class=\"row_heading level0 row6\" >6</th>\n",
       "      <td id=\"T_d148c_row6_col0\" class=\"data row6 col0\" >Transformed test set shape</td>\n",
       "      <td id=\"T_d148c_row6_col1\" class=\"data row6 col1\" >(154, 9)</td>\n",
       "    </tr>\n",
       "    <tr>\n",
       "      <th id=\"T_d148c_level0_row7\" class=\"row_heading level0 row7\" >7</th>\n",
       "      <td id=\"T_d148c_row7_col0\" class=\"data row7 col0\" >Numeric features</td>\n",
       "      <td id=\"T_d148c_row7_col1\" class=\"data row7 col1\" >8</td>\n",
       "    </tr>\n",
       "    <tr>\n",
       "      <th id=\"T_d148c_level0_row8\" class=\"row_heading level0 row8\" >8</th>\n",
       "      <td id=\"T_d148c_row8_col0\" class=\"data row8 col0\" >Preprocess</td>\n",
       "      <td id=\"T_d148c_row8_col1\" class=\"data row8 col1\" >True</td>\n",
       "    </tr>\n",
       "    <tr>\n",
       "      <th id=\"T_d148c_level0_row9\" class=\"row_heading level0 row9\" >9</th>\n",
       "      <td id=\"T_d148c_row9_col0\" class=\"data row9 col0\" >Imputation type</td>\n",
       "      <td id=\"T_d148c_row9_col1\" class=\"data row9 col1\" >simple</td>\n",
       "    </tr>\n",
       "    <tr>\n",
       "      <th id=\"T_d148c_level0_row10\" class=\"row_heading level0 row10\" >10</th>\n",
       "      <td id=\"T_d148c_row10_col0\" class=\"data row10 col0\" >Numeric imputation</td>\n",
       "      <td id=\"T_d148c_row10_col1\" class=\"data row10 col1\" >mean</td>\n",
       "    </tr>\n",
       "    <tr>\n",
       "      <th id=\"T_d148c_level0_row11\" class=\"row_heading level0 row11\" >11</th>\n",
       "      <td id=\"T_d148c_row11_col0\" class=\"data row11 col0\" >Categorical imputation</td>\n",
       "      <td id=\"T_d148c_row11_col1\" class=\"data row11 col1\" >mode</td>\n",
       "    </tr>\n",
       "    <tr>\n",
       "      <th id=\"T_d148c_level0_row12\" class=\"row_heading level0 row12\" >12</th>\n",
       "      <td id=\"T_d148c_row12_col0\" class=\"data row12 col0\" >Fix imbalance</td>\n",
       "      <td id=\"T_d148c_row12_col1\" class=\"data row12 col1\" >True</td>\n",
       "    </tr>\n",
       "    <tr>\n",
       "      <th id=\"T_d148c_level0_row13\" class=\"row_heading level0 row13\" >13</th>\n",
       "      <td id=\"T_d148c_row13_col0\" class=\"data row13 col0\" >Fix imbalance method</td>\n",
       "      <td id=\"T_d148c_row13_col1\" class=\"data row13 col1\" >SMOTE</td>\n",
       "    </tr>\n",
       "    <tr>\n",
       "      <th id=\"T_d148c_level0_row14\" class=\"row_heading level0 row14\" >14</th>\n",
       "      <td id=\"T_d148c_row14_col0\" class=\"data row14 col0\" >Normalize</td>\n",
       "      <td id=\"T_d148c_row14_col1\" class=\"data row14 col1\" >True</td>\n",
       "    </tr>\n",
       "    <tr>\n",
       "      <th id=\"T_d148c_level0_row15\" class=\"row_heading level0 row15\" >15</th>\n",
       "      <td id=\"T_d148c_row15_col0\" class=\"data row15 col0\" >Normalize method</td>\n",
       "      <td id=\"T_d148c_row15_col1\" class=\"data row15 col1\" >zscore</td>\n",
       "    </tr>\n",
       "    <tr>\n",
       "      <th id=\"T_d148c_level0_row16\" class=\"row_heading level0 row16\" >16</th>\n",
       "      <td id=\"T_d148c_row16_col0\" class=\"data row16 col0\" >Fold Generator</td>\n",
       "      <td id=\"T_d148c_row16_col1\" class=\"data row16 col1\" >StratifiedKFold</td>\n",
       "    </tr>\n",
       "    <tr>\n",
       "      <th id=\"T_d148c_level0_row17\" class=\"row_heading level0 row17\" >17</th>\n",
       "      <td id=\"T_d148c_row17_col0\" class=\"data row17 col0\" >Fold Number</td>\n",
       "      <td id=\"T_d148c_row17_col1\" class=\"data row17 col1\" >10</td>\n",
       "    </tr>\n",
       "    <tr>\n",
       "      <th id=\"T_d148c_level0_row18\" class=\"row_heading level0 row18\" >18</th>\n",
       "      <td id=\"T_d148c_row18_col0\" class=\"data row18 col0\" >CPU Jobs</td>\n",
       "      <td id=\"T_d148c_row18_col1\" class=\"data row18 col1\" >-1</td>\n",
       "    </tr>\n",
       "    <tr>\n",
       "      <th id=\"T_d148c_level0_row19\" class=\"row_heading level0 row19\" >19</th>\n",
       "      <td id=\"T_d148c_row19_col0\" class=\"data row19 col0\" >Use GPU</td>\n",
       "      <td id=\"T_d148c_row19_col1\" class=\"data row19 col1\" >False</td>\n",
       "    </tr>\n",
       "    <tr>\n",
       "      <th id=\"T_d148c_level0_row20\" class=\"row_heading level0 row20\" >20</th>\n",
       "      <td id=\"T_d148c_row20_col0\" class=\"data row20 col0\" >Log Experiment</td>\n",
       "      <td id=\"T_d148c_row20_col1\" class=\"data row20 col1\" >False</td>\n",
       "    </tr>\n",
       "    <tr>\n",
       "      <th id=\"T_d148c_level0_row21\" class=\"row_heading level0 row21\" >21</th>\n",
       "      <td id=\"T_d148c_row21_col0\" class=\"data row21 col0\" >Experiment Name</td>\n",
       "      <td id=\"T_d148c_row21_col1\" class=\"data row21 col1\" >clf-default-name</td>\n",
       "    </tr>\n",
       "    <tr>\n",
       "      <th id=\"T_d148c_level0_row22\" class=\"row_heading level0 row22\" >22</th>\n",
       "      <td id=\"T_d148c_row22_col0\" class=\"data row22 col0\" >USI</td>\n",
       "      <td id=\"T_d148c_row22_col1\" class=\"data row22 col1\" >110d</td>\n",
       "    </tr>\n",
       "  </tbody>\n",
       "</table>\n"
      ],
      "text/plain": [
       "<pandas.io.formats.style.Styler at 0x25fd582af90>"
      ]
     },
     "metadata": {},
     "output_type": "display_data"
    },
    {
     "data": {
      "text/plain": [
       "<pycaret.classification.oop.ClassificationExperiment at 0x25fd2b77050>"
      ]
     },
     "execution_count": 8,
     "metadata": {},
     "output_type": "execute_result"
    }
   ],
   "source": [
    "from pycaret.classification import setup\n",
    "# Example of a comprehensive setup in PyCaret\n",
    "setup(\n",
    "    data=diabetes_data,\n",
    "    target='Outcome',\n",
    "    train_size=0.8, # membagi data menjadi 80:20\n",
    "    normalize=True, # normalisasi z score\n",
    "    fix_imbalance=True,\n",
    "    session_id=123\n",
    "    \n",
    ")"
   ]
  },
  {
   "cell_type": "code",
   "execution_count": 9,
   "metadata": {},
   "outputs": [
    {
     "data": {
      "text/html": [],
      "text/plain": [
       "<IPython.core.display.HTML object>"
      ]
     },
     "metadata": {},
     "output_type": "display_data"
    },
    {
     "data": {
      "text/html": [
       "<style type=\"text/css\">\n",
       "#T_2ff8a th {\n",
       "  text-align: left;\n",
       "}\n",
       "#T_2ff8a_row0_col0, #T_2ff8a_row0_col2, #T_2ff8a_row0_col3, #T_2ff8a_row1_col0, #T_2ff8a_row1_col1, #T_2ff8a_row1_col2, #T_2ff8a_row1_col3, #T_2ff8a_row1_col4, #T_2ff8a_row1_col5, #T_2ff8a_row1_col6, #T_2ff8a_row1_col7, #T_2ff8a_row2_col0, #T_2ff8a_row2_col1, #T_2ff8a_row2_col2, #T_2ff8a_row2_col3, #T_2ff8a_row2_col4, #T_2ff8a_row2_col5, #T_2ff8a_row2_col6, #T_2ff8a_row2_col7, #T_2ff8a_row3_col0, #T_2ff8a_row3_col1, #T_2ff8a_row3_col2, #T_2ff8a_row3_col3, #T_2ff8a_row3_col4, #T_2ff8a_row3_col5, #T_2ff8a_row3_col6, #T_2ff8a_row3_col7, #T_2ff8a_row4_col0, #T_2ff8a_row4_col1, #T_2ff8a_row4_col2, #T_2ff8a_row4_col3, #T_2ff8a_row4_col4, #T_2ff8a_row4_col5, #T_2ff8a_row4_col6, #T_2ff8a_row4_col7, #T_2ff8a_row5_col0, #T_2ff8a_row5_col1, #T_2ff8a_row5_col2, #T_2ff8a_row5_col3, #T_2ff8a_row5_col4, #T_2ff8a_row5_col5, #T_2ff8a_row5_col6, #T_2ff8a_row5_col7, #T_2ff8a_row6_col0, #T_2ff8a_row6_col1, #T_2ff8a_row6_col2, #T_2ff8a_row6_col3, #T_2ff8a_row6_col4, #T_2ff8a_row6_col5, #T_2ff8a_row6_col6, #T_2ff8a_row6_col7, #T_2ff8a_row7_col0, #T_2ff8a_row7_col1, #T_2ff8a_row7_col2, #T_2ff8a_row7_col3, #T_2ff8a_row7_col4, #T_2ff8a_row7_col5, #T_2ff8a_row7_col6, #T_2ff8a_row7_col7, #T_2ff8a_row8_col0, #T_2ff8a_row8_col1, #T_2ff8a_row8_col3, #T_2ff8a_row8_col4, #T_2ff8a_row8_col5, #T_2ff8a_row8_col6, #T_2ff8a_row8_col7, #T_2ff8a_row9_col0, #T_2ff8a_row9_col1, #T_2ff8a_row9_col2, #T_2ff8a_row9_col3, #T_2ff8a_row9_col4, #T_2ff8a_row9_col5, #T_2ff8a_row9_col6, #T_2ff8a_row9_col7, #T_2ff8a_row10_col0, #T_2ff8a_row10_col1, #T_2ff8a_row10_col2, #T_2ff8a_row10_col4, #T_2ff8a_row10_col5, #T_2ff8a_row10_col6, #T_2ff8a_row10_col7, #T_2ff8a_row11_col0, #T_2ff8a_row11_col1, #T_2ff8a_row11_col2, #T_2ff8a_row11_col3, #T_2ff8a_row11_col4, #T_2ff8a_row11_col5, #T_2ff8a_row11_col6, #T_2ff8a_row11_col7, #T_2ff8a_row12_col0, #T_2ff8a_row12_col1, #T_2ff8a_row12_col2, #T_2ff8a_row12_col3, #T_2ff8a_row12_col4, #T_2ff8a_row12_col5, #T_2ff8a_row12_col6, #T_2ff8a_row12_col7, #T_2ff8a_row13_col0, #T_2ff8a_row13_col1, #T_2ff8a_row13_col2, #T_2ff8a_row13_col3, #T_2ff8a_row13_col4, #T_2ff8a_row13_col5, #T_2ff8a_row13_col6, #T_2ff8a_row13_col7 {\n",
       "  text-align: left;\n",
       "}\n",
       "#T_2ff8a_row0_col1, #T_2ff8a_row0_col4, #T_2ff8a_row0_col5, #T_2ff8a_row0_col6, #T_2ff8a_row0_col7, #T_2ff8a_row8_col2, #T_2ff8a_row10_col3 {\n",
       "  text-align: left;\n",
       "  background-color: yellow;\n",
       "}\n",
       "#T_2ff8a_row0_col8, #T_2ff8a_row1_col8, #T_2ff8a_row2_col8, #T_2ff8a_row3_col8, #T_2ff8a_row4_col8, #T_2ff8a_row5_col8, #T_2ff8a_row6_col8, #T_2ff8a_row8_col8, #T_2ff8a_row9_col8, #T_2ff8a_row10_col8, #T_2ff8a_row11_col8, #T_2ff8a_row12_col8, #T_2ff8a_row13_col8 {\n",
       "  text-align: left;\n",
       "  background-color: lightgrey;\n",
       "}\n",
       "#T_2ff8a_row7_col8 {\n",
       "  text-align: left;\n",
       "  background-color: yellow;\n",
       "  background-color: lightgrey;\n",
       "}\n",
       "</style>\n",
       "<table id=\"T_2ff8a\">\n",
       "  <thead>\n",
       "    <tr>\n",
       "      <th class=\"blank level0\" >&nbsp;</th>\n",
       "      <th id=\"T_2ff8a_level0_col0\" class=\"col_heading level0 col0\" >Model</th>\n",
       "      <th id=\"T_2ff8a_level0_col1\" class=\"col_heading level0 col1\" >Accuracy</th>\n",
       "      <th id=\"T_2ff8a_level0_col2\" class=\"col_heading level0 col2\" >AUC</th>\n",
       "      <th id=\"T_2ff8a_level0_col3\" class=\"col_heading level0 col3\" >Recall</th>\n",
       "      <th id=\"T_2ff8a_level0_col4\" class=\"col_heading level0 col4\" >Prec.</th>\n",
       "      <th id=\"T_2ff8a_level0_col5\" class=\"col_heading level0 col5\" >F1</th>\n",
       "      <th id=\"T_2ff8a_level0_col6\" class=\"col_heading level0 col6\" >Kappa</th>\n",
       "      <th id=\"T_2ff8a_level0_col7\" class=\"col_heading level0 col7\" >MCC</th>\n",
       "      <th id=\"T_2ff8a_level0_col8\" class=\"col_heading level0 col8\" >TT (Sec)</th>\n",
       "    </tr>\n",
       "  </thead>\n",
       "  <tbody>\n",
       "    <tr>\n",
       "      <th id=\"T_2ff8a_level0_row0\" class=\"row_heading level0 row0\" >rf</th>\n",
       "      <td id=\"T_2ff8a_row0_col0\" class=\"data row0 col0\" >Random Forest Classifier</td>\n",
       "      <td id=\"T_2ff8a_row0_col1\" class=\"data row0 col1\" >0.7507</td>\n",
       "      <td id=\"T_2ff8a_row0_col2\" class=\"data row0 col2\" >0.8133</td>\n",
       "      <td id=\"T_2ff8a_row0_col3\" class=\"data row0 col3\" >0.6680</td>\n",
       "      <td id=\"T_2ff8a_row0_col4\" class=\"data row0 col4\" >0.6418</td>\n",
       "      <td id=\"T_2ff8a_row0_col5\" class=\"data row0 col5\" >0.6510</td>\n",
       "      <td id=\"T_2ff8a_row0_col6\" class=\"data row0 col6\" >0.4580</td>\n",
       "      <td id=\"T_2ff8a_row0_col7\" class=\"data row0 col7\" >0.4615</td>\n",
       "      <td id=\"T_2ff8a_row0_col8\" class=\"data row0 col8\" >0.2860</td>\n",
       "    </tr>\n",
       "    <tr>\n",
       "      <th id=\"T_2ff8a_level0_row1\" class=\"row_heading level0 row1\" >et</th>\n",
       "      <td id=\"T_2ff8a_row1_col0\" class=\"data row1 col0\" >Extra Trees Classifier</td>\n",
       "      <td id=\"T_2ff8a_row1_col1\" class=\"data row1 col1\" >0.7409</td>\n",
       "      <td id=\"T_2ff8a_row1_col2\" class=\"data row1 col2\" >0.8045</td>\n",
       "      <td id=\"T_2ff8a_row1_col3\" class=\"data row1 col3\" >0.6312</td>\n",
       "      <td id=\"T_2ff8a_row1_col4\" class=\"data row1 col4\" >0.6321</td>\n",
       "      <td id=\"T_2ff8a_row1_col5\" class=\"data row1 col5\" >0.6291</td>\n",
       "      <td id=\"T_2ff8a_row1_col6\" class=\"data row1 col6\" >0.4307</td>\n",
       "      <td id=\"T_2ff8a_row1_col7\" class=\"data row1 col7\" >0.4328</td>\n",
       "      <td id=\"T_2ff8a_row1_col8\" class=\"data row1 col8\" >0.2440</td>\n",
       "    </tr>\n",
       "    <tr>\n",
       "      <th id=\"T_2ff8a_level0_row2\" class=\"row_heading level0 row2\" >ridge</th>\n",
       "      <td id=\"T_2ff8a_row2_col0\" class=\"data row2 col0\" >Ridge Classifier</td>\n",
       "      <td id=\"T_2ff8a_row2_col1\" class=\"data row2 col1\" >0.7394</td>\n",
       "      <td id=\"T_2ff8a_row2_col2\" class=\"data row2 col2\" >0.8180</td>\n",
       "      <td id=\"T_2ff8a_row2_col3\" class=\"data row2 col3\" >0.6929</td>\n",
       "      <td id=\"T_2ff8a_row2_col4\" class=\"data row2 col4\" >0.6163</td>\n",
       "      <td id=\"T_2ff8a_row2_col5\" class=\"data row2 col5\" >0.6462</td>\n",
       "      <td id=\"T_2ff8a_row2_col6\" class=\"data row2 col6\" >0.4425</td>\n",
       "      <td id=\"T_2ff8a_row2_col7\" class=\"data row2 col7\" >0.4506</td>\n",
       "      <td id=\"T_2ff8a_row2_col8\" class=\"data row2 col8\" >0.0460</td>\n",
       "    </tr>\n",
       "    <tr>\n",
       "      <th id=\"T_2ff8a_level0_row3\" class=\"row_heading level0 row3\" >lda</th>\n",
       "      <td id=\"T_2ff8a_row3_col0\" class=\"data row3 col0\" >Linear Discriminant Analysis</td>\n",
       "      <td id=\"T_2ff8a_row3_col1\" class=\"data row3 col1\" >0.7394</td>\n",
       "      <td id=\"T_2ff8a_row3_col2\" class=\"data row3 col2\" >0.8182</td>\n",
       "      <td id=\"T_2ff8a_row3_col3\" class=\"data row3 col3\" >0.6929</td>\n",
       "      <td id=\"T_2ff8a_row3_col4\" class=\"data row3 col4\" >0.6163</td>\n",
       "      <td id=\"T_2ff8a_row3_col5\" class=\"data row3 col5\" >0.6462</td>\n",
       "      <td id=\"T_2ff8a_row3_col6\" class=\"data row3 col6\" >0.4425</td>\n",
       "      <td id=\"T_2ff8a_row3_col7\" class=\"data row3 col7\" >0.4506</td>\n",
       "      <td id=\"T_2ff8a_row3_col8\" class=\"data row3 col8\" >0.0470</td>\n",
       "    </tr>\n",
       "    <tr>\n",
       "      <th id=\"T_2ff8a_level0_row4\" class=\"row_heading level0 row4\" >ada</th>\n",
       "      <td id=\"T_2ff8a_row4_col0\" class=\"data row4 col0\" >Ada Boost Classifier</td>\n",
       "      <td id=\"T_2ff8a_row4_col1\" class=\"data row4 col1\" >0.7377</td>\n",
       "      <td id=\"T_2ff8a_row4_col2\" class=\"data row4 col2\" >0.8127</td>\n",
       "      <td id=\"T_2ff8a_row4_col3\" class=\"data row4 col3\" >0.6545</td>\n",
       "      <td id=\"T_2ff8a_row4_col4\" class=\"data row4 col4\" >0.6257</td>\n",
       "      <td id=\"T_2ff8a_row4_col5\" class=\"data row4 col5\" >0.6325</td>\n",
       "      <td id=\"T_2ff8a_row4_col6\" class=\"data row4 col6\" >0.4309</td>\n",
       "      <td id=\"T_2ff8a_row4_col7\" class=\"data row4 col7\" >0.4372</td>\n",
       "      <td id=\"T_2ff8a_row4_col8\" class=\"data row4 col8\" >0.1770</td>\n",
       "    </tr>\n",
       "    <tr>\n",
       "      <th id=\"T_2ff8a_level0_row5\" class=\"row_heading level0 row5\" >lr</th>\n",
       "      <td id=\"T_2ff8a_row5_col0\" class=\"data row5 col0\" >Logistic Regression</td>\n",
       "      <td id=\"T_2ff8a_row5_col1\" class=\"data row5 col1\" >0.7361</td>\n",
       "      <td id=\"T_2ff8a_row5_col2\" class=\"data row5 col2\" >0.8178</td>\n",
       "      <td id=\"T_2ff8a_row5_col3\" class=\"data row5 col3\" >0.6926</td>\n",
       "      <td id=\"T_2ff8a_row5_col4\" class=\"data row5 col4\" >0.6105</td>\n",
       "      <td id=\"T_2ff8a_row5_col5\" class=\"data row5 col5\" >0.6439</td>\n",
       "      <td id=\"T_2ff8a_row5_col6\" class=\"data row5 col6\" >0.4368</td>\n",
       "      <td id=\"T_2ff8a_row5_col7\" class=\"data row5 col7\" >0.4443</td>\n",
       "      <td id=\"T_2ff8a_row5_col8\" class=\"data row5 col8\" >1.7170</td>\n",
       "    </tr>\n",
       "    <tr>\n",
       "      <th id=\"T_2ff8a_level0_row6\" class=\"row_heading level0 row6\" >nb</th>\n",
       "      <td id=\"T_2ff8a_row6_col0\" class=\"data row6 col0\" >Naive Bayes</td>\n",
       "      <td id=\"T_2ff8a_row6_col1\" class=\"data row6 col1\" >0.7360</td>\n",
       "      <td id=\"T_2ff8a_row6_col2\" class=\"data row6 col2\" >0.8073</td>\n",
       "      <td id=\"T_2ff8a_row6_col3\" class=\"data row6 col3\" >0.6554</td>\n",
       "      <td id=\"T_2ff8a_row6_col4\" class=\"data row6 col4\" >0.6267</td>\n",
       "      <td id=\"T_2ff8a_row6_col5\" class=\"data row6 col5\" >0.6328</td>\n",
       "      <td id=\"T_2ff8a_row6_col6\" class=\"data row6 col6\" >0.4293</td>\n",
       "      <td id=\"T_2ff8a_row6_col7\" class=\"data row6 col7\" >0.4357</td>\n",
       "      <td id=\"T_2ff8a_row6_col8\" class=\"data row6 col8\" >0.0480</td>\n",
       "    </tr>\n",
       "    <tr>\n",
       "      <th id=\"T_2ff8a_level0_row7\" class=\"row_heading level0 row7\" >qda</th>\n",
       "      <td id=\"T_2ff8a_row7_col0\" class=\"data row7 col0\" >Quadratic Discriminant Analysis</td>\n",
       "      <td id=\"T_2ff8a_row7_col1\" class=\"data row7 col1\" >0.7360</td>\n",
       "      <td id=\"T_2ff8a_row7_col2\" class=\"data row7 col2\" >0.8043</td>\n",
       "      <td id=\"T_2ff8a_row7_col3\" class=\"data row7 col3\" >0.6792</td>\n",
       "      <td id=\"T_2ff8a_row7_col4\" class=\"data row7 col4\" >0.6230</td>\n",
       "      <td id=\"T_2ff8a_row7_col5\" class=\"data row7 col5\" >0.6401</td>\n",
       "      <td id=\"T_2ff8a_row7_col6\" class=\"data row7 col6\" >0.4351</td>\n",
       "      <td id=\"T_2ff8a_row7_col7\" class=\"data row7 col7\" >0.4447</td>\n",
       "      <td id=\"T_2ff8a_row7_col8\" class=\"data row7 col8\" >0.0420</td>\n",
       "    </tr>\n",
       "    <tr>\n",
       "      <th id=\"T_2ff8a_level0_row8\" class=\"row_heading level0 row8\" >gbc</th>\n",
       "      <td id=\"T_2ff8a_row8_col0\" class=\"data row8 col0\" >Gradient Boosting Classifier</td>\n",
       "      <td id=\"T_2ff8a_row8_col1\" class=\"data row8 col1\" >0.7345</td>\n",
       "      <td id=\"T_2ff8a_row8_col2\" class=\"data row8 col2\" >0.8218</td>\n",
       "      <td id=\"T_2ff8a_row8_col3\" class=\"data row8 col3\" >0.6589</td>\n",
       "      <td id=\"T_2ff8a_row8_col4\" class=\"data row8 col4\" >0.6147</td>\n",
       "      <td id=\"T_2ff8a_row8_col5\" class=\"data row8 col5\" >0.6316</td>\n",
       "      <td id=\"T_2ff8a_row8_col6\" class=\"data row8 col6\" >0.4256</td>\n",
       "      <td id=\"T_2ff8a_row8_col7\" class=\"data row8 col7\" >0.4300</td>\n",
       "      <td id=\"T_2ff8a_row8_col8\" class=\"data row8 col8\" >0.2380</td>\n",
       "    </tr>\n",
       "    <tr>\n",
       "      <th id=\"T_2ff8a_level0_row9\" class=\"row_heading level0 row9\" >lightgbm</th>\n",
       "      <td id=\"T_2ff8a_row9_col0\" class=\"data row9 col0\" >Light Gradient Boosting Machine</td>\n",
       "      <td id=\"T_2ff8a_row9_col1\" class=\"data row9 col1\" >0.7345</td>\n",
       "      <td id=\"T_2ff8a_row9_col2\" class=\"data row9 col2\" >0.7938</td>\n",
       "      <td id=\"T_2ff8a_row9_col3\" class=\"data row9 col3\" >0.6361</td>\n",
       "      <td id=\"T_2ff8a_row9_col4\" class=\"data row9 col4\" >0.6225</td>\n",
       "      <td id=\"T_2ff8a_row9_col5\" class=\"data row9 col5\" >0.6256</td>\n",
       "      <td id=\"T_2ff8a_row9_col6\" class=\"data row9 col6\" >0.4210</td>\n",
       "      <td id=\"T_2ff8a_row9_col7\" class=\"data row9 col7\" >0.4240</td>\n",
       "      <td id=\"T_2ff8a_row9_col8\" class=\"data row9 col8\" >0.3270</td>\n",
       "    </tr>\n",
       "    <tr>\n",
       "      <th id=\"T_2ff8a_level0_row10\" class=\"row_heading level0 row10\" >knn</th>\n",
       "      <td id=\"T_2ff8a_row10_col0\" class=\"data row10 col0\" >K Neighbors Classifier</td>\n",
       "      <td id=\"T_2ff8a_row10_col1\" class=\"data row10 col1\" >0.7229</td>\n",
       "      <td id=\"T_2ff8a_row10_col2\" class=\"data row10 col2\" >0.7786</td>\n",
       "      <td id=\"T_2ff8a_row10_col3\" class=\"data row10 col3\" >0.7286</td>\n",
       "      <td id=\"T_2ff8a_row10_col4\" class=\"data row10 col4\" >0.5868</td>\n",
       "      <td id=\"T_2ff8a_row10_col5\" class=\"data row10 col5\" >0.6469</td>\n",
       "      <td id=\"T_2ff8a_row10_col6\" class=\"data row10 col6\" >0.4246</td>\n",
       "      <td id=\"T_2ff8a_row10_col7\" class=\"data row10 col7\" >0.4344</td>\n",
       "      <td id=\"T_2ff8a_row10_col8\" class=\"data row10 col8\" >0.0670</td>\n",
       "    </tr>\n",
       "    <tr>\n",
       "      <th id=\"T_2ff8a_level0_row11\" class=\"row_heading level0 row11\" >svm</th>\n",
       "      <td id=\"T_2ff8a_row11_col0\" class=\"data row11 col0\" >SVM - Linear Kernel</td>\n",
       "      <td id=\"T_2ff8a_row11_col1\" class=\"data row11 col1\" >0.7068</td>\n",
       "      <td id=\"T_2ff8a_row11_col2\" class=\"data row11 col2\" >0.7665</td>\n",
       "      <td id=\"T_2ff8a_row11_col3\" class=\"data row11 col3\" >0.6398</td>\n",
       "      <td id=\"T_2ff8a_row11_col4\" class=\"data row11 col4\" >0.5828</td>\n",
       "      <td id=\"T_2ff8a_row11_col5\" class=\"data row11 col5\" >0.6048</td>\n",
       "      <td id=\"T_2ff8a_row11_col6\" class=\"data row11 col6\" >0.3742</td>\n",
       "      <td id=\"T_2ff8a_row11_col7\" class=\"data row11 col7\" >0.3795</td>\n",
       "      <td id=\"T_2ff8a_row11_col8\" class=\"data row11 col8\" >0.0580</td>\n",
       "    </tr>\n",
       "    <tr>\n",
       "      <th id=\"T_2ff8a_level0_row12\" class=\"row_heading level0 row12\" >dt</th>\n",
       "      <td id=\"T_2ff8a_row12_col0\" class=\"data row12 col0\" >Decision Tree Classifier</td>\n",
       "      <td id=\"T_2ff8a_row12_col1\" class=\"data row12 col1\" >0.6805</td>\n",
       "      <td id=\"T_2ff8a_row12_col2\" class=\"data row12 col2\" >0.6547</td>\n",
       "      <td id=\"T_2ff8a_row12_col3\" class=\"data row12 col3\" >0.5695</td>\n",
       "      <td id=\"T_2ff8a_row12_col4\" class=\"data row12 col4\" >0.5474</td>\n",
       "      <td id=\"T_2ff8a_row12_col5\" class=\"data row12 col5\" >0.5540</td>\n",
       "      <td id=\"T_2ff8a_row12_col6\" class=\"data row12 col6\" >0.3069</td>\n",
       "      <td id=\"T_2ff8a_row12_col7\" class=\"data row12 col7\" >0.3100</td>\n",
       "      <td id=\"T_2ff8a_row12_col8\" class=\"data row12 col8\" >0.0430</td>\n",
       "    </tr>\n",
       "    <tr>\n",
       "      <th id=\"T_2ff8a_level0_row13\" class=\"row_heading level0 row13\" >dummy</th>\n",
       "      <td id=\"T_2ff8a_row13_col0\" class=\"data row13 col0\" >Dummy Classifier</td>\n",
       "      <td id=\"T_2ff8a_row13_col1\" class=\"data row13 col1\" >0.6515</td>\n",
       "      <td id=\"T_2ff8a_row13_col2\" class=\"data row13 col2\" >0.5000</td>\n",
       "      <td id=\"T_2ff8a_row13_col3\" class=\"data row13 col3\" >0.0000</td>\n",
       "      <td id=\"T_2ff8a_row13_col4\" class=\"data row13 col4\" >0.0000</td>\n",
       "      <td id=\"T_2ff8a_row13_col5\" class=\"data row13 col5\" >0.0000</td>\n",
       "      <td id=\"T_2ff8a_row13_col6\" class=\"data row13 col6\" >0.0000</td>\n",
       "      <td id=\"T_2ff8a_row13_col7\" class=\"data row13 col7\" >0.0000</td>\n",
       "      <td id=\"T_2ff8a_row13_col8\" class=\"data row13 col8\" >0.0450</td>\n",
       "    </tr>\n",
       "  </tbody>\n",
       "</table>\n"
      ],
      "text/plain": [
       "<pandas.io.formats.style.Styler at 0x25fd0bba910>"
      ]
     },
     "metadata": {},
     "output_type": "display_data"
    },
    {
     "data": {
      "text/html": [],
      "text/plain": [
       "<IPython.core.display.HTML object>"
      ]
     },
     "metadata": {},
     "output_type": "display_data"
    }
   ],
   "source": [
    "# Train Multiple Models: PyCaret memungkinkan Anda melatih berbagai macam model machine learning hanya dengan satu baris kode.\n",
    "from pycaret.classification import compare_models\n",
    "best_model = compare_models()"
   ]
  },
  {
   "cell_type": "code",
   "execution_count": 10,
   "metadata": {},
   "outputs": [
    {
     "data": {
      "text/html": [],
      "text/plain": [
       "<IPython.core.display.HTML object>"
      ]
     },
     "metadata": {},
     "output_type": "display_data"
    },
    {
     "data": {
      "text/html": [
       "<style type=\"text/css\">\n",
       "#T_a5dca_row10_col0, #T_a5dca_row10_col1, #T_a5dca_row10_col2, #T_a5dca_row10_col3, #T_a5dca_row10_col4, #T_a5dca_row10_col5, #T_a5dca_row10_col6 {\n",
       "  background: yellow;\n",
       "}\n",
       "</style>\n",
       "<table id=\"T_a5dca\">\n",
       "  <thead>\n",
       "    <tr>\n",
       "      <th class=\"blank level0\" >&nbsp;</th>\n",
       "      <th id=\"T_a5dca_level0_col0\" class=\"col_heading level0 col0\" >Accuracy</th>\n",
       "      <th id=\"T_a5dca_level0_col1\" class=\"col_heading level0 col1\" >AUC</th>\n",
       "      <th id=\"T_a5dca_level0_col2\" class=\"col_heading level0 col2\" >Recall</th>\n",
       "      <th id=\"T_a5dca_level0_col3\" class=\"col_heading level0 col3\" >Prec.</th>\n",
       "      <th id=\"T_a5dca_level0_col4\" class=\"col_heading level0 col4\" >F1</th>\n",
       "      <th id=\"T_a5dca_level0_col5\" class=\"col_heading level0 col5\" >Kappa</th>\n",
       "      <th id=\"T_a5dca_level0_col6\" class=\"col_heading level0 col6\" >MCC</th>\n",
       "    </tr>\n",
       "    <tr>\n",
       "      <th class=\"index_name level0\" >Fold</th>\n",
       "      <th class=\"blank col0\" >&nbsp;</th>\n",
       "      <th class=\"blank col1\" >&nbsp;</th>\n",
       "      <th class=\"blank col2\" >&nbsp;</th>\n",
       "      <th class=\"blank col3\" >&nbsp;</th>\n",
       "      <th class=\"blank col4\" >&nbsp;</th>\n",
       "      <th class=\"blank col5\" >&nbsp;</th>\n",
       "      <th class=\"blank col6\" >&nbsp;</th>\n",
       "    </tr>\n",
       "  </thead>\n",
       "  <tbody>\n",
       "    <tr>\n",
       "      <th id=\"T_a5dca_level0_row0\" class=\"row_heading level0 row0\" >0</th>\n",
       "      <td id=\"T_a5dca_row0_col0\" class=\"data row0 col0\" >0.7258</td>\n",
       "      <td id=\"T_a5dca_row0_col1\" class=\"data row0 col1\" >0.7875</td>\n",
       "      <td id=\"T_a5dca_row0_col2\" class=\"data row0 col2\" >0.5455</td>\n",
       "      <td id=\"T_a5dca_row0_col3\" class=\"data row0 col3\" >0.6316</td>\n",
       "      <td id=\"T_a5dca_row0_col4\" class=\"data row0 col4\" >0.5854</td>\n",
       "      <td id=\"T_a5dca_row0_col5\" class=\"data row0 col5\" >0.3822</td>\n",
       "      <td id=\"T_a5dca_row0_col6\" class=\"data row0 col6\" >0.3845</td>\n",
       "    </tr>\n",
       "    <tr>\n",
       "      <th id=\"T_a5dca_level0_row1\" class=\"row_heading level0 row1\" >1</th>\n",
       "      <td id=\"T_a5dca_row1_col0\" class=\"data row1 col0\" >0.8065</td>\n",
       "      <td id=\"T_a5dca_row1_col1\" class=\"data row1 col1\" >0.8210</td>\n",
       "      <td id=\"T_a5dca_row1_col2\" class=\"data row1 col2\" >0.6364</td>\n",
       "      <td id=\"T_a5dca_row1_col3\" class=\"data row1 col3\" >0.7778</td>\n",
       "      <td id=\"T_a5dca_row1_col4\" class=\"data row1 col4\" >0.7000</td>\n",
       "      <td id=\"T_a5dca_row1_col5\" class=\"data row1 col5\" >0.5592</td>\n",
       "      <td id=\"T_a5dca_row1_col6\" class=\"data row1 col6\" >0.5654</td>\n",
       "    </tr>\n",
       "    <tr>\n",
       "      <th id=\"T_a5dca_level0_row2\" class=\"row_heading level0 row2\" >2</th>\n",
       "      <td id=\"T_a5dca_row2_col0\" class=\"data row2 col0\" >0.7903</td>\n",
       "      <td id=\"T_a5dca_row2_col1\" class=\"data row2 col1\" >0.8716</td>\n",
       "      <td id=\"T_a5dca_row2_col2\" class=\"data row2 col2\" >0.8182</td>\n",
       "      <td id=\"T_a5dca_row2_col3\" class=\"data row2 col3\" >0.6667</td>\n",
       "      <td id=\"T_a5dca_row2_col4\" class=\"data row2 col4\" >0.7347</td>\n",
       "      <td id=\"T_a5dca_row2_col5\" class=\"data row2 col5\" >0.5643</td>\n",
       "      <td id=\"T_a5dca_row2_col6\" class=\"data row2 col6\" >0.5724</td>\n",
       "    </tr>\n",
       "    <tr>\n",
       "      <th id=\"T_a5dca_level0_row3\" class=\"row_heading level0 row3\" >3</th>\n",
       "      <td id=\"T_a5dca_row3_col0\" class=\"data row3 col0\" >0.7742</td>\n",
       "      <td id=\"T_a5dca_row3_col1\" class=\"data row3 col1\" >0.8108</td>\n",
       "      <td id=\"T_a5dca_row3_col2\" class=\"data row3 col2\" >0.7273</td>\n",
       "      <td id=\"T_a5dca_row3_col3\" class=\"data row3 col3\" >0.6667</td>\n",
       "      <td id=\"T_a5dca_row3_col4\" class=\"data row3 col4\" >0.6957</td>\n",
       "      <td id=\"T_a5dca_row3_col5\" class=\"data row3 col5\" >0.5167</td>\n",
       "      <td id=\"T_a5dca_row3_col6\" class=\"data row3 col6\" >0.5179</td>\n",
       "    </tr>\n",
       "    <tr>\n",
       "      <th id=\"T_a5dca_level0_row4\" class=\"row_heading level0 row4\" >4</th>\n",
       "      <td id=\"T_a5dca_row4_col0\" class=\"data row4 col0\" >0.6557</td>\n",
       "      <td id=\"T_a5dca_row4_col1\" class=\"data row4 col1\" >0.8089</td>\n",
       "      <td id=\"T_a5dca_row4_col2\" class=\"data row4 col2\" >0.5238</td>\n",
       "      <td id=\"T_a5dca_row4_col3\" class=\"data row4 col3\" >0.5000</td>\n",
       "      <td id=\"T_a5dca_row4_col4\" class=\"data row4 col4\" >0.5116</td>\n",
       "      <td id=\"T_a5dca_row4_col5\" class=\"data row4 col5\" >0.2460</td>\n",
       "      <td id=\"T_a5dca_row4_col6\" class=\"data row4 col6\" >0.2462</td>\n",
       "    </tr>\n",
       "    <tr>\n",
       "      <th id=\"T_a5dca_level0_row5\" class=\"row_heading level0 row5\" >5</th>\n",
       "      <td id=\"T_a5dca_row5_col0\" class=\"data row5 col0\" >0.6885</td>\n",
       "      <td id=\"T_a5dca_row5_col1\" class=\"data row5 col1\" >0.7744</td>\n",
       "      <td id=\"T_a5dca_row5_col2\" class=\"data row5 col2\" >0.6190</td>\n",
       "      <td id=\"T_a5dca_row5_col3\" class=\"data row5 col3\" >0.5417</td>\n",
       "      <td id=\"T_a5dca_row5_col4\" class=\"data row5 col4\" >0.5778</td>\n",
       "      <td id=\"T_a5dca_row5_col5\" class=\"data row5 col5\" >0.3328</td>\n",
       "      <td id=\"T_a5dca_row5_col6\" class=\"data row5 col6\" >0.3346</td>\n",
       "    </tr>\n",
       "    <tr>\n",
       "      <th id=\"T_a5dca_level0_row6\" class=\"row_heading level0 row6\" >6</th>\n",
       "      <td id=\"T_a5dca_row6_col0\" class=\"data row6 col0\" >0.8361</td>\n",
       "      <td id=\"T_a5dca_row6_col1\" class=\"data row6 col1\" >0.8583</td>\n",
       "      <td id=\"T_a5dca_row6_col2\" class=\"data row6 col2\" >0.8571</td>\n",
       "      <td id=\"T_a5dca_row6_col3\" class=\"data row6 col3\" >0.7200</td>\n",
       "      <td id=\"T_a5dca_row6_col4\" class=\"data row6 col4\" >0.7826</td>\n",
       "      <td id=\"T_a5dca_row6_col5\" class=\"data row6 col5\" >0.6526</td>\n",
       "      <td id=\"T_a5dca_row6_col6\" class=\"data row6 col6\" >0.6590</td>\n",
       "    </tr>\n",
       "    <tr>\n",
       "      <th id=\"T_a5dca_level0_row7\" class=\"row_heading level0 row7\" >7</th>\n",
       "      <td id=\"T_a5dca_row7_col0\" class=\"data row7 col0\" >0.7541</td>\n",
       "      <td id=\"T_a5dca_row7_col1\" class=\"data row7 col1\" >0.7804</td>\n",
       "      <td id=\"T_a5dca_row7_col2\" class=\"data row7 col2\" >0.6667</td>\n",
       "      <td id=\"T_a5dca_row7_col3\" class=\"data row7 col3\" >0.6364</td>\n",
       "      <td id=\"T_a5dca_row7_col4\" class=\"data row7 col4\" >0.6512</td>\n",
       "      <td id=\"T_a5dca_row7_col5\" class=\"data row7 col5\" >0.4614</td>\n",
       "      <td id=\"T_a5dca_row7_col6\" class=\"data row7 col6\" >0.4617</td>\n",
       "    </tr>\n",
       "    <tr>\n",
       "      <th id=\"T_a5dca_level0_row8\" class=\"row_heading level0 row8\" >8</th>\n",
       "      <td id=\"T_a5dca_row8_col0\" class=\"data row8 col0\" >0.8197</td>\n",
       "      <td id=\"T_a5dca_row8_col1\" class=\"data row8 col1\" >0.8839</td>\n",
       "      <td id=\"T_a5dca_row8_col2\" class=\"data row8 col2\" >0.6667</td>\n",
       "      <td id=\"T_a5dca_row8_col3\" class=\"data row8 col3\" >0.7778</td>\n",
       "      <td id=\"T_a5dca_row8_col4\" class=\"data row8 col4\" >0.7179</td>\n",
       "      <td id=\"T_a5dca_row8_col5\" class=\"data row8 col5\" >0.5866</td>\n",
       "      <td id=\"T_a5dca_row8_col6\" class=\"data row8 col6\" >0.5903</td>\n",
       "    </tr>\n",
       "    <tr>\n",
       "      <th id=\"T_a5dca_level0_row9\" class=\"row_heading level0 row9\" >9</th>\n",
       "      <td id=\"T_a5dca_row9_col0\" class=\"data row9 col0\" >0.6557</td>\n",
       "      <td id=\"T_a5dca_row9_col1\" class=\"data row9 col1\" >0.7363</td>\n",
       "      <td id=\"T_a5dca_row9_col2\" class=\"data row9 col2\" >0.6190</td>\n",
       "      <td id=\"T_a5dca_row9_col3\" class=\"data row9 col3\" >0.5000</td>\n",
       "      <td id=\"T_a5dca_row9_col4\" class=\"data row9 col4\" >0.5532</td>\n",
       "      <td id=\"T_a5dca_row9_col5\" class=\"data row9 col5\" >0.2783</td>\n",
       "      <td id=\"T_a5dca_row9_col6\" class=\"data row9 col6\" >0.2825</td>\n",
       "    </tr>\n",
       "    <tr>\n",
       "      <th id=\"T_a5dca_level0_row10\" class=\"row_heading level0 row10\" >Mean</th>\n",
       "      <td id=\"T_a5dca_row10_col0\" class=\"data row10 col0\" >0.7507</td>\n",
       "      <td id=\"T_a5dca_row10_col1\" class=\"data row10 col1\" >0.8133</td>\n",
       "      <td id=\"T_a5dca_row10_col2\" class=\"data row10 col2\" >0.6680</td>\n",
       "      <td id=\"T_a5dca_row10_col3\" class=\"data row10 col3\" >0.6418</td>\n",
       "      <td id=\"T_a5dca_row10_col4\" class=\"data row10 col4\" >0.6510</td>\n",
       "      <td id=\"T_a5dca_row10_col5\" class=\"data row10 col5\" >0.4580</td>\n",
       "      <td id=\"T_a5dca_row10_col6\" class=\"data row10 col6\" >0.4615</td>\n",
       "    </tr>\n",
       "    <tr>\n",
       "      <th id=\"T_a5dca_level0_row11\" class=\"row_heading level0 row11\" >Std</th>\n",
       "      <td id=\"T_a5dca_row11_col0\" class=\"data row11 col0\" >0.0631</td>\n",
       "      <td id=\"T_a5dca_row11_col1\" class=\"data row11 col1\" >0.0444</td>\n",
       "      <td id=\"T_a5dca_row11_col2\" class=\"data row11 col2\" >0.1017</td>\n",
       "      <td id=\"T_a5dca_row11_col3\" class=\"data row11 col3\" >0.0973</td>\n",
       "      <td id=\"T_a5dca_row11_col4\" class=\"data row11 col4\" >0.0848</td>\n",
       "      <td id=\"T_a5dca_row11_col5\" class=\"data row11 col5\" >0.1334</td>\n",
       "      <td id=\"T_a5dca_row11_col6\" class=\"data row11 col6\" >0.1350</td>\n",
       "    </tr>\n",
       "  </tbody>\n",
       "</table>\n"
      ],
      "text/plain": [
       "<pandas.io.formats.style.Styler at 0x25fd0be2d50>"
      ]
     },
     "metadata": {},
     "output_type": "display_data"
    },
    {
     "data": {
      "text/html": [],
      "text/plain": [
       "<IPython.core.display.HTML object>"
      ]
     },
     "metadata": {},
     "output_type": "display_data"
    }
   ],
   "source": [
    "from pycaret.classification import create_model\n",
    "rf = create_model('rf')  # Random Fores"
   ]
  },
  {
   "cell_type": "code",
   "execution_count": 38,
   "metadata": {},
   "outputs": [
    {
     "data": {
      "text/html": [],
      "text/plain": [
       "<IPython.core.display.HTML object>"
      ]
     },
     "metadata": {},
     "output_type": "display_data"
    },
    {
     "data": {
      "text/html": [
       "<style type=\"text/css\">\n",
       "#T_86ab9_row10_col0, #T_86ab9_row10_col1, #T_86ab9_row10_col2, #T_86ab9_row10_col3, #T_86ab9_row10_col4, #T_86ab9_row10_col5, #T_86ab9_row10_col6 {\n",
       "  background: yellow;\n",
       "}\n",
       "</style>\n",
       "<table id=\"T_86ab9\">\n",
       "  <thead>\n",
       "    <tr>\n",
       "      <th class=\"blank level0\" >&nbsp;</th>\n",
       "      <th id=\"T_86ab9_level0_col0\" class=\"col_heading level0 col0\" >Accuracy</th>\n",
       "      <th id=\"T_86ab9_level0_col1\" class=\"col_heading level0 col1\" >AUC</th>\n",
       "      <th id=\"T_86ab9_level0_col2\" class=\"col_heading level0 col2\" >Recall</th>\n",
       "      <th id=\"T_86ab9_level0_col3\" class=\"col_heading level0 col3\" >Prec.</th>\n",
       "      <th id=\"T_86ab9_level0_col4\" class=\"col_heading level0 col4\" >F1</th>\n",
       "      <th id=\"T_86ab9_level0_col5\" class=\"col_heading level0 col5\" >Kappa</th>\n",
       "      <th id=\"T_86ab9_level0_col6\" class=\"col_heading level0 col6\" >MCC</th>\n",
       "    </tr>\n",
       "    <tr>\n",
       "      <th class=\"index_name level0\" >Fold</th>\n",
       "      <th class=\"blank col0\" >&nbsp;</th>\n",
       "      <th class=\"blank col1\" >&nbsp;</th>\n",
       "      <th class=\"blank col2\" >&nbsp;</th>\n",
       "      <th class=\"blank col3\" >&nbsp;</th>\n",
       "      <th class=\"blank col4\" >&nbsp;</th>\n",
       "      <th class=\"blank col5\" >&nbsp;</th>\n",
       "      <th class=\"blank col6\" >&nbsp;</th>\n",
       "    </tr>\n",
       "  </thead>\n",
       "  <tbody>\n",
       "    <tr>\n",
       "      <th id=\"T_86ab9_level0_row0\" class=\"row_heading level0 row0\" >0</th>\n",
       "      <td id=\"T_86ab9_row0_col0\" class=\"data row0 col0\" >0.7419</td>\n",
       "      <td id=\"T_86ab9_row0_col1\" class=\"data row0 col1\" >0.8250</td>\n",
       "      <td id=\"T_86ab9_row0_col2\" class=\"data row0 col2\" >0.5455</td>\n",
       "      <td id=\"T_86ab9_row0_col3\" class=\"data row0 col3\" >0.6667</td>\n",
       "      <td id=\"T_86ab9_row0_col4\" class=\"data row0 col4\" >0.6000</td>\n",
       "      <td id=\"T_86ab9_row0_col5\" class=\"data row0 col5\" >0.4123</td>\n",
       "      <td id=\"T_86ab9_row0_col6\" class=\"data row0 col6\" >0.4168</td>\n",
       "    </tr>\n",
       "    <tr>\n",
       "      <th id=\"T_86ab9_level0_row1\" class=\"row_heading level0 row1\" >1</th>\n",
       "      <td id=\"T_86ab9_row1_col0\" class=\"data row1 col0\" >0.7742</td>\n",
       "      <td id=\"T_86ab9_row1_col1\" class=\"data row1 col1\" >0.8534</td>\n",
       "      <td id=\"T_86ab9_row1_col2\" class=\"data row1 col2\" >0.7727</td>\n",
       "      <td id=\"T_86ab9_row1_col3\" class=\"data row1 col3\" >0.6538</td>\n",
       "      <td id=\"T_86ab9_row1_col4\" class=\"data row1 col4\" >0.7083</td>\n",
       "      <td id=\"T_86ab9_row1_col5\" class=\"data row1 col5\" >0.5262</td>\n",
       "      <td id=\"T_86ab9_row1_col6\" class=\"data row1 col6\" >0.5311</td>\n",
       "    </tr>\n",
       "    <tr>\n",
       "      <th id=\"T_86ab9_level0_row2\" class=\"row_heading level0 row2\" >2</th>\n",
       "      <td id=\"T_86ab9_row2_col0\" class=\"data row2 col0\" >0.7419</td>\n",
       "      <td id=\"T_86ab9_row2_col1\" class=\"data row2 col1\" >0.8415</td>\n",
       "      <td id=\"T_86ab9_row2_col2\" class=\"data row2 col2\" >0.7273</td>\n",
       "      <td id=\"T_86ab9_row2_col3\" class=\"data row2 col3\" >0.6154</td>\n",
       "      <td id=\"T_86ab9_row2_col4\" class=\"data row2 col4\" >0.6667</td>\n",
       "      <td id=\"T_86ab9_row2_col5\" class=\"data row2 col5\" >0.4585</td>\n",
       "      <td id=\"T_86ab9_row2_col6\" class=\"data row2 col6\" >0.4628</td>\n",
       "    </tr>\n",
       "    <tr>\n",
       "      <th id=\"T_86ab9_level0_row3\" class=\"row_heading level0 row3\" >3</th>\n",
       "      <td id=\"T_86ab9_row3_col0\" class=\"data row3 col0\" >0.6935</td>\n",
       "      <td id=\"T_86ab9_row3_col1\" class=\"data row3 col1\" >0.7562</td>\n",
       "      <td id=\"T_86ab9_row3_col2\" class=\"data row3 col2\" >0.5455</td>\n",
       "      <td id=\"T_86ab9_row3_col3\" class=\"data row3 col3\" >0.5714</td>\n",
       "      <td id=\"T_86ab9_row3_col4\" class=\"data row3 col4\" >0.5581</td>\n",
       "      <td id=\"T_86ab9_row3_col5\" class=\"data row3 col5\" >0.3238</td>\n",
       "      <td id=\"T_86ab9_row3_col6\" class=\"data row3 col6\" >0.3240</td>\n",
       "    </tr>\n",
       "    <tr>\n",
       "      <th id=\"T_86ab9_level0_row4\" class=\"row_heading level0 row4\" >4</th>\n",
       "      <td id=\"T_86ab9_row4_col0\" class=\"data row4 col0\" >0.8033</td>\n",
       "      <td id=\"T_86ab9_row4_col1\" class=\"data row4 col1\" >0.8518</td>\n",
       "      <td id=\"T_86ab9_row4_col2\" class=\"data row4 col2\" >0.6190</td>\n",
       "      <td id=\"T_86ab9_row4_col3\" class=\"data row4 col3\" >0.7647</td>\n",
       "      <td id=\"T_86ab9_row4_col4\" class=\"data row4 col4\" >0.6842</td>\n",
       "      <td id=\"T_86ab9_row4_col5\" class=\"data row4 col5\" >0.5436</td>\n",
       "      <td id=\"T_86ab9_row4_col6\" class=\"data row4 col6\" >0.5500</td>\n",
       "    </tr>\n",
       "    <tr>\n",
       "      <th id=\"T_86ab9_level0_row5\" class=\"row_heading level0 row5\" >5</th>\n",
       "      <td id=\"T_86ab9_row5_col0\" class=\"data row5 col0\" >0.7377</td>\n",
       "      <td id=\"T_86ab9_row5_col1\" class=\"data row5 col1\" >0.8185</td>\n",
       "      <td id=\"T_86ab9_row5_col2\" class=\"data row5 col2\" >0.7619</td>\n",
       "      <td id=\"T_86ab9_row5_col3\" class=\"data row5 col3\" >0.5926</td>\n",
       "      <td id=\"T_86ab9_row5_col4\" class=\"data row5 col4\" >0.6667</td>\n",
       "      <td id=\"T_86ab9_row5_col5\" class=\"data row5 col5\" >0.4560</td>\n",
       "      <td id=\"T_86ab9_row5_col6\" class=\"data row5 col6\" >0.4658</td>\n",
       "    </tr>\n",
       "    <tr>\n",
       "      <th id=\"T_86ab9_level0_row6\" class=\"row_heading level0 row6\" >6</th>\n",
       "      <td id=\"T_86ab9_row6_col0\" class=\"data row6 col0\" >0.7869</td>\n",
       "      <td id=\"T_86ab9_row6_col1\" class=\"data row6 col1\" >0.8595</td>\n",
       "      <td id=\"T_86ab9_row6_col2\" class=\"data row6 col2\" >0.7143</td>\n",
       "      <td id=\"T_86ab9_row6_col3\" class=\"data row6 col3\" >0.6818</td>\n",
       "      <td id=\"T_86ab9_row6_col4\" class=\"data row6 col4\" >0.6977</td>\n",
       "      <td id=\"T_86ab9_row6_col5\" class=\"data row6 col5\" >0.5333</td>\n",
       "      <td id=\"T_86ab9_row6_col6\" class=\"data row6 col6\" >0.5336</td>\n",
       "    </tr>\n",
       "    <tr>\n",
       "      <th id=\"T_86ab9_level0_row7\" class=\"row_heading level0 row7\" >7</th>\n",
       "      <td id=\"T_86ab9_row7_col0\" class=\"data row7 col0\" >0.8033</td>\n",
       "      <td id=\"T_86ab9_row7_col1\" class=\"data row7 col1\" >0.8744</td>\n",
       "      <td id=\"T_86ab9_row7_col2\" class=\"data row7 col2\" >0.7619</td>\n",
       "      <td id=\"T_86ab9_row7_col3\" class=\"data row7 col3\" >0.6957</td>\n",
       "      <td id=\"T_86ab9_row7_col4\" class=\"data row7 col4\" >0.7273</td>\n",
       "      <td id=\"T_86ab9_row7_col5\" class=\"data row7 col5\" >0.5739</td>\n",
       "      <td id=\"T_86ab9_row7_col6\" class=\"data row7 col6\" >0.5754</td>\n",
       "    </tr>\n",
       "    <tr>\n",
       "      <th id=\"T_86ab9_level0_row8\" class=\"row_heading level0 row8\" >8</th>\n",
       "      <td id=\"T_86ab9_row8_col0\" class=\"data row8 col0\" >0.6885</td>\n",
       "      <td id=\"T_86ab9_row8_col1\" class=\"data row8 col1\" >0.7512</td>\n",
       "      <td id=\"T_86ab9_row8_col2\" class=\"data row8 col2\" >0.7143</td>\n",
       "      <td id=\"T_86ab9_row8_col3\" class=\"data row8 col3\" >0.5357</td>\n",
       "      <td id=\"T_86ab9_row8_col4\" class=\"data row8 col4\" >0.6122</td>\n",
       "      <td id=\"T_86ab9_row8_col5\" class=\"data row8 col5\" >0.3607</td>\n",
       "      <td id=\"T_86ab9_row8_col6\" class=\"data row8 col6\" >0.3712</td>\n",
       "    </tr>\n",
       "    <tr>\n",
       "      <th id=\"T_86ab9_level0_row9\" class=\"row_heading level0 row9\" >9</th>\n",
       "      <td id=\"T_86ab9_row9_col0\" class=\"data row9 col0\" >0.8033</td>\n",
       "      <td id=\"T_86ab9_row9_col1\" class=\"data row9 col1\" >0.8905</td>\n",
       "      <td id=\"T_86ab9_row9_col2\" class=\"data row9 col2\" >0.7619</td>\n",
       "      <td id=\"T_86ab9_row9_col3\" class=\"data row9 col3\" >0.6957</td>\n",
       "      <td id=\"T_86ab9_row9_col4\" class=\"data row9 col4\" >0.7273</td>\n",
       "      <td id=\"T_86ab9_row9_col5\" class=\"data row9 col5\" >0.5739</td>\n",
       "      <td id=\"T_86ab9_row9_col6\" class=\"data row9 col6\" >0.5754</td>\n",
       "    </tr>\n",
       "    <tr>\n",
       "      <th id=\"T_86ab9_level0_row10\" class=\"row_heading level0 row10\" >Mean</th>\n",
       "      <td id=\"T_86ab9_row10_col0\" class=\"data row10 col0\" >0.7575</td>\n",
       "      <td id=\"T_86ab9_row10_col1\" class=\"data row10 col1\" >0.8322</td>\n",
       "      <td id=\"T_86ab9_row10_col2\" class=\"data row10 col2\" >0.6924</td>\n",
       "      <td id=\"T_86ab9_row10_col3\" class=\"data row10 col3\" >0.6473</td>\n",
       "      <td id=\"T_86ab9_row10_col4\" class=\"data row10 col4\" >0.6648</td>\n",
       "      <td id=\"T_86ab9_row10_col5\" class=\"data row10 col5\" >0.4762</td>\n",
       "      <td id=\"T_86ab9_row10_col6\" class=\"data row10 col6\" >0.4806</td>\n",
       "    </tr>\n",
       "    <tr>\n",
       "      <th id=\"T_86ab9_level0_row11\" class=\"row_heading level0 row11\" >Std</th>\n",
       "      <td id=\"T_86ab9_row11_col0\" class=\"data row11 col0\" >0.0414</td>\n",
       "      <td id=\"T_86ab9_row11_col1\" class=\"data row11 col1\" >0.0441</td>\n",
       "      <td id=\"T_86ab9_row11_col2\" class=\"data row11 col2\" >0.0847</td>\n",
       "      <td id=\"T_86ab9_row11_col3\" class=\"data row11 col3\" >0.0650</td>\n",
       "      <td id=\"T_86ab9_row11_col4\" class=\"data row11 col4\" >0.0543</td>\n",
       "      <td id=\"T_86ab9_row11_col5\" class=\"data row11 col5\" >0.0841</td>\n",
       "      <td id=\"T_86ab9_row11_col6\" class=\"data row11 col6\" >0.0832</td>\n",
       "    </tr>\n",
       "  </tbody>\n",
       "</table>\n"
      ],
      "text/plain": [
       "<pandas.io.formats.style.Styler at 0x23341c35790>"
      ]
     },
     "metadata": {},
     "output_type": "display_data"
    },
    {
     "data": {
      "text/html": [],
      "text/plain": [
       "<IPython.core.display.HTML object>"
      ]
     },
     "metadata": {},
     "output_type": "display_data"
    },
    {
     "data": {
      "text/html": [],
      "text/plain": [
       "<IPython.core.display.HTML object>"
      ]
     },
     "metadata": {},
     "output_type": "display_data"
    },
    {
     "data": {
      "text/html": [
       "<style type=\"text/css\">\n",
       "#T_44bb4_row10_col0, #T_44bb4_row10_col1, #T_44bb4_row10_col2, #T_44bb4_row10_col3, #T_44bb4_row10_col4, #T_44bb4_row10_col5, #T_44bb4_row10_col6 {\n",
       "  background: yellow;\n",
       "}\n",
       "</style>\n",
       "<table id=\"T_44bb4\">\n",
       "  <thead>\n",
       "    <tr>\n",
       "      <th class=\"blank level0\" >&nbsp;</th>\n",
       "      <th id=\"T_44bb4_level0_col0\" class=\"col_heading level0 col0\" >Accuracy</th>\n",
       "      <th id=\"T_44bb4_level0_col1\" class=\"col_heading level0 col1\" >AUC</th>\n",
       "      <th id=\"T_44bb4_level0_col2\" class=\"col_heading level0 col2\" >Recall</th>\n",
       "      <th id=\"T_44bb4_level0_col3\" class=\"col_heading level0 col3\" >Prec.</th>\n",
       "      <th id=\"T_44bb4_level0_col4\" class=\"col_heading level0 col4\" >F1</th>\n",
       "      <th id=\"T_44bb4_level0_col5\" class=\"col_heading level0 col5\" >Kappa</th>\n",
       "      <th id=\"T_44bb4_level0_col6\" class=\"col_heading level0 col6\" >MCC</th>\n",
       "    </tr>\n",
       "    <tr>\n",
       "      <th class=\"index_name level0\" >Fold</th>\n",
       "      <th class=\"blank col0\" >&nbsp;</th>\n",
       "      <th class=\"blank col1\" >&nbsp;</th>\n",
       "      <th class=\"blank col2\" >&nbsp;</th>\n",
       "      <th class=\"blank col3\" >&nbsp;</th>\n",
       "      <th class=\"blank col4\" >&nbsp;</th>\n",
       "      <th class=\"blank col5\" >&nbsp;</th>\n",
       "      <th class=\"blank col6\" >&nbsp;</th>\n",
       "    </tr>\n",
       "  </thead>\n",
       "  <tbody>\n",
       "    <tr>\n",
       "      <th id=\"T_44bb4_level0_row0\" class=\"row_heading level0 row0\" >0</th>\n",
       "      <td id=\"T_44bb4_row0_col0\" class=\"data row0 col0\" >0.6935</td>\n",
       "      <td id=\"T_44bb4_row0_col1\" class=\"data row0 col1\" >0.8125</td>\n",
       "      <td id=\"T_44bb4_row0_col2\" class=\"data row0 col2\" >0.6818</td>\n",
       "      <td id=\"T_44bb4_row0_col3\" class=\"data row0 col3\" >0.5556</td>\n",
       "      <td id=\"T_44bb4_row0_col4\" class=\"data row0 col4\" >0.6122</td>\n",
       "      <td id=\"T_44bb4_row0_col5\" class=\"data row0 col5\" >0.3632</td>\n",
       "      <td id=\"T_44bb4_row0_col6\" class=\"data row0 col6\" >0.3685</td>\n",
       "    </tr>\n",
       "    <tr>\n",
       "      <th id=\"T_44bb4_level0_row1\" class=\"row_heading level0 row1\" >1</th>\n",
       "      <td id=\"T_44bb4_row1_col0\" class=\"data row1 col0\" >0.5161</td>\n",
       "      <td id=\"T_44bb4_row1_col1\" class=\"data row1 col1\" >0.6545</td>\n",
       "      <td id=\"T_44bb4_row1_col2\" class=\"data row1 col2\" >0.7273</td>\n",
       "      <td id=\"T_44bb4_row1_col3\" class=\"data row1 col3\" >0.4000</td>\n",
       "      <td id=\"T_44bb4_row1_col4\" class=\"data row1 col4\" >0.5161</td>\n",
       "      <td id=\"T_44bb4_row1_col5\" class=\"data row1 col5\" >0.1075</td>\n",
       "      <td id=\"T_44bb4_row1_col6\" class=\"data row1 col6\" >0.1273</td>\n",
       "    </tr>\n",
       "    <tr>\n",
       "      <th id=\"T_44bb4_level0_row2\" class=\"row_heading level0 row2\" >2</th>\n",
       "      <td id=\"T_44bb4_row2_col0\" class=\"data row2 col0\" >0.7581</td>\n",
       "      <td id=\"T_44bb4_row2_col1\" class=\"data row2 col1\" >0.7966</td>\n",
       "      <td id=\"T_44bb4_row2_col2\" class=\"data row2 col2\" >0.7273</td>\n",
       "      <td id=\"T_44bb4_row2_col3\" class=\"data row2 col3\" >0.6400</td>\n",
       "      <td id=\"T_44bb4_row2_col4\" class=\"data row2 col4\" >0.6809</td>\n",
       "      <td id=\"T_44bb4_row2_col5\" class=\"data row2 col5\" >0.4873</td>\n",
       "      <td id=\"T_44bb4_row2_col6\" class=\"data row2 col6\" >0.4899</td>\n",
       "    </tr>\n",
       "    <tr>\n",
       "      <th id=\"T_44bb4_level0_row3\" class=\"row_heading level0 row3\" >3</th>\n",
       "      <td id=\"T_44bb4_row3_col0\" class=\"data row3 col0\" >0.6452</td>\n",
       "      <td id=\"T_44bb4_row3_col1\" class=\"data row3 col1\" >0.7409</td>\n",
       "      <td id=\"T_44bb4_row3_col2\" class=\"data row3 col2\" >0.6364</td>\n",
       "      <td id=\"T_44bb4_row3_col3\" class=\"data row3 col3\" >0.5000</td>\n",
       "      <td id=\"T_44bb4_row3_col4\" class=\"data row3 col4\" >0.5600</td>\n",
       "      <td id=\"T_44bb4_row3_col5\" class=\"data row3 col5\" >0.2698</td>\n",
       "      <td id=\"T_44bb4_row3_col6\" class=\"data row3 col6\" >0.2753</td>\n",
       "    </tr>\n",
       "    <tr>\n",
       "      <th id=\"T_44bb4_level0_row4\" class=\"row_heading level0 row4\" >4</th>\n",
       "      <td id=\"T_44bb4_row4_col0\" class=\"data row4 col0\" >0.6885</td>\n",
       "      <td id=\"T_44bb4_row4_col1\" class=\"data row4 col1\" >0.7643</td>\n",
       "      <td id=\"T_44bb4_row4_col2\" class=\"data row4 col2\" >0.5238</td>\n",
       "      <td id=\"T_44bb4_row4_col3\" class=\"data row4 col3\" >0.5500</td>\n",
       "      <td id=\"T_44bb4_row4_col4\" class=\"data row4 col4\" >0.5366</td>\n",
       "      <td id=\"T_44bb4_row4_col5\" class=\"data row4 col5\" >0.3022</td>\n",
       "      <td id=\"T_44bb4_row4_col6\" class=\"data row4 col6\" >0.3024</td>\n",
       "    </tr>\n",
       "    <tr>\n",
       "      <th id=\"T_44bb4_level0_row5\" class=\"row_heading level0 row5\" >5</th>\n",
       "      <td id=\"T_44bb4_row5_col0\" class=\"data row5 col0\" >0.6557</td>\n",
       "      <td id=\"T_44bb4_row5_col1\" class=\"data row5 col1\" >0.6857</td>\n",
       "      <td id=\"T_44bb4_row5_col2\" class=\"data row5 col2\" >0.5238</td>\n",
       "      <td id=\"T_44bb4_row5_col3\" class=\"data row5 col3\" >0.5000</td>\n",
       "      <td id=\"T_44bb4_row5_col4\" class=\"data row5 col4\" >0.5116</td>\n",
       "      <td id=\"T_44bb4_row5_col5\" class=\"data row5 col5\" >0.2460</td>\n",
       "      <td id=\"T_44bb4_row5_col6\" class=\"data row5 col6\" >0.2462</td>\n",
       "    </tr>\n",
       "    <tr>\n",
       "      <th id=\"T_44bb4_level0_row6\" class=\"row_heading level0 row6\" >6</th>\n",
       "      <td id=\"T_44bb4_row6_col0\" class=\"data row6 col0\" >0.7049</td>\n",
       "      <td id=\"T_44bb4_row6_col1\" class=\"data row6 col1\" >0.8107</td>\n",
       "      <td id=\"T_44bb4_row6_col2\" class=\"data row6 col2\" >0.7143</td>\n",
       "      <td id=\"T_44bb4_row6_col3\" class=\"data row6 col3\" >0.5556</td>\n",
       "      <td id=\"T_44bb4_row6_col4\" class=\"data row6 col4\" >0.6250</td>\n",
       "      <td id=\"T_44bb4_row6_col5\" class=\"data row6 col5\" >0.3880</td>\n",
       "      <td id=\"T_44bb4_row6_col6\" class=\"data row6 col6\" >0.3963</td>\n",
       "    </tr>\n",
       "    <tr>\n",
       "      <th id=\"T_44bb4_level0_row7\" class=\"row_heading level0 row7\" >7</th>\n",
       "      <td id=\"T_44bb4_row7_col0\" class=\"data row7 col0\" >0.6885</td>\n",
       "      <td id=\"T_44bb4_row7_col1\" class=\"data row7 col1\" >0.8583</td>\n",
       "      <td id=\"T_44bb4_row7_col2\" class=\"data row7 col2\" >0.9524</td>\n",
       "      <td id=\"T_44bb4_row7_col3\" class=\"data row7 col3\" >0.5263</td>\n",
       "      <td id=\"T_44bb4_row7_col4\" class=\"data row7 col4\" >0.6780</td>\n",
       "      <td id=\"T_44bb4_row7_col5\" class=\"data row7 col5\" >0.4214</td>\n",
       "      <td id=\"T_44bb4_row7_col6\" class=\"data row7 col6\" >0.4925</td>\n",
       "    </tr>\n",
       "    <tr>\n",
       "      <th id=\"T_44bb4_level0_row8\" class=\"row_heading level0 row8\" >8</th>\n",
       "      <td id=\"T_44bb4_row8_col0\" class=\"data row8 col0\" >0.6066</td>\n",
       "      <td id=\"T_44bb4_row8_col1\" class=\"data row8 col1\" >0.6345</td>\n",
       "      <td id=\"T_44bb4_row8_col2\" class=\"data row8 col2\" >0.6190</td>\n",
       "      <td id=\"T_44bb4_row8_col3\" class=\"data row8 col3\" >0.4483</td>\n",
       "      <td id=\"T_44bb4_row8_col4\" class=\"data row8 col4\" >0.5200</td>\n",
       "      <td id=\"T_44bb4_row8_col5\" class=\"data row8 col5\" >0.2009</td>\n",
       "      <td id=\"T_44bb4_row8_col6\" class=\"data row8 col6\" >0.2084</td>\n",
       "    </tr>\n",
       "    <tr>\n",
       "      <th id=\"T_44bb4_level0_row9\" class=\"row_heading level0 row9\" >9</th>\n",
       "      <td id=\"T_44bb4_row9_col0\" class=\"data row9 col0\" >0.6885</td>\n",
       "      <td id=\"T_44bb4_row9_col1\" class=\"data row9 col1\" >0.7405</td>\n",
       "      <td id=\"T_44bb4_row9_col2\" class=\"data row9 col2\" >0.7143</td>\n",
       "      <td id=\"T_44bb4_row9_col3\" class=\"data row9 col3\" >0.5357</td>\n",
       "      <td id=\"T_44bb4_row9_col4\" class=\"data row9 col4\" >0.6122</td>\n",
       "      <td id=\"T_44bb4_row9_col5\" class=\"data row9 col5\" >0.3607</td>\n",
       "      <td id=\"T_44bb4_row9_col6\" class=\"data row9 col6\" >0.3712</td>\n",
       "    </tr>\n",
       "    <tr>\n",
       "      <th id=\"T_44bb4_level0_row10\" class=\"row_heading level0 row10\" >Mean</th>\n",
       "      <td id=\"T_44bb4_row10_col0\" class=\"data row10 col0\" >0.6646</td>\n",
       "      <td id=\"T_44bb4_row10_col1\" class=\"data row10 col1\" >0.7499</td>\n",
       "      <td id=\"T_44bb4_row10_col2\" class=\"data row10 col2\" >0.6820</td>\n",
       "      <td id=\"T_44bb4_row10_col3\" class=\"data row10 col3\" >0.5211</td>\n",
       "      <td id=\"T_44bb4_row10_col4\" class=\"data row10 col4\" >0.5853</td>\n",
       "      <td id=\"T_44bb4_row10_col5\" class=\"data row10 col5\" >0.3147</td>\n",
       "      <td id=\"T_44bb4_row10_col6\" class=\"data row10 col6\" >0.3278</td>\n",
       "    </tr>\n",
       "    <tr>\n",
       "      <th id=\"T_44bb4_level0_row11\" class=\"row_heading level0 row11\" >Std</th>\n",
       "      <td id=\"T_44bb4_row11_col0\" class=\"data row11 col0\" >0.0623</td>\n",
       "      <td id=\"T_44bb4_row11_col1\" class=\"data row11 col1\" >0.0696</td>\n",
       "      <td id=\"T_44bb4_row11_col2\" class=\"data row11 col2\" >0.1164</td>\n",
       "      <td id=\"T_44bb4_row11_col3\" class=\"data row11 col3\" >0.0620</td>\n",
       "      <td id=\"T_44bb4_row11_col4\" class=\"data row11 col4\" >0.0618</td>\n",
       "      <td id=\"T_44bb4_row11_col5\" class=\"data row11 col5\" >0.1067</td>\n",
       "      <td id=\"T_44bb4_row11_col6\" class=\"data row11 col6\" >0.1123</td>\n",
       "    </tr>\n",
       "  </tbody>\n",
       "</table>\n"
      ],
      "text/plain": [
       "<pandas.io.formats.style.Styler at 0x23330011790>"
      ]
     },
     "metadata": {},
     "output_type": "display_data"
    },
    {
     "data": {
      "text/html": [],
      "text/plain": [
       "<IPython.core.display.HTML object>"
      ]
     },
     "metadata": {},
     "output_type": "display_data"
    },
    {
     "data": {
      "text/html": [],
      "text/plain": [
       "<IPython.core.display.HTML object>"
      ]
     },
     "metadata": {},
     "output_type": "display_data"
    },
    {
     "data": {
      "text/html": [
       "<style type=\"text/css\">\n",
       "#T_72c73_row10_col0, #T_72c73_row10_col1, #T_72c73_row10_col2, #T_72c73_row10_col3, #T_72c73_row10_col4, #T_72c73_row10_col5, #T_72c73_row10_col6 {\n",
       "  background: yellow;\n",
       "}\n",
       "</style>\n",
       "<table id=\"T_72c73\">\n",
       "  <thead>\n",
       "    <tr>\n",
       "      <th class=\"blank level0\" >&nbsp;</th>\n",
       "      <th id=\"T_72c73_level0_col0\" class=\"col_heading level0 col0\" >Accuracy</th>\n",
       "      <th id=\"T_72c73_level0_col1\" class=\"col_heading level0 col1\" >AUC</th>\n",
       "      <th id=\"T_72c73_level0_col2\" class=\"col_heading level0 col2\" >Recall</th>\n",
       "      <th id=\"T_72c73_level0_col3\" class=\"col_heading level0 col3\" >Prec.</th>\n",
       "      <th id=\"T_72c73_level0_col4\" class=\"col_heading level0 col4\" >F1</th>\n",
       "      <th id=\"T_72c73_level0_col5\" class=\"col_heading level0 col5\" >Kappa</th>\n",
       "      <th id=\"T_72c73_level0_col6\" class=\"col_heading level0 col6\" >MCC</th>\n",
       "    </tr>\n",
       "    <tr>\n",
       "      <th class=\"index_name level0\" >Fold</th>\n",
       "      <th class=\"blank col0\" >&nbsp;</th>\n",
       "      <th class=\"blank col1\" >&nbsp;</th>\n",
       "      <th class=\"blank col2\" >&nbsp;</th>\n",
       "      <th class=\"blank col3\" >&nbsp;</th>\n",
       "      <th class=\"blank col4\" >&nbsp;</th>\n",
       "      <th class=\"blank col5\" >&nbsp;</th>\n",
       "      <th class=\"blank col6\" >&nbsp;</th>\n",
       "    </tr>\n",
       "  </thead>\n",
       "  <tbody>\n",
       "    <tr>\n",
       "      <th id=\"T_72c73_level0_row0\" class=\"row_heading level0 row0\" >0</th>\n",
       "      <td id=\"T_72c73_row0_col0\" class=\"data row0 col0\" >0.7258</td>\n",
       "      <td id=\"T_72c73_row0_col1\" class=\"data row0 col1\" >0.8341</td>\n",
       "      <td id=\"T_72c73_row0_col2\" class=\"data row0 col2\" >0.5909</td>\n",
       "      <td id=\"T_72c73_row0_col3\" class=\"data row0 col3\" >0.6190</td>\n",
       "      <td id=\"T_72c73_row0_col4\" class=\"data row0 col4\" >0.6047</td>\n",
       "      <td id=\"T_72c73_row0_col5\" class=\"data row0 col5\" >0.3949</td>\n",
       "      <td id=\"T_72c73_row0_col6\" class=\"data row0 col6\" >0.3952</td>\n",
       "    </tr>\n",
       "    <tr>\n",
       "      <th id=\"T_72c73_level0_row1\" class=\"row_heading level0 row1\" >1</th>\n",
       "      <td id=\"T_72c73_row1_col0\" class=\"data row1 col0\" >0.7903</td>\n",
       "      <td id=\"T_72c73_row1_col1\" class=\"data row1 col1\" >0.8670</td>\n",
       "      <td id=\"T_72c73_row1_col2\" class=\"data row1 col2\" >0.7727</td>\n",
       "      <td id=\"T_72c73_row1_col3\" class=\"data row1 col3\" >0.6800</td>\n",
       "      <td id=\"T_72c73_row1_col4\" class=\"data row1 col4\" >0.7234</td>\n",
       "      <td id=\"T_72c73_row1_col5\" class=\"data row1 col5\" >0.5557</td>\n",
       "      <td id=\"T_72c73_row1_col6\" class=\"data row1 col6\" >0.5586</td>\n",
       "    </tr>\n",
       "    <tr>\n",
       "      <th id=\"T_72c73_level0_row2\" class=\"row_heading level0 row2\" >2</th>\n",
       "      <td id=\"T_72c73_row2_col0\" class=\"data row2 col0\" >0.7903</td>\n",
       "      <td id=\"T_72c73_row2_col1\" class=\"data row2 col1\" >0.8761</td>\n",
       "      <td id=\"T_72c73_row2_col2\" class=\"data row2 col2\" >0.7727</td>\n",
       "      <td id=\"T_72c73_row2_col3\" class=\"data row2 col3\" >0.6800</td>\n",
       "      <td id=\"T_72c73_row2_col4\" class=\"data row2 col4\" >0.7234</td>\n",
       "      <td id=\"T_72c73_row2_col5\" class=\"data row2 col5\" >0.5557</td>\n",
       "      <td id=\"T_72c73_row2_col6\" class=\"data row2 col6\" >0.5586</td>\n",
       "    </tr>\n",
       "    <tr>\n",
       "      <th id=\"T_72c73_level0_row3\" class=\"row_heading level0 row3\" >3</th>\n",
       "      <td id=\"T_72c73_row3_col0\" class=\"data row3 col0\" >0.6935</td>\n",
       "      <td id=\"T_72c73_row3_col1\" class=\"data row3 col1\" >0.7659</td>\n",
       "      <td id=\"T_72c73_row3_col2\" class=\"data row3 col2\" >0.5909</td>\n",
       "      <td id=\"T_72c73_row3_col3\" class=\"data row3 col3\" >0.5652</td>\n",
       "      <td id=\"T_72c73_row3_col4\" class=\"data row3 col4\" >0.5778</td>\n",
       "      <td id=\"T_72c73_row3_col5\" class=\"data row3 col5\" >0.3375</td>\n",
       "      <td id=\"T_72c73_row3_col6\" class=\"data row3 col6\" >0.3377</td>\n",
       "    </tr>\n",
       "    <tr>\n",
       "      <th id=\"T_72c73_level0_row4\" class=\"row_heading level0 row4\" >4</th>\n",
       "      <td id=\"T_72c73_row4_col0\" class=\"data row4 col0\" >0.7213</td>\n",
       "      <td id=\"T_72c73_row4_col1\" class=\"data row4 col1\" >0.8036</td>\n",
       "      <td id=\"T_72c73_row4_col2\" class=\"data row4 col2\" >0.6667</td>\n",
       "      <td id=\"T_72c73_row4_col3\" class=\"data row4 col3\" >0.5833</td>\n",
       "      <td id=\"T_72c73_row4_col4\" class=\"data row4 col4\" >0.6222</td>\n",
       "      <td id=\"T_72c73_row4_col5\" class=\"data row4 col5\" >0.4030</td>\n",
       "      <td id=\"T_72c73_row4_col6\" class=\"data row4 col6\" >0.4052</td>\n",
       "    </tr>\n",
       "    <tr>\n",
       "      <th id=\"T_72c73_level0_row5\" class=\"row_heading level0 row5\" >5</th>\n",
       "      <td id=\"T_72c73_row5_col0\" class=\"data row5 col0\" >0.7049</td>\n",
       "      <td id=\"T_72c73_row5_col1\" class=\"data row5 col1\" >0.8202</td>\n",
       "      <td id=\"T_72c73_row5_col2\" class=\"data row5 col2\" >0.7619</td>\n",
       "      <td id=\"T_72c73_row5_col3\" class=\"data row5 col3\" >0.5517</td>\n",
       "      <td id=\"T_72c73_row5_col4\" class=\"data row5 col4\" >0.6400</td>\n",
       "      <td id=\"T_72c73_row5_col5\" class=\"data row5 col5\" >0.4007</td>\n",
       "      <td id=\"T_72c73_row5_col6\" class=\"data row5 col6\" >0.4157</td>\n",
       "    </tr>\n",
       "    <tr>\n",
       "      <th id=\"T_72c73_level0_row6\" class=\"row_heading level0 row6\" >6</th>\n",
       "      <td id=\"T_72c73_row6_col0\" class=\"data row6 col0\" >0.8033</td>\n",
       "      <td id=\"T_72c73_row6_col1\" class=\"data row6 col1\" >0.9167</td>\n",
       "      <td id=\"T_72c73_row6_col2\" class=\"data row6 col2\" >0.8571</td>\n",
       "      <td id=\"T_72c73_row6_col3\" class=\"data row6 col3\" >0.6667</td>\n",
       "      <td id=\"T_72c73_row6_col4\" class=\"data row6 col4\" >0.7500</td>\n",
       "      <td id=\"T_72c73_row6_col5\" class=\"data row6 col5\" >0.5920</td>\n",
       "      <td id=\"T_72c73_row6_col6\" class=\"data row6 col6\" >0.6047</td>\n",
       "    </tr>\n",
       "    <tr>\n",
       "      <th id=\"T_72c73_level0_row7\" class=\"row_heading level0 row7\" >7</th>\n",
       "      <td id=\"T_72c73_row7_col0\" class=\"data row7 col0\" >0.7869</td>\n",
       "      <td id=\"T_72c73_row7_col1\" class=\"data row7 col1\" >0.8845</td>\n",
       "      <td id=\"T_72c73_row7_col2\" class=\"data row7 col2\" >0.8571</td>\n",
       "      <td id=\"T_72c73_row7_col3\" class=\"data row7 col3\" >0.6429</td>\n",
       "      <td id=\"T_72c73_row7_col4\" class=\"data row7 col4\" >0.7347</td>\n",
       "      <td id=\"T_72c73_row7_col5\" class=\"data row7 col5\" >0.5626</td>\n",
       "      <td id=\"T_72c73_row7_col6\" class=\"data row7 col6\" >0.5789</td>\n",
       "    </tr>\n",
       "    <tr>\n",
       "      <th id=\"T_72c73_level0_row8\" class=\"row_heading level0 row8\" >8</th>\n",
       "      <td id=\"T_72c73_row8_col0\" class=\"data row8 col0\" >0.6885</td>\n",
       "      <td id=\"T_72c73_row8_col1\" class=\"data row8 col1\" >0.7810</td>\n",
       "      <td id=\"T_72c73_row8_col2\" class=\"data row8 col2\" >0.8095</td>\n",
       "      <td id=\"T_72c73_row8_col3\" class=\"data row8 col3\" >0.5312</td>\n",
       "      <td id=\"T_72c73_row8_col4\" class=\"data row8 col4\" >0.6415</td>\n",
       "      <td id=\"T_72c73_row8_col5\" class=\"data row8 col5\" >0.3864</td>\n",
       "      <td id=\"T_72c73_row8_col6\" class=\"data row8 col6\" >0.4134</td>\n",
       "    </tr>\n",
       "    <tr>\n",
       "      <th id=\"T_72c73_level0_row9\" class=\"row_heading level0 row9\" >9</th>\n",
       "      <td id=\"T_72c73_row9_col0\" class=\"data row9 col0\" >0.8197</td>\n",
       "      <td id=\"T_72c73_row9_col1\" class=\"data row9 col1\" >0.8583</td>\n",
       "      <td id=\"T_72c73_row9_col2\" class=\"data row9 col2\" >0.8095</td>\n",
       "      <td id=\"T_72c73_row9_col3\" class=\"data row9 col3\" >0.7083</td>\n",
       "      <td id=\"T_72c73_row9_col4\" class=\"data row9 col4\" >0.7556</td>\n",
       "      <td id=\"T_72c73_row9_col5\" class=\"data row9 col5\" >0.6137</td>\n",
       "      <td id=\"T_72c73_row9_col6\" class=\"data row9 col6\" >0.6171</td>\n",
       "    </tr>\n",
       "    <tr>\n",
       "      <th id=\"T_72c73_level0_row10\" class=\"row_heading level0 row10\" >Mean</th>\n",
       "      <td id=\"T_72c73_row10_col0\" class=\"data row10 col0\" >0.7525</td>\n",
       "      <td id=\"T_72c73_row10_col1\" class=\"data row10 col1\" >0.8407</td>\n",
       "      <td id=\"T_72c73_row10_col2\" class=\"data row10 col2\" >0.7489</td>\n",
       "      <td id=\"T_72c73_row10_col3\" class=\"data row10 col3\" >0.6228</td>\n",
       "      <td id=\"T_72c73_row10_col4\" class=\"data row10 col4\" >0.6773</td>\n",
       "      <td id=\"T_72c73_row10_col5\" class=\"data row10 col5\" >0.4802</td>\n",
       "      <td id=\"T_72c73_row10_col6\" class=\"data row10 col6\" >0.4885</td>\n",
       "    </tr>\n",
       "    <tr>\n",
       "      <th id=\"T_72c73_level0_row11\" class=\"row_heading level0 row11\" >Std</th>\n",
       "      <td id=\"T_72c73_row11_col0\" class=\"data row11 col0\" >0.0476</td>\n",
       "      <td id=\"T_72c73_row11_col1\" class=\"data row11 col1\" >0.0458</td>\n",
       "      <td id=\"T_72c73_row11_col2\" class=\"data row11 col2\" >0.0942</td>\n",
       "      <td id=\"T_72c73_row11_col3\" class=\"data row11 col3\" >0.0587</td>\n",
       "      <td id=\"T_72c73_row11_col4\" class=\"data row11 col4\" >0.0631</td>\n",
       "      <td id=\"T_72c73_row11_col5\" class=\"data row11 col5\" >0.0986</td>\n",
       "      <td id=\"T_72c73_row11_col6\" class=\"data row11 col6\" >0.0987</td>\n",
       "    </tr>\n",
       "  </tbody>\n",
       "</table>\n"
      ],
      "text/plain": [
       "<pandas.io.formats.style.Styler at 0x2333f907bd0>"
      ]
     },
     "metadata": {},
     "output_type": "display_data"
    },
    {
     "data": {
      "text/html": [],
      "text/plain": [
       "<IPython.core.display.HTML object>"
      ]
     },
     "metadata": {},
     "output_type": "display_data"
    },
    {
     "data": {
      "text/html": [],
      "text/plain": [
       "<IPython.core.display.HTML object>"
      ]
     },
     "metadata": {},
     "output_type": "display_data"
    },
    {
     "data": {
      "text/html": [
       "<style type=\"text/css\">\n",
       "#T_d0f3f_row10_col0, #T_d0f3f_row10_col1, #T_d0f3f_row10_col2, #T_d0f3f_row10_col3, #T_d0f3f_row10_col4, #T_d0f3f_row10_col5, #T_d0f3f_row10_col6 {\n",
       "  background: yellow;\n",
       "}\n",
       "</style>\n",
       "<table id=\"T_d0f3f\">\n",
       "  <thead>\n",
       "    <tr>\n",
       "      <th class=\"blank level0\" >&nbsp;</th>\n",
       "      <th id=\"T_d0f3f_level0_col0\" class=\"col_heading level0 col0\" >Accuracy</th>\n",
       "      <th id=\"T_d0f3f_level0_col1\" class=\"col_heading level0 col1\" >AUC</th>\n",
       "      <th id=\"T_d0f3f_level0_col2\" class=\"col_heading level0 col2\" >Recall</th>\n",
       "      <th id=\"T_d0f3f_level0_col3\" class=\"col_heading level0 col3\" >Prec.</th>\n",
       "      <th id=\"T_d0f3f_level0_col4\" class=\"col_heading level0 col4\" >F1</th>\n",
       "      <th id=\"T_d0f3f_level0_col5\" class=\"col_heading level0 col5\" >Kappa</th>\n",
       "      <th id=\"T_d0f3f_level0_col6\" class=\"col_heading level0 col6\" >MCC</th>\n",
       "    </tr>\n",
       "    <tr>\n",
       "      <th class=\"index_name level0\" >Fold</th>\n",
       "      <th class=\"blank col0\" >&nbsp;</th>\n",
       "      <th class=\"blank col1\" >&nbsp;</th>\n",
       "      <th class=\"blank col2\" >&nbsp;</th>\n",
       "      <th class=\"blank col3\" >&nbsp;</th>\n",
       "      <th class=\"blank col4\" >&nbsp;</th>\n",
       "      <th class=\"blank col5\" >&nbsp;</th>\n",
       "      <th class=\"blank col6\" >&nbsp;</th>\n",
       "    </tr>\n",
       "  </thead>\n",
       "  <tbody>\n",
       "    <tr>\n",
       "      <th id=\"T_d0f3f_level0_row0\" class=\"row_heading level0 row0\" >0</th>\n",
       "      <td id=\"T_d0f3f_row0_col0\" class=\"data row0 col0\" >0.7258</td>\n",
       "      <td id=\"T_d0f3f_row0_col1\" class=\"data row0 col1\" >0.8341</td>\n",
       "      <td id=\"T_d0f3f_row0_col2\" class=\"data row0 col2\" >0.5909</td>\n",
       "      <td id=\"T_d0f3f_row0_col3\" class=\"data row0 col3\" >0.6190</td>\n",
       "      <td id=\"T_d0f3f_row0_col4\" class=\"data row0 col4\" >0.6047</td>\n",
       "      <td id=\"T_d0f3f_row0_col5\" class=\"data row0 col5\" >0.3949</td>\n",
       "      <td id=\"T_d0f3f_row0_col6\" class=\"data row0 col6\" >0.3952</td>\n",
       "    </tr>\n",
       "    <tr>\n",
       "      <th id=\"T_d0f3f_level0_row1\" class=\"row_heading level0 row1\" >1</th>\n",
       "      <td id=\"T_d0f3f_row1_col0\" class=\"data row1 col0\" >0.7903</td>\n",
       "      <td id=\"T_d0f3f_row1_col1\" class=\"data row1 col1\" >0.8670</td>\n",
       "      <td id=\"T_d0f3f_row1_col2\" class=\"data row1 col2\" >0.7727</td>\n",
       "      <td id=\"T_d0f3f_row1_col3\" class=\"data row1 col3\" >0.6800</td>\n",
       "      <td id=\"T_d0f3f_row1_col4\" class=\"data row1 col4\" >0.7234</td>\n",
       "      <td id=\"T_d0f3f_row1_col5\" class=\"data row1 col5\" >0.5557</td>\n",
       "      <td id=\"T_d0f3f_row1_col6\" class=\"data row1 col6\" >0.5586</td>\n",
       "    </tr>\n",
       "    <tr>\n",
       "      <th id=\"T_d0f3f_level0_row2\" class=\"row_heading level0 row2\" >2</th>\n",
       "      <td id=\"T_d0f3f_row2_col0\" class=\"data row2 col0\" >0.7903</td>\n",
       "      <td id=\"T_d0f3f_row2_col1\" class=\"data row2 col1\" >0.8761</td>\n",
       "      <td id=\"T_d0f3f_row2_col2\" class=\"data row2 col2\" >0.7727</td>\n",
       "      <td id=\"T_d0f3f_row2_col3\" class=\"data row2 col3\" >0.6800</td>\n",
       "      <td id=\"T_d0f3f_row2_col4\" class=\"data row2 col4\" >0.7234</td>\n",
       "      <td id=\"T_d0f3f_row2_col5\" class=\"data row2 col5\" >0.5557</td>\n",
       "      <td id=\"T_d0f3f_row2_col6\" class=\"data row2 col6\" >0.5586</td>\n",
       "    </tr>\n",
       "    <tr>\n",
       "      <th id=\"T_d0f3f_level0_row3\" class=\"row_heading level0 row3\" >3</th>\n",
       "      <td id=\"T_d0f3f_row3_col0\" class=\"data row3 col0\" >0.6935</td>\n",
       "      <td id=\"T_d0f3f_row3_col1\" class=\"data row3 col1\" >0.7659</td>\n",
       "      <td id=\"T_d0f3f_row3_col2\" class=\"data row3 col2\" >0.5909</td>\n",
       "      <td id=\"T_d0f3f_row3_col3\" class=\"data row3 col3\" >0.5652</td>\n",
       "      <td id=\"T_d0f3f_row3_col4\" class=\"data row3 col4\" >0.5778</td>\n",
       "      <td id=\"T_d0f3f_row3_col5\" class=\"data row3 col5\" >0.3375</td>\n",
       "      <td id=\"T_d0f3f_row3_col6\" class=\"data row3 col6\" >0.3377</td>\n",
       "    </tr>\n",
       "    <tr>\n",
       "      <th id=\"T_d0f3f_level0_row4\" class=\"row_heading level0 row4\" >4</th>\n",
       "      <td id=\"T_d0f3f_row4_col0\" class=\"data row4 col0\" >0.7213</td>\n",
       "      <td id=\"T_d0f3f_row4_col1\" class=\"data row4 col1\" >0.8036</td>\n",
       "      <td id=\"T_d0f3f_row4_col2\" class=\"data row4 col2\" >0.6667</td>\n",
       "      <td id=\"T_d0f3f_row4_col3\" class=\"data row4 col3\" >0.5833</td>\n",
       "      <td id=\"T_d0f3f_row4_col4\" class=\"data row4 col4\" >0.6222</td>\n",
       "      <td id=\"T_d0f3f_row4_col5\" class=\"data row4 col5\" >0.4030</td>\n",
       "      <td id=\"T_d0f3f_row4_col6\" class=\"data row4 col6\" >0.4052</td>\n",
       "    </tr>\n",
       "    <tr>\n",
       "      <th id=\"T_d0f3f_level0_row5\" class=\"row_heading level0 row5\" >5</th>\n",
       "      <td id=\"T_d0f3f_row5_col0\" class=\"data row5 col0\" >0.7049</td>\n",
       "      <td id=\"T_d0f3f_row5_col1\" class=\"data row5 col1\" >0.8202</td>\n",
       "      <td id=\"T_d0f3f_row5_col2\" class=\"data row5 col2\" >0.7619</td>\n",
       "      <td id=\"T_d0f3f_row5_col3\" class=\"data row5 col3\" >0.5517</td>\n",
       "      <td id=\"T_d0f3f_row5_col4\" class=\"data row5 col4\" >0.6400</td>\n",
       "      <td id=\"T_d0f3f_row5_col5\" class=\"data row5 col5\" >0.4007</td>\n",
       "      <td id=\"T_d0f3f_row5_col6\" class=\"data row5 col6\" >0.4157</td>\n",
       "    </tr>\n",
       "    <tr>\n",
       "      <th id=\"T_d0f3f_level0_row6\" class=\"row_heading level0 row6\" >6</th>\n",
       "      <td id=\"T_d0f3f_row6_col0\" class=\"data row6 col0\" >0.8033</td>\n",
       "      <td id=\"T_d0f3f_row6_col1\" class=\"data row6 col1\" >0.9167</td>\n",
       "      <td id=\"T_d0f3f_row6_col2\" class=\"data row6 col2\" >0.8571</td>\n",
       "      <td id=\"T_d0f3f_row6_col3\" class=\"data row6 col3\" >0.6667</td>\n",
       "      <td id=\"T_d0f3f_row6_col4\" class=\"data row6 col4\" >0.7500</td>\n",
       "      <td id=\"T_d0f3f_row6_col5\" class=\"data row6 col5\" >0.5920</td>\n",
       "      <td id=\"T_d0f3f_row6_col6\" class=\"data row6 col6\" >0.6047</td>\n",
       "    </tr>\n",
       "    <tr>\n",
       "      <th id=\"T_d0f3f_level0_row7\" class=\"row_heading level0 row7\" >7</th>\n",
       "      <td id=\"T_d0f3f_row7_col0\" class=\"data row7 col0\" >0.7869</td>\n",
       "      <td id=\"T_d0f3f_row7_col1\" class=\"data row7 col1\" >0.8845</td>\n",
       "      <td id=\"T_d0f3f_row7_col2\" class=\"data row7 col2\" >0.8571</td>\n",
       "      <td id=\"T_d0f3f_row7_col3\" class=\"data row7 col3\" >0.6429</td>\n",
       "      <td id=\"T_d0f3f_row7_col4\" class=\"data row7 col4\" >0.7347</td>\n",
       "      <td id=\"T_d0f3f_row7_col5\" class=\"data row7 col5\" >0.5626</td>\n",
       "      <td id=\"T_d0f3f_row7_col6\" class=\"data row7 col6\" >0.5789</td>\n",
       "    </tr>\n",
       "    <tr>\n",
       "      <th id=\"T_d0f3f_level0_row8\" class=\"row_heading level0 row8\" >8</th>\n",
       "      <td id=\"T_d0f3f_row8_col0\" class=\"data row8 col0\" >0.6885</td>\n",
       "      <td id=\"T_d0f3f_row8_col1\" class=\"data row8 col1\" >0.7810</td>\n",
       "      <td id=\"T_d0f3f_row8_col2\" class=\"data row8 col2\" >0.8095</td>\n",
       "      <td id=\"T_d0f3f_row8_col3\" class=\"data row8 col3\" >0.5312</td>\n",
       "      <td id=\"T_d0f3f_row8_col4\" class=\"data row8 col4\" >0.6415</td>\n",
       "      <td id=\"T_d0f3f_row8_col5\" class=\"data row8 col5\" >0.3864</td>\n",
       "      <td id=\"T_d0f3f_row8_col6\" class=\"data row8 col6\" >0.4134</td>\n",
       "    </tr>\n",
       "    <tr>\n",
       "      <th id=\"T_d0f3f_level0_row9\" class=\"row_heading level0 row9\" >9</th>\n",
       "      <td id=\"T_d0f3f_row9_col0\" class=\"data row9 col0\" >0.8197</td>\n",
       "      <td id=\"T_d0f3f_row9_col1\" class=\"data row9 col1\" >0.8583</td>\n",
       "      <td id=\"T_d0f3f_row9_col2\" class=\"data row9 col2\" >0.8095</td>\n",
       "      <td id=\"T_d0f3f_row9_col3\" class=\"data row9 col3\" >0.7083</td>\n",
       "      <td id=\"T_d0f3f_row9_col4\" class=\"data row9 col4\" >0.7556</td>\n",
       "      <td id=\"T_d0f3f_row9_col5\" class=\"data row9 col5\" >0.6137</td>\n",
       "      <td id=\"T_d0f3f_row9_col6\" class=\"data row9 col6\" >0.6171</td>\n",
       "    </tr>\n",
       "    <tr>\n",
       "      <th id=\"T_d0f3f_level0_row10\" class=\"row_heading level0 row10\" >Mean</th>\n",
       "      <td id=\"T_d0f3f_row10_col0\" class=\"data row10 col0\" >0.7525</td>\n",
       "      <td id=\"T_d0f3f_row10_col1\" class=\"data row10 col1\" >0.8407</td>\n",
       "      <td id=\"T_d0f3f_row10_col2\" class=\"data row10 col2\" >0.7489</td>\n",
       "      <td id=\"T_d0f3f_row10_col3\" class=\"data row10 col3\" >0.6228</td>\n",
       "      <td id=\"T_d0f3f_row10_col4\" class=\"data row10 col4\" >0.6773</td>\n",
       "      <td id=\"T_d0f3f_row10_col5\" class=\"data row10 col5\" >0.4802</td>\n",
       "      <td id=\"T_d0f3f_row10_col6\" class=\"data row10 col6\" >0.4885</td>\n",
       "    </tr>\n",
       "    <tr>\n",
       "      <th id=\"T_d0f3f_level0_row11\" class=\"row_heading level0 row11\" >Std</th>\n",
       "      <td id=\"T_d0f3f_row11_col0\" class=\"data row11 col0\" >0.0476</td>\n",
       "      <td id=\"T_d0f3f_row11_col1\" class=\"data row11 col1\" >0.0458</td>\n",
       "      <td id=\"T_d0f3f_row11_col2\" class=\"data row11 col2\" >0.0942</td>\n",
       "      <td id=\"T_d0f3f_row11_col3\" class=\"data row11 col3\" >0.0587</td>\n",
       "      <td id=\"T_d0f3f_row11_col4\" class=\"data row11 col4\" >0.0631</td>\n",
       "      <td id=\"T_d0f3f_row11_col5\" class=\"data row11 col5\" >0.0986</td>\n",
       "      <td id=\"T_d0f3f_row11_col6\" class=\"data row11 col6\" >0.0987</td>\n",
       "    </tr>\n",
       "  </tbody>\n",
       "</table>\n"
      ],
      "text/plain": [
       "<pandas.io.formats.style.Styler at 0x23332044e90>"
      ]
     },
     "metadata": {},
     "output_type": "display_data"
    },
    {
     "data": {
      "text/html": [],
      "text/plain": [
       "<IPython.core.display.HTML object>"
      ]
     },
     "metadata": {},
     "output_type": "display_data"
    },
    {
     "data": {
      "text/html": [],
      "text/plain": [
       "<IPython.core.display.HTML object>"
      ]
     },
     "metadata": {},
     "output_type": "display_data"
    },
    {
     "data": {
      "text/html": [
       "<style type=\"text/css\">\n",
       "#T_1cceb_row10_col0, #T_1cceb_row10_col1, #T_1cceb_row10_col2, #T_1cceb_row10_col3, #T_1cceb_row10_col4, #T_1cceb_row10_col5, #T_1cceb_row10_col6 {\n",
       "  background: yellow;\n",
       "}\n",
       "</style>\n",
       "<table id=\"T_1cceb\">\n",
       "  <thead>\n",
       "    <tr>\n",
       "      <th class=\"blank level0\" >&nbsp;</th>\n",
       "      <th id=\"T_1cceb_level0_col0\" class=\"col_heading level0 col0\" >Accuracy</th>\n",
       "      <th id=\"T_1cceb_level0_col1\" class=\"col_heading level0 col1\" >AUC</th>\n",
       "      <th id=\"T_1cceb_level0_col2\" class=\"col_heading level0 col2\" >Recall</th>\n",
       "      <th id=\"T_1cceb_level0_col3\" class=\"col_heading level0 col3\" >Prec.</th>\n",
       "      <th id=\"T_1cceb_level0_col4\" class=\"col_heading level0 col4\" >F1</th>\n",
       "      <th id=\"T_1cceb_level0_col5\" class=\"col_heading level0 col5\" >Kappa</th>\n",
       "      <th id=\"T_1cceb_level0_col6\" class=\"col_heading level0 col6\" >MCC</th>\n",
       "    </tr>\n",
       "    <tr>\n",
       "      <th class=\"index_name level0\" >Fold</th>\n",
       "      <th class=\"blank col0\" >&nbsp;</th>\n",
       "      <th class=\"blank col1\" >&nbsp;</th>\n",
       "      <th class=\"blank col2\" >&nbsp;</th>\n",
       "      <th class=\"blank col3\" >&nbsp;</th>\n",
       "      <th class=\"blank col4\" >&nbsp;</th>\n",
       "      <th class=\"blank col5\" >&nbsp;</th>\n",
       "      <th class=\"blank col6\" >&nbsp;</th>\n",
       "    </tr>\n",
       "  </thead>\n",
       "  <tbody>\n",
       "    <tr>\n",
       "      <th id=\"T_1cceb_level0_row0\" class=\"row_heading level0 row0\" >0</th>\n",
       "      <td id=\"T_1cceb_row0_col0\" class=\"data row0 col0\" >0.7419</td>\n",
       "      <td id=\"T_1cceb_row0_col1\" class=\"data row0 col1\" >0.8409</td>\n",
       "      <td id=\"T_1cceb_row0_col2\" class=\"data row0 col2\" >0.5455</td>\n",
       "      <td id=\"T_1cceb_row0_col3\" class=\"data row0 col3\" >0.6667</td>\n",
       "      <td id=\"T_1cceb_row0_col4\" class=\"data row0 col4\" >0.6000</td>\n",
       "      <td id=\"T_1cceb_row0_col5\" class=\"data row0 col5\" >0.4123</td>\n",
       "      <td id=\"T_1cceb_row0_col6\" class=\"data row0 col6\" >0.4168</td>\n",
       "    </tr>\n",
       "    <tr>\n",
       "      <th id=\"T_1cceb_level0_row1\" class=\"row_heading level0 row1\" >1</th>\n",
       "      <td id=\"T_1cceb_row1_col0\" class=\"data row1 col0\" >0.7742</td>\n",
       "      <td id=\"T_1cceb_row1_col1\" class=\"data row1 col1\" >0.8534</td>\n",
       "      <td id=\"T_1cceb_row1_col2\" class=\"data row1 col2\" >0.7273</td>\n",
       "      <td id=\"T_1cceb_row1_col3\" class=\"data row1 col3\" >0.6667</td>\n",
       "      <td id=\"T_1cceb_row1_col4\" class=\"data row1 col4\" >0.6957</td>\n",
       "      <td id=\"T_1cceb_row1_col5\" class=\"data row1 col5\" >0.5167</td>\n",
       "      <td id=\"T_1cceb_row1_col6\" class=\"data row1 col6\" >0.5179</td>\n",
       "    </tr>\n",
       "    <tr>\n",
       "      <th id=\"T_1cceb_level0_row2\" class=\"row_heading level0 row2\" >2</th>\n",
       "      <td id=\"T_1cceb_row2_col0\" class=\"data row2 col0\" >0.7581</td>\n",
       "      <td id=\"T_1cceb_row2_col1\" class=\"data row2 col1\" >0.8466</td>\n",
       "      <td id=\"T_1cceb_row2_col2\" class=\"data row2 col2\" >0.7273</td>\n",
       "      <td id=\"T_1cceb_row2_col3\" class=\"data row2 col3\" >0.6400</td>\n",
       "      <td id=\"T_1cceb_row2_col4\" class=\"data row2 col4\" >0.6809</td>\n",
       "      <td id=\"T_1cceb_row2_col5\" class=\"data row2 col5\" >0.4873</td>\n",
       "      <td id=\"T_1cceb_row2_col6\" class=\"data row2 col6\" >0.4899</td>\n",
       "    </tr>\n",
       "    <tr>\n",
       "      <th id=\"T_1cceb_level0_row3\" class=\"row_heading level0 row3\" >3</th>\n",
       "      <td id=\"T_1cceb_row3_col0\" class=\"data row3 col0\" >0.6935</td>\n",
       "      <td id=\"T_1cceb_row3_col1\" class=\"data row3 col1\" >0.7557</td>\n",
       "      <td id=\"T_1cceb_row3_col2\" class=\"data row3 col2\" >0.5000</td>\n",
       "      <td id=\"T_1cceb_row3_col3\" class=\"data row3 col3\" >0.5789</td>\n",
       "      <td id=\"T_1cceb_row3_col4\" class=\"data row3 col4\" >0.5366</td>\n",
       "      <td id=\"T_1cceb_row3_col5\" class=\"data row3 col5\" >0.3095</td>\n",
       "      <td id=\"T_1cceb_row3_col6\" class=\"data row3 col6\" >0.3114</td>\n",
       "    </tr>\n",
       "    <tr>\n",
       "      <th id=\"T_1cceb_level0_row4\" class=\"row_heading level0 row4\" >4</th>\n",
       "      <td id=\"T_1cceb_row4_col0\" class=\"data row4 col0\" >0.7705</td>\n",
       "      <td id=\"T_1cceb_row4_col1\" class=\"data row4 col1\" >0.8333</td>\n",
       "      <td id=\"T_1cceb_row4_col2\" class=\"data row4 col2\" >0.5714</td>\n",
       "      <td id=\"T_1cceb_row4_col3\" class=\"data row4 col3\" >0.7059</td>\n",
       "      <td id=\"T_1cceb_row4_col4\" class=\"data row4 col4\" >0.6316</td>\n",
       "      <td id=\"T_1cceb_row4_col5\" class=\"data row4 col5\" >0.4676</td>\n",
       "      <td id=\"T_1cceb_row4_col6\" class=\"data row4 col6\" >0.4731</td>\n",
       "    </tr>\n",
       "    <tr>\n",
       "      <th id=\"T_1cceb_level0_row5\" class=\"row_heading level0 row5\" >5</th>\n",
       "      <td id=\"T_1cceb_row5_col0\" class=\"data row5 col0\" >0.7377</td>\n",
       "      <td id=\"T_1cceb_row5_col1\" class=\"data row5 col1\" >0.8238</td>\n",
       "      <td id=\"T_1cceb_row5_col2\" class=\"data row5 col2\" >0.7619</td>\n",
       "      <td id=\"T_1cceb_row5_col3\" class=\"data row5 col3\" >0.5926</td>\n",
       "      <td id=\"T_1cceb_row5_col4\" class=\"data row5 col4\" >0.6667</td>\n",
       "      <td id=\"T_1cceb_row5_col5\" class=\"data row5 col5\" >0.4560</td>\n",
       "      <td id=\"T_1cceb_row5_col6\" class=\"data row5 col6\" >0.4658</td>\n",
       "    </tr>\n",
       "    <tr>\n",
       "      <th id=\"T_1cceb_level0_row6\" class=\"row_heading level0 row6\" >6</th>\n",
       "      <td id=\"T_1cceb_row6_col0\" class=\"data row6 col0\" >0.7869</td>\n",
       "      <td id=\"T_1cceb_row6_col1\" class=\"data row6 col1\" >0.8857</td>\n",
       "      <td id=\"T_1cceb_row6_col2\" class=\"data row6 col2\" >0.7619</td>\n",
       "      <td id=\"T_1cceb_row6_col3\" class=\"data row6 col3\" >0.6667</td>\n",
       "      <td id=\"T_1cceb_row6_col4\" class=\"data row6 col4\" >0.7111</td>\n",
       "      <td id=\"T_1cceb_row6_col5\" class=\"data row6 col5\" >0.5435</td>\n",
       "      <td id=\"T_1cceb_row6_col6\" class=\"data row6 col6\" >0.5465</td>\n",
       "    </tr>\n",
       "    <tr>\n",
       "      <th id=\"T_1cceb_level0_row7\" class=\"row_heading level0 row7\" >7</th>\n",
       "      <td id=\"T_1cceb_row7_col0\" class=\"data row7 col0\" >0.8033</td>\n",
       "      <td id=\"T_1cceb_row7_col1\" class=\"data row7 col1\" >0.8833</td>\n",
       "      <td id=\"T_1cceb_row7_col2\" class=\"data row7 col2\" >0.8095</td>\n",
       "      <td id=\"T_1cceb_row7_col3\" class=\"data row7 col3\" >0.6800</td>\n",
       "      <td id=\"T_1cceb_row7_col4\" class=\"data row7 col4\" >0.7391</td>\n",
       "      <td id=\"T_1cceb_row7_col5\" class=\"data row7 col5\" >0.5831</td>\n",
       "      <td id=\"T_1cceb_row7_col6\" class=\"data row7 col6\" >0.5889</td>\n",
       "    </tr>\n",
       "    <tr>\n",
       "      <th id=\"T_1cceb_level0_row8\" class=\"row_heading level0 row8\" >8</th>\n",
       "      <td id=\"T_1cceb_row8_col0\" class=\"data row8 col0\" >0.7049</td>\n",
       "      <td id=\"T_1cceb_row8_col1\" class=\"data row8 col1\" >0.7500</td>\n",
       "      <td id=\"T_1cceb_row8_col2\" class=\"data row8 col2\" >0.7143</td>\n",
       "      <td id=\"T_1cceb_row8_col3\" class=\"data row8 col3\" >0.5556</td>\n",
       "      <td id=\"T_1cceb_row8_col4\" class=\"data row8 col4\" >0.6250</td>\n",
       "      <td id=\"T_1cceb_row8_col5\" class=\"data row8 col5\" >0.3880</td>\n",
       "      <td id=\"T_1cceb_row8_col6\" class=\"data row8 col6\" >0.3963</td>\n",
       "    </tr>\n",
       "    <tr>\n",
       "      <th id=\"T_1cceb_level0_row9\" class=\"row_heading level0 row9\" >9</th>\n",
       "      <td id=\"T_1cceb_row9_col0\" class=\"data row9 col0\" >0.8033</td>\n",
       "      <td id=\"T_1cceb_row9_col1\" class=\"data row9 col1\" >0.8893</td>\n",
       "      <td id=\"T_1cceb_row9_col2\" class=\"data row9 col2\" >0.7143</td>\n",
       "      <td id=\"T_1cceb_row9_col3\" class=\"data row9 col3\" >0.7143</td>\n",
       "      <td id=\"T_1cceb_row9_col4\" class=\"data row9 col4\" >0.7143</td>\n",
       "      <td id=\"T_1cceb_row9_col5\" class=\"data row9 col5\" >0.5643</td>\n",
       "      <td id=\"T_1cceb_row9_col6\" class=\"data row9 col6\" >0.5643</td>\n",
       "    </tr>\n",
       "    <tr>\n",
       "      <th id=\"T_1cceb_level0_row10\" class=\"row_heading level0 row10\" >Mean</th>\n",
       "      <td id=\"T_1cceb_row10_col0\" class=\"data row10 col0\" >0.7574</td>\n",
       "      <td id=\"T_1cceb_row10_col1\" class=\"data row10 col1\" >0.8362</td>\n",
       "      <td id=\"T_1cceb_row10_col2\" class=\"data row10 col2\" >0.6833</td>\n",
       "      <td id=\"T_1cceb_row10_col3\" class=\"data row10 col3\" >0.6467</td>\n",
       "      <td id=\"T_1cceb_row10_col4\" class=\"data row10 col4\" >0.6601</td>\n",
       "      <td id=\"T_1cceb_row10_col5\" class=\"data row10 col5\" >0.4728</td>\n",
       "      <td id=\"T_1cceb_row10_col6\" class=\"data row10 col6\" >0.4771</td>\n",
       "    </tr>\n",
       "    <tr>\n",
       "      <th id=\"T_1cceb_level0_row11\" class=\"row_heading level0 row11\" >Std</th>\n",
       "      <td id=\"T_1cceb_row11_col0\" class=\"data row11 col0\" >0.0360</td>\n",
       "      <td id=\"T_1cceb_row11_col1\" class=\"data row11 col1\" >0.0469</td>\n",
       "      <td id=\"T_1cceb_row11_col2\" class=\"data row11 col2\" >0.0996</td>\n",
       "      <td id=\"T_1cceb_row11_col3\" class=\"data row11 col3\" >0.0512</td>\n",
       "      <td id=\"T_1cceb_row11_col4\" class=\"data row11 col4\" >0.0587</td>\n",
       "      <td id=\"T_1cceb_row11_col5\" class=\"data row11 col5\" >0.0809</td>\n",
       "      <td id=\"T_1cceb_row11_col6\" class=\"data row11 col6\" >0.0803</td>\n",
       "    </tr>\n",
       "  </tbody>\n",
       "</table>\n"
      ],
      "text/plain": [
       "<pandas.io.formats.style.Styler at 0x2333f826c50>"
      ]
     },
     "metadata": {},
     "output_type": "display_data"
    },
    {
     "data": {
      "text/html": [],
      "text/plain": [
       "<IPython.core.display.HTML object>"
      ]
     },
     "metadata": {},
     "output_type": "display_data"
    }
   ],
   "source": [
    "\n",
    "from pycaret.classification import setup, create_model, stack_models\n",
    "# Melatih tiga model yang akan digabungkan\n",
    "rf = create_model('rf')  # Random Forest\n",
    "svm = create_model('svm')  # SVM dengan kernel linear\n",
    "lr = create_model('lr')  # Logistic Regression\n",
    "# Menggabungkan model dengan Stacking\n",
    "stacked_model = stack_models(estimator_list=[rf, svm, lr], meta_model=create_model('lr'))\n",
    "\n"
   ]
  },
  {
   "cell_type": "code",
   "execution_count": 11,
   "metadata": {},
   "outputs": [
    {
     "data": {
      "text/html": [],
      "text/plain": [
       "<IPython.core.display.HTML object>"
      ]
     },
     "metadata": {},
     "output_type": "display_data"
    },
    {
     "data": {
      "text/html": [
       "<style type=\"text/css\">\n",
       "#T_db519_row10_col0, #T_db519_row10_col1, #T_db519_row10_col2, #T_db519_row10_col3, #T_db519_row10_col4, #T_db519_row10_col5, #T_db519_row10_col6 {\n",
       "  background: yellow;\n",
       "}\n",
       "</style>\n",
       "<table id=\"T_db519\">\n",
       "  <thead>\n",
       "    <tr>\n",
       "      <th class=\"blank level0\" >&nbsp;</th>\n",
       "      <th id=\"T_db519_level0_col0\" class=\"col_heading level0 col0\" >Accuracy</th>\n",
       "      <th id=\"T_db519_level0_col1\" class=\"col_heading level0 col1\" >AUC</th>\n",
       "      <th id=\"T_db519_level0_col2\" class=\"col_heading level0 col2\" >Recall</th>\n",
       "      <th id=\"T_db519_level0_col3\" class=\"col_heading level0 col3\" >Prec.</th>\n",
       "      <th id=\"T_db519_level0_col4\" class=\"col_heading level0 col4\" >F1</th>\n",
       "      <th id=\"T_db519_level0_col5\" class=\"col_heading level0 col5\" >Kappa</th>\n",
       "      <th id=\"T_db519_level0_col6\" class=\"col_heading level0 col6\" >MCC</th>\n",
       "    </tr>\n",
       "    <tr>\n",
       "      <th class=\"index_name level0\" >Fold</th>\n",
       "      <th class=\"blank col0\" >&nbsp;</th>\n",
       "      <th class=\"blank col1\" >&nbsp;</th>\n",
       "      <th class=\"blank col2\" >&nbsp;</th>\n",
       "      <th class=\"blank col3\" >&nbsp;</th>\n",
       "      <th class=\"blank col4\" >&nbsp;</th>\n",
       "      <th class=\"blank col5\" >&nbsp;</th>\n",
       "      <th class=\"blank col6\" >&nbsp;</th>\n",
       "    </tr>\n",
       "  </thead>\n",
       "  <tbody>\n",
       "    <tr>\n",
       "      <th id=\"T_db519_level0_row0\" class=\"row_heading level0 row0\" >0</th>\n",
       "      <td id=\"T_db519_row0_col0\" class=\"data row0 col0\" >0.7419</td>\n",
       "      <td id=\"T_db519_row0_col1\" class=\"data row0 col1\" >0.8034</td>\n",
       "      <td id=\"T_db519_row0_col2\" class=\"data row0 col2\" >0.5455</td>\n",
       "      <td id=\"T_db519_row0_col3\" class=\"data row0 col3\" >0.6667</td>\n",
       "      <td id=\"T_db519_row0_col4\" class=\"data row0 col4\" >0.6000</td>\n",
       "      <td id=\"T_db519_row0_col5\" class=\"data row0 col5\" >0.4123</td>\n",
       "      <td id=\"T_db519_row0_col6\" class=\"data row0 col6\" >0.4168</td>\n",
       "    </tr>\n",
       "    <tr>\n",
       "      <th id=\"T_db519_level0_row1\" class=\"row_heading level0 row1\" >1</th>\n",
       "      <td id=\"T_db519_row1_col0\" class=\"data row1 col0\" >0.8065</td>\n",
       "      <td id=\"T_db519_row1_col1\" class=\"data row1 col1\" >0.8330</td>\n",
       "      <td id=\"T_db519_row1_col2\" class=\"data row1 col2\" >0.6818</td>\n",
       "      <td id=\"T_db519_row1_col3\" class=\"data row1 col3\" >0.7500</td>\n",
       "      <td id=\"T_db519_row1_col4\" class=\"data row1 col4\" >0.7143</td>\n",
       "      <td id=\"T_db519_row1_col5\" class=\"data row1 col5\" >0.5684</td>\n",
       "      <td id=\"T_db519_row1_col6\" class=\"data row1 col6\" >0.5699</td>\n",
       "    </tr>\n",
       "    <tr>\n",
       "      <th id=\"T_db519_level0_row2\" class=\"row_heading level0 row2\" >2</th>\n",
       "      <td id=\"T_db519_row2_col0\" class=\"data row2 col0\" >0.7742</td>\n",
       "      <td id=\"T_db519_row2_col1\" class=\"data row2 col1\" >0.8727</td>\n",
       "      <td id=\"T_db519_row2_col2\" class=\"data row2 col2\" >0.8182</td>\n",
       "      <td id=\"T_db519_row2_col3\" class=\"data row2 col3\" >0.6429</td>\n",
       "      <td id=\"T_db519_row2_col4\" class=\"data row2 col4\" >0.7200</td>\n",
       "      <td id=\"T_db519_row2_col5\" class=\"data row2 col5\" >0.5353</td>\n",
       "      <td id=\"T_db519_row2_col6\" class=\"data row2 col6\" >0.5463</td>\n",
       "    </tr>\n",
       "    <tr>\n",
       "      <th id=\"T_db519_level0_row3\" class=\"row_heading level0 row3\" >3</th>\n",
       "      <td id=\"T_db519_row3_col0\" class=\"data row3 col0\" >0.7419</td>\n",
       "      <td id=\"T_db519_row3_col1\" class=\"data row3 col1\" >0.8284</td>\n",
       "      <td id=\"T_db519_row3_col2\" class=\"data row3 col2\" >0.7727</td>\n",
       "      <td id=\"T_db519_row3_col3\" class=\"data row3 col3\" >0.6071</td>\n",
       "      <td id=\"T_db519_row3_col4\" class=\"data row3 col4\" >0.6800</td>\n",
       "      <td id=\"T_db519_row3_col5\" class=\"data row3 col5\" >0.4690</td>\n",
       "      <td id=\"T_db519_row3_col6\" class=\"data row3 col6\" >0.4785</td>\n",
       "    </tr>\n",
       "    <tr>\n",
       "      <th id=\"T_db519_level0_row4\" class=\"row_heading level0 row4\" >4</th>\n",
       "      <td id=\"T_db519_row4_col0\" class=\"data row4 col0\" >0.7541</td>\n",
       "      <td id=\"T_db519_row4_col1\" class=\"data row4 col1\" >0.8167</td>\n",
       "      <td id=\"T_db519_row4_col2\" class=\"data row4 col2\" >0.7619</td>\n",
       "      <td id=\"T_db519_row4_col3\" class=\"data row4 col3\" >0.6154</td>\n",
       "      <td id=\"T_db519_row4_col4\" class=\"data row4 col4\" >0.6809</td>\n",
       "      <td id=\"T_db519_row4_col5\" class=\"data row4 col5\" >0.4845</td>\n",
       "      <td id=\"T_db519_row4_col6\" class=\"data row4 col6\" >0.4918</td>\n",
       "    </tr>\n",
       "    <tr>\n",
       "      <th id=\"T_db519_level0_row5\" class=\"row_heading level0 row5\" >5</th>\n",
       "      <td id=\"T_db519_row5_col0\" class=\"data row5 col0\" >0.7049</td>\n",
       "      <td id=\"T_db519_row5_col1\" class=\"data row5 col1\" >0.7738</td>\n",
       "      <td id=\"T_db519_row5_col2\" class=\"data row5 col2\" >0.6667</td>\n",
       "      <td id=\"T_db519_row5_col3\" class=\"data row5 col3\" >0.5600</td>\n",
       "      <td id=\"T_db519_row5_col4\" class=\"data row5 col4\" >0.6087</td>\n",
       "      <td id=\"T_db519_row5_col5\" class=\"data row5 col5\" >0.3747</td>\n",
       "      <td id=\"T_db519_row5_col6\" class=\"data row5 col6\" >0.3784</td>\n",
       "    </tr>\n",
       "    <tr>\n",
       "      <th id=\"T_db519_level0_row6\" class=\"row_heading level0 row6\" >6</th>\n",
       "      <td id=\"T_db519_row6_col0\" class=\"data row6 col0\" >0.8197</td>\n",
       "      <td id=\"T_db519_row6_col1\" class=\"data row6 col1\" >0.8750</td>\n",
       "      <td id=\"T_db519_row6_col2\" class=\"data row6 col2\" >0.9524</td>\n",
       "      <td id=\"T_db519_row6_col3\" class=\"data row6 col3\" >0.6667</td>\n",
       "      <td id=\"T_db519_row6_col4\" class=\"data row6 col4\" >0.7843</td>\n",
       "      <td id=\"T_db519_row6_col5\" class=\"data row6 col5\" >0.6375</td>\n",
       "      <td id=\"T_db519_row6_col6\" class=\"data row6 col6\" >0.6675</td>\n",
       "    </tr>\n",
       "    <tr>\n",
       "      <th id=\"T_db519_level0_row7\" class=\"row_heading level0 row7\" >7</th>\n",
       "      <td id=\"T_db519_row7_col0\" class=\"data row7 col0\" >0.6885</td>\n",
       "      <td id=\"T_db519_row7_col1\" class=\"data row7 col1\" >0.7667</td>\n",
       "      <td id=\"T_db519_row7_col2\" class=\"data row7 col2\" >0.7143</td>\n",
       "      <td id=\"T_db519_row7_col3\" class=\"data row7 col3\" >0.5357</td>\n",
       "      <td id=\"T_db519_row7_col4\" class=\"data row7 col4\" >0.6122</td>\n",
       "      <td id=\"T_db519_row7_col5\" class=\"data row7 col5\" >0.3607</td>\n",
       "      <td id=\"T_db519_row7_col6\" class=\"data row7 col6\" >0.3712</td>\n",
       "    </tr>\n",
       "    <tr>\n",
       "      <th id=\"T_db519_level0_row8\" class=\"row_heading level0 row8\" >8</th>\n",
       "      <td id=\"T_db519_row8_col0\" class=\"data row8 col0\" >0.7869</td>\n",
       "      <td id=\"T_db519_row8_col1\" class=\"data row8 col1\" >0.9071</td>\n",
       "      <td id=\"T_db519_row8_col2\" class=\"data row8 col2\" >0.7619</td>\n",
       "      <td id=\"T_db519_row8_col3\" class=\"data row8 col3\" >0.6667</td>\n",
       "      <td id=\"T_db519_row8_col4\" class=\"data row8 col4\" >0.7111</td>\n",
       "      <td id=\"T_db519_row8_col5\" class=\"data row8 col5\" >0.5435</td>\n",
       "      <td id=\"T_db519_row8_col6\" class=\"data row8 col6\" >0.5465</td>\n",
       "    </tr>\n",
       "    <tr>\n",
       "      <th id=\"T_db519_level0_row9\" class=\"row_heading level0 row9\" >9</th>\n",
       "      <td id=\"T_db519_row9_col0\" class=\"data row9 col0\" >0.6885</td>\n",
       "      <td id=\"T_db519_row9_col1\" class=\"data row9 col1\" >0.7583</td>\n",
       "      <td id=\"T_db519_row9_col2\" class=\"data row9 col2\" >0.8095</td>\n",
       "      <td id=\"T_db519_row9_col3\" class=\"data row9 col3\" >0.5312</td>\n",
       "      <td id=\"T_db519_row9_col4\" class=\"data row9 col4\" >0.6415</td>\n",
       "      <td id=\"T_db519_row9_col5\" class=\"data row9 col5\" >0.3864</td>\n",
       "      <td id=\"T_db519_row9_col6\" class=\"data row9 col6\" >0.4134</td>\n",
       "    </tr>\n",
       "    <tr>\n",
       "      <th id=\"T_db519_level0_row10\" class=\"row_heading level0 row10\" >Mean</th>\n",
       "      <td id=\"T_db519_row10_col0\" class=\"data row10 col0\" >0.7507</td>\n",
       "      <td id=\"T_db519_row10_col1\" class=\"data row10 col1\" >0.8235</td>\n",
       "      <td id=\"T_db519_row10_col2\" class=\"data row10 col2\" >0.7485</td>\n",
       "      <td id=\"T_db519_row10_col3\" class=\"data row10 col3\" >0.6242</td>\n",
       "      <td id=\"T_db519_row10_col4\" class=\"data row10 col4\" >0.6753</td>\n",
       "      <td id=\"T_db519_row10_col5\" class=\"data row10 col5\" >0.4772</td>\n",
       "      <td id=\"T_db519_row10_col6\" class=\"data row10 col6\" >0.4880</td>\n",
       "    </tr>\n",
       "    <tr>\n",
       "      <th id=\"T_db519_level0_row11\" class=\"row_heading level0 row11\" >Std</th>\n",
       "      <td id=\"T_db519_row11_col0\" class=\"data row11 col0\" >0.0444</td>\n",
       "      <td id=\"T_db519_row11_col1\" class=\"data row11 col1\" >0.0475</td>\n",
       "      <td id=\"T_db519_row11_col2\" class=\"data row11 col2\" >0.1023</td>\n",
       "      <td id=\"T_db519_row11_col3\" class=\"data row11 col3\" >0.0652</td>\n",
       "      <td id=\"T_db519_row11_col4\" class=\"data row11 col4\" >0.0565</td>\n",
       "      <td id=\"T_db519_row11_col5\" class=\"data row11 col5\" >0.0886</td>\n",
       "      <td id=\"T_db519_row11_col6\" class=\"data row11 col6\" >0.0906</td>\n",
       "    </tr>\n",
       "  </tbody>\n",
       "</table>\n"
      ],
      "text/plain": [
       "<pandas.io.formats.style.Styler at 0x25fd5583950>"
      ]
     },
     "metadata": {},
     "output_type": "display_data"
    },
    {
     "data": {
      "text/html": [],
      "text/plain": [
       "<IPython.core.display.HTML object>"
      ]
     },
     "metadata": {},
     "output_type": "display_data"
    },
    {
     "name": "stdout",
     "output_type": "stream",
     "text": [
      "Fitting 10 folds for each of 10 candidates, totalling 100 fits\n",
      "Original model was better than the tuned model, hence it will be returned. NOTE: The display metrics are for the tuned model (not the original one).\n"
     ]
    }
   ],
   "source": [
    "# Tune Model: PyCaret memiliki fungsi tune_model() yang secara otomatis mencari kombinasi hyperparameter terbaik untuk model Anda.\n",
    "tuned_stacked_rf_model = tune_model(rf)"
   ]
  },
  {
   "cell_type": "code",
   "execution_count": 12,
   "metadata": {},
   "outputs": [
    {
     "data": {
      "text/html": [],
      "text/plain": [
       "<IPython.core.display.HTML object>"
      ]
     },
     "metadata": {},
     "output_type": "display_data"
    },
    {
     "data": {
      "image/png": "[encoded data removed]",
      "text/plain": [
       "<Figure size 800x550 with 1 Axes>"
      ]
     },
     "metadata": {},
     "output_type": "display_data"
    }
   ],
   "source": [
    "# Visualize Model Performance: Anda bisa memvisualisasikan berbagai metrik kinerja model, seperti ROC curve, confusion matrix, dll.\n",
    "plot_model(tuned_stacked_rf_model, plot='auc')\n"
   ]
  },
  {
   "cell_type": "markdown",
   "metadata": {},
   "source": [
    "bisa dilihat dari gambar ini bahwa nilai auc untuk kelas yang tidak terkena diabetes dan terkena diabetes adalah 0,86 yang artinya model ini memprediksi baik sebesar 86%.\n",
    "\n",
    "\n",
    "apakah orang tersebut terkana diabetes atau tidak. rata-rata prediksi berkisar dari 80-82%"
   ]
  },
  {
   "cell_type": "code",
   "execution_count": 13,
   "metadata": {},
   "outputs": [
    {
     "data": {
      "text/html": [],
      "text/plain": [
       "<IPython.core.display.HTML object>"
      ]
     },
     "metadata": {},
     "output_type": "display_data"
    },
    {
     "data": {
      "image/png": "[encoded data removed]",
      "text/plain": [
       "<Figure size 800x550 with 1 Axes>"
      ]
     },
     "metadata": {},
     "output_type": "display_data"
    }
   ],
   "source": [
    "plot_model(tuned_stacked_rf_model, plot='confusion_matrix')"
   ]
  },
  {
   "cell_type": "markdown",
   "metadata": {},
   "source": [
    "dari confusion matrix ini kita bisa menilai bahwa dari 110 yang diprediksi yaitu true negatif 85 di prediksi sebagai yang tidak terkena diabetes dan sesuai dengan dengan actualnya\n",
    "\n",
    "lalu 15 false positif adalah kesalahan prediksi dimana 15 di prediksi sebagai orang terkena diabetes padahl tidak terkena diabetes\n",
    "\n",
    "lalu 42 adalah prediksi dari true positif dimana di prediksi seseorang terkena diabetes \n",
    "namun 12 adalah false negatif yang dimana ada kesalahan prediksi dimana seseorang terkena diabetes hanya 12"
   ]
  },
  {
   "cell_type": "code",
   "execution_count": 14,
   "metadata": {},
   "outputs": [
    {
     "data": {
      "text/html": [],
      "text/plain": [
       "<IPython.core.display.HTML object>"
      ]
     },
     "metadata": {},
     "output_type": "display_data"
    },
    {
     "data": {
      "image/png": "[encoded data removed]",
      "text/plain": [
       "<Figure size 800x550 with 1 Axes>"
      ]
     },
     "metadata": {},
     "output_type": "display_data"
    }
   ],
   "source": [
    "plot_model(tuned_stacked_rf_model, plot='error')"
   ]
  },
  {
   "cell_type": "markdown",
   "metadata": {},
   "source": [
    "Kesimpulan dari Grafik:\n",
    "Kinerja Model pada Kelas 0: Model tampaknya cukup baik dalam memprediksi kelas 0, karena sebagian besar prediksi pada kelas 0 adalah benar (ditunjukkan oleh bar biru tua yang lebih panjang). Namun, ada kesalahan klasifikasi di mana beberapa sampel kelas 0 salah diklasifikasikan sebagai kelas 1.\n",
    "\n",
    "Kinerja Model pada Kelas 1: Model juga berhasil mengklasifikasikan banyak sampel dengan benar sebagai kelas 1 (ditunjukkan oleh bar hijau yang cukup panjang). Tetapi, model juga melakukan kesalahan dengan mengklasifikasikan beberapa sampel kelas 1 sebagai kelas 0.\n",
    "\n",
    "Overlapping: Jika ada banyak overlapping antara bar hijau dan biru di setiap kelas, itu berarti model memiliki banyak kesalahan klasifikasi, yang menunjukkan bahwa model tersebut mungkin masih perlu perbaikan.\n",
    "\n",
    "Kesimpulan Utama:\n",
    "Grafik ini menunjukkan seberapa sering model membuat kesalahan dalam memprediksi kelas dari data uji.\n",
    "Tinggi bar hijau di atas kelas 0 dan bar biru tua di atas kelas 1 menunjukkan jumlah kesalahan yang dibuat oleh model.\n",
    "Tinggi bar hijau di kelas 1 dan biru tua di kelas 0 menunjukkan prediksi yang benar oleh model."
   ]
  },
  {
   "cell_type": "code",
   "execution_count": 15,
   "metadata": {},
   "outputs": [
    {
     "name": "stdout",
     "output_type": "stream",
     "text": [
      "Transformation Pipeline and Model Successfully Saved\n"
     ]
    },
    {
     "data": {
      "text/plain": [
       "(Pipeline(memory=Memory(location=None),\n",
       "          steps=[('numerical_imputer',\n",
       "                  TransformerWrapper(exclude=None,\n",
       "                                     include=['Pregnancies', 'Glucose',\n",
       "                                              'BloodPressure', 'SkinThickness',\n",
       "                                              'Insulin', 'BMI',\n",
       "                                              'DiabetesPedigreeFunction',\n",
       "                                              'Age'],\n",
       "                                     transformer=SimpleImputer(add_indicator=False,\n",
       "                                                               copy=True,\n",
       "                                                               fill_value=None,\n",
       "                                                               keep_empty_features=False,\n",
       "                                                               missing_values=nan,\n",
       "                                                               strategy='mean'))),\n",
       "                 (...\n",
       "                  RandomForestClassifier(bootstrap=True, ccp_alpha=0.0,\n",
       "                                         class_weight=None, criterion='gini',\n",
       "                                         max_depth=None, max_features='sqrt',\n",
       "                                         max_leaf_nodes=None, max_samples=None,\n",
       "                                         min_impurity_decrease=0.0,\n",
       "                                         min_samples_leaf=1, min_samples_split=2,\n",
       "                                         min_weight_fraction_leaf=0.0,\n",
       "                                         monotonic_cst=None, n_estimators=100,\n",
       "                                         n_jobs=-1, oob_score=False,\n",
       "                                         random_state=123, verbose=0,\n",
       "                                         warm_start=False))],\n",
       "          verbose=False),\n",
       " 'Deabetes_predict.pkl')"
      ]
     },
     "execution_count": 15,
     "metadata": {},
     "output_type": "execute_result"
    }
   ],
   "source": [
    "#save model\n",
    "from pycaret.classification import save_model \n",
    "save_model(tuned_stacked_rf_model, 'Deabetes_predict')"
   ]
  }
 ],
 "metadata": {
  "kernelspec": {
   "display_name": "Python 3",
   "language": "python",
   "name": "python3"
  },
  "language_info": {
   "codemirror_mode": {
    "name": "ipython",
    "version": 3
   },
   "file_extension": ".py",
   "mimetype": "text/x-python",
   "name": "python",
   "nbconvert_exporter": "python",
   "pygments_lexer": "ipython3",
   "version": "3.11.9"
  }
 },
 "nbformat": 4,
 "nbformat_minor": 2
}
