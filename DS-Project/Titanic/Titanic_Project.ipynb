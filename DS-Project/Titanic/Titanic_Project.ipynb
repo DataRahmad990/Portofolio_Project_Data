{
 "cells": [
  {
   "cell_type": "code",
   "execution_count": 1,
   "metadata": {},
   "outputs": [],
   "source": [
    "import pandas as pd\n",
    "data=pd.read_csv(\"train.csv\")"
   ]
  },
  {
   "cell_type": "code",
   "execution_count": 2,
   "metadata": {},
   "outputs": [
    {
     "data": {
      "text/plain": [
       "(891, 12)"
      ]
     },
     "execution_count": 2,
     "metadata": {},
     "output_type": "execute_result"
    }
   ],
   "source": [
    "data.shape"
   ]
  },
  {
   "cell_type": "code",
   "execution_count": 3,
   "metadata": {},
   "outputs": [
    {
     "data": {
      "text/html": [
       "<div>\n",
       "<style scoped>\n",
       "    .dataframe tbody tr th:only-of-type {\n",
       "        vertical-align: middle;\n",
       "    }\n",
       "\n",
       "    .dataframe tbody tr th {\n",
       "        vertical-align: top;\n",
       "    }\n",
       "\n",
       "    .dataframe thead th {\n",
       "        text-align: right;\n",
       "    }\n",
       "</style>\n",
       "<table border=\"1\" class=\"dataframe\">\n",
       "  <thead>\n",
       "    <tr style=\"text-align: right;\">\n",
       "      <th></th>\n",
       "      <th>PassengerId</th>\n",
       "      <th>Survived</th>\n",
       "      <th>Pclass</th>\n",
       "      <th>Name</th>\n",
       "      <th>Sex</th>\n",
       "      <th>Age</th>\n",
       "      <th>SibSp</th>\n",
       "      <th>Parch</th>\n",
       "      <th>Ticket</th>\n",
       "      <th>Fare</th>\n",
       "      <th>Cabin</th>\n",
       "      <th>Embarked</th>\n",
       "    </tr>\n",
       "  </thead>\n",
       "  <tbody>\n",
       "    <tr>\n",
       "      <th>0</th>\n",
       "      <td>1</td>\n",
       "      <td>0</td>\n",
       "      <td>3</td>\n",
       "      <td>Braund, Mr. Owen Harris</td>\n",
       "      <td>male</td>\n",
       "      <td>22.0</td>\n",
       "      <td>1</td>\n",
       "      <td>0</td>\n",
       "      <td>A/5 21171</td>\n",
       "      <td>7.2500</td>\n",
       "      <td>NaN</td>\n",
       "      <td>S</td>\n",
       "    </tr>\n",
       "    <tr>\n",
       "      <th>1</th>\n",
       "      <td>2</td>\n",
       "      <td>1</td>\n",
       "      <td>1</td>\n",
       "      <td>Cumings, Mrs. John Bradley (Florence Briggs Th...</td>\n",
       "      <td>female</td>\n",
       "      <td>38.0</td>\n",
       "      <td>1</td>\n",
       "      <td>0</td>\n",
       "      <td>PC 17599</td>\n",
       "      <td>71.2833</td>\n",
       "      <td>C85</td>\n",
       "      <td>C</td>\n",
       "    </tr>\n",
       "    <tr>\n",
       "      <th>2</th>\n",
       "      <td>3</td>\n",
       "      <td>1</td>\n",
       "      <td>3</td>\n",
       "      <td>Heikkinen, Miss. Laina</td>\n",
       "      <td>female</td>\n",
       "      <td>26.0</td>\n",
       "      <td>0</td>\n",
       "      <td>0</td>\n",
       "      <td>STON/O2. 3101282</td>\n",
       "      <td>7.9250</td>\n",
       "      <td>NaN</td>\n",
       "      <td>S</td>\n",
       "    </tr>\n",
       "    <tr>\n",
       "      <th>3</th>\n",
       "      <td>4</td>\n",
       "      <td>1</td>\n",
       "      <td>1</td>\n",
       "      <td>Futrelle, Mrs. Jacques Heath (Lily May Peel)</td>\n",
       "      <td>female</td>\n",
       "      <td>35.0</td>\n",
       "      <td>1</td>\n",
       "      <td>0</td>\n",
       "      <td>113803</td>\n",
       "      <td>53.1000</td>\n",
       "      <td>C123</td>\n",
       "      <td>S</td>\n",
       "    </tr>\n",
       "    <tr>\n",
       "      <th>4</th>\n",
       "      <td>5</td>\n",
       "      <td>0</td>\n",
       "      <td>3</td>\n",
       "      <td>Allen, Mr. William Henry</td>\n",
       "      <td>male</td>\n",
       "      <td>35.0</td>\n",
       "      <td>0</td>\n",
       "      <td>0</td>\n",
       "      <td>373450</td>\n",
       "      <td>8.0500</td>\n",
       "      <td>NaN</td>\n",
       "      <td>S</td>\n",
       "    </tr>\n",
       "  </tbody>\n",
       "</table>\n",
       "</div>"
      ],
      "text/plain": [
       "   PassengerId  Survived  Pclass  \\\n",
       "0            1         0       3   \n",
       "1            2         1       1   \n",
       "2            3         1       3   \n",
       "3            4         1       1   \n",
       "4            5         0       3   \n",
       "\n",
       "                                                Name     Sex   Age  SibSp  \\\n",
       "0                            Braund, Mr. Owen Harris    male  22.0      1   \n",
       "1  Cumings, Mrs. John Bradley (Florence Briggs Th...  female  38.0      1   \n",
       "2                             Heikkinen, Miss. Laina  female  26.0      0   \n",
       "3       Futrelle, Mrs. Jacques Heath (Lily May Peel)  female  35.0      1   \n",
       "4                           Allen, Mr. William Henry    male  35.0      0   \n",
       "\n",
       "   Parch            Ticket     Fare Cabin Embarked  \n",
       "0      0         A/5 21171   7.2500   NaN        S  \n",
       "1      0          PC 17599  71.2833   C85        C  \n",
       "2      0  STON/O2. 3101282   7.9250   NaN        S  \n",
       "3      0            113803  53.1000  C123        S  \n",
       "4      0            373450   8.0500   NaN        S  "
      ]
     },
     "execution_count": 3,
     "metadata": {},
     "output_type": "execute_result"
    }
   ],
   "source": [
    "data.head()"
   ]
  },
  {
   "cell_type": "code",
   "execution_count": 4,
   "metadata": {},
   "outputs": [
    {
     "data": {
      "text/html": [
       "<style type=\"text/css\">\n",
       "#T_c6264_row10_col1 {\n",
       "  background-color: lightgreen;\n",
       "}\n",
       "</style>\n",
       "<table id=\"T_c6264\">\n",
       "  <thead>\n",
       "    <tr>\n",
       "      <th class=\"blank level0\" >&nbsp;</th>\n",
       "      <th id=\"T_c6264_level0_col0\" class=\"col_heading level0 col0\" >Description</th>\n",
       "      <th id=\"T_c6264_level0_col1\" class=\"col_heading level0 col1\" >Value</th>\n",
       "    </tr>\n",
       "  </thead>\n",
       "  <tbody>\n",
       "    <tr>\n",
       "      <th id=\"T_c6264_level0_row0\" class=\"row_heading level0 row0\" >0</th>\n",
       "      <td id=\"T_c6264_row0_col0\" class=\"data row0 col0\" >Session id</td>\n",
       "      <td id=\"T_c6264_row0_col1\" class=\"data row0 col1\" >123</td>\n",
       "    </tr>\n",
       "    <tr>\n",
       "      <th id=\"T_c6264_level0_row1\" class=\"row_heading level0 row1\" >1</th>\n",
       "      <td id=\"T_c6264_row1_col0\" class=\"data row1 col0\" >Target</td>\n",
       "      <td id=\"T_c6264_row1_col1\" class=\"data row1 col1\" >Survived</td>\n",
       "    </tr>\n",
       "    <tr>\n",
       "      <th id=\"T_c6264_level0_row2\" class=\"row_heading level0 row2\" >2</th>\n",
       "      <td id=\"T_c6264_row2_col0\" class=\"data row2 col0\" >Target type</td>\n",
       "      <td id=\"T_c6264_row2_col1\" class=\"data row2 col1\" >Binary</td>\n",
       "    </tr>\n",
       "    <tr>\n",
       "      <th id=\"T_c6264_level0_row3\" class=\"row_heading level0 row3\" >3</th>\n",
       "      <td id=\"T_c6264_row3_col0\" class=\"data row3 col0\" >Original data shape</td>\n",
       "      <td id=\"T_c6264_row3_col1\" class=\"data row3 col1\" >(891, 12)</td>\n",
       "    </tr>\n",
       "    <tr>\n",
       "      <th id=\"T_c6264_level0_row4\" class=\"row_heading level0 row4\" >4</th>\n",
       "      <td id=\"T_c6264_row4_col0\" class=\"data row4 col0\" >Transformed data shape</td>\n",
       "      <td id=\"T_c6264_row4_col1\" class=\"data row4 col1\" >(891, 14)</td>\n",
       "    </tr>\n",
       "    <tr>\n",
       "      <th id=\"T_c6264_level0_row5\" class=\"row_heading level0 row5\" >5</th>\n",
       "      <td id=\"T_c6264_row5_col0\" class=\"data row5 col0\" >Transformed train set shape</td>\n",
       "      <td id=\"T_c6264_row5_col1\" class=\"data row5 col1\" >(623, 14)</td>\n",
       "    </tr>\n",
       "    <tr>\n",
       "      <th id=\"T_c6264_level0_row6\" class=\"row_heading level0 row6\" >6</th>\n",
       "      <td id=\"T_c6264_row6_col0\" class=\"data row6 col0\" >Transformed test set shape</td>\n",
       "      <td id=\"T_c6264_row6_col1\" class=\"data row6 col1\" >(268, 14)</td>\n",
       "    </tr>\n",
       "    <tr>\n",
       "      <th id=\"T_c6264_level0_row7\" class=\"row_heading level0 row7\" >7</th>\n",
       "      <td id=\"T_c6264_row7_col0\" class=\"data row7 col0\" >Numeric features</td>\n",
       "      <td id=\"T_c6264_row7_col1\" class=\"data row7 col1\" >6</td>\n",
       "    </tr>\n",
       "    <tr>\n",
       "      <th id=\"T_c6264_level0_row8\" class=\"row_heading level0 row8\" >8</th>\n",
       "      <td id=\"T_c6264_row8_col0\" class=\"data row8 col0\" >Categorical features</td>\n",
       "      <td id=\"T_c6264_row8_col1\" class=\"data row8 col1\" >5</td>\n",
       "    </tr>\n",
       "    <tr>\n",
       "      <th id=\"T_c6264_level0_row9\" class=\"row_heading level0 row9\" >9</th>\n",
       "      <td id=\"T_c6264_row9_col0\" class=\"data row9 col0\" >Rows with missing values</td>\n",
       "      <td id=\"T_c6264_row9_col1\" class=\"data row9 col1\" >79.5%</td>\n",
       "    </tr>\n",
       "    <tr>\n",
       "      <th id=\"T_c6264_level0_row10\" class=\"row_heading level0 row10\" >10</th>\n",
       "      <td id=\"T_c6264_row10_col0\" class=\"data row10 col0\" >Preprocess</td>\n",
       "      <td id=\"T_c6264_row10_col1\" class=\"data row10 col1\" >True</td>\n",
       "    </tr>\n",
       "    <tr>\n",
       "      <th id=\"T_c6264_level0_row11\" class=\"row_heading level0 row11\" >11</th>\n",
       "      <td id=\"T_c6264_row11_col0\" class=\"data row11 col0\" >Imputation type</td>\n",
       "      <td id=\"T_c6264_row11_col1\" class=\"data row11 col1\" >simple</td>\n",
       "    </tr>\n",
       "    <tr>\n",
       "      <th id=\"T_c6264_level0_row12\" class=\"row_heading level0 row12\" >12</th>\n",
       "      <td id=\"T_c6264_row12_col0\" class=\"data row12 col0\" >Numeric imputation</td>\n",
       "      <td id=\"T_c6264_row12_col1\" class=\"data row12 col1\" >mean</td>\n",
       "    </tr>\n",
       "    <tr>\n",
       "      <th id=\"T_c6264_level0_row13\" class=\"row_heading level0 row13\" >13</th>\n",
       "      <td id=\"T_c6264_row13_col0\" class=\"data row13 col0\" >Categorical imputation</td>\n",
       "      <td id=\"T_c6264_row13_col1\" class=\"data row13 col1\" >mode</td>\n",
       "    </tr>\n",
       "    <tr>\n",
       "      <th id=\"T_c6264_level0_row14\" class=\"row_heading level0 row14\" >14</th>\n",
       "      <td id=\"T_c6264_row14_col0\" class=\"data row14 col0\" >Maximum one-hot encoding</td>\n",
       "      <td id=\"T_c6264_row14_col1\" class=\"data row14 col1\" >25</td>\n",
       "    </tr>\n",
       "    <tr>\n",
       "      <th id=\"T_c6264_level0_row15\" class=\"row_heading level0 row15\" >15</th>\n",
       "      <td id=\"T_c6264_row15_col0\" class=\"data row15 col0\" >Encoding method</td>\n",
       "      <td id=\"T_c6264_row15_col1\" class=\"data row15 col1\" >None</td>\n",
       "    </tr>\n",
       "    <tr>\n",
       "      <th id=\"T_c6264_level0_row16\" class=\"row_heading level0 row16\" >16</th>\n",
       "      <td id=\"T_c6264_row16_col0\" class=\"data row16 col0\" >Fold Generator</td>\n",
       "      <td id=\"T_c6264_row16_col1\" class=\"data row16 col1\" >StratifiedKFold</td>\n",
       "    </tr>\n",
       "    <tr>\n",
       "      <th id=\"T_c6264_level0_row17\" class=\"row_heading level0 row17\" >17</th>\n",
       "      <td id=\"T_c6264_row17_col0\" class=\"data row17 col0\" >Fold Number</td>\n",
       "      <td id=\"T_c6264_row17_col1\" class=\"data row17 col1\" >10</td>\n",
       "    </tr>\n",
       "    <tr>\n",
       "      <th id=\"T_c6264_level0_row18\" class=\"row_heading level0 row18\" >18</th>\n",
       "      <td id=\"T_c6264_row18_col0\" class=\"data row18 col0\" >CPU Jobs</td>\n",
       "      <td id=\"T_c6264_row18_col1\" class=\"data row18 col1\" >-1</td>\n",
       "    </tr>\n",
       "    <tr>\n",
       "      <th id=\"T_c6264_level0_row19\" class=\"row_heading level0 row19\" >19</th>\n",
       "      <td id=\"T_c6264_row19_col0\" class=\"data row19 col0\" >Use GPU</td>\n",
       "      <td id=\"T_c6264_row19_col1\" class=\"data row19 col1\" >False</td>\n",
       "    </tr>\n",
       "    <tr>\n",
       "      <th id=\"T_c6264_level0_row20\" class=\"row_heading level0 row20\" >20</th>\n",
       "      <td id=\"T_c6264_row20_col0\" class=\"data row20 col0\" >Log Experiment</td>\n",
       "      <td id=\"T_c6264_row20_col1\" class=\"data row20 col1\" >False</td>\n",
       "    </tr>\n",
       "    <tr>\n",
       "      <th id=\"T_c6264_level0_row21\" class=\"row_heading level0 row21\" >21</th>\n",
       "      <td id=\"T_c6264_row21_col0\" class=\"data row21 col0\" >Experiment Name</td>\n",
       "      <td id=\"T_c6264_row21_col1\" class=\"data row21 col1\" >clf-default-name</td>\n",
       "    </tr>\n",
       "    <tr>\n",
       "      <th id=\"T_c6264_level0_row22\" class=\"row_heading level0 row22\" >22</th>\n",
       "      <td id=\"T_c6264_row22_col0\" class=\"data row22 col0\" >USI</td>\n",
       "      <td id=\"T_c6264_row22_col1\" class=\"data row22 col1\" >6733</td>\n",
       "    </tr>\n",
       "  </tbody>\n",
       "</table>\n"
      ],
      "text/plain": [
       "<pandas.io.formats.style.Styler at 0x21b951c4610>"
      ]
     },
     "metadata": {},
     "output_type": "display_data"
    }
   ],
   "source": [
    "\n",
    "# Setup Environment: PyCaret memiliki fungsi setup() yang secara otomatis akan mempersiapkan data Anda untuk pelatihan model\n",
    "from pycaret.classification import setup\n",
    "clf1 = setup(data=data, target='Survived', verbose=True, session_id=123)"
   ]
  },
  {
   "cell_type": "code",
   "execution_count": 5,
   "metadata": {},
   "outputs": [
    {
     "data": {
      "text/html": [
       "<div>\n",
       "<style scoped>\n",
       "    .dataframe tbody tr th:only-of-type {\n",
       "        vertical-align: middle;\n",
       "    }\n",
       "\n",
       "    .dataframe tbody tr th {\n",
       "        vertical-align: top;\n",
       "    }\n",
       "\n",
       "    .dataframe thead th {\n",
       "        text-align: right;\n",
       "    }\n",
       "</style>\n",
       "<table border=\"1\" class=\"dataframe\">\n",
       "  <thead>\n",
       "    <tr style=\"text-align: right;\">\n",
       "      <th></th>\n",
       "      <th>PassengerId</th>\n",
       "      <th>Pclass</th>\n",
       "      <th>Age</th>\n",
       "      <th>SibSp</th>\n",
       "      <th>Parch</th>\n",
       "      <th>Fare</th>\n",
       "    </tr>\n",
       "  </thead>\n",
       "  <tbody>\n",
       "    <tr>\n",
       "      <th>count</th>\n",
       "      <td>891.000000</td>\n",
       "      <td>891.000000</td>\n",
       "      <td>714.000000</td>\n",
       "      <td>891.000000</td>\n",
       "      <td>891.000000</td>\n",
       "      <td>891.000000</td>\n",
       "    </tr>\n",
       "    <tr>\n",
       "      <th>mean</th>\n",
       "      <td>446.000000</td>\n",
       "      <td>2.308642</td>\n",
       "      <td>29.699118</td>\n",
       "      <td>0.523008</td>\n",
       "      <td>0.381594</td>\n",
       "      <td>32.204208</td>\n",
       "    </tr>\n",
       "    <tr>\n",
       "      <th>std</th>\n",
       "      <td>257.353842</td>\n",
       "      <td>0.836071</td>\n",
       "      <td>14.526497</td>\n",
       "      <td>1.102743</td>\n",
       "      <td>0.806057</td>\n",
       "      <td>49.693428</td>\n",
       "    </tr>\n",
       "    <tr>\n",
       "      <th>min</th>\n",
       "      <td>1.000000</td>\n",
       "      <td>1.000000</td>\n",
       "      <td>0.420000</td>\n",
       "      <td>0.000000</td>\n",
       "      <td>0.000000</td>\n",
       "      <td>0.000000</td>\n",
       "    </tr>\n",
       "    <tr>\n",
       "      <th>25%</th>\n",
       "      <td>223.500000</td>\n",
       "      <td>2.000000</td>\n",
       "      <td>20.125000</td>\n",
       "      <td>0.000000</td>\n",
       "      <td>0.000000</td>\n",
       "      <td>7.910400</td>\n",
       "    </tr>\n",
       "    <tr>\n",
       "      <th>50%</th>\n",
       "      <td>446.000000</td>\n",
       "      <td>3.000000</td>\n",
       "      <td>28.000000</td>\n",
       "      <td>0.000000</td>\n",
       "      <td>0.000000</td>\n",
       "      <td>14.454200</td>\n",
       "    </tr>\n",
       "    <tr>\n",
       "      <th>75%</th>\n",
       "      <td>668.500000</td>\n",
       "      <td>3.000000</td>\n",
       "      <td>38.000000</td>\n",
       "      <td>1.000000</td>\n",
       "      <td>0.000000</td>\n",
       "      <td>31.000000</td>\n",
       "    </tr>\n",
       "    <tr>\n",
       "      <th>max</th>\n",
       "      <td>891.000000</td>\n",
       "      <td>3.000000</td>\n",
       "      <td>80.000000</td>\n",
       "      <td>8.000000</td>\n",
       "      <td>6.000000</td>\n",
       "      <td>512.329224</td>\n",
       "    </tr>\n",
       "  </tbody>\n",
       "</table>\n",
       "</div>"
      ],
      "text/plain": [
       "       PassengerId      Pclass         Age       SibSp       Parch        Fare\n",
       "count   891.000000  891.000000  714.000000  891.000000  891.000000  891.000000\n",
       "mean    446.000000    2.308642   29.699118    0.523008    0.381594   32.204208\n",
       "std     257.353842    0.836071   14.526497    1.102743    0.806057   49.693428\n",
       "min       1.000000    1.000000    0.420000    0.000000    0.000000    0.000000\n",
       "25%     223.500000    2.000000   20.125000    0.000000    0.000000    7.910400\n",
       "50%     446.000000    3.000000   28.000000    0.000000    0.000000   14.454200\n",
       "75%     668.500000    3.000000   38.000000    1.000000    0.000000   31.000000\n",
       "max     891.000000    3.000000   80.000000    8.000000    6.000000  512.329224"
      ]
     },
     "execution_count": 5,
     "metadata": {},
     "output_type": "execute_result"
    }
   ],
   "source": [
    "#Menampilkan Statistik Deskriptif\n",
    "#Setelah setup(), Anda dapat melihat statistik deskriptif dari dataset untuk mendapatkan gambaran umum tentang data.\n",
    "\n",
    "clf1.get_config('X').describe()"
   ]
  },
  {
   "cell_type": "markdown",
   "metadata": {},
   "source": [
    "6.4 Visualisasi Interaktif dengan eda()\n",
    "PyCaret juga memiliki fungsi eda() yang menghasilkan laporan EDA interaktif menggunakan pandas-profiling atau Sweetviz."
   ]
  },
  {
   "cell_type": "code",
   "execution_count": 6,
   "metadata": {},
   "outputs": [
    {
     "data": {
      "application/vnd.jupyter.widget-view+json": {
       "model_id": "ddeeb260502347e193c0ecdb612ad51e",
       "version_major": 2,
       "version_minor": 0
      },
      "text/plain": [
       "Summarize dataset:   0%|          | 0/5 [00:00<?, ?it/s]"
      ]
     },
     "metadata": {},
     "output_type": "display_data"
    },
    {
     "data": {
      "application/vnd.jupyter.widget-view+json": {
       "model_id": "8e6a7ef4d6784ab4915136e6078b7f9d",
       "version_major": 2,
       "version_minor": 0
      },
      "text/plain": [
       "Generate report structure:   0%|          | 0/1 [00:00<?, ?it/s]"
      ]
     },
     "metadata": {},
     "output_type": "display_data"
    },
    {
     "data": {
      "application/vnd.jupyter.widget-view+json": {
       "model_id": "a5af16fb61c244cb9b7766c68b492a94",
       "version_major": 2,
       "version_minor": 0
      },
      "text/plain": [
       "Render widgets:   0%|          | 0/1 [00:00<?, ?it/s]"
      ]
     },
     "metadata": {},
     "output_type": "display_data"
    },
    {
     "data": {
      "application/vnd.jupyter.widget-view+json": {
       "model_id": "1d68dd245e3745ae9d4169734da320d0",
       "version_major": 2,
       "version_minor": 0
      },
      "text/plain": [
       "VBox(children=(Tab(children=(Tab(children=(GridBox(children=(VBox(children=(GridspecLayout(children=(HTML(valu…"
      ]
     },
     "metadata": {},
     "output_type": "display_data"
    }
   ],
   "source": [
    "from pandas_profiling import ProfileReport\n",
    "profile = ProfileReport(data, explorative=True)\n",
    "profile.to_widgets()\n"
   ]
  },
  {
   "cell_type": "code",
   "execution_count": 7,
   "metadata": {},
   "outputs": [
    {
     "data": {
      "application/vnd.jupyter.widget-view+json": {
       "model_id": "50919bcbd28c4533938bbf51b4c2c995",
       "version_major": 2,
       "version_minor": 0
      },
      "text/plain": [
       "                                             |          | [  0%]   00:00 -> (? left)"
      ]
     },
     "metadata": {},
     "output_type": "display_data"
    },
    {
     "name": "stdout",
     "output_type": "stream",
     "text": [
      "Report SWEETVIZ_REPORT.html was generated! NOTEBOOK/COLAB USERS: the web browser MAY not pop up, regardless, the report IS saved in your notebook/colab files.\n"
     ]
    }
   ],
   "source": [
    "import sweetviz as sv\n",
    "report = sv.analyze(data)\n",
    "report.show_html()\n"
   ]
  },
  {
   "cell_type": "code",
   "execution_count": 13,
   "metadata": {},
   "outputs": [
    {
     "data": {
      "text/html": [
       "<div>\n",
       "<style scoped>\n",
       "    .dataframe tbody tr th:only-of-type {\n",
       "        vertical-align: middle;\n",
       "    }\n",
       "\n",
       "    .dataframe tbody tr th {\n",
       "        vertical-align: top;\n",
       "    }\n",
       "\n",
       "    .dataframe thead th {\n",
       "        text-align: right;\n",
       "    }\n",
       "</style>\n",
       "<table border=\"1\" class=\"dataframe\">\n",
       "  <thead>\n",
       "    <tr style=\"text-align: right;\">\n",
       "      <th></th>\n",
       "      <th>PassengerId</th>\n",
       "      <th>Survived</th>\n",
       "      <th>Pclass</th>\n",
       "      <th>Name</th>\n",
       "      <th>Sex</th>\n",
       "      <th>Age</th>\n",
       "      <th>SibSp</th>\n",
       "      <th>Parch</th>\n",
       "      <th>Ticket</th>\n",
       "      <th>Fare</th>\n",
       "      <th>Cabin</th>\n",
       "      <th>Embarked</th>\n",
       "    </tr>\n",
       "  </thead>\n",
       "  <tbody>\n",
       "    <tr>\n",
       "      <th>0</th>\n",
       "      <td>1</td>\n",
       "      <td>0</td>\n",
       "      <td>3</td>\n",
       "      <td>Braund, Mr. Owen Harris</td>\n",
       "      <td>male</td>\n",
       "      <td>22.0</td>\n",
       "      <td>1</td>\n",
       "      <td>0</td>\n",
       "      <td>A/5 21171</td>\n",
       "      <td>7.2500</td>\n",
       "      <td>NaN</td>\n",
       "      <td>S</td>\n",
       "    </tr>\n",
       "    <tr>\n",
       "      <th>1</th>\n",
       "      <td>2</td>\n",
       "      <td>1</td>\n",
       "      <td>1</td>\n",
       "      <td>Cumings, Mrs. John Bradley (Florence Briggs Th...</td>\n",
       "      <td>female</td>\n",
       "      <td>38.0</td>\n",
       "      <td>1</td>\n",
       "      <td>0</td>\n",
       "      <td>PC 17599</td>\n",
       "      <td>71.2833</td>\n",
       "      <td>C85</td>\n",
       "      <td>C</td>\n",
       "    </tr>\n",
       "    <tr>\n",
       "      <th>2</th>\n",
       "      <td>3</td>\n",
       "      <td>1</td>\n",
       "      <td>3</td>\n",
       "      <td>Heikkinen, Miss. Laina</td>\n",
       "      <td>female</td>\n",
       "      <td>26.0</td>\n",
       "      <td>0</td>\n",
       "      <td>0</td>\n",
       "      <td>STON/O2. 3101282</td>\n",
       "      <td>7.9250</td>\n",
       "      <td>NaN</td>\n",
       "      <td>S</td>\n",
       "    </tr>\n",
       "    <tr>\n",
       "      <th>3</th>\n",
       "      <td>4</td>\n",
       "      <td>1</td>\n",
       "      <td>1</td>\n",
       "      <td>Futrelle, Mrs. Jacques Heath (Lily May Peel)</td>\n",
       "      <td>female</td>\n",
       "      <td>35.0</td>\n",
       "      <td>1</td>\n",
       "      <td>0</td>\n",
       "      <td>113803</td>\n",
       "      <td>53.1000</td>\n",
       "      <td>C123</td>\n",
       "      <td>S</td>\n",
       "    </tr>\n",
       "    <tr>\n",
       "      <th>4</th>\n",
       "      <td>5</td>\n",
       "      <td>0</td>\n",
       "      <td>3</td>\n",
       "      <td>Allen, Mr. William Henry</td>\n",
       "      <td>male</td>\n",
       "      <td>35.0</td>\n",
       "      <td>0</td>\n",
       "      <td>0</td>\n",
       "      <td>373450</td>\n",
       "      <td>8.0500</td>\n",
       "      <td>NaN</td>\n",
       "      <td>S</td>\n",
       "    </tr>\n",
       "  </tbody>\n",
       "</table>\n",
       "</div>"
      ],
      "text/plain": [
       "   PassengerId  Survived  Pclass  \\\n",
       "0            1         0       3   \n",
       "1            2         1       1   \n",
       "2            3         1       3   \n",
       "3            4         1       1   \n",
       "4            5         0       3   \n",
       "\n",
       "                                                Name     Sex   Age  SibSp  \\\n",
       "0                            Braund, Mr. Owen Harris    male  22.0      1   \n",
       "1  Cumings, Mrs. John Bradley (Florence Briggs Th...  female  38.0      1   \n",
       "2                             Heikkinen, Miss. Laina  female  26.0      0   \n",
       "3       Futrelle, Mrs. Jacques Heath (Lily May Peel)  female  35.0      1   \n",
       "4                           Allen, Mr. William Henry    male  35.0      0   \n",
       "\n",
       "   Parch            Ticket     Fare Cabin Embarked  \n",
       "0      0         A/5 21171   7.2500   NaN        S  \n",
       "1      0          PC 17599  71.2833   C85        C  \n",
       "2      0  STON/O2. 3101282   7.9250   NaN        S  \n",
       "3      0            113803  53.1000  C123        S  \n",
       "4      0            373450   8.0500   NaN        S  "
      ]
     },
     "execution_count": 13,
     "metadata": {},
     "output_type": "execute_result"
    }
   ],
   "source": [
    "data.head()"
   ]
  },
  {
   "cell_type": "code",
   "execution_count": 5,
   "metadata": {},
   "outputs": [
    {
     "data": {
      "text/html": [],
      "text/plain": [
       "<IPython.core.display.HTML object>"
      ]
     },
     "metadata": {},
     "output_type": "display_data"
    },
    {
     "data": {
      "text/html": [
       "<style type=\"text/css\">\n",
       "#T_6cfdc th {\n",
       "  text-align: left;\n",
       "}\n",
       "#T_6cfdc_row0_col0, #T_6cfdc_row0_col4, #T_6cfdc_row1_col0, #T_6cfdc_row1_col1, #T_6cfdc_row1_col2, #T_6cfdc_row1_col3, #T_6cfdc_row1_col4, #T_6cfdc_row1_col5, #T_6cfdc_row1_col6, #T_6cfdc_row1_col7, #T_6cfdc_row2_col0, #T_6cfdc_row2_col1, #T_6cfdc_row2_col2, #T_6cfdc_row2_col3, #T_6cfdc_row2_col4, #T_6cfdc_row2_col5, #T_6cfdc_row2_col6, #T_6cfdc_row2_col7, #T_6cfdc_row3_col0, #T_6cfdc_row3_col1, #T_6cfdc_row3_col2, #T_6cfdc_row3_col3, #T_6cfdc_row3_col5, #T_6cfdc_row3_col6, #T_6cfdc_row3_col7, #T_6cfdc_row4_col0, #T_6cfdc_row4_col1, #T_6cfdc_row4_col2, #T_6cfdc_row4_col3, #T_6cfdc_row4_col4, #T_6cfdc_row4_col5, #T_6cfdc_row4_col6, #T_6cfdc_row4_col7, #T_6cfdc_row5_col0, #T_6cfdc_row5_col1, #T_6cfdc_row5_col2, #T_6cfdc_row5_col3, #T_6cfdc_row5_col4, #T_6cfdc_row5_col5, #T_6cfdc_row5_col6, #T_6cfdc_row5_col7, #T_6cfdc_row6_col0, #T_6cfdc_row6_col1, #T_6cfdc_row6_col2, #T_6cfdc_row6_col3, #T_6cfdc_row6_col4, #T_6cfdc_row6_col5, #T_6cfdc_row6_col6, #T_6cfdc_row6_col7, #T_6cfdc_row7_col0, #T_6cfdc_row7_col1, #T_6cfdc_row7_col2, #T_6cfdc_row7_col3, #T_6cfdc_row7_col4, #T_6cfdc_row7_col5, #T_6cfdc_row7_col6, #T_6cfdc_row7_col7, #T_6cfdc_row8_col0, #T_6cfdc_row8_col1, #T_6cfdc_row8_col2, #T_6cfdc_row8_col3, #T_6cfdc_row8_col4, #T_6cfdc_row8_col5, #T_6cfdc_row8_col6, #T_6cfdc_row8_col7, #T_6cfdc_row9_col0, #T_6cfdc_row9_col1, #T_6cfdc_row9_col2, #T_6cfdc_row9_col3, #T_6cfdc_row9_col4, #T_6cfdc_row9_col5, #T_6cfdc_row9_col6, #T_6cfdc_row9_col7, #T_6cfdc_row10_col0, #T_6cfdc_row10_col1, #T_6cfdc_row10_col2, #T_6cfdc_row10_col3, #T_6cfdc_row10_col4, #T_6cfdc_row10_col5, #T_6cfdc_row10_col6, #T_6cfdc_row10_col7, #T_6cfdc_row11_col0, #T_6cfdc_row11_col1, #T_6cfdc_row11_col2, #T_6cfdc_row11_col3, #T_6cfdc_row11_col4, #T_6cfdc_row11_col5, #T_6cfdc_row11_col6, #T_6cfdc_row11_col7, #T_6cfdc_row12_col0, #T_6cfdc_row12_col1, #T_6cfdc_row12_col2, #T_6cfdc_row12_col3, #T_6cfdc_row12_col4, #T_6cfdc_row12_col5, #T_6cfdc_row12_col6, #T_6cfdc_row12_col7, #T_6cfdc_row13_col0, #T_6cfdc_row13_col1, #T_6cfdc_row13_col2, #T_6cfdc_row13_col3, #T_6cfdc_row13_col4, #T_6cfdc_row13_col5, #T_6cfdc_row13_col6, #T_6cfdc_row13_col7 {\n",
       "  text-align: left;\n",
       "}\n",
       "#T_6cfdc_row0_col1, #T_6cfdc_row0_col2, #T_6cfdc_row0_col3, #T_6cfdc_row0_col5, #T_6cfdc_row0_col6, #T_6cfdc_row0_col7, #T_6cfdc_row3_col4 {\n",
       "  text-align: left;\n",
       "  background-color: yellow;\n",
       "}\n",
       "#T_6cfdc_row0_col8, #T_6cfdc_row1_col8, #T_6cfdc_row2_col8, #T_6cfdc_row4_col8, #T_6cfdc_row5_col8, #T_6cfdc_row6_col8, #T_6cfdc_row7_col8, #T_6cfdc_row8_col8, #T_6cfdc_row9_col8, #T_6cfdc_row10_col8, #T_6cfdc_row11_col8, #T_6cfdc_row12_col8, #T_6cfdc_row13_col8 {\n",
       "  text-align: left;\n",
       "  background-color: lightgrey;\n",
       "}\n",
       "#T_6cfdc_row3_col8 {\n",
       "  text-align: left;\n",
       "  background-color: yellow;\n",
       "  background-color: lightgrey;\n",
       "}\n",
       "</style>\n",
       "<table id=\"T_6cfdc\">\n",
       "  <thead>\n",
       "    <tr>\n",
       "      <th class=\"blank level0\" >&nbsp;</th>\n",
       "      <th id=\"T_6cfdc_level0_col0\" class=\"col_heading level0 col0\" >Model</th>\n",
       "      <th id=\"T_6cfdc_level0_col1\" class=\"col_heading level0 col1\" >Accuracy</th>\n",
       "      <th id=\"T_6cfdc_level0_col2\" class=\"col_heading level0 col2\" >AUC</th>\n",
       "      <th id=\"T_6cfdc_level0_col3\" class=\"col_heading level0 col3\" >Recall</th>\n",
       "      <th id=\"T_6cfdc_level0_col4\" class=\"col_heading level0 col4\" >Prec.</th>\n",
       "      <th id=\"T_6cfdc_level0_col5\" class=\"col_heading level0 col5\" >F1</th>\n",
       "      <th id=\"T_6cfdc_level0_col6\" class=\"col_heading level0 col6\" >Kappa</th>\n",
       "      <th id=\"T_6cfdc_level0_col7\" class=\"col_heading level0 col7\" >MCC</th>\n",
       "      <th id=\"T_6cfdc_level0_col8\" class=\"col_heading level0 col8\" >TT (Sec)</th>\n",
       "    </tr>\n",
       "  </thead>\n",
       "  <tbody>\n",
       "    <tr>\n",
       "      <th id=\"T_6cfdc_level0_row0\" class=\"row_heading level0 row0\" >lr</th>\n",
       "      <td id=\"T_6cfdc_row0_col0\" class=\"data row0 col0\" >Logistic Regression</td>\n",
       "      <td id=\"T_6cfdc_row0_col1\" class=\"data row0 col1\" >0.7975</td>\n",
       "      <td id=\"T_6cfdc_row0_col2\" class=\"data row0 col2\" >0.8691</td>\n",
       "      <td id=\"T_6cfdc_row0_col3\" class=\"data row0 col3\" >0.6697</td>\n",
       "      <td id=\"T_6cfdc_row0_col4\" class=\"data row0 col4\" >0.7719</td>\n",
       "      <td id=\"T_6cfdc_row0_col5\" class=\"data row0 col5\" >0.7132</td>\n",
       "      <td id=\"T_6cfdc_row0_col6\" class=\"data row0 col6\" >0.5592</td>\n",
       "      <td id=\"T_6cfdc_row0_col7\" class=\"data row0 col7\" >0.5654</td>\n",
       "      <td id=\"T_6cfdc_row0_col8\" class=\"data row0 col8\" >1.2470</td>\n",
       "    </tr>\n",
       "    <tr>\n",
       "      <th id=\"T_6cfdc_level0_row1\" class=\"row_heading level0 row1\" >ridge</th>\n",
       "      <td id=\"T_6cfdc_row1_col0\" class=\"data row1 col0\" >Ridge Classifier</td>\n",
       "      <td id=\"T_6cfdc_row1_col1\" class=\"data row1 col1\" >0.7528</td>\n",
       "      <td id=\"T_6cfdc_row1_col2\" class=\"data row1 col2\" >0.8647</td>\n",
       "      <td id=\"T_6cfdc_row1_col3\" class=\"data row1 col3\" >0.4522</td>\n",
       "      <td id=\"T_6cfdc_row1_col4\" class=\"data row1 col4\" >0.8257</td>\n",
       "      <td id=\"T_6cfdc_row1_col5\" class=\"data row1 col5\" >0.5793</td>\n",
       "      <td id=\"T_6cfdc_row1_col6\" class=\"data row1 col6\" >0.4273</td>\n",
       "      <td id=\"T_6cfdc_row1_col7\" class=\"data row1 col7\" >0.4679</td>\n",
       "      <td id=\"T_6cfdc_row1_col8\" class=\"data row1 col8\" >0.1270</td>\n",
       "    </tr>\n",
       "    <tr>\n",
       "      <th id=\"T_6cfdc_level0_row2\" class=\"row_heading level0 row2\" >et</th>\n",
       "      <td id=\"T_6cfdc_row2_col0\" class=\"data row2 col0\" >Extra Trees Classifier</td>\n",
       "      <td id=\"T_6cfdc_row2_col1\" class=\"data row2 col1\" >0.7400</td>\n",
       "      <td id=\"T_6cfdc_row2_col2\" class=\"data row2 col2\" >0.7837</td>\n",
       "      <td id=\"T_6cfdc_row2_col3\" class=\"data row2 col3\" >0.4774</td>\n",
       "      <td id=\"T_6cfdc_row2_col4\" class=\"data row2 col4\" >0.7654</td>\n",
       "      <td id=\"T_6cfdc_row2_col5\" class=\"data row2 col5\" >0.5815</td>\n",
       "      <td id=\"T_6cfdc_row2_col6\" class=\"data row2 col6\" >0.4088</td>\n",
       "      <td id=\"T_6cfdc_row2_col7\" class=\"data row2 col7\" >0.4356</td>\n",
       "      <td id=\"T_6cfdc_row2_col8\" class=\"data row2 col8\" >0.2120</td>\n",
       "    </tr>\n",
       "    <tr>\n",
       "      <th id=\"T_6cfdc_level0_row3\" class=\"row_heading level0 row3\" >nb</th>\n",
       "      <td id=\"T_6cfdc_row3_col0\" class=\"data row3 col0\" >Naive Bayes</td>\n",
       "      <td id=\"T_6cfdc_row3_col1\" class=\"data row3 col1\" >0.6709</td>\n",
       "      <td id=\"T_6cfdc_row3_col2\" class=\"data row3 col2\" >0.7925</td>\n",
       "      <td id=\"T_6cfdc_row3_col3\" class=\"data row3 col3\" >0.1761</td>\n",
       "      <td id=\"T_6cfdc_row3_col4\" class=\"data row3 col4\" >0.8582</td>\n",
       "      <td id=\"T_6cfdc_row3_col5\" class=\"data row3 col5\" >0.2816</td>\n",
       "      <td id=\"T_6cfdc_row3_col6\" class=\"data row3 col6\" >0.1808</td>\n",
       "      <td id=\"T_6cfdc_row3_col7\" class=\"data row3 col7\" >0.2747</td>\n",
       "      <td id=\"T_6cfdc_row3_col8\" class=\"data row3 col8\" >0.0880</td>\n",
       "    </tr>\n",
       "    <tr>\n",
       "      <th id=\"T_6cfdc_level0_row4\" class=\"row_heading level0 row4\" >knn</th>\n",
       "      <td id=\"T_6cfdc_row4_col0\" class=\"data row4 col0\" >K Neighbors Classifier</td>\n",
       "      <td id=\"T_6cfdc_row4_col1\" class=\"data row4 col1\" >0.6275</td>\n",
       "      <td id=\"T_6cfdc_row4_col2\" class=\"data row4 col2\" >0.5906</td>\n",
       "      <td id=\"T_6cfdc_row4_col3\" class=\"data row4 col3\" >0.3690</td>\n",
       "      <td id=\"T_6cfdc_row4_col4\" class=\"data row4 col4\" >0.5175</td>\n",
       "      <td id=\"T_6cfdc_row4_col5\" class=\"data row4 col5\" >0.4255</td>\n",
       "      <td id=\"T_6cfdc_row4_col6\" class=\"data row4 col6\" >0.1654</td>\n",
       "      <td id=\"T_6cfdc_row4_col7\" class=\"data row4 col7\" >0.1713</td>\n",
       "      <td id=\"T_6cfdc_row4_col8\" class=\"data row4 col8\" >0.1310</td>\n",
       "    </tr>\n",
       "    <tr>\n",
       "      <th id=\"T_6cfdc_level0_row5\" class=\"row_heading level0 row5\" >lda</th>\n",
       "      <td id=\"T_6cfdc_row5_col0\" class=\"data row5 col0\" >Linear Discriminant Analysis</td>\n",
       "      <td id=\"T_6cfdc_row5_col1\" class=\"data row5 col1\" >0.6260</td>\n",
       "      <td id=\"T_6cfdc_row5_col2\" class=\"data row5 col2\" >0.5382</td>\n",
       "      <td id=\"T_6cfdc_row5_col3\" class=\"data row5 col3\" >0.0348</td>\n",
       "      <td id=\"T_6cfdc_row5_col4\" class=\"data row5 col4\" >0.0800</td>\n",
       "      <td id=\"T_6cfdc_row5_col5\" class=\"data row5 col5\" >0.0485</td>\n",
       "      <td id=\"T_6cfdc_row5_col6\" class=\"data row5 col6\" >0.0335</td>\n",
       "      <td id=\"T_6cfdc_row5_col7\" class=\"data row5 col7\" >0.0389</td>\n",
       "      <td id=\"T_6cfdc_row5_col8\" class=\"data row5 col8\" >0.0940</td>\n",
       "    </tr>\n",
       "    <tr>\n",
       "      <th id=\"T_6cfdc_level0_row6\" class=\"row_heading level0 row6\" >dt</th>\n",
       "      <td id=\"T_6cfdc_row6_col0\" class=\"data row6 col0\" >Decision Tree Classifier</td>\n",
       "      <td id=\"T_6cfdc_row6_col1\" class=\"data row6 col1\" >0.6164</td>\n",
       "      <td id=\"T_6cfdc_row6_col2\" class=\"data row6 col2\" >0.5000</td>\n",
       "      <td id=\"T_6cfdc_row6_col3\" class=\"data row6 col3\" >0.0000</td>\n",
       "      <td id=\"T_6cfdc_row6_col4\" class=\"data row6 col4\" >0.0000</td>\n",
       "      <td id=\"T_6cfdc_row6_col5\" class=\"data row6 col5\" >0.0000</td>\n",
       "      <td id=\"T_6cfdc_row6_col6\" class=\"data row6 col6\" >0.0000</td>\n",
       "      <td id=\"T_6cfdc_row6_col7\" class=\"data row6 col7\" >0.0000</td>\n",
       "      <td id=\"T_6cfdc_row6_col8\" class=\"data row6 col8\" >0.1010</td>\n",
       "    </tr>\n",
       "    <tr>\n",
       "      <th id=\"T_6cfdc_level0_row7\" class=\"row_heading level0 row7\" >rf</th>\n",
       "      <td id=\"T_6cfdc_row7_col0\" class=\"data row7 col0\" >Random Forest Classifier</td>\n",
       "      <td id=\"T_6cfdc_row7_col1\" class=\"data row7 col1\" >0.6164</td>\n",
       "      <td id=\"T_6cfdc_row7_col2\" class=\"data row7 col2\" >0.7890</td>\n",
       "      <td id=\"T_6cfdc_row7_col3\" class=\"data row7 col3\" >0.0000</td>\n",
       "      <td id=\"T_6cfdc_row7_col4\" class=\"data row7 col4\" >0.0000</td>\n",
       "      <td id=\"T_6cfdc_row7_col5\" class=\"data row7 col5\" >0.0000</td>\n",
       "      <td id=\"T_6cfdc_row7_col6\" class=\"data row7 col6\" >0.0000</td>\n",
       "      <td id=\"T_6cfdc_row7_col7\" class=\"data row7 col7\" >0.0000</td>\n",
       "      <td id=\"T_6cfdc_row7_col8\" class=\"data row7 col8\" >0.2600</td>\n",
       "    </tr>\n",
       "    <tr>\n",
       "      <th id=\"T_6cfdc_level0_row8\" class=\"row_heading level0 row8\" >ada</th>\n",
       "      <td id=\"T_6cfdc_row8_col0\" class=\"data row8 col0\" >Ada Boost Classifier</td>\n",
       "      <td id=\"T_6cfdc_row8_col1\" class=\"data row8 col1\" >0.6164</td>\n",
       "      <td id=\"T_6cfdc_row8_col2\" class=\"data row8 col2\" >0.5000</td>\n",
       "      <td id=\"T_6cfdc_row8_col3\" class=\"data row8 col3\" >0.0000</td>\n",
       "      <td id=\"T_6cfdc_row8_col4\" class=\"data row8 col4\" >0.0000</td>\n",
       "      <td id=\"T_6cfdc_row8_col5\" class=\"data row8 col5\" >0.0000</td>\n",
       "      <td id=\"T_6cfdc_row8_col6\" class=\"data row8 col6\" >0.0000</td>\n",
       "      <td id=\"T_6cfdc_row8_col7\" class=\"data row8 col7\" >0.0000</td>\n",
       "      <td id=\"T_6cfdc_row8_col8\" class=\"data row8 col8\" >0.0940</td>\n",
       "    </tr>\n",
       "    <tr>\n",
       "      <th id=\"T_6cfdc_level0_row9\" class=\"row_heading level0 row9\" >gbc</th>\n",
       "      <td id=\"T_6cfdc_row9_col0\" class=\"data row9 col0\" >Gradient Boosting Classifier</td>\n",
       "      <td id=\"T_6cfdc_row9_col1\" class=\"data row9 col1\" >0.6164</td>\n",
       "      <td id=\"T_6cfdc_row9_col2\" class=\"data row9 col2\" >0.5000</td>\n",
       "      <td id=\"T_6cfdc_row9_col3\" class=\"data row9 col3\" >0.0000</td>\n",
       "      <td id=\"T_6cfdc_row9_col4\" class=\"data row9 col4\" >0.0000</td>\n",
       "      <td id=\"T_6cfdc_row9_col5\" class=\"data row9 col5\" >0.0000</td>\n",
       "      <td id=\"T_6cfdc_row9_col6\" class=\"data row9 col6\" >0.0000</td>\n",
       "      <td id=\"T_6cfdc_row9_col7\" class=\"data row9 col7\" >0.0000</td>\n",
       "      <td id=\"T_6cfdc_row9_col8\" class=\"data row9 col8\" >0.1720</td>\n",
       "    </tr>\n",
       "    <tr>\n",
       "      <th id=\"T_6cfdc_level0_row10\" class=\"row_heading level0 row10\" >lightgbm</th>\n",
       "      <td id=\"T_6cfdc_row10_col0\" class=\"data row10 col0\" >Light Gradient Boosting Machine</td>\n",
       "      <td id=\"T_6cfdc_row10_col1\" class=\"data row10 col1\" >0.6164</td>\n",
       "      <td id=\"T_6cfdc_row10_col2\" class=\"data row10 col2\" >0.5183</td>\n",
       "      <td id=\"T_6cfdc_row10_col3\" class=\"data row10 col3\" >0.0000</td>\n",
       "      <td id=\"T_6cfdc_row10_col4\" class=\"data row10 col4\" >0.0000</td>\n",
       "      <td id=\"T_6cfdc_row10_col5\" class=\"data row10 col5\" >0.0000</td>\n",
       "      <td id=\"T_6cfdc_row10_col6\" class=\"data row10 col6\" >0.0000</td>\n",
       "      <td id=\"T_6cfdc_row10_col7\" class=\"data row10 col7\" >0.0000</td>\n",
       "      <td id=\"T_6cfdc_row10_col8\" class=\"data row10 col8\" >0.1580</td>\n",
       "    </tr>\n",
       "    <tr>\n",
       "      <th id=\"T_6cfdc_level0_row11\" class=\"row_heading level0 row11\" >dummy</th>\n",
       "      <td id=\"T_6cfdc_row11_col0\" class=\"data row11 col0\" >Dummy Classifier</td>\n",
       "      <td id=\"T_6cfdc_row11_col1\" class=\"data row11 col1\" >0.6164</td>\n",
       "      <td id=\"T_6cfdc_row11_col2\" class=\"data row11 col2\" >0.5000</td>\n",
       "      <td id=\"T_6cfdc_row11_col3\" class=\"data row11 col3\" >0.0000</td>\n",
       "      <td id=\"T_6cfdc_row11_col4\" class=\"data row11 col4\" >0.0000</td>\n",
       "      <td id=\"T_6cfdc_row11_col5\" class=\"data row11 col5\" >0.0000</td>\n",
       "      <td id=\"T_6cfdc_row11_col6\" class=\"data row11 col6\" >0.0000</td>\n",
       "      <td id=\"T_6cfdc_row11_col7\" class=\"data row11 col7\" >0.0000</td>\n",
       "      <td id=\"T_6cfdc_row11_col8\" class=\"data row11 col8\" >0.0900</td>\n",
       "    </tr>\n",
       "    <tr>\n",
       "      <th id=\"T_6cfdc_level0_row12\" class=\"row_heading level0 row12\" >qda</th>\n",
       "      <td id=\"T_6cfdc_row12_col0\" class=\"data row12 col0\" >Quadratic Discriminant Analysis</td>\n",
       "      <td id=\"T_6cfdc_row12_col1\" class=\"data row12 col1\" >0.5938</td>\n",
       "      <td id=\"T_6cfdc_row12_col2\" class=\"data row12 col2\" >0.4486</td>\n",
       "      <td id=\"T_6cfdc_row12_col3\" class=\"data row12 col3\" >0.1000</td>\n",
       "      <td id=\"T_6cfdc_row12_col4\" class=\"data row12 col4\" >0.0387</td>\n",
       "      <td id=\"T_6cfdc_row12_col5\" class=\"data row12 col5\" >0.0558</td>\n",
       "      <td id=\"T_6cfdc_row12_col6\" class=\"data row12 col6\" >0.0000</td>\n",
       "      <td id=\"T_6cfdc_row12_col7\" class=\"data row12 col7\" >0.0000</td>\n",
       "      <td id=\"T_6cfdc_row12_col8\" class=\"data row12 col8\" >0.0910</td>\n",
       "    </tr>\n",
       "    <tr>\n",
       "      <th id=\"T_6cfdc_level0_row13\" class=\"row_heading level0 row13\" >svm</th>\n",
       "      <td id=\"T_6cfdc_row13_col0\" class=\"data row13 col0\" >SVM - Linear Kernel</td>\n",
       "      <td id=\"T_6cfdc_row13_col1\" class=\"data row13 col1\" >0.5651</td>\n",
       "      <td id=\"T_6cfdc_row13_col2\" class=\"data row13 col2\" >0.6070</td>\n",
       "      <td id=\"T_6cfdc_row13_col3\" class=\"data row13 col3\" >0.3915</td>\n",
       "      <td id=\"T_6cfdc_row13_col4\" class=\"data row13 col4\" >0.5018</td>\n",
       "      <td id=\"T_6cfdc_row13_col5\" class=\"data row13 col5\" >0.3121</td>\n",
       "      <td id=\"T_6cfdc_row13_col6\" class=\"data row13 col6\" >0.0717</td>\n",
       "      <td id=\"T_6cfdc_row13_col7\" class=\"data row13 col7\" >0.1066</td>\n",
       "      <td id=\"T_6cfdc_row13_col8\" class=\"data row13 col8\" >0.1250</td>\n",
       "    </tr>\n",
       "  </tbody>\n",
       "</table>\n"
      ],
      "text/plain": [
       "<pandas.io.formats.style.Styler at 0x1e79e0c2950>"
      ]
     },
     "metadata": {},
     "output_type": "display_data"
    },
    {
     "data": {
      "text/html": [],
      "text/plain": [
       "<IPython.core.display.HTML object>"
      ]
     },
     "metadata": {},
     "output_type": "display_data"
    }
   ],
   "source": [
    "# Train Multiple Models: PyCaret memungkinkan Anda melatih berbagai macam model machine learning hanya dengan satu baris kode.\n",
    "from pycaret.classification import compare_models\n",
    "best_model = compare_models()\n",
    "     "
   ]
  },
  {
   "cell_type": "code",
   "execution_count": 6,
   "metadata": {},
   "outputs": [
    {
     "data": {
      "text/html": [],
      "text/plain": [
       "<IPython.core.display.HTML object>"
      ]
     },
     "metadata": {},
     "output_type": "display_data"
    },
    {
     "data": {
      "text/html": [
       "<style type=\"text/css\">\n",
       "#T_c37e4 th {\n",
       "  text-align: left;\n",
       "}\n",
       "#T_c37e4_row0_col0, #T_c37e4_row0_col4, #T_c37e4_row1_col0, #T_c37e4_row1_col1, #T_c37e4_row1_col2, #T_c37e4_row1_col3, #T_c37e4_row1_col4, #T_c37e4_row1_col5, #T_c37e4_row1_col6, #T_c37e4_row1_col7, #T_c37e4_row2_col0, #T_c37e4_row2_col1, #T_c37e4_row2_col2, #T_c37e4_row2_col3, #T_c37e4_row2_col4, #T_c37e4_row2_col5, #T_c37e4_row2_col6, #T_c37e4_row2_col7, #T_c37e4_row3_col0, #T_c37e4_row3_col1, #T_c37e4_row3_col2, #T_c37e4_row3_col3, #T_c37e4_row3_col5, #T_c37e4_row3_col6, #T_c37e4_row3_col7, #T_c37e4_row4_col0, #T_c37e4_row4_col1, #T_c37e4_row4_col2, #T_c37e4_row4_col3, #T_c37e4_row4_col4, #T_c37e4_row4_col5, #T_c37e4_row4_col6, #T_c37e4_row4_col7, #T_c37e4_row5_col0, #T_c37e4_row5_col1, #T_c37e4_row5_col2, #T_c37e4_row5_col3, #T_c37e4_row5_col4, #T_c37e4_row5_col5, #T_c37e4_row5_col6, #T_c37e4_row5_col7, #T_c37e4_row6_col0, #T_c37e4_row6_col1, #T_c37e4_row6_col2, #T_c37e4_row6_col3, #T_c37e4_row6_col4, #T_c37e4_row6_col5, #T_c37e4_row6_col6, #T_c37e4_row6_col7, #T_c37e4_row7_col0, #T_c37e4_row7_col1, #T_c37e4_row7_col2, #T_c37e4_row7_col3, #T_c37e4_row7_col4, #T_c37e4_row7_col5, #T_c37e4_row7_col6, #T_c37e4_row7_col7, #T_c37e4_row8_col0, #T_c37e4_row8_col1, #T_c37e4_row8_col2, #T_c37e4_row8_col3, #T_c37e4_row8_col4, #T_c37e4_row8_col5, #T_c37e4_row8_col6, #T_c37e4_row8_col7, #T_c37e4_row9_col0, #T_c37e4_row9_col1, #T_c37e4_row9_col2, #T_c37e4_row9_col3, #T_c37e4_row9_col4, #T_c37e4_row9_col5, #T_c37e4_row9_col6, #T_c37e4_row9_col7, #T_c37e4_row10_col0, #T_c37e4_row10_col1, #T_c37e4_row10_col2, #T_c37e4_row10_col3, #T_c37e4_row10_col4, #T_c37e4_row10_col5, #T_c37e4_row10_col6, #T_c37e4_row10_col7, #T_c37e4_row11_col0, #T_c37e4_row11_col1, #T_c37e4_row11_col2, #T_c37e4_row11_col3, #T_c37e4_row11_col4, #T_c37e4_row11_col5, #T_c37e4_row11_col6, #T_c37e4_row11_col7, #T_c37e4_row12_col0, #T_c37e4_row12_col1, #T_c37e4_row12_col2, #T_c37e4_row12_col3, #T_c37e4_row12_col4, #T_c37e4_row12_col5, #T_c37e4_row12_col6, #T_c37e4_row12_col7, #T_c37e4_row13_col0, #T_c37e4_row13_col1, #T_c37e4_row13_col2, #T_c37e4_row13_col3, #T_c37e4_row13_col4, #T_c37e4_row13_col5, #T_c37e4_row13_col6, #T_c37e4_row13_col7 {\n",
       "  text-align: left;\n",
       "}\n",
       "#T_c37e4_row0_col1, #T_c37e4_row0_col2, #T_c37e4_row0_col3, #T_c37e4_row0_col5, #T_c37e4_row0_col6, #T_c37e4_row0_col7, #T_c37e4_row3_col4 {\n",
       "  text-align: left;\n",
       "  background-color: yellow;\n",
       "}\n",
       "#T_c37e4_row0_col8, #T_c37e4_row1_col8, #T_c37e4_row2_col8, #T_c37e4_row3_col8, #T_c37e4_row4_col8, #T_c37e4_row5_col8, #T_c37e4_row6_col8, #T_c37e4_row7_col8, #T_c37e4_row8_col8, #T_c37e4_row9_col8, #T_c37e4_row10_col8, #T_c37e4_row12_col8, #T_c37e4_row13_col8 {\n",
       "  text-align: left;\n",
       "  background-color: lightgrey;\n",
       "}\n",
       "#T_c37e4_row11_col8 {\n",
       "  text-align: left;\n",
       "  background-color: yellow;\n",
       "  background-color: lightgrey;\n",
       "}\n",
       "</style>\n",
       "<table id=\"T_c37e4\">\n",
       "  <thead>\n",
       "    <tr>\n",
       "      <th class=\"blank level0\" >&nbsp;</th>\n",
       "      <th id=\"T_c37e4_level0_col0\" class=\"col_heading level0 col0\" >Model</th>\n",
       "      <th id=\"T_c37e4_level0_col1\" class=\"col_heading level0 col1\" >Accuracy</th>\n",
       "      <th id=\"T_c37e4_level0_col2\" class=\"col_heading level0 col2\" >AUC</th>\n",
       "      <th id=\"T_c37e4_level0_col3\" class=\"col_heading level0 col3\" >Recall</th>\n",
       "      <th id=\"T_c37e4_level0_col4\" class=\"col_heading level0 col4\" >Prec.</th>\n",
       "      <th id=\"T_c37e4_level0_col5\" class=\"col_heading level0 col5\" >F1</th>\n",
       "      <th id=\"T_c37e4_level0_col6\" class=\"col_heading level0 col6\" >Kappa</th>\n",
       "      <th id=\"T_c37e4_level0_col7\" class=\"col_heading level0 col7\" >MCC</th>\n",
       "      <th id=\"T_c37e4_level0_col8\" class=\"col_heading level0 col8\" >TT (Sec)</th>\n",
       "    </tr>\n",
       "  </thead>\n",
       "  <tbody>\n",
       "    <tr>\n",
       "      <th id=\"T_c37e4_level0_row0\" class=\"row_heading level0 row0\" >lr</th>\n",
       "      <td id=\"T_c37e4_row0_col0\" class=\"data row0 col0\" >Logistic Regression</td>\n",
       "      <td id=\"T_c37e4_row0_col1\" class=\"data row0 col1\" >0.7975</td>\n",
       "      <td id=\"T_c37e4_row0_col2\" class=\"data row0 col2\" >0.8691</td>\n",
       "      <td id=\"T_c37e4_row0_col3\" class=\"data row0 col3\" >0.6697</td>\n",
       "      <td id=\"T_c37e4_row0_col4\" class=\"data row0 col4\" >0.7719</td>\n",
       "      <td id=\"T_c37e4_row0_col5\" class=\"data row0 col5\" >0.7132</td>\n",
       "      <td id=\"T_c37e4_row0_col6\" class=\"data row0 col6\" >0.5592</td>\n",
       "      <td id=\"T_c37e4_row0_col7\" class=\"data row0 col7\" >0.5654</td>\n",
       "      <td id=\"T_c37e4_row0_col8\" class=\"data row0 col8\" >0.2430</td>\n",
       "    </tr>\n",
       "    <tr>\n",
       "      <th id=\"T_c37e4_level0_row1\" class=\"row_heading level0 row1\" >ridge</th>\n",
       "      <td id=\"T_c37e4_row1_col0\" class=\"data row1 col0\" >Ridge Classifier</td>\n",
       "      <td id=\"T_c37e4_row1_col1\" class=\"data row1 col1\" >0.7528</td>\n",
       "      <td id=\"T_c37e4_row1_col2\" class=\"data row1 col2\" >0.8647</td>\n",
       "      <td id=\"T_c37e4_row1_col3\" class=\"data row1 col3\" >0.4522</td>\n",
       "      <td id=\"T_c37e4_row1_col4\" class=\"data row1 col4\" >0.8257</td>\n",
       "      <td id=\"T_c37e4_row1_col5\" class=\"data row1 col5\" >0.5793</td>\n",
       "      <td id=\"T_c37e4_row1_col6\" class=\"data row1 col6\" >0.4273</td>\n",
       "      <td id=\"T_c37e4_row1_col7\" class=\"data row1 col7\" >0.4679</td>\n",
       "      <td id=\"T_c37e4_row1_col8\" class=\"data row1 col8\" >0.1160</td>\n",
       "    </tr>\n",
       "    <tr>\n",
       "      <th id=\"T_c37e4_level0_row2\" class=\"row_heading level0 row2\" >et</th>\n",
       "      <td id=\"T_c37e4_row2_col0\" class=\"data row2 col0\" >Extra Trees Classifier</td>\n",
       "      <td id=\"T_c37e4_row2_col1\" class=\"data row2 col1\" >0.7400</td>\n",
       "      <td id=\"T_c37e4_row2_col2\" class=\"data row2 col2\" >0.7837</td>\n",
       "      <td id=\"T_c37e4_row2_col3\" class=\"data row2 col3\" >0.4774</td>\n",
       "      <td id=\"T_c37e4_row2_col4\" class=\"data row2 col4\" >0.7654</td>\n",
       "      <td id=\"T_c37e4_row2_col5\" class=\"data row2 col5\" >0.5815</td>\n",
       "      <td id=\"T_c37e4_row2_col6\" class=\"data row2 col6\" >0.4088</td>\n",
       "      <td id=\"T_c37e4_row2_col7\" class=\"data row2 col7\" >0.4356</td>\n",
       "      <td id=\"T_c37e4_row2_col8\" class=\"data row2 col8\" >0.2450</td>\n",
       "    </tr>\n",
       "    <tr>\n",
       "      <th id=\"T_c37e4_level0_row3\" class=\"row_heading level0 row3\" >nb</th>\n",
       "      <td id=\"T_c37e4_row3_col0\" class=\"data row3 col0\" >Naive Bayes</td>\n",
       "      <td id=\"T_c37e4_row3_col1\" class=\"data row3 col1\" >0.6709</td>\n",
       "      <td id=\"T_c37e4_row3_col2\" class=\"data row3 col2\" >0.7925</td>\n",
       "      <td id=\"T_c37e4_row3_col3\" class=\"data row3 col3\" >0.1761</td>\n",
       "      <td id=\"T_c37e4_row3_col4\" class=\"data row3 col4\" >0.8582</td>\n",
       "      <td id=\"T_c37e4_row3_col5\" class=\"data row3 col5\" >0.2816</td>\n",
       "      <td id=\"T_c37e4_row3_col6\" class=\"data row3 col6\" >0.1808</td>\n",
       "      <td id=\"T_c37e4_row3_col7\" class=\"data row3 col7\" >0.2747</td>\n",
       "      <td id=\"T_c37e4_row3_col8\" class=\"data row3 col8\" >0.0900</td>\n",
       "    </tr>\n",
       "    <tr>\n",
       "      <th id=\"T_c37e4_level0_row4\" class=\"row_heading level0 row4\" >knn</th>\n",
       "      <td id=\"T_c37e4_row4_col0\" class=\"data row4 col0\" >K Neighbors Classifier</td>\n",
       "      <td id=\"T_c37e4_row4_col1\" class=\"data row4 col1\" >0.6275</td>\n",
       "      <td id=\"T_c37e4_row4_col2\" class=\"data row4 col2\" >0.5906</td>\n",
       "      <td id=\"T_c37e4_row4_col3\" class=\"data row4 col3\" >0.3690</td>\n",
       "      <td id=\"T_c37e4_row4_col4\" class=\"data row4 col4\" >0.5175</td>\n",
       "      <td id=\"T_c37e4_row4_col5\" class=\"data row4 col5\" >0.4255</td>\n",
       "      <td id=\"T_c37e4_row4_col6\" class=\"data row4 col6\" >0.1654</td>\n",
       "      <td id=\"T_c37e4_row4_col7\" class=\"data row4 col7\" >0.1713</td>\n",
       "      <td id=\"T_c37e4_row4_col8\" class=\"data row4 col8\" >0.1150</td>\n",
       "    </tr>\n",
       "    <tr>\n",
       "      <th id=\"T_c37e4_level0_row5\" class=\"row_heading level0 row5\" >lda</th>\n",
       "      <td id=\"T_c37e4_row5_col0\" class=\"data row5 col0\" >Linear Discriminant Analysis</td>\n",
       "      <td id=\"T_c37e4_row5_col1\" class=\"data row5 col1\" >0.6260</td>\n",
       "      <td id=\"T_c37e4_row5_col2\" class=\"data row5 col2\" >0.5382</td>\n",
       "      <td id=\"T_c37e4_row5_col3\" class=\"data row5 col3\" >0.0348</td>\n",
       "      <td id=\"T_c37e4_row5_col4\" class=\"data row5 col4\" >0.0800</td>\n",
       "      <td id=\"T_c37e4_row5_col5\" class=\"data row5 col5\" >0.0485</td>\n",
       "      <td id=\"T_c37e4_row5_col6\" class=\"data row5 col6\" >0.0335</td>\n",
       "      <td id=\"T_c37e4_row5_col7\" class=\"data row5 col7\" >0.0389</td>\n",
       "      <td id=\"T_c37e4_row5_col8\" class=\"data row5 col8\" >0.1070</td>\n",
       "    </tr>\n",
       "    <tr>\n",
       "      <th id=\"T_c37e4_level0_row6\" class=\"row_heading level0 row6\" >dt</th>\n",
       "      <td id=\"T_c37e4_row6_col0\" class=\"data row6 col0\" >Decision Tree Classifier</td>\n",
       "      <td id=\"T_c37e4_row6_col1\" class=\"data row6 col1\" >0.6164</td>\n",
       "      <td id=\"T_c37e4_row6_col2\" class=\"data row6 col2\" >0.5000</td>\n",
       "      <td id=\"T_c37e4_row6_col3\" class=\"data row6 col3\" >0.0000</td>\n",
       "      <td id=\"T_c37e4_row6_col4\" class=\"data row6 col4\" >0.0000</td>\n",
       "      <td id=\"T_c37e4_row6_col5\" class=\"data row6 col5\" >0.0000</td>\n",
       "      <td id=\"T_c37e4_row6_col6\" class=\"data row6 col6\" >0.0000</td>\n",
       "      <td id=\"T_c37e4_row6_col7\" class=\"data row6 col7\" >0.0000</td>\n",
       "      <td id=\"T_c37e4_row6_col8\" class=\"data row6 col8\" >0.0900</td>\n",
       "    </tr>\n",
       "    <tr>\n",
       "      <th id=\"T_c37e4_level0_row7\" class=\"row_heading level0 row7\" >rf</th>\n",
       "      <td id=\"T_c37e4_row7_col0\" class=\"data row7 col0\" >Random Forest Classifier</td>\n",
       "      <td id=\"T_c37e4_row7_col1\" class=\"data row7 col1\" >0.6164</td>\n",
       "      <td id=\"T_c37e4_row7_col2\" class=\"data row7 col2\" >0.7890</td>\n",
       "      <td id=\"T_c37e4_row7_col3\" class=\"data row7 col3\" >0.0000</td>\n",
       "      <td id=\"T_c37e4_row7_col4\" class=\"data row7 col4\" >0.0000</td>\n",
       "      <td id=\"T_c37e4_row7_col5\" class=\"data row7 col5\" >0.0000</td>\n",
       "      <td id=\"T_c37e4_row7_col6\" class=\"data row7 col6\" >0.0000</td>\n",
       "      <td id=\"T_c37e4_row7_col7\" class=\"data row7 col7\" >0.0000</td>\n",
       "      <td id=\"T_c37e4_row7_col8\" class=\"data row7 col8\" >0.2800</td>\n",
       "    </tr>\n",
       "    <tr>\n",
       "      <th id=\"T_c37e4_level0_row8\" class=\"row_heading level0 row8\" >ada</th>\n",
       "      <td id=\"T_c37e4_row8_col0\" class=\"data row8 col0\" >Ada Boost Classifier</td>\n",
       "      <td id=\"T_c37e4_row8_col1\" class=\"data row8 col1\" >0.6164</td>\n",
       "      <td id=\"T_c37e4_row8_col2\" class=\"data row8 col2\" >0.5000</td>\n",
       "      <td id=\"T_c37e4_row8_col3\" class=\"data row8 col3\" >0.0000</td>\n",
       "      <td id=\"T_c37e4_row8_col4\" class=\"data row8 col4\" >0.0000</td>\n",
       "      <td id=\"T_c37e4_row8_col5\" class=\"data row8 col5\" >0.0000</td>\n",
       "      <td id=\"T_c37e4_row8_col6\" class=\"data row8 col6\" >0.0000</td>\n",
       "      <td id=\"T_c37e4_row8_col7\" class=\"data row8 col7\" >0.0000</td>\n",
       "      <td id=\"T_c37e4_row8_col8\" class=\"data row8 col8\" >0.1030</td>\n",
       "    </tr>\n",
       "    <tr>\n",
       "      <th id=\"T_c37e4_level0_row9\" class=\"row_heading level0 row9\" >gbc</th>\n",
       "      <td id=\"T_c37e4_row9_col0\" class=\"data row9 col0\" >Gradient Boosting Classifier</td>\n",
       "      <td id=\"T_c37e4_row9_col1\" class=\"data row9 col1\" >0.6164</td>\n",
       "      <td id=\"T_c37e4_row9_col2\" class=\"data row9 col2\" >0.5000</td>\n",
       "      <td id=\"T_c37e4_row9_col3\" class=\"data row9 col3\" >0.0000</td>\n",
       "      <td id=\"T_c37e4_row9_col4\" class=\"data row9 col4\" >0.0000</td>\n",
       "      <td id=\"T_c37e4_row9_col5\" class=\"data row9 col5\" >0.0000</td>\n",
       "      <td id=\"T_c37e4_row9_col6\" class=\"data row9 col6\" >0.0000</td>\n",
       "      <td id=\"T_c37e4_row9_col7\" class=\"data row9 col7\" >0.0000</td>\n",
       "      <td id=\"T_c37e4_row9_col8\" class=\"data row9 col8\" >0.1570</td>\n",
       "    </tr>\n",
       "    <tr>\n",
       "      <th id=\"T_c37e4_level0_row10\" class=\"row_heading level0 row10\" >lightgbm</th>\n",
       "      <td id=\"T_c37e4_row10_col0\" class=\"data row10 col0\" >Light Gradient Boosting Machine</td>\n",
       "      <td id=\"T_c37e4_row10_col1\" class=\"data row10 col1\" >0.6164</td>\n",
       "      <td id=\"T_c37e4_row10_col2\" class=\"data row10 col2\" >0.5183</td>\n",
       "      <td id=\"T_c37e4_row10_col3\" class=\"data row10 col3\" >0.0000</td>\n",
       "      <td id=\"T_c37e4_row10_col4\" class=\"data row10 col4\" >0.0000</td>\n",
       "      <td id=\"T_c37e4_row10_col5\" class=\"data row10 col5\" >0.0000</td>\n",
       "      <td id=\"T_c37e4_row10_col6\" class=\"data row10 col6\" >0.0000</td>\n",
       "      <td id=\"T_c37e4_row10_col7\" class=\"data row10 col7\" >0.0000</td>\n",
       "      <td id=\"T_c37e4_row10_col8\" class=\"data row10 col8\" >0.1580</td>\n",
       "    </tr>\n",
       "    <tr>\n",
       "      <th id=\"T_c37e4_level0_row11\" class=\"row_heading level0 row11\" >dummy</th>\n",
       "      <td id=\"T_c37e4_row11_col0\" class=\"data row11 col0\" >Dummy Classifier</td>\n",
       "      <td id=\"T_c37e4_row11_col1\" class=\"data row11 col1\" >0.6164</td>\n",
       "      <td id=\"T_c37e4_row11_col2\" class=\"data row11 col2\" >0.5000</td>\n",
       "      <td id=\"T_c37e4_row11_col3\" class=\"data row11 col3\" >0.0000</td>\n",
       "      <td id=\"T_c37e4_row11_col4\" class=\"data row11 col4\" >0.0000</td>\n",
       "      <td id=\"T_c37e4_row11_col5\" class=\"data row11 col5\" >0.0000</td>\n",
       "      <td id=\"T_c37e4_row11_col6\" class=\"data row11 col6\" >0.0000</td>\n",
       "      <td id=\"T_c37e4_row11_col7\" class=\"data row11 col7\" >0.0000</td>\n",
       "      <td id=\"T_c37e4_row11_col8\" class=\"data row11 col8\" >0.0860</td>\n",
       "    </tr>\n",
       "    <tr>\n",
       "      <th id=\"T_c37e4_level0_row12\" class=\"row_heading level0 row12\" >qda</th>\n",
       "      <td id=\"T_c37e4_row12_col0\" class=\"data row12 col0\" >Quadratic Discriminant Analysis</td>\n",
       "      <td id=\"T_c37e4_row12_col1\" class=\"data row12 col1\" >0.5938</td>\n",
       "      <td id=\"T_c37e4_row12_col2\" class=\"data row12 col2\" >0.4486</td>\n",
       "      <td id=\"T_c37e4_row12_col3\" class=\"data row12 col3\" >0.1000</td>\n",
       "      <td id=\"T_c37e4_row12_col4\" class=\"data row12 col4\" >0.0387</td>\n",
       "      <td id=\"T_c37e4_row12_col5\" class=\"data row12 col5\" >0.0558</td>\n",
       "      <td id=\"T_c37e4_row12_col6\" class=\"data row12 col6\" >0.0000</td>\n",
       "      <td id=\"T_c37e4_row12_col7\" class=\"data row12 col7\" >0.0000</td>\n",
       "      <td id=\"T_c37e4_row12_col8\" class=\"data row12 col8\" >0.0900</td>\n",
       "    </tr>\n",
       "    <tr>\n",
       "      <th id=\"T_c37e4_level0_row13\" class=\"row_heading level0 row13\" >svm</th>\n",
       "      <td id=\"T_c37e4_row13_col0\" class=\"data row13 col0\" >SVM - Linear Kernel</td>\n",
       "      <td id=\"T_c37e4_row13_col1\" class=\"data row13 col1\" >0.5651</td>\n",
       "      <td id=\"T_c37e4_row13_col2\" class=\"data row13 col2\" >0.6070</td>\n",
       "      <td id=\"T_c37e4_row13_col3\" class=\"data row13 col3\" >0.3915</td>\n",
       "      <td id=\"T_c37e4_row13_col4\" class=\"data row13 col4\" >0.5018</td>\n",
       "      <td id=\"T_c37e4_row13_col5\" class=\"data row13 col5\" >0.3121</td>\n",
       "      <td id=\"T_c37e4_row13_col6\" class=\"data row13 col6\" >0.0717</td>\n",
       "      <td id=\"T_c37e4_row13_col7\" class=\"data row13 col7\" >0.1066</td>\n",
       "      <td id=\"T_c37e4_row13_col8\" class=\"data row13 col8\" >0.0930</td>\n",
       "    </tr>\n",
       "  </tbody>\n",
       "</table>\n"
      ],
      "text/plain": [
       "<pandas.io.formats.style.Styler at 0x1e79e02f4d0>"
      ]
     },
     "metadata": {},
     "output_type": "display_data"
    },
    {
     "data": {
      "text/html": [],
      "text/plain": [
       "<IPython.core.display.HTML object>"
      ]
     },
     "metadata": {},
     "output_type": "display_data"
    }
   ],
   "source": [
    "best_models = compare_models(n_select=10)\n"
   ]
  },
  {
   "cell_type": "code",
   "execution_count": 7,
   "metadata": {},
   "outputs": [
    {
     "data": {
      "text/html": [],
      "text/plain": [
       "<IPython.core.display.HTML object>"
      ]
     },
     "metadata": {},
     "output_type": "display_data"
    },
    {
     "data": {
      "text/html": [],
      "text/plain": [
       "<IPython.core.display.HTML object>"
      ]
     },
     "metadata": {},
     "output_type": "display_data"
    },
    {
     "data": {
      "text/html": [],
      "text/plain": [
       "<IPython.core.display.HTML object>"
      ]
     },
     "metadata": {},
     "output_type": "display_data"
    }
   ],
   "source": [
    "\n",
    "# Select a Specific Model: Anda juga bisa melatih model tertentu, seperti Random Forest.\n",
    "from pycaret.classification import create_model\n",
    "lr_model = create_model('lr')"
   ]
  },
  {
   "cell_type": "code",
   "execution_count": 8,
   "metadata": {},
   "outputs": [
    {
     "data": {
      "text/html": [],
      "text/plain": [
       "<IPython.core.display.HTML object>"
      ]
     },
     "metadata": {},
     "output_type": "display_data"
    },
    {
     "data": {
      "text/html": [
       "<style type=\"text/css\">\n",
       "#T_4dfa5_row10_col0, #T_4dfa5_row10_col1, #T_4dfa5_row10_col2, #T_4dfa5_row10_col3, #T_4dfa5_row10_col4, #T_4dfa5_row10_col5, #T_4dfa5_row10_col6 {\n",
       "  background: yellow;\n",
       "}\n",
       "</style>\n",
       "<table id=\"T_4dfa5\">\n",
       "  <thead>\n",
       "    <tr>\n",
       "      <th class=\"blank level0\" >&nbsp;</th>\n",
       "      <th id=\"T_4dfa5_level0_col0\" class=\"col_heading level0 col0\" >Accuracy</th>\n",
       "      <th id=\"T_4dfa5_level0_col1\" class=\"col_heading level0 col1\" >AUC</th>\n",
       "      <th id=\"T_4dfa5_level0_col2\" class=\"col_heading level0 col2\" >Recall</th>\n",
       "      <th id=\"T_4dfa5_level0_col3\" class=\"col_heading level0 col3\" >Prec.</th>\n",
       "      <th id=\"T_4dfa5_level0_col4\" class=\"col_heading level0 col4\" >F1</th>\n",
       "      <th id=\"T_4dfa5_level0_col5\" class=\"col_heading level0 col5\" >Kappa</th>\n",
       "      <th id=\"T_4dfa5_level0_col6\" class=\"col_heading level0 col6\" >MCC</th>\n",
       "    </tr>\n",
       "    <tr>\n",
       "      <th class=\"index_name level0\" >Fold</th>\n",
       "      <th class=\"blank col0\" >&nbsp;</th>\n",
       "      <th class=\"blank col1\" >&nbsp;</th>\n",
       "      <th class=\"blank col2\" >&nbsp;</th>\n",
       "      <th class=\"blank col3\" >&nbsp;</th>\n",
       "      <th class=\"blank col4\" >&nbsp;</th>\n",
       "      <th class=\"blank col5\" >&nbsp;</th>\n",
       "      <th class=\"blank col6\" >&nbsp;</th>\n",
       "    </tr>\n",
       "  </thead>\n",
       "  <tbody>\n",
       "    <tr>\n",
       "      <th id=\"T_4dfa5_level0_row0\" class=\"row_heading level0 row0\" >0</th>\n",
       "      <td id=\"T_4dfa5_row0_col0\" class=\"data row0 col0\" >0.8413</td>\n",
       "      <td id=\"T_4dfa5_row0_col1\" class=\"data row0 col1\" >0.8536</td>\n",
       "      <td id=\"T_4dfa5_row0_col2\" class=\"data row0 col2\" >0.7500</td>\n",
       "      <td id=\"T_4dfa5_row0_col3\" class=\"data row0 col3\" >0.8182</td>\n",
       "      <td id=\"T_4dfa5_row0_col4\" class=\"data row0 col4\" >0.7826</td>\n",
       "      <td id=\"T_4dfa5_row0_col5\" class=\"data row0 col5\" >0.6580</td>\n",
       "      <td id=\"T_4dfa5_row0_col6\" class=\"data row0 col6\" >0.6595</td>\n",
       "    </tr>\n",
       "    <tr>\n",
       "      <th id=\"T_4dfa5_level0_row1\" class=\"row_heading level0 row1\" >1</th>\n",
       "      <td id=\"T_4dfa5_row1_col0\" class=\"data row1 col0\" >0.8254</td>\n",
       "      <td id=\"T_4dfa5_row1_col1\" class=\"data row1 col1\" >0.8120</td>\n",
       "      <td id=\"T_4dfa5_row1_col2\" class=\"data row1 col2\" >0.7083</td>\n",
       "      <td id=\"T_4dfa5_row1_col3\" class=\"data row1 col3\" >0.8095</td>\n",
       "      <td id=\"T_4dfa5_row1_col4\" class=\"data row1 col4\" >0.7556</td>\n",
       "      <td id=\"T_4dfa5_row1_col5\" class=\"data row1 col5\" >0.6207</td>\n",
       "      <td id=\"T_4dfa5_row1_col6\" class=\"data row1 col6\" >0.6240</td>\n",
       "    </tr>\n",
       "    <tr>\n",
       "      <th id=\"T_4dfa5_level0_row2\" class=\"row_heading level0 row2\" >2</th>\n",
       "      <td id=\"T_4dfa5_row2_col0\" class=\"data row2 col0\" >0.9206</td>\n",
       "      <td id=\"T_4dfa5_row2_col1\" class=\"data row2 col1\" >0.9669</td>\n",
       "      <td id=\"T_4dfa5_row2_col2\" class=\"data row2 col2\" >0.8333</td>\n",
       "      <td id=\"T_4dfa5_row2_col3\" class=\"data row2 col3\" >0.9524</td>\n",
       "      <td id=\"T_4dfa5_row2_col4\" class=\"data row2 col4\" >0.8889</td>\n",
       "      <td id=\"T_4dfa5_row2_col5\" class=\"data row2 col5\" >0.8276</td>\n",
       "      <td id=\"T_4dfa5_row2_col6\" class=\"data row2 col6\" >0.8321</td>\n",
       "    </tr>\n",
       "    <tr>\n",
       "      <th id=\"T_4dfa5_level0_row3\" class=\"row_heading level0 row3\" >3</th>\n",
       "      <td id=\"T_4dfa5_row3_col0\" class=\"data row3 col0\" >0.8548</td>\n",
       "      <td id=\"T_4dfa5_row3_col1\" class=\"data row3 col1\" >0.9075</td>\n",
       "      <td id=\"T_4dfa5_row3_col2\" class=\"data row3 col2\" >0.6957</td>\n",
       "      <td id=\"T_4dfa5_row3_col3\" class=\"data row3 col3\" >0.8889</td>\n",
       "      <td id=\"T_4dfa5_row3_col4\" class=\"data row3 col4\" >0.7805</td>\n",
       "      <td id=\"T_4dfa5_row3_col5\" class=\"data row3 col5\" >0.6744</td>\n",
       "      <td id=\"T_4dfa5_row3_col6\" class=\"data row3 col6\" >0.6858</td>\n",
       "    </tr>\n",
       "    <tr>\n",
       "      <th id=\"T_4dfa5_level0_row4\" class=\"row_heading level0 row4\" >4</th>\n",
       "      <td id=\"T_4dfa5_row4_col0\" class=\"data row4 col0\" >0.7258</td>\n",
       "      <td id=\"T_4dfa5_row4_col1\" class=\"data row4 col1\" >0.8268</td>\n",
       "      <td id=\"T_4dfa5_row4_col2\" class=\"data row4 col2\" >0.4583</td>\n",
       "      <td id=\"T_4dfa5_row4_col3\" class=\"data row4 col3\" >0.7333</td>\n",
       "      <td id=\"T_4dfa5_row4_col4\" class=\"data row4 col4\" >0.5641</td>\n",
       "      <td id=\"T_4dfa5_row4_col5\" class=\"data row4 col5\" >0.3793</td>\n",
       "      <td id=\"T_4dfa5_row4_col6\" class=\"data row4 col6\" >0.4016</td>\n",
       "    </tr>\n",
       "    <tr>\n",
       "      <th id=\"T_4dfa5_level0_row5\" class=\"row_heading level0 row5\" >5</th>\n",
       "      <td id=\"T_4dfa5_row5_col0\" class=\"data row5 col0\" >0.7581</td>\n",
       "      <td id=\"T_4dfa5_row5_col1\" class=\"data row5 col1\" >0.8300</td>\n",
       "      <td id=\"T_4dfa5_row5_col2\" class=\"data row5 col2\" >0.6250</td>\n",
       "      <td id=\"T_4dfa5_row5_col3\" class=\"data row5 col3\" >0.7143</td>\n",
       "      <td id=\"T_4dfa5_row5_col4\" class=\"data row5 col4\" >0.6667</td>\n",
       "      <td id=\"T_4dfa5_row5_col5\" class=\"data row5 col5\" >0.4781</td>\n",
       "      <td id=\"T_4dfa5_row5_col6\" class=\"data row5 col6\" >0.4807</td>\n",
       "    </tr>\n",
       "    <tr>\n",
       "      <th id=\"T_4dfa5_level0_row6\" class=\"row_heading level0 row6\" >6</th>\n",
       "      <td id=\"T_4dfa5_row6_col0\" class=\"data row6 col0\" >0.8387</td>\n",
       "      <td id=\"T_4dfa5_row6_col1\" class=\"data row6 col1\" >0.8662</td>\n",
       "      <td id=\"T_4dfa5_row6_col2\" class=\"data row6 col2\" >0.6250</td>\n",
       "      <td id=\"T_4dfa5_row6_col3\" class=\"data row6 col3\" >0.9375</td>\n",
       "      <td id=\"T_4dfa5_row6_col4\" class=\"data row6 col4\" >0.7500</td>\n",
       "      <td id=\"T_4dfa5_row6_col5\" class=\"data row6 col5\" >0.6379</td>\n",
       "      <td id=\"T_4dfa5_row6_col6\" class=\"data row6 col6\" >0.6664</td>\n",
       "    </tr>\n",
       "    <tr>\n",
       "      <th id=\"T_4dfa5_level0_row7\" class=\"row_heading level0 row7\" >7</th>\n",
       "      <td id=\"T_4dfa5_row7_col0\" class=\"data row7 col0\" >0.8065</td>\n",
       "      <td id=\"T_4dfa5_row7_col1\" class=\"data row7 col1\" >0.8596</td>\n",
       "      <td id=\"T_4dfa5_row7_col2\" class=\"data row7 col2\" >0.7083</td>\n",
       "      <td id=\"T_4dfa5_row7_col3\" class=\"data row7 col3\" >0.7727</td>\n",
       "      <td id=\"T_4dfa5_row7_col4\" class=\"data row7 col4\" >0.7391</td>\n",
       "      <td id=\"T_4dfa5_row7_col5\" class=\"data row7 col5\" >0.5857</td>\n",
       "      <td id=\"T_4dfa5_row7_col6\" class=\"data row7 col6\" >0.5871</td>\n",
       "    </tr>\n",
       "    <tr>\n",
       "      <th id=\"T_4dfa5_level0_row8\" class=\"row_heading level0 row8\" >8</th>\n",
       "      <td id=\"T_4dfa5_row8_col0\" class=\"data row8 col0\" >0.7419</td>\n",
       "      <td id=\"T_4dfa5_row8_col1\" class=\"data row8 col1\" >0.8575</td>\n",
       "      <td id=\"T_4dfa5_row8_col2\" class=\"data row8 col2\" >0.5000</td>\n",
       "      <td id=\"T_4dfa5_row8_col3\" class=\"data row8 col3\" >0.7500</td>\n",
       "      <td id=\"T_4dfa5_row8_col4\" class=\"data row8 col4\" >0.6000</td>\n",
       "      <td id=\"T_4dfa5_row8_col5\" class=\"data row8 col5\" >0.4206</td>\n",
       "      <td id=\"T_4dfa5_row8_col6\" class=\"data row8 col6\" >0.4394</td>\n",
       "    </tr>\n",
       "    <tr>\n",
       "      <th id=\"T_4dfa5_level0_row9\" class=\"row_heading level0 row9\" >9</th>\n",
       "      <td id=\"T_4dfa5_row9_col0\" class=\"data row9 col0\" >0.8871</td>\n",
       "      <td id=\"T_4dfa5_row9_col1\" class=\"data row9 col1\" >0.9463</td>\n",
       "      <td id=\"T_4dfa5_row9_col2\" class=\"data row9 col2\" >0.8333</td>\n",
       "      <td id=\"T_4dfa5_row9_col3\" class=\"data row9 col3\" >0.8696</td>\n",
       "      <td id=\"T_4dfa5_row9_col4\" class=\"data row9 col4\" >0.8511</td>\n",
       "      <td id=\"T_4dfa5_row9_col5\" class=\"data row9 col5\" >0.7602</td>\n",
       "      <td id=\"T_4dfa5_row9_col6\" class=\"data row9 col6\" >0.7607</td>\n",
       "    </tr>\n",
       "    <tr>\n",
       "      <th id=\"T_4dfa5_level0_row10\" class=\"row_heading level0 row10\" >Mean</th>\n",
       "      <td id=\"T_4dfa5_row10_col0\" class=\"data row10 col0\" >0.8200</td>\n",
       "      <td id=\"T_4dfa5_row10_col1\" class=\"data row10 col1\" >0.8726</td>\n",
       "      <td id=\"T_4dfa5_row10_col2\" class=\"data row10 col2\" >0.6737</td>\n",
       "      <td id=\"T_4dfa5_row10_col3\" class=\"data row10 col3\" >0.8246</td>\n",
       "      <td id=\"T_4dfa5_row10_col4\" class=\"data row10 col4\" >0.7379</td>\n",
       "      <td id=\"T_4dfa5_row10_col5\" class=\"data row10 col5\" >0.6042</td>\n",
       "      <td id=\"T_4dfa5_row10_col6\" class=\"data row10 col6\" >0.6137</td>\n",
       "    </tr>\n",
       "    <tr>\n",
       "      <th id=\"T_4dfa5_level0_row11\" class=\"row_heading level0 row11\" >Std</th>\n",
       "      <td id=\"T_4dfa5_row11_col0\" class=\"data row11 col0\" >0.0597</td>\n",
       "      <td id=\"T_4dfa5_row11_col1\" class=\"data row11 col1\" >0.0489</td>\n",
       "      <td id=\"T_4dfa5_row11_col2\" class=\"data row11 col2\" >0.1187</td>\n",
       "      <td id=\"T_4dfa5_row11_col3\" class=\"data row11 col3\" >0.0802</td>\n",
       "      <td id=\"T_4dfa5_row11_col4\" class=\"data row11 col4\" >0.0970</td>\n",
       "      <td id=\"T_4dfa5_row11_col5\" class=\"data row11 col5\" >0.1357</td>\n",
       "      <td id=\"T_4dfa5_row11_col6\" class=\"data row11 col6\" >0.1316</td>\n",
       "    </tr>\n",
       "  </tbody>\n",
       "</table>\n"
      ],
      "text/plain": [
       "<pandas.io.formats.style.Styler at 0x1e79c1cca10>"
      ]
     },
     "metadata": {},
     "output_type": "display_data"
    },
    {
     "data": {
      "application/vnd.jupyter.widget-view+json": {
       "model_id": "08fc4d31eff64ad1a47dbedddf6ed2e6",
       "version_major": 2,
       "version_minor": 0
      },
      "text/plain": [
       "Processing:   0%|          | 0/7 [00:00<?, ?it/s]"
      ]
     },
     "metadata": {},
     "output_type": "display_data"
    },
    {
     "name": "stdout",
     "output_type": "stream",
     "text": [
      "Fitting 10 folds for each of 10 candidates, totalling 100 fits\n"
     ]
    }
   ],
   "source": [
    "# Tune Model: PyCaret memiliki fungsi tune_model() yang secara otomatis mencari kombinasi hyperparameter terbaik untuk model Anda.\n",
    "from pycaret.classification import tune_model\n",
    "tuned_lr_model = tune_model(lr_model)"
   ]
  },
  {
   "cell_type": "code",
   "execution_count": null,
   "metadata": {},
   "outputs": [
    {
     "data": {
      "text/html": [],
      "text/plain": [
       "<IPython.core.display.HTML object>"
      ]
     },
     "metadata": {},
     "output_type": "display_data"
    },
    {
     "data": {
      "text/html": [],
      "text/plain": [
       "<IPython.core.display.HTML object>"
      ]
     },
     "metadata": {},
     "output_type": "display_data"
    },
    {
     "data": {
      "text/html": [],
      "text/plain": [
       "<IPython.core.display.HTML object>"
      ]
     },
     "metadata": {},
     "output_type": "display_data"
    },
    {
     "name": "stdout",
     "output_type": "stream",
     "text": [
      "Fitting 10 folds for each of 10 candidates, totalling 100 fits\n",
      "tuned_results\n"
     ]
    }
   ],
   "source": [
    "from pycaret.classification import pull\n",
    "\n",
    "# Menune model\n",
    "tuned_lr_model = tune_model(lr_model)\n",
    "\n",
    "# Mengambil hasil\n",
    "tuned_results = pull()\n",
    "print(tuned_results)\n"
   ]
  },
  {
   "cell_type": "code",
   "execution_count": 9,
   "metadata": {},
   "outputs": [
    {
     "data": {
      "application/vnd.jupyter.widget-view+json": {
       "model_id": "3544af7d1321472388ea48f046eb1eb5",
       "version_major": 2,
       "version_minor": 0
      },
      "text/plain": [
       "interactive(children=(ToggleButtons(description='Plot Type:', icons=('',), options=(('Pipeline Plot', 'pipelin…"
      ]
     },
     "metadata": {},
     "output_type": "display_data"
    }
   ],
   "source": [
    "from pycaret.classification import evaluate_model\n",
    "\n",
    "# Evaluasi model yang telah ditune\n",
    "evaluate_model(tuned_lr_model)\n"
   ]
  },
  {
   "cell_type": "code",
   "execution_count": 44,
   "metadata": {},
   "outputs": [
    {
     "data": {
      "text/html": [],
      "text/plain": [
       "<IPython.core.display.HTML object>"
      ]
     },
     "metadata": {},
     "output_type": "display_data"
    },
    {
     "data": {
      "image/png": "[encoded data removed]",
      "text/plain": [
       "<Figure size 800x500 with 1 Axes>"
      ]
     },
     "metadata": {},
     "output_type": "display_data"
    },
    {
     "ename": "TypeError",
     "evalue": "This function only supports tree based models for binary classification: lightgbm, rf, et, dt.",
     "output_type": "error",
     "traceback": [
      "\u001b[1;31m---------------------------------------------------------------------------\u001b[0m",
      "\u001b[1;31mTypeError\u001b[0m                                 Traceback (most recent call last)",
      "Cell \u001b[1;32mIn[44], line 8\u001b[0m\n\u001b[0;32m      6\u001b[0m \u001b[38;5;66;03m# SHAP Analysis: PyCaret juga mendukung interpretasi model menggunakan SHAP (SHapley Additive exPlanations)\u001b[39;00m\n\u001b[0;32m      7\u001b[0m \u001b[38;5;28;01mfrom\u001b[39;00m \u001b[38;5;21;01mpycaret\u001b[39;00m\u001b[38;5;21;01m.\u001b[39;00m\u001b[38;5;21;01mclassification\u001b[39;00m \u001b[38;5;28;01mimport\u001b[39;00m interpret_model\n\u001b[1;32m----> 8\u001b[0m \u001b[43minterpret_model\u001b[49m\u001b[43m(\u001b[49m\u001b[43mtuned_lr_model\u001b[49m\u001b[43m)\u001b[49m\n",
      "File \u001b[1;32m~\\AppData\\Local\\Packages\\PythonSoftwareFoundation.Python.3.11_qbz5n2kfra8p0\\LocalCache\\local-packages\\Python311\\site-packages\\pycaret\\utils\\generic.py:964\u001b[0m, in \u001b[0;36mcheck_if_global_is_not_none.<locals>.decorator.<locals>.wrapper\u001b[1;34m(*args, **kwargs)\u001b[0m\n\u001b[0;32m    962\u001b[0m     \u001b[38;5;28;01mif\u001b[39;00m globals_d[name] \u001b[38;5;129;01mis\u001b[39;00m \u001b[38;5;28;01mNone\u001b[39;00m:\n\u001b[0;32m    963\u001b[0m         \u001b[38;5;28;01mraise\u001b[39;00m \u001b[38;5;167;01mValueError\u001b[39;00m(message)\n\u001b[1;32m--> 964\u001b[0m \u001b[38;5;28;01mreturn\u001b[39;00m \u001b[43mfunc\u001b[49m\u001b[43m(\u001b[49m\u001b[38;5;241;43m*\u001b[39;49m\u001b[43margs\u001b[49m\u001b[43m,\u001b[49m\u001b[43m \u001b[49m\u001b[38;5;241;43m*\u001b[39;49m\u001b[38;5;241;43m*\u001b[39;49m\u001b[43mkwargs\u001b[49m\u001b[43m)\u001b[49m\n",
      "File \u001b[1;32m~\\AppData\\Local\\Packages\\PythonSoftwareFoundation.Python.3.11_qbz5n2kfra8p0\\LocalCache\\local-packages\\Python311\\site-packages\\pycaret\\classification\\functional.py:1905\u001b[0m, in \u001b[0;36minterpret_model\u001b[1;34m(estimator, plot, feature, observation, use_train_data, X_new_sample, y_new_sample, save, **kwargs)\u001b[0m\n\u001b[0;32m   1807\u001b[0m \u001b[38;5;129m@check_if_global_is_not_none\u001b[39m(\u001b[38;5;28mglobals\u001b[39m(), _CURRENT_EXPERIMENT_DECORATOR_DICT)\n\u001b[0;32m   1808\u001b[0m \u001b[38;5;28;01mdef\u001b[39;00m \u001b[38;5;21minterpret_model\u001b[39m(\n\u001b[0;32m   1809\u001b[0m     estimator,\n\u001b[1;32m   (...)\u001b[0m\n\u001b[0;32m   1817\u001b[0m     \u001b[38;5;241m*\u001b[39m\u001b[38;5;241m*\u001b[39mkwargs,\n\u001b[0;32m   1818\u001b[0m ):\n\u001b[0;32m   1819\u001b[0m \u001b[38;5;250m    \u001b[39m\u001b[38;5;124;03m\"\"\"\u001b[39;00m\n\u001b[0;32m   1820\u001b[0m \u001b[38;5;124;03m    This function takes a trained model object and returns an interpretation plot\u001b[39;00m\n\u001b[0;32m   1821\u001b[0m \u001b[38;5;124;03m    based on the test / hold-out set.\u001b[39;00m\n\u001b[1;32m   (...)\u001b[0m\n\u001b[0;32m   1902\u001b[0m \n\u001b[0;32m   1903\u001b[0m \u001b[38;5;124;03m    \"\"\"\u001b[39;00m\n\u001b[1;32m-> 1905\u001b[0m     \u001b[38;5;28;01mreturn\u001b[39;00m \u001b[43m_CURRENT_EXPERIMENT\u001b[49m\u001b[38;5;241;43m.\u001b[39;49m\u001b[43minterpret_model\u001b[49m\u001b[43m(\u001b[49m\n\u001b[0;32m   1906\u001b[0m \u001b[43m        \u001b[49m\u001b[43mestimator\u001b[49m\u001b[38;5;241;43m=\u001b[39;49m\u001b[43mestimator\u001b[49m\u001b[43m,\u001b[49m\n\u001b[0;32m   1907\u001b[0m \u001b[43m        \u001b[49m\u001b[43mplot\u001b[49m\u001b[38;5;241;43m=\u001b[39;49m\u001b[43mplot\u001b[49m\u001b[43m,\u001b[49m\n\u001b[0;32m   1908\u001b[0m \u001b[43m        \u001b[49m\u001b[43mfeature\u001b[49m\u001b[38;5;241;43m=\u001b[39;49m\u001b[43mfeature\u001b[49m\u001b[43m,\u001b[49m\n\u001b[0;32m   1909\u001b[0m \u001b[43m        \u001b[49m\u001b[43mobservation\u001b[49m\u001b[38;5;241;43m=\u001b[39;49m\u001b[43mobservation\u001b[49m\u001b[43m,\u001b[49m\n\u001b[0;32m   1910\u001b[0m \u001b[43m        \u001b[49m\u001b[43muse_train_data\u001b[49m\u001b[38;5;241;43m=\u001b[39;49m\u001b[43muse_train_data\u001b[49m\u001b[43m,\u001b[49m\n\u001b[0;32m   1911\u001b[0m \u001b[43m        \u001b[49m\u001b[43mX_new_sample\u001b[49m\u001b[38;5;241;43m=\u001b[39;49m\u001b[43mX_new_sample\u001b[49m\u001b[43m,\u001b[49m\n\u001b[0;32m   1912\u001b[0m \u001b[43m        \u001b[49m\u001b[43my_new_sample\u001b[49m\u001b[38;5;241;43m=\u001b[39;49m\u001b[43my_new_sample\u001b[49m\u001b[43m,\u001b[49m\n\u001b[0;32m   1913\u001b[0m \u001b[43m        \u001b[49m\u001b[43msave\u001b[49m\u001b[38;5;241;43m=\u001b[39;49m\u001b[43msave\u001b[49m\u001b[43m,\u001b[49m\n\u001b[0;32m   1914\u001b[0m \u001b[43m        \u001b[49m\u001b[38;5;241;43m*\u001b[39;49m\u001b[38;5;241;43m*\u001b[39;49m\u001b[43mkwargs\u001b[49m\u001b[43m,\u001b[49m\n\u001b[0;32m   1915\u001b[0m \u001b[43m    \u001b[49m\u001b[43m)\u001b[49m\n",
      "File \u001b[1;32m~\\AppData\\Local\\Packages\\PythonSoftwareFoundation.Python.3.11_qbz5n2kfra8p0\\LocalCache\\local-packages\\Python311\\site-packages\\pycaret\\classification\\oop.py:2249\u001b[0m, in \u001b[0;36mClassificationExperiment.interpret_model\u001b[1;34m(self, estimator, plot, feature, observation, use_train_data, X_new_sample, y_new_sample, save, **kwargs)\u001b[0m\n\u001b[0;32m   2151\u001b[0m \u001b[38;5;28;01mdef\u001b[39;00m \u001b[38;5;21minterpret_model\u001b[39m(\n\u001b[0;32m   2152\u001b[0m     \u001b[38;5;28mself\u001b[39m,\n\u001b[0;32m   2153\u001b[0m     estimator,\n\u001b[1;32m   (...)\u001b[0m\n\u001b[0;32m   2161\u001b[0m     \u001b[38;5;241m*\u001b[39m\u001b[38;5;241m*\u001b[39mkwargs,\n\u001b[0;32m   2162\u001b[0m ):\n\u001b[0;32m   2163\u001b[0m \u001b[38;5;250m    \u001b[39m\u001b[38;5;124;03m\"\"\"\u001b[39;00m\n\u001b[0;32m   2164\u001b[0m \u001b[38;5;124;03m    This function takes a trained model object and returns an interpretation plot\u001b[39;00m\n\u001b[0;32m   2165\u001b[0m \u001b[38;5;124;03m    based on the test / hold-out set.\u001b[39;00m\n\u001b[1;32m   (...)\u001b[0m\n\u001b[0;32m   2246\u001b[0m \n\u001b[0;32m   2247\u001b[0m \u001b[38;5;124;03m    \"\"\"\u001b[39;00m\n\u001b[1;32m-> 2249\u001b[0m     \u001b[38;5;28;01mreturn\u001b[39;00m \u001b[38;5;28;43msuper\u001b[39;49m\u001b[43m(\u001b[49m\u001b[43m)\u001b[49m\u001b[38;5;241;43m.\u001b[39;49m\u001b[43minterpret_model\u001b[49m\u001b[43m(\u001b[49m\n\u001b[0;32m   2250\u001b[0m \u001b[43m        \u001b[49m\u001b[43mestimator\u001b[49m\u001b[38;5;241;43m=\u001b[39;49m\u001b[43mestimator\u001b[49m\u001b[43m,\u001b[49m\n\u001b[0;32m   2251\u001b[0m \u001b[43m        \u001b[49m\u001b[43mplot\u001b[49m\u001b[38;5;241;43m=\u001b[39;49m\u001b[43mplot\u001b[49m\u001b[43m,\u001b[49m\n\u001b[0;32m   2252\u001b[0m \u001b[43m        \u001b[49m\u001b[43mfeature\u001b[49m\u001b[38;5;241;43m=\u001b[39;49m\u001b[43mfeature\u001b[49m\u001b[43m,\u001b[49m\n\u001b[0;32m   2253\u001b[0m \u001b[43m        \u001b[49m\u001b[43mobservation\u001b[49m\u001b[38;5;241;43m=\u001b[39;49m\u001b[43mobservation\u001b[49m\u001b[43m,\u001b[49m\n\u001b[0;32m   2254\u001b[0m \u001b[43m        \u001b[49m\u001b[43muse_train_data\u001b[49m\u001b[38;5;241;43m=\u001b[39;49m\u001b[43muse_train_data\u001b[49m\u001b[43m,\u001b[49m\n\u001b[0;32m   2255\u001b[0m \u001b[43m        \u001b[49m\u001b[43mX_new_sample\u001b[49m\u001b[38;5;241;43m=\u001b[39;49m\u001b[43mX_new_sample\u001b[49m\u001b[43m,\u001b[49m\n\u001b[0;32m   2256\u001b[0m \u001b[43m        \u001b[49m\u001b[43my_new_sample\u001b[49m\u001b[38;5;241;43m=\u001b[39;49m\u001b[43my_new_sample\u001b[49m\u001b[43m,\u001b[49m\n\u001b[0;32m   2257\u001b[0m \u001b[43m        \u001b[49m\u001b[43msave\u001b[49m\u001b[38;5;241;43m=\u001b[39;49m\u001b[43msave\u001b[49m\u001b[43m,\u001b[49m\n\u001b[0;32m   2258\u001b[0m \u001b[43m        \u001b[49m\u001b[38;5;241;43m*\u001b[39;49m\u001b[38;5;241;43m*\u001b[39;49m\u001b[43mkwargs\u001b[49m\u001b[43m,\u001b[49m\n\u001b[0;32m   2259\u001b[0m \u001b[43m    \u001b[49m\u001b[43m)\u001b[49m\n",
      "File \u001b[1;32m~\\AppData\\Local\\Packages\\PythonSoftwareFoundation.Python.3.11_qbz5n2kfra8p0\\LocalCache\\local-packages\\Python311\\site-packages\\pycaret\\internal\\pycaret_experiment\\supervised_experiment.py:4083\u001b[0m, in \u001b[0;36m_SupervisedExperiment.interpret_model\u001b[1;34m(self, estimator, plot, feature, observation, use_train_data, X_new_sample, y_new_sample, save, **kwargs)\u001b[0m\n\u001b[0;32m   4078\u001b[0m shap_models_ids \u001b[38;5;241m=\u001b[39m \u001b[38;5;28mset\u001b[39m(shap_models\u001b[38;5;241m.\u001b[39mkeys())\n\u001b[0;32m   4080\u001b[0m \u001b[38;5;28;01mif\u001b[39;00m plot \u001b[38;5;129;01min\u001b[39;00m [\u001b[38;5;124m\"\u001b[39m\u001b[38;5;124msummary\u001b[39m\u001b[38;5;124m\"\u001b[39m, \u001b[38;5;124m\"\u001b[39m\u001b[38;5;124mcorrelation\u001b[39m\u001b[38;5;124m\"\u001b[39m, \u001b[38;5;124m\"\u001b[39m\u001b[38;5;124mreason\u001b[39m\u001b[38;5;124m\"\u001b[39m] \u001b[38;5;129;01mand\u001b[39;00m (\n\u001b[0;32m   4081\u001b[0m     model_id \u001b[38;5;129;01mnot\u001b[39;00m \u001b[38;5;129;01min\u001b[39;00m shap_models_ids\n\u001b[0;32m   4082\u001b[0m ):\n\u001b[1;32m-> 4083\u001b[0m     \u001b[38;5;28;01mraise\u001b[39;00m \u001b[38;5;167;01mTypeError\u001b[39;00m(\n\u001b[0;32m   4084\u001b[0m         \u001b[38;5;124mf\u001b[39m\u001b[38;5;124m\"\u001b[39m\u001b[38;5;124mThis function only supports tree based models for binary classification: \u001b[39m\u001b[38;5;132;01m{\u001b[39;00m\u001b[38;5;124m'\u001b[39m\u001b[38;5;124m, \u001b[39m\u001b[38;5;124m'\u001b[39m\u001b[38;5;241m.\u001b[39mjoin(shap_models_ids)\u001b[38;5;132;01m}\u001b[39;00m\u001b[38;5;124m.\u001b[39m\u001b[38;5;124m\"\u001b[39m\n\u001b[0;32m   4085\u001b[0m     )\n\u001b[0;32m   4087\u001b[0m \u001b[38;5;66;03m# plot type\u001b[39;00m\n\u001b[0;32m   4088\u001b[0m allowed_types \u001b[38;5;241m=\u001b[39m [\u001b[38;5;124m\"\u001b[39m\u001b[38;5;124msummary\u001b[39m\u001b[38;5;124m\"\u001b[39m, \u001b[38;5;124m\"\u001b[39m\u001b[38;5;124mcorrelation\u001b[39m\u001b[38;5;124m\"\u001b[39m, \u001b[38;5;124m\"\u001b[39m\u001b[38;5;124mreason\u001b[39m\u001b[38;5;124m\"\u001b[39m, \u001b[38;5;124m\"\u001b[39m\u001b[38;5;124mpdp\u001b[39m\u001b[38;5;124m\"\u001b[39m, \u001b[38;5;124m\"\u001b[39m\u001b[38;5;124mmsa\u001b[39m\u001b[38;5;124m\"\u001b[39m, \u001b[38;5;124m\"\u001b[39m\u001b[38;5;124mpfi\u001b[39m\u001b[38;5;124m\"\u001b[39m]\n",
      "\u001b[1;31mTypeError\u001b[0m: This function only supports tree based models for binary classification: lightgbm, rf, et, dt."
     ]
    }
   ],
   "source": [
    "\n",
    "# Plot Feature Importance: PyCaret memungkinkan Anda melihat fitur mana yang paling berpengaruh dalam model.\n",
    "from pycaret.classification import plot_model\n",
    "plot_model(tuned_lr_model, plot='feature')\n",
    "     \n",
    "\n",
    "# SHAP Analysis: PyCaret juga mendukung interpretasi model menggunakan SHAP (SHapley Additive exPlanations)\n",
    "from pycaret.classification import interpret_model\n",
    "interpret_model(tuned_lr_model)"
   ]
  },
  {
   "cell_type": "code",
   "execution_count": 47,
   "metadata": {},
   "outputs": [
    {
     "data": {
      "text/html": [],
      "text/plain": [
       "<IPython.core.display.HTML object>"
      ]
     },
     "metadata": {},
     "output_type": "display_data"
    },
    {
     "data": {
      "image/png": "[encoded data removed]",
      "text/plain": [
       "<Figure size 800x550 with 1 Axes>"
      ]
     },
     "metadata": {},
     "output_type": "display_data"
    }
   ],
   "source": [
    "# Visualize Model Pelrormance: Anda bisa memvisualisasikan berbagai metrik kinerja model, seperti ROC curve, confusion matrix, dll.\n",
    "plot_model(tuned_lr_model, plot='auc')\n"
   ]
  },
  {
   "cell_type": "markdown",
   "metadata": {},
   "source": [
    ". Kurva ROC untuk Regresi Logistik\n",
    "Apa yang Ditampilkan:\n",
    "\n",
    "Kurva ROC (Receiver Operating Characteristic) menggambarkan kemampuan diagnostik dari klasifikasi biner seiring dengan perubahan ambang batas diskriminasinya.\n",
    "Kurva ini memplot Tingkat Positif Benar (TPR, atau Sensitivitas) terhadap Tingkat Positif Palsu (FPR, atau 1 - Spesifisitas) untuk pengaturan ambang yang berbeda.\n",
    "Setiap garis mewakili kurva ROC untuk satu kelas terhadap semua yang lain, atau rata-rata:\n",
    "Garis biru: Kelas 0 (misalnya, tidak selamat)\n",
    "Garis hijau: Kelas 1 (misalnya, selamat)\n",
    "Garis putus-putus hijau muda: Kurva ROC mikro-rata\n",
    "Garis putus-putus abu-abu: Kurva ROC makro-rata\n",
    "Nilai AUC (Area Under the Curve) ditampilkan untuk setiap kurva, menunjukkan kemampuan model untuk membedakan antar kelas.\n",
    "Interpretasi:\n",
    "\n",
    "Nilai AUC yang mendekati 1.0 menunjukkan performa model yang sangat baik. Di sini, semua nilai AUC sekitar 0.86 hingga 0.87, menunjukkan performa prediktif yang kuat."
   ]
  },
  {
   "cell_type": "markdown",
   "metadata": {},
   "source": [
    "Mengapa Kurva ROC Penting?\n",
    "Skor AUC: Di bawah kurva ROC ada sesuatu yang disebut AUC, atau Area Under the Curve. Ini seperti skor total Anda di permainan. Skor lebih tinggi (mendekati angka 1) berarti Anda sangat baik dalam menebak. Skor yang lebih rendah (mendekati angka 0) berarti Anda perlu berlatih lebih banyak.\n",
    "Contoh Sederhana:\n",
    "Misalkan Anda bermain tebak-tebakan sebanyak 10 kali. Jika Anda mendapat skor AUC 0.9, itu berarti Anda sangat hebat dalam menebak karena skor Anda hampir sempurna. Kurva ROC akan naik tinggi ke atas, menunjukkan bahwa Anda hampir selalu benar.\n",
    "\n",
    "Bagaimana Menggambarkan Kurva ROC?\n",
    "Garis Menanjak: Bayangkan sebuah garis yang naik dari sudut kiri bawah ke sudut kanan atas pada grafik. Semakin tinggi dan lebih cepat garis itu naik, semakin baik Anda dalam menebak.\n",
    "Dengan menggambar banyak titik berdasarkan hasil tebakan Anda (berapa kali benar dan salah) dan menghubungkan titik-titik tersebut, kita mendapatkan kurva ROC. Ini membantu kita melihat dengan jelas kapan kita menebak dengan baik dan kapan kita perlu memperbaiki menebak kita.\n",
    "\n",
    "Kesimpulan:\n",
    "Jadi, kurva ROC seperti laporan nilai Anda di permainan tebak-tebakan, memberitahu seberapa baik Anda menebak antara ada atau tidak adanya mainan dalam kotak. Ini membantu kita mengetahui seberapa akurat tebakan kita dan apa yang bisa kita lakukan untuk menjadi lebih baik dalam menebak."
   ]
  },
  {
   "cell_type": "code",
   "execution_count": 48,
   "metadata": {},
   "outputs": [
    {
     "data": {
      "text/html": [],
      "text/plain": [
       "<IPython.core.display.HTML object>"
      ]
     },
     "metadata": {},
     "output_type": "display_data"
    },
    {
     "data": {
      "image/png": "[encoded data removed]",
      "text/plain": [
       "<Figure size 800x550 with 1 Axes>"
      ]
     },
     "metadata": {},
     "output_type": "display_data"
    }
   ],
   "source": [
    "plot_model(tuned_lr_model, plot='confusion_matrix')\n",
    "     \n",
    "\n",
    "\n",
    "     "
   ]
  },
  {
   "cell_type": "markdown",
   "metadata": {},
   "source": [
    "Matriks konfusi menunjukkan jumlah prediksi yang benar dan salah dibagi berdasarkan kelas aktual.\n",
    "Matriksnya terstruktur sebagai berikut:\n",
    "Kiri atas (Negatif Benar): 155 - Jumlah negatif aktual (0) yang diprediksi dengan benar sebagai negatif (0).\n",
    "Kanan atas (Positif Palsu): 10 - Jumlah negatif aktual (0) yang salah diprediksi sebagai positif (1).\n",
    "Kiri bawah (Negatif Palsu): 39 - Jumlah positif aktual (1) yang salah diprediksi sebagai negatif (0).\n",
    "Kanan bawah (Positif Benar): 64 - Jumlah positif aktual (1) yang diprediksi dengan benar sebagai positif (1)."
   ]
  },
  {
   "cell_type": "code",
   "execution_count": 49,
   "metadata": {},
   "outputs": [
    {
     "data": {
      "text/html": [],
      "text/plain": [
       "<IPython.core.display.HTML object>"
      ]
     },
     "metadata": {},
     "output_type": "display_data"
    },
    {
     "data": {
      "image/png": "[encoded data removed]",
      "text/plain": [
       "<Figure size 800x550 with 1 Axes>"
      ]
     },
     "metadata": {},
     "output_type": "display_data"
    }
   ],
   "source": [
    "# Visualize Predictions: PyCaret juga memungkinkan visualisasi distribusi prediksi atau perbandingan antara nilai aktual dan prediksi.\n",
    "plot_model(tuned_lr_model, plot='error')"
   ]
  },
  {
   "cell_type": "markdown",
   "metadata": {},
   "source": [
    "Error Prediksi Kelas untuk Regresi Logistik\n",
    "Apa yang Ditampilkan:\n",
    "\n",
    "Grafik batang ini memberikan ringkasan visual dari error prediksi (yaitu, jumlah prediksi yang salah) untuk setiap kelas.\n",
    "Batang biru mewakili jumlah prediksi yang benar untuk setiap kelas.\n",
    "Batang hijau mewakili prediksi yang salah untuk setiap kelas.\n",
    "Interpretasi:\n",
    "\n",
    "Kelas 0 (tidak selamat) memiliki lebih sedikit kesalahan prediksi dibandingkan dengan Kelas 1 (selamat), menunjukkan bahwa model lebih akurat dalam memprediksi ketidakselamatan daripada keselamatan."
   ]
  },
  {
   "cell_type": "markdown",
   "metadata": {},
   "source": [
    "Mengapa Plot Error Prediksi Penting?\n",
    "Plot ini penting karena memberitahu kita:\n",
    "\n",
    "Kesalahan yang Sering Terjadi: Bar hijau yang tinggi menunjukkan bahwa banyak dari Anda yang sering salah menebak jumlah kelereng hijau. Ini seperti mengatakan bahwa bagian ini lebih sulit.\n",
    "Keakuratan Tebakan: Bar biru yang tinggi menunjukkan bahwa banyak dari Anda yang sering benar menebak jumlah kelereng biru. Ini bagus karena berarti sebagian besar dari Anda mengerti dan menebak dengan baik.\n",
    "Contoh Sederhana dari Plot Error Prediksi:\n",
    "Misalkan di kelas ada 20 siswa, dan guru menunjukkan hasil sebagai berikut:\n",
    "\n",
    "15 siswa benar menebak kelereng biru: Jadi, bar biru akan tinggi, mencapai angka 15.\n",
    "10 siswa salah menebak kelereng hijau: Jadi, bar hijau juga akan tinggi, mencapai angka 10.\n",
    "Bagaimana Menggambarkan Plot Error Prediksi?\n",
    "Dalam grafik, Anda akan melihat dua bar berbeda warna:\n",
    "\n",
    "Bar Biru (Benar): Ini menunjukkan berapa banyak tebakan yang benar.\n",
    "Bar Hijau (Salah): Ini menunjukkan berapa banyak kesalahan atau tebakan yang salah.\n",
    "Grafik ini sangat membantu karena:\n",
    "\n",
    "Menunjukkan Kekuatan dan Kelemahan: Kita bisa melihat di mana kita baik (banyak tebakan benar) dan di mana kita perlu perbaikan (banyak kesalahan).\n",
    "Membantu Guru Mengajar Lebih Baik: Guru bisa melihat apa yang perlu dijelaskan lagi atau diajarkan dengan cara yang berbeda.\n",
    "Kesimpulan:\n",
    "Plot error prediksi seperti buku rapor untuk tebakan kita. Ia menunjukkan di mana kita sering melakukan kesalahan dan di mana kita sering benar, membantu kita belajar dan menjadi lebih baik dalam menebak atau memprediksi sesuatu. Ini sangat berguna dalam belajar karena kita bisa melihat secara langsung hasil dari apa yang kita pelajari atau tebak."
   ]
  },
  {
   "cell_type": "markdown",
   "metadata": {},
   "source": [
    "Hubungan dengan Kejadian Nyata dan Kesimpulan\n",
    "Dalam konteks dataset Titanic:\n",
    "\n",
    "Kekuatan Model: Model cukup baik dalam memprediksi non-survivor, seperti ditunjukkan oleh jumlah error prediksi yang lebih rendah untuk Kelas 0 dan banyaknya Negatif Benar.\n",
    "Kelemahan Model: Model lebih kesulitan dalam memprediksi survivor (Kelas 1), seperti terlihat dari jumlah Negatif Palsu yang lebih tinggi dan error prediksi yang signifikan.\n",
    "Kasus Penggunaan: Model ini berguna dalam skenario di mana biaya dari Negatif Palsu (misalnya, gagal mengidentifikasi survivor) tidak terlalu tinggi. Namun, perlu ada perbaikan untuk skenario di mana identifikasi survivor sangat penting.\n",
    "Perbaikan Potensial:\n",
    "\n",
    "Rekayasa Fitur: Analisis lebih lanjut bisa dilakukan pada pentingnya fitur dan interaksi untuk meningkatkan model.\n",
    "Penyetelan Model: Menyesuaikan ambang klasifikasi dan menjelajahi konfigurasi regresi logistik yang berbeda atau model alternatif juga bisa meningkatkan performa.\n",
    "Dengan memahami setiap aspek dari performa model melalui visualisasi ini, Anda dapat lebih baik menyesuaikan model Anda untuk memenuhi kebutuhan spesifik atau mengatasi kelemahannya."
   ]
  },
  {
   "cell_type": "code",
   "execution_count": 10,
   "metadata": {},
   "outputs": [
    {
     "name": "stdout",
     "output_type": "stream",
     "text": [
      "Transformation Pipeline and Model Successfully Saved\n"
     ]
    },
    {
     "data": {
      "text/plain": [
       "(Pipeline(memory=Memory(location=None),\n",
       "          steps=[('numerical_imputer',\n",
       "                  TransformerWrapper(exclude=None,\n",
       "                                     include=['PassengerId', 'Pclass', 'Age',\n",
       "                                              'SibSp', 'Parch', 'Fare'],\n",
       "                                     transformer=SimpleImputer(add_indicator=False,\n",
       "                                                               copy=True,\n",
       "                                                               fill_value=None,\n",
       "                                                               keep_empty_features=False,\n",
       "                                                               missing_values=nan,\n",
       "                                                               strategy='mean'))),\n",
       "                 ('categorical_imputer',\n",
       "                  TransformerWrapper(exclude=None...\n",
       "                                                               handle_unknown='value',\n",
       "                                                               hierarchy=None,\n",
       "                                                               min_samples_leaf=20,\n",
       "                                                               return_df=True,\n",
       "                                                               smoothing=10,\n",
       "                                                               verbose=0))),\n",
       "                 ('trained_model',\n",
       "                  LogisticRegression(C=3.882, class_weight={}, dual=False,\n",
       "                                     fit_intercept=True, intercept_scaling=1,\n",
       "                                     l1_ratio=None, max_iter=1000,\n",
       "                                     multi_class='auto', n_jobs=None,\n",
       "                                     penalty='l2', random_state=123,\n",
       "                                     solver='lbfgs', tol=0.0001, verbose=0,\n",
       "                                     warm_start=False))],\n",
       "          verbose=False),\n",
       " 'model_tuned_lr.pkl')"
      ]
     },
     "execution_count": 10,
     "metadata": {},
     "output_type": "execute_result"
    }
   ],
   "source": [
    "from pycaret.classification import save_model\n",
    "\n",
    "# Misalkan 'tuned_lr_model' adalah model yang ingin Anda simpan\n",
    "save_model(tuned_lr_model, 'model_tuned_lr')\n"
   ]
  },
  {
   "cell_type": "code",
   "execution_count": 5,
   "metadata": {},
   "outputs": [
    {
     "name": "stdout",
     "output_type": "stream",
     "text": [
      "Transformation Pipeline and Model Successfully Loaded\n"
     ]
    }
   ],
   "source": [
    "from pycaret.classification import load_model\n",
    "\n",
    "# Memuat model yang telah disimpan\n",
    "loaded_model = load_model('model_tuned_lr')\n"
   ]
  },
  {
   "cell_type": "code",
   "execution_count": 16,
   "metadata": {},
   "outputs": [],
   "source": [
    "#load data baru\n",
    "data_test=pd.read_csv('test.csv')"
   ]
  },
  {
   "cell_type": "code",
   "execution_count": 4,
   "metadata": {},
   "outputs": [
    {
     "ename": "NameError",
     "evalue": "name 'loaded_model' is not defined",
     "output_type": "error",
     "traceback": [
      "\u001b[1;31m---------------------------------------------------------------------------\u001b[0m",
      "\u001b[1;31mNameError\u001b[0m                                 Traceback (most recent call last)",
      "Cell \u001b[1;32mIn[4], line 5\u001b[0m\n\u001b[0;32m      2\u001b[0m \u001b[38;5;28;01mfrom\u001b[39;00m \u001b[38;5;21;01mpycaret\u001b[39;00m\u001b[38;5;21;01m.\u001b[39;00m\u001b[38;5;21;01mclassification\u001b[39;00m \u001b[38;5;28;01mimport\u001b[39;00m predict_model\n\u001b[0;32m      4\u001b[0m \u001b[38;5;66;03m# Membuat prediksi\u001b[39;00m\n\u001b[1;32m----> 5\u001b[0m predictions \u001b[38;5;241m=\u001b[39m predict_model(\u001b[43mloaded_model\u001b[49m, data\u001b[38;5;241m=\u001b[39mdata_test)\n\u001b[0;32m      6\u001b[0m \u001b[38;5;28mprint\u001b[39m(predictions)\n",
      "\u001b[1;31mNameError\u001b[0m: name 'loaded_model' is not defined"
     ]
    }
   ],
   "source": [
    "# Misalkan 'new_data' adalah DataFrame baru yang ingin Anda prediksi\n",
    "from pycaret.classification import predict_model\n",
    "\n",
    "# Membuat prediksi\n",
    "predictions = predict_model(loaded_model, data=data_test)\n",
    "print(predictions)\n"
   ]
  },
  {
   "cell_type": "code",
   "execution_count": 23,
   "metadata": {},
   "outputs": [
    {
     "data": {
      "text/plain": [
       "prediction_label\n",
       "0    298\n",
       "1    120\n",
       "Name: count, dtype: int64"
      ]
     },
     "execution_count": 23,
     "metadata": {},
     "output_type": "execute_result"
    }
   ],
   "source": [
    "predictions['prediction_label'].value_counts()"
   ]
  }
 ],
 "metadata": {
  "kernelspec": {
   "display_name": "Python 3",
   "language": "python",
   "name": "python3"
  },
  "language_info": {
   "codemirror_mode": {
    "name": "ipython",
    "version": 3
   },
   "file_extension": ".py",
   "mimetype": "text/x-python",
   "name": "python",
   "nbconvert_exporter": "python",
   "pygments_lexer": "ipython3",
   "version": "3.11.9"
  }
 },
 "nbformat": 4,
 "nbformat_minor": 2
}
