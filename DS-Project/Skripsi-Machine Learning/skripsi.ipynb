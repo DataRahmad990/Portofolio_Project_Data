{
 "cells": [
  {
   "cell_type": "code",
   "execution_count": 2,
   "metadata": {},
   "outputs": [],
   "source": [
    "import pandas as pd\n",
    "import numpy as np"
   ]
  },
  {
   "cell_type": "code",
   "execution_count": 3,
   "metadata": {},
   "outputs": [
    {
     "name": "stdout",
     "output_type": "stream",
     "text": [
      " Volume in drive F has no label.\n",
      " Volume Serial Number is 8AD7-0A22\n",
      "\n",
      " Directory of f:\\Data Science Project\\skripsi with machine learning\n",
      "\n"
     ]
    },
    {
     "name": "stderr",
     "output_type": "stream",
     "text": [
      "File Not Found\n"
     ]
    }
   ],
   "source": [
    "!dir()"
   ]
  },
  {
   "cell_type": "code",
   "execution_count": 4,
   "metadata": {},
   "outputs": [],
   "source": [
    "skripsi_data=pd.read_csv('olahdata.csv')\n",
    "skpd=skripsi_data"
   ]
  },
  {
   "cell_type": "code",
   "execution_count": 5,
   "metadata": {},
   "outputs": [
    {
     "data": {
      "text/html": [
       "<div>\n",
       "<style scoped>\n",
       "    .dataframe tbody tr th:only-of-type {\n",
       "        vertical-align: middle;\n",
       "    }\n",
       "\n",
       "    .dataframe tbody tr th {\n",
       "        vertical-align: top;\n",
       "    }\n",
       "\n",
       "    .dataframe thead th {\n",
       "        text-align: right;\n",
       "    }\n",
       "</style>\n",
       "<table border=\"1\" class=\"dataframe\">\n",
       "  <thead>\n",
       "    <tr style=\"text-align: right;\">\n",
       "      <th></th>\n",
       "      <th>PE</th>\n",
       "      <th>VB</th>\n",
       "      <th>SI</th>\n",
       "      <th>IFL</th>\n",
       "      <th>BI</th>\n",
       "    </tr>\n",
       "  </thead>\n",
       "  <tbody>\n",
       "    <tr>\n",
       "      <th>0</th>\n",
       "      <td>26</td>\n",
       "      <td>28</td>\n",
       "      <td>30</td>\n",
       "      <td>28.0</td>\n",
       "      <td>30.0</td>\n",
       "    </tr>\n",
       "    <tr>\n",
       "      <th>1</th>\n",
       "      <td>30</td>\n",
       "      <td>27</td>\n",
       "      <td>26</td>\n",
       "      <td>30.0</td>\n",
       "      <td>30.0</td>\n",
       "    </tr>\n",
       "    <tr>\n",
       "      <th>2</th>\n",
       "      <td>24</td>\n",
       "      <td>21</td>\n",
       "      <td>20</td>\n",
       "      <td>20.0</td>\n",
       "      <td>23.0</td>\n",
       "    </tr>\n",
       "    <tr>\n",
       "      <th>3</th>\n",
       "      <td>27</td>\n",
       "      <td>29</td>\n",
       "      <td>27</td>\n",
       "      <td>26.0</td>\n",
       "      <td>22.0</td>\n",
       "    </tr>\n",
       "    <tr>\n",
       "      <th>4</th>\n",
       "      <td>30</td>\n",
       "      <td>30</td>\n",
       "      <td>30</td>\n",
       "      <td>29.0</td>\n",
       "      <td>29.0</td>\n",
       "    </tr>\n",
       "  </tbody>\n",
       "</table>\n",
       "</div>"
      ],
      "text/plain": [
       "   PE  VB  SI   IFL    BI\n",
       "0  26  28  30  28.0  30.0\n",
       "1  30  27  26  30.0  30.0\n",
       "2  24  21  20  20.0  23.0\n",
       "3  27  29  27  26.0  22.0\n",
       "4  30  30  30  29.0  29.0"
      ]
     },
     "execution_count": 5,
     "metadata": {},
     "output_type": "execute_result"
    }
   ],
   "source": [
    "skpd.head()"
   ]
  },
  {
   "cell_type": "code",
   "execution_count": 6,
   "metadata": {},
   "outputs": [],
   "source": [
    "df=skpd"
   ]
  },
  {
   "cell_type": "code",
   "execution_count": 7,
   "metadata": {},
   "outputs": [],
   "source": [
    "import seaborn as sns\n",
    "import matplotlib.pyplot as plt"
   ]
  },
  {
   "cell_type": "code",
   "execution_count": 8,
   "metadata": {},
   "outputs": [
    {
     "data": {
      "image/png": "[encoded data removed]",
      "text/plain": [
       "<Figure size 800x800 with 1 Axes>"
      ]
     },
     "metadata": {},
     "output_type": "display_data"
    }
   ],
   "source": [
    "# analysis distribution of data \n",
    "\n",
    "fig, ax = plt.subplots(figsize=(8, 8))\n",
    "sns.histplot(df['IFL'], kde=True, color='red', ax=ax)\n",
    "plt.show()\n"
   ]
  },
  {
   "cell_type": "code",
   "execution_count": 9,
   "metadata": {},
   "outputs": [
    {
     "name": "stdout",
     "output_type": "stream",
     "text": [
      "Outliers detected:\n",
      "Empty DataFrame\n",
      "Columns: [PE, VB, SI, IFL, BI]\n",
      "Index: []\n"
     ]
    }
   ],
   "source": [
    "import pandas as pd\n",
    "import numpy as np\n",
    "\n",
    "# Membaca data dari file CSV\n",
    "df = pd.read_csv('olahdata.csv')\n",
    "\n",
    "# Fungsi untuk mendeteksi outlier menggunakan IQR\n",
    "def detect_outliers(data):\n",
    "    Q1 = data.quantile(0.25)\n",
    "    Q3 = data.quantile(0.75)\n",
    "    IQR = Q3 - Q1\n",
    "    lower_bound = Q1 - 1.5 * IQR\n",
    "    upper_bound = Q3 + 1.5 * IQR\n",
    "    return data[(data < lower_bound) | (data > upper_bound)]\n",
    "\n",
    "# Mendeteksi outlier untuk setiap kolom\n",
    "outliers = df.apply(detect_outliers)\n",
    "\n",
    "print(\"Outliers detected:\")\n",
    "print(outliers)"
   ]
  },
  {
   "cell_type": "code",
   "execution_count": 13,
   "metadata": {},
   "outputs": [
    {
     "data": {
      "text/plain": [
       "PE     0\n",
       "VB     0\n",
       "SI     0\n",
       "IFL    0\n",
       "BI     0\n",
       "dtype: int64"
      ]
     },
     "execution_count": 13,
     "metadata": {},
     "output_type": "execute_result"
    }
   ],
   "source": [
    "df.isnull().sum()"
   ]
  },
  {
   "cell_type": "code",
   "execution_count": 11,
   "metadata": {},
   "outputs": [
    {
     "name": "stderr",
     "output_type": "stream",
     "text": [
      "C:\\Users\\AXIOO\\AppData\\Local\\Temp\\ipykernel_12572\\906915760.py:2: FutureWarning: A value is trying to be set on a copy of a DataFrame or Series through chained assignment using an inplace method.\n",
      "The behavior will change in pandas 3.0. This inplace method will never work because the intermediate object on which we are setting values always behaves as a copy.\n",
      "\n",
      "For example, when doing 'df[col].method(value, inplace=True)', try using 'df.method({col: value}, inplace=True)' or df[col] = df[col].method(value) instead, to perform the operation inplace on the original object.\n",
      "\n",
      "\n",
      "  df['BI'].fillna(df['BI'].mean(), inplace=True)\n"
     ]
    }
   ],
   "source": [
    "# replace missing value with median\n",
    "df['BI'].fillna(df['BI'].mean(), inplace=True)"
   ]
  },
  {
   "cell_type": "code",
   "execution_count": 12,
   "metadata": {},
   "outputs": [
    {
     "name": "stderr",
     "output_type": "stream",
     "text": [
      "C:\\Users\\AXIOO\\AppData\\Local\\Temp\\ipykernel_12572\\3148201236.py:1: FutureWarning: A value is trying to be set on a copy of a DataFrame or Series through chained assignment using an inplace method.\n",
      "The behavior will change in pandas 3.0. This inplace method will never work because the intermediate object on which we are setting values always behaves as a copy.\n",
      "\n",
      "For example, when doing 'df[col].method(value, inplace=True)', try using 'df.method({col: value}, inplace=True)' or df[col] = df[col].method(value) instead, to perform the operation inplace on the original object.\n",
      "\n",
      "\n",
      "  df['IFL'].fillna(df['IFL'].mean(), inplace=True)\n"
     ]
    }
   ],
   "source": [
    "df['IFL'].fillna(df['IFL'].mean(), inplace=True)"
   ]
  },
  {
   "cell_type": "code",
   "execution_count": 14,
   "metadata": {},
   "outputs": [
    {
     "data": {
      "image/png": "[encoded data removed]",
      "text/plain": [
       "<Figure size 640x480 with 2 Axes>"
      ]
     },
     "metadata": {},
     "output_type": "display_data"
    }
   ],
   "source": [
    "# Calculate correlation matrix\n",
    "correlation_matrix = df.corr()\n",
    "\n",
    "# Create heatmap\n",
    "sns.heatmap(correlation_matrix, annot=True)  # Add annotation for values inside squares\n",
    "plt.title(\"Correlation Heatmap\")\n",
    "plt.show()"
   ]
  },
  {
   "cell_type": "code",
   "execution_count": 15,
   "metadata": {},
   "outputs": [
    {
     "data": {
      "image/png": "[encoded data removed]",
      "text/plain": [
       "<Figure size 640x480 with 1 Axes>"
      ]
     },
     "metadata": {},
     "output_type": "display_data"
    }
   ],
   "source": [
    "import matplotlib.pyplot as plt\n",
    "\n",
    "x = df['PE']\n",
    "y = df['BI']\n",
    "\n",
    "plt.scatter(x, y)\n",
    "plt.xlabel('x')\n",
    "plt.ylabel('y')\n",
    "plt.title('Visualisasi Sederhana x dan y')\n",
    "plt.show()"
   ]
  },
  {
   "cell_type": "code",
   "execution_count": 16,
   "metadata": {},
   "outputs": [],
   "source": [
    "from sklearn.linear_model import LinearRegression, Ridge, Lasso, ElasticNet\n",
    "from sklearn.svm import SVR\n",
    "from sklearn.ensemble import RandomForestRegressor,GradientBoostingRegressor\n",
    "from sklearn.metrics import mean_squared_error, r2_score, mean_absolute_error\n",
    "\n",
    "from sklearn.model_selection import train_test_split, GridSearchCV\n",
    "\n"
   ]
  },
  {
   "cell_type": "code",
   "execution_count": 17,
   "metadata": {},
   "outputs": [],
   "source": [
    "# Model-model untuk masalah regresi\n",
    "regression_models = [\n",
    "    LinearRegression(),\n",
    "    Ridge(alpha=1.0),\n",
    "    Lasso(alpha=0.1),\n",
    "    ElasticNet(alpha=0.1, l1_ratio=0.5),\n",
    "    SVR(kernel='linear'),\n",
    "    RandomForestRegressor(n_estimators=100),\n",
    "    GradientBoostingRegressor(n_estimators=100)\n",
    "]\n"
   ]
  },
  {
   "cell_type": "code",
   "execution_count": 18,
   "metadata": {},
   "outputs": [],
   "source": [
    "x=df.drop(['BI'], axis=1)\n",
    "y=df['BI']"
   ]
  },
  {
   "cell_type": "code",
   "execution_count": 51,
   "metadata": {},
   "outputs": [
    {
     "data": {
      "text/plain": [
       "PE     0\n",
       "VB     0\n",
       "SI     0\n",
       "IFL    7\n",
       "dtype: int64"
      ]
     },
     "execution_count": 51,
     "metadata": {},
     "output_type": "execute_result"
    }
   ],
   "source": [
    "x.isnull().sum()"
   ]
  },
  {
   "cell_type": "code",
   "execution_count": 1,
   "metadata": {},
   "outputs": [
    {
     "ename": "NameError",
     "evalue": "name 'df' is not defined",
     "output_type": "error",
     "traceback": [
      "\u001b[1;31m---------------------------------------------------------------------------\u001b[0m",
      "\u001b[1;31mNameError\u001b[0m                                 Traceback (most recent call last)",
      "Cell \u001b[1;32mIn[1], line 1\u001b[0m\n\u001b[1;32m----> 1\u001b[0m \u001b[43mdf\u001b[49m[\u001b[38;5;124m'\u001b[39m\u001b[38;5;124mIFL\u001b[39m\u001b[38;5;124m'\u001b[39m]\u001b[38;5;241m.\u001b[39mfillna(df[\u001b[38;5;124m'\u001b[39m\u001b[38;5;124mIFL\u001b[39m\u001b[38;5;124m'\u001b[39m]\u001b[38;5;241m.\u001b[39mmean(), inplace\u001b[38;5;241m=\u001b[39m\u001b[38;5;28;01mTrue\u001b[39;00m)\n",
      "\u001b[1;31mNameError\u001b[0m: name 'df' is not defined"
     ]
    }
   ],
   "source": [
    "df['IFL'].fillna(df['IFL'].mean(), inplace=True)"
   ]
  },
  {
   "cell_type": "code",
   "execution_count": 31,
   "metadata": {},
   "outputs": [
    {
     "data": {
      "text/plain": [
       "0      30.0\n",
       "1      30.0\n",
       "2      23.0\n",
       "3      22.0\n",
       "4      29.0\n",
       "       ... \n",
       "175    27.0\n",
       "176    24.0\n",
       "177    26.0\n",
       "178    29.0\n",
       "179    25.0\n",
       "Name: BI, Length: 180, dtype: float64"
      ]
     },
     "execution_count": 31,
     "metadata": {},
     "output_type": "execute_result"
    }
   ],
   "source": [
    "y"
   ]
  },
  {
   "cell_type": "markdown",
   "metadata": {},
   "source": [
    "# mencari model terbaik di regresi"
   ]
  },
  {
   "cell_type": "code",
   "execution_count": 19,
   "metadata": {},
   "outputs": [
    {
     "name": "stdout",
     "output_type": "stream",
     "text": [
      "Model: LinearRegression\n",
      "Mean Squared Error: 6.4033083945972935\n",
      "Root Mean Squared Error: 2.530475922548423\n",
      "Mean Absolute Error: 1.8811267673084235\n",
      "R² Score: 0.510112887874965\n",
      "\n",
      "Model: Ridge\n",
      "Mean Squared Error: 6.4042549185823185\n",
      "Root Mean Squared Error: 2.530662940532049\n",
      "Mean Absolute Error: 1.8814986262145181\n",
      "R² Score: 0.5100404737613526\n",
      "\n",
      "Model: Lasso\n",
      "Mean Squared Error: 6.451100752763392\n",
      "Root Mean Squared Error: 2.539901721083592\n",
      "Mean Absolute Error: 1.9010838149767564\n",
      "R² Score: 0.5064565185607226\n",
      "\n",
      "Model: ElasticNet\n",
      "Mean Squared Error: 6.433450732138031\n",
      "Root Mean Squared Error: 2.5364247933140125\n",
      "Mean Absolute Error: 1.8947557395677335\n",
      "R² Score: 0.5078068389108095\n",
      "\n",
      "Model: SVR\n",
      "Mean Squared Error: 6.686969172782864\n",
      "Root Mean Squared Error: 2.5859174721523623\n",
      "Mean Absolute Error: 1.945309228281731\n",
      "R² Score: 0.48841133129122827\n",
      "\n",
      "Model: RandomForestRegressor\n",
      "Mean Squared Error: 7.643089595570375\n",
      "Root Mean Squared Error: 2.764613823949084\n",
      "Mean Absolute Error: 2.0702379634556087\n",
      "R² Score: 0.4152630392054777\n",
      "\n",
      "Model: GradientBoostingRegressor\n",
      "Mean Squared Error: 6.763135395625625\n",
      "Root Mean Squared Error: 2.600602890797752\n",
      "Mean Absolute Error: 1.9815814339972238\n",
      "R² Score: 0.4825842105825967\n",
      "\n",
      "                       model  mean_squared_error  root_mean_squared_error  \\\n",
      "0           LinearRegression            6.403308                 2.530476   \n",
      "1                      Ridge            6.404255                 2.530663   \n",
      "2                      Lasso            6.451101                 2.539902   \n",
      "3                 ElasticNet            6.433451                 2.536425   \n",
      "4                        SVR            6.686969                 2.585917   \n",
      "5      RandomForestRegressor            7.643090                 2.764614   \n",
      "6  GradientBoostingRegressor            6.763135                 2.600603   \n",
      "\n",
      "   mean_absolute_error  r2_score  \n",
      "0             1.881127  0.510113  \n",
      "1             1.881499  0.510040  \n",
      "2             1.901084  0.506457  \n",
      "3             1.894756  0.507807  \n",
      "4             1.945309  0.488411  \n",
      "5             2.070238  0.415263  \n",
      "6             1.981581  0.482584  \n"
     ]
    }
   ],
   "source": [
    "X_train, X_test, Y_train, Y_test= train_test_split(x, y, test_size = 0.2, random_state=42)\n",
    "df = pd.DataFrame(skpd)\n",
    "#Comparing the performance of the models\n",
    "\n",
    " # List of Models\n",
    "models=[LinearRegression(),Ridge(alpha=1.0),Lasso(alpha=0.1), ElasticNet(alpha=0.1, l1_ratio=0.5), SVR(kernel='linear'), RandomForestRegressor(n_estimators=100), GradientBoostingRegressor(n_estimators=100)]\n",
    "\n",
    "def compare_model_train_test(x, y):\n",
    "    results = []\n",
    "    for model in models:\n",
    "        # Membagi data dalam loop agar setiap model mendapat data yang sama\n",
    "        X_train, X_test, y_train, y_test = train_test_split(x, y, test_size=0.2, random_state=3)\n",
    "        \n",
    "        model.fit(X_train, y_train)\n",
    "        test_data_prediction = model.predict(X_test)\n",
    "        \n",
    "        mse = mean_squared_error(y_test, test_data_prediction)\n",
    "        rmse = np.sqrt(mse)\n",
    "        mae = mean_absolute_error(y_test, test_data_prediction)\n",
    "        r2 = r2_score(y_test, test_data_prediction)\n",
    "\n",
    "        results.append({\n",
    "            'model': model.__class__.__name__,\n",
    "            'mean_squared_error': mse,\n",
    "            'root_mean_squared_error': rmse,\n",
    "            'mean_absolute_error': mae,\n",
    "            'r2_score': r2\n",
    "        })\n",
    "\n",
    "        print(f'Model: {model.__class__.__name__}')\n",
    "        print(f'Mean Squared Error: {mse}')\n",
    "        print(f'Root Mean Squared Error: {rmse}')\n",
    "        print(f'Mean Absolute Error: {mae}')\n",
    "        print(f'R² Score: {r2}\\n')\n",
    "\n",
    "    return results\n",
    "\n",
    "# Membandingkan kinerja model\n",
    "results = compare_model_train_test(x, y)\n",
    "\n",
    "# Menampilkan hasil dalam bentuk tabel\n",
    "results_df = pd.DataFrame(results)\n",
    "print(results_df)    "
   ]
  },
  {
   "cell_type": "code",
   "execution_count": 39,
   "metadata": {},
   "outputs": [
    {
     "data": {
      "text/html": [
       "<div>\n",
       "<style scoped>\n",
       "    .dataframe tbody tr th:only-of-type {\n",
       "        vertical-align: middle;\n",
       "    }\n",
       "\n",
       "    .dataframe tbody tr th {\n",
       "        vertical-align: top;\n",
       "    }\n",
       "\n",
       "    .dataframe thead th {\n",
       "        text-align: right;\n",
       "    }\n",
       "</style>\n",
       "<table border=\"1\" class=\"dataframe\">\n",
       "  <thead>\n",
       "    <tr style=\"text-align: right;\">\n",
       "      <th></th>\n",
       "      <th>model</th>\n",
       "      <th>mean_squared_error</th>\n",
       "      <th>root_mean_squared_error</th>\n",
       "      <th>mean_absolute_error</th>\n",
       "      <th>r2_score</th>\n",
       "    </tr>\n",
       "  </thead>\n",
       "  <tbody>\n",
       "    <tr>\n",
       "      <th>0</th>\n",
       "      <td>LinearRegression</td>\n",
       "      <td>6.403308</td>\n",
       "      <td>2.530476</td>\n",
       "      <td>1.881127</td>\n",
       "      <td>0.510113</td>\n",
       "    </tr>\n",
       "    <tr>\n",
       "      <th>1</th>\n",
       "      <td>Ridge</td>\n",
       "      <td>6.404255</td>\n",
       "      <td>2.530663</td>\n",
       "      <td>1.881499</td>\n",
       "      <td>0.510040</td>\n",
       "    </tr>\n",
       "    <tr>\n",
       "      <th>2</th>\n",
       "      <td>Lasso</td>\n",
       "      <td>6.451101</td>\n",
       "      <td>2.539902</td>\n",
       "      <td>1.901084</td>\n",
       "      <td>0.506457</td>\n",
       "    </tr>\n",
       "    <tr>\n",
       "      <th>3</th>\n",
       "      <td>ElasticNet</td>\n",
       "      <td>6.433451</td>\n",
       "      <td>2.536425</td>\n",
       "      <td>1.894756</td>\n",
       "      <td>0.507807</td>\n",
       "    </tr>\n",
       "    <tr>\n",
       "      <th>4</th>\n",
       "      <td>SVR</td>\n",
       "      <td>6.686969</td>\n",
       "      <td>2.585917</td>\n",
       "      <td>1.945309</td>\n",
       "      <td>0.488411</td>\n",
       "    </tr>\n",
       "    <tr>\n",
       "      <th>5</th>\n",
       "      <td>RandomForestRegressor</td>\n",
       "      <td>7.571726</td>\n",
       "      <td>2.751677</td>\n",
       "      <td>2.080384</td>\n",
       "      <td>0.420723</td>\n",
       "    </tr>\n",
       "    <tr>\n",
       "      <th>6</th>\n",
       "      <td>GradientBoostingRegressor</td>\n",
       "      <td>6.797638</td>\n",
       "      <td>2.607228</td>\n",
       "      <td>1.982115</td>\n",
       "      <td>0.479945</td>\n",
       "    </tr>\n",
       "  </tbody>\n",
       "</table>\n",
       "</div>"
      ],
      "text/plain": [
       "                       model  mean_squared_error  root_mean_squared_error  \\\n",
       "0           LinearRegression            6.403308                 2.530476   \n",
       "1                      Ridge            6.404255                 2.530663   \n",
       "2                      Lasso            6.451101                 2.539902   \n",
       "3                 ElasticNet            6.433451                 2.536425   \n",
       "4                        SVR            6.686969                 2.585917   \n",
       "5      RandomForestRegressor            7.571726                 2.751677   \n",
       "6  GradientBoostingRegressor            6.797638                 2.607228   \n",
       "\n",
       "   mean_absolute_error  r2_score  \n",
       "0             1.881127  0.510113  \n",
       "1             1.881499  0.510040  \n",
       "2             1.901084  0.506457  \n",
       "3             1.894756  0.507807  \n",
       "4             1.945309  0.488411  \n",
       "5             2.080384  0.420723  \n",
       "6             1.982115  0.479945  "
      ]
     },
     "execution_count": 39,
     "metadata": {},
     "output_type": "execute_result"
    }
   ],
   "source": [
    "results_df.head(7)"
   ]
  },
  {
   "cell_type": "markdown",
   "metadata": {},
   "source": [
    "# untuk mencari best parameter yang ada di regresi menggunakan 7 model\n"
   ]
  },
  {
   "cell_type": "code",
   "execution_count": 20,
   "metadata": {},
   "outputs": [
    {
     "name": "stdout",
     "output_type": "stream",
     "text": [
      "              model                                  best_params  \\\n",
      "0             Ridge                              {'alpha': 10.0}   \n",
      "1             Lasso                              {'alpha': 10.0}   \n",
      "2        ElasticNet              {'alpha': 1.0, 'l1_ratio': 0.1}   \n",
      "3               SVR                   {'C': 0.1, 'epsilon': 0.1}   \n",
      "4      RandomForest       {'max_depth': 10, 'n_estimators': 100}   \n",
      "5  GradientBoosting  {'learning_rate': 0.01, 'n_estimators': 50}   \n",
      "\n",
      "   mean_squared_error  root_mean_squared_error  mean_absolute_error  r2_score  \n",
      "0            6.361179                 2.522138             1.911307  0.513336  \n",
      "1           13.110830                 3.620888             2.864881 -0.003048  \n",
      "2           10.870011                 3.296970             2.626649  0.168386  \n",
      "3           12.822017                 3.580784             2.818340  0.019048  \n",
      "4           12.943505                 3.597708             2.888399  0.009753  \n",
      "5           12.494645                 3.534777             2.792626  0.044093  \n"
     ]
    }
   ],
   "source": [
    "# Parameter untuk Grid Search\n",
    "ridge_params = {'alpha': [0.1, 1.0, 10.0]}\n",
    "lasso_params = {'alpha': [0.1, 1.0, 10.0]}\n",
    "elasticnet_params = {'alpha': [0.1, 1.0, 10.0], 'l1_ratio': [0.1, 0.5, 0.9]}\n",
    "svr_params = {'C': [0.1, 1.0, 10.0], 'epsilon': [0.01, 0.1, 1.0]}\n",
    "rf_params = {'n_estimators': [50, 100, 200], 'max_depth': [None, 10, 20]}\n",
    "gb_params = {'n_estimators': [50, 100, 200], 'learning_rate': [0.01, 0.1, 0.2]}\n",
    "\n",
    "\n",
    "\n",
    "# Model-model untuk Grid Search\n",
    "models_and_params = {\n",
    "    'Ridge': (Ridge(), ridge_params),\n",
    "    'Lasso': (Lasso(), lasso_params),\n",
    "    'ElasticNet': (ElasticNet(), elasticnet_params),\n",
    "    'SVR': (SVR(), svr_params),\n",
    "    'RandomForest': (RandomForestRegressor(), rf_params),\n",
    "    'GradientBoosting': (GradientBoostingRegressor(), gb_params)\n",
    "}\n",
    "\n",
    "# Fungsi untuk Grid Search\n",
    "def perform_grid_search(X_train, Y_train):\n",
    "    results = []\n",
    "    for model_name, (model, params) in models_and_params.items():\n",
    "        grid_search = GridSearchCV(model, params, cv=20, scoring='neg_mean_squared_error', n_jobs=-1)\n",
    "        grid_search.fit(X_train, Y_train)\n",
    "        best_model = grid_search.best_estimator_\n",
    "\n",
    "        # Evaluasi model terbaik\n",
    "        X_train, X_test, y_train, y_test = train_test_split(x, y, test_size=0.2, random_state=3)\n",
    "        test_data_prediction = best_model.predict(X_test)\n",
    "        \n",
    "        mse = mean_squared_error(y_test, test_data_prediction)\n",
    "        rmse = np.sqrt(mse)\n",
    "        mae = mean_absolute_error(y_test, test_data_prediction)\n",
    "        r2 = r2_score(y_test, test_data_prediction)\n",
    "\n",
    "        results.append({\n",
    "            'model': model_name,\n",
    "            'best_params': grid_search.best_params_,\n",
    "            'mean_squared_error': mse,\n",
    "            'root_mean_squared_error': rmse,\n",
    "            'mean_absolute_error': mae,\n",
    "            'r2_score': r2\n",
    "        })\n",
    "\n",
    "    return results\n",
    "\n",
    "# Melakukan Grid Search\n",
    "results = perform_grid_search(X_train, Y_train)\n",
    "\n",
    "# Menampilkan hasil\n",
    "results_df_hyperparamter = pd.DataFrame(results)\n",
    "print(results_df_hyperparamter)"
   ]
  },
  {
   "cell_type": "code",
   "execution_count": 21,
   "metadata": {},
   "outputs": [
    {
     "data": {
      "text/html": [
       "<div>\n",
       "<style scoped>\n",
       "    .dataframe tbody tr th:only-of-type {\n",
       "        vertical-align: middle;\n",
       "    }\n",
       "\n",
       "    .dataframe tbody tr th {\n",
       "        vertical-align: top;\n",
       "    }\n",
       "\n",
       "    .dataframe thead th {\n",
       "        text-align: right;\n",
       "    }\n",
       "</style>\n",
       "<table border=\"1\" class=\"dataframe\">\n",
       "  <thead>\n",
       "    <tr style=\"text-align: right;\">\n",
       "      <th></th>\n",
       "      <th>model</th>\n",
       "      <th>best_params</th>\n",
       "      <th>mean_squared_error</th>\n",
       "      <th>root_mean_squared_error</th>\n",
       "      <th>mean_absolute_error</th>\n",
       "      <th>r2_score</th>\n",
       "    </tr>\n",
       "  </thead>\n",
       "  <tbody>\n",
       "    <tr>\n",
       "      <th>0</th>\n",
       "      <td>Ridge</td>\n",
       "      <td>{'alpha': 10.0}</td>\n",
       "      <td>6.361179</td>\n",
       "      <td>2.522138</td>\n",
       "      <td>1.911307</td>\n",
       "      <td>0.513336</td>\n",
       "    </tr>\n",
       "    <tr>\n",
       "      <th>1</th>\n",
       "      <td>Lasso</td>\n",
       "      <td>{'alpha': 10.0}</td>\n",
       "      <td>13.110830</td>\n",
       "      <td>3.620888</td>\n",
       "      <td>2.864881</td>\n",
       "      <td>-0.003048</td>\n",
       "    </tr>\n",
       "    <tr>\n",
       "      <th>2</th>\n",
       "      <td>ElasticNet</td>\n",
       "      <td>{'alpha': 1.0, 'l1_ratio': 0.1}</td>\n",
       "      <td>10.870011</td>\n",
       "      <td>3.296970</td>\n",
       "      <td>2.626649</td>\n",
       "      <td>0.168386</td>\n",
       "    </tr>\n",
       "    <tr>\n",
       "      <th>3</th>\n",
       "      <td>SVR</td>\n",
       "      <td>{'C': 0.1, 'epsilon': 0.1}</td>\n",
       "      <td>12.822017</td>\n",
       "      <td>3.580784</td>\n",
       "      <td>2.818340</td>\n",
       "      <td>0.019048</td>\n",
       "    </tr>\n",
       "    <tr>\n",
       "      <th>4</th>\n",
       "      <td>RandomForest</td>\n",
       "      <td>{'max_depth': 10, 'n_estimators': 100}</td>\n",
       "      <td>12.943505</td>\n",
       "      <td>3.597708</td>\n",
       "      <td>2.888399</td>\n",
       "      <td>0.009753</td>\n",
       "    </tr>\n",
       "    <tr>\n",
       "      <th>5</th>\n",
       "      <td>GradientBoosting</td>\n",
       "      <td>{'learning_rate': 0.01, 'n_estimators': 50}</td>\n",
       "      <td>12.494645</td>\n",
       "      <td>3.534777</td>\n",
       "      <td>2.792626</td>\n",
       "      <td>0.044093</td>\n",
       "    </tr>\n",
       "  </tbody>\n",
       "</table>\n",
       "</div>"
      ],
      "text/plain": [
       "              model                                  best_params  \\\n",
       "0             Ridge                              {'alpha': 10.0}   \n",
       "1             Lasso                              {'alpha': 10.0}   \n",
       "2        ElasticNet              {'alpha': 1.0, 'l1_ratio': 0.1}   \n",
       "3               SVR                   {'C': 0.1, 'epsilon': 0.1}   \n",
       "4      RandomForest       {'max_depth': 10, 'n_estimators': 100}   \n",
       "5  GradientBoosting  {'learning_rate': 0.01, 'n_estimators': 50}   \n",
       "\n",
       "   mean_squared_error  root_mean_squared_error  mean_absolute_error  r2_score  \n",
       "0            6.361179                 2.522138             1.911307  0.513336  \n",
       "1           13.110830                 3.620888             2.864881 -0.003048  \n",
       "2           10.870011                 3.296970             2.626649  0.168386  \n",
       "3           12.822017                 3.580784             2.818340  0.019048  \n",
       "4           12.943505                 3.597708             2.888399  0.009753  \n",
       "5           12.494645                 3.534777             2.792626  0.044093  "
      ]
     },
     "execution_count": 21,
     "metadata": {},
     "output_type": "execute_result"
    }
   ],
   "source": [
    "results_df_hyperparamter.head(7)"
   ]
  },
  {
   "cell_type": "markdown",
   "metadata": {},
   "source": [
    "# memilih model dan parameter terbaik"
   ]
  },
  {
   "cell_type": "code",
   "execution_count": 22,
   "metadata": {},
   "outputs": [
    {
     "data": {
      "text/html": [
       "<style>#sk-container-id-1 {\n",
       "  /* Definition of color scheme common for light and dark mode */\n",
       "  --sklearn-color-text: black;\n",
       "  --sklearn-color-line: gray;\n",
       "  /* Definition of color scheme for unfitted estimators */\n",
       "  --sklearn-color-unfitted-level-0: #fff5e6;\n",
       "  --sklearn-color-unfitted-level-1: #f6e4d2;\n",
       "  --sklearn-color-unfitted-level-2: #ffe0b3;\n",
       "  --sklearn-color-unfitted-level-3: chocolate;\n",
       "  /* Definition of color scheme for fitted estimators */\n",
       "  --sklearn-color-fitted-level-0: #f0f8ff;\n",
       "  --sklearn-color-fitted-level-1: #d4ebff;\n",
       "  --sklearn-color-fitted-level-2: #b3dbfd;\n",
       "  --sklearn-color-fitted-level-3: cornflowerblue;\n",
       "\n",
       "  /* Specific color for light theme */\n",
       "  --sklearn-color-text-on-default-background: var(--sg-text-color, var(--theme-code-foreground, var(--jp-content-font-color1, black)));\n",
       "  --sklearn-color-background: var(--sg-background-color, var(--theme-background, var(--jp-layout-color0, white)));\n",
       "  --sklearn-color-border-box: var(--sg-text-color, var(--theme-code-foreground, var(--jp-content-font-color1, black)));\n",
       "  --sklearn-color-icon: #696969;\n",
       "\n",
       "  @media (prefers-color-scheme: dark) {\n",
       "    /* Redefinition of color scheme for dark theme */\n",
       "    --sklearn-color-text-on-default-background: var(--sg-text-color, var(--theme-code-foreground, var(--jp-content-font-color1, white)));\n",
       "    --sklearn-color-background: var(--sg-background-color, var(--theme-background, var(--jp-layout-color0, #111)));\n",
       "    --sklearn-color-border-box: var(--sg-text-color, var(--theme-code-foreground, var(--jp-content-font-color1, white)));\n",
       "    --sklearn-color-icon: #878787;\n",
       "  }\n",
       "}\n",
       "\n",
       "#sk-container-id-1 {\n",
       "  color: var(--sklearn-color-text);\n",
       "}\n",
       "\n",
       "#sk-container-id-1 pre {\n",
       "  padding: 0;\n",
       "}\n",
       "\n",
       "#sk-container-id-1 input.sk-hidden--visually {\n",
       "  border: 0;\n",
       "  clip: rect(1px 1px 1px 1px);\n",
       "  clip: rect(1px, 1px, 1px, 1px);\n",
       "  height: 1px;\n",
       "  margin: -1px;\n",
       "  overflow: hidden;\n",
       "  padding: 0;\n",
       "  position: absolute;\n",
       "  width: 1px;\n",
       "}\n",
       "\n",
       "#sk-container-id-1 div.sk-dashed-wrapped {\n",
       "  border: 1px dashed var(--sklearn-color-line);\n",
       "  margin: 0 0.4em 0.5em 0.4em;\n",
       "  box-sizing: border-box;\n",
       "  padding-bottom: 0.4em;\n",
       "  background-color: var(--sklearn-color-background);\n",
       "}\n",
       "\n",
       "#sk-container-id-1 div.sk-container {\n",
       "  /* jupyter's `normalize.less` sets `[hidden] { display: none; }`\n",
       "     but bootstrap.min.css set `[hidden] { display: none !important; }`\n",
       "     so we also need the `!important` here to be able to override the\n",
       "     default hidden behavior on the sphinx rendered scikit-learn.org.\n",
       "     See: https://github.com/scikit-learn/scikit-learn/issues/21755 */\n",
       "  display: inline-block !important;\n",
       "  position: relative;\n",
       "}\n",
       "\n",
       "#sk-container-id-1 div.sk-text-repr-fallback {\n",
       "  display: none;\n",
       "}\n",
       "\n",
       "div.sk-parallel-item,\n",
       "div.sk-serial,\n",
       "div.sk-item {\n",
       "  /* draw centered vertical line to link estimators */\n",
       "  background-image: linear-gradient(var(--sklearn-color-text-on-default-background), var(--sklearn-color-text-on-default-background));\n",
       "  background-size: 2px 100%;\n",
       "  background-repeat: no-repeat;\n",
       "  background-position: center center;\n",
       "}\n",
       "\n",
       "/* Parallel-specific style estimator block */\n",
       "\n",
       "#sk-container-id-1 div.sk-parallel-item::after {\n",
       "  content: \"\";\n",
       "  width: 100%;\n",
       "  border-bottom: 2px solid var(--sklearn-color-text-on-default-background);\n",
       "  flex-grow: 1;\n",
       "}\n",
       "\n",
       "#sk-container-id-1 div.sk-parallel {\n",
       "  display: flex;\n",
       "  align-items: stretch;\n",
       "  justify-content: center;\n",
       "  background-color: var(--sklearn-color-background);\n",
       "  position: relative;\n",
       "}\n",
       "\n",
       "#sk-container-id-1 div.sk-parallel-item {\n",
       "  display: flex;\n",
       "  flex-direction: column;\n",
       "}\n",
       "\n",
       "#sk-container-id-1 div.sk-parallel-item:first-child::after {\n",
       "  align-self: flex-end;\n",
       "  width: 50%;\n",
       "}\n",
       "\n",
       "#sk-container-id-1 div.sk-parallel-item:last-child::after {\n",
       "  align-self: flex-start;\n",
       "  width: 50%;\n",
       "}\n",
       "\n",
       "#sk-container-id-1 div.sk-parallel-item:only-child::after {\n",
       "  width: 0;\n",
       "}\n",
       "\n",
       "/* Serial-specific style estimator block */\n",
       "\n",
       "#sk-container-id-1 div.sk-serial {\n",
       "  display: flex;\n",
       "  flex-direction: column;\n",
       "  align-items: center;\n",
       "  background-color: var(--sklearn-color-background);\n",
       "  padding-right: 1em;\n",
       "  padding-left: 1em;\n",
       "}\n",
       "\n",
       "\n",
       "/* Toggleable style: style used for estimator/Pipeline/ColumnTransformer box that is\n",
       "clickable and can be expanded/collapsed.\n",
       "- Pipeline and ColumnTransformer use this feature and define the default style\n",
       "- Estimators will overwrite some part of the style using the `sk-estimator` class\n",
       "*/\n",
       "\n",
       "/* Pipeline and ColumnTransformer style (default) */\n",
       "\n",
       "#sk-container-id-1 div.sk-toggleable {\n",
       "  /* Default theme specific background. It is overwritten whether we have a\n",
       "  specific estimator or a Pipeline/ColumnTransformer */\n",
       "  background-color: var(--sklearn-color-background);\n",
       "}\n",
       "\n",
       "/* Toggleable label */\n",
       "#sk-container-id-1 label.sk-toggleable__label {\n",
       "  cursor: pointer;\n",
       "  display: block;\n",
       "  width: 100%;\n",
       "  margin-bottom: 0;\n",
       "  padding: 0.5em;\n",
       "  box-sizing: border-box;\n",
       "  text-align: center;\n",
       "}\n",
       "\n",
       "#sk-container-id-1 label.sk-toggleable__label-arrow:before {\n",
       "  /* Arrow on the left of the label */\n",
       "  content: \"▸\";\n",
       "  float: left;\n",
       "  margin-right: 0.25em;\n",
       "  color: var(--sklearn-color-icon);\n",
       "}\n",
       "\n",
       "#sk-container-id-1 label.sk-toggleable__label-arrow:hover:before {\n",
       "  color: var(--sklearn-color-text);\n",
       "}\n",
       "\n",
       "/* Toggleable content - dropdown */\n",
       "\n",
       "#sk-container-id-1 div.sk-toggleable__content {\n",
       "  max-height: 0;\n",
       "  max-width: 0;\n",
       "  overflow: hidden;\n",
       "  text-align: left;\n",
       "  /* unfitted */\n",
       "  background-color: var(--sklearn-color-unfitted-level-0);\n",
       "}\n",
       "\n",
       "#sk-container-id-1 div.sk-toggleable__content.fitted {\n",
       "  /* fitted */\n",
       "  background-color: var(--sklearn-color-fitted-level-0);\n",
       "}\n",
       "\n",
       "#sk-container-id-1 div.sk-toggleable__content pre {\n",
       "  margin: 0.2em;\n",
       "  border-radius: 0.25em;\n",
       "  color: var(--sklearn-color-text);\n",
       "  /* unfitted */\n",
       "  background-color: var(--sklearn-color-unfitted-level-0);\n",
       "}\n",
       "\n",
       "#sk-container-id-1 div.sk-toggleable__content.fitted pre {\n",
       "  /* unfitted */\n",
       "  background-color: var(--sklearn-color-fitted-level-0);\n",
       "}\n",
       "\n",
       "#sk-container-id-1 input.sk-toggleable__control:checked~div.sk-toggleable__content {\n",
       "  /* Expand drop-down */\n",
       "  max-height: 200px;\n",
       "  max-width: 100%;\n",
       "  overflow: auto;\n",
       "}\n",
       "\n",
       "#sk-container-id-1 input.sk-toggleable__control:checked~label.sk-toggleable__label-arrow:before {\n",
       "  content: \"▾\";\n",
       "}\n",
       "\n",
       "/* Pipeline/ColumnTransformer-specific style */\n",
       "\n",
       "#sk-container-id-1 div.sk-label input.sk-toggleable__control:checked~label.sk-toggleable__label {\n",
       "  color: var(--sklearn-color-text);\n",
       "  background-color: var(--sklearn-color-unfitted-level-2);\n",
       "}\n",
       "\n",
       "#sk-container-id-1 div.sk-label.fitted input.sk-toggleable__control:checked~label.sk-toggleable__label {\n",
       "  background-color: var(--sklearn-color-fitted-level-2);\n",
       "}\n",
       "\n",
       "/* Estimator-specific style */\n",
       "\n",
       "/* Colorize estimator box */\n",
       "#sk-container-id-1 div.sk-estimator input.sk-toggleable__control:checked~label.sk-toggleable__label {\n",
       "  /* unfitted */\n",
       "  background-color: var(--sklearn-color-unfitted-level-2);\n",
       "}\n",
       "\n",
       "#sk-container-id-1 div.sk-estimator.fitted input.sk-toggleable__control:checked~label.sk-toggleable__label {\n",
       "  /* fitted */\n",
       "  background-color: var(--sklearn-color-fitted-level-2);\n",
       "}\n",
       "\n",
       "#sk-container-id-1 div.sk-label label.sk-toggleable__label,\n",
       "#sk-container-id-1 div.sk-label label {\n",
       "  /* The background is the default theme color */\n",
       "  color: var(--sklearn-color-text-on-default-background);\n",
       "}\n",
       "\n",
       "/* On hover, darken the color of the background */\n",
       "#sk-container-id-1 div.sk-label:hover label.sk-toggleable__label {\n",
       "  color: var(--sklearn-color-text);\n",
       "  background-color: var(--sklearn-color-unfitted-level-2);\n",
       "}\n",
       "\n",
       "/* Label box, darken color on hover, fitted */\n",
       "#sk-container-id-1 div.sk-label.fitted:hover label.sk-toggleable__label.fitted {\n",
       "  color: var(--sklearn-color-text);\n",
       "  background-color: var(--sklearn-color-fitted-level-2);\n",
       "}\n",
       "\n",
       "/* Estimator label */\n",
       "\n",
       "#sk-container-id-1 div.sk-label label {\n",
       "  font-family: monospace;\n",
       "  font-weight: bold;\n",
       "  display: inline-block;\n",
       "  line-height: 1.2em;\n",
       "}\n",
       "\n",
       "#sk-container-id-1 div.sk-label-container {\n",
       "  text-align: center;\n",
       "}\n",
       "\n",
       "/* Estimator-specific */\n",
       "#sk-container-id-1 div.sk-estimator {\n",
       "  font-family: monospace;\n",
       "  border: 1px dotted var(--sklearn-color-border-box);\n",
       "  border-radius: 0.25em;\n",
       "  box-sizing: border-box;\n",
       "  margin-bottom: 0.5em;\n",
       "  /* unfitted */\n",
       "  background-color: var(--sklearn-color-unfitted-level-0);\n",
       "}\n",
       "\n",
       "#sk-container-id-1 div.sk-estimator.fitted {\n",
       "  /* fitted */\n",
       "  background-color: var(--sklearn-color-fitted-level-0);\n",
       "}\n",
       "\n",
       "/* on hover */\n",
       "#sk-container-id-1 div.sk-estimator:hover {\n",
       "  /* unfitted */\n",
       "  background-color: var(--sklearn-color-unfitted-level-2);\n",
       "}\n",
       "\n",
       "#sk-container-id-1 div.sk-estimator.fitted:hover {\n",
       "  /* fitted */\n",
       "  background-color: var(--sklearn-color-fitted-level-2);\n",
       "}\n",
       "\n",
       "/* Specification for estimator info (e.g. \"i\" and \"?\") */\n",
       "\n",
       "/* Common style for \"i\" and \"?\" */\n",
       "\n",
       ".sk-estimator-doc-link,\n",
       "a:link.sk-estimator-doc-link,\n",
       "a:visited.sk-estimator-doc-link {\n",
       "  float: right;\n",
       "  font-size: smaller;\n",
       "  line-height: 1em;\n",
       "  font-family: monospace;\n",
       "  background-color: var(--sklearn-color-background);\n",
       "  border-radius: 1em;\n",
       "  height: 1em;\n",
       "  width: 1em;\n",
       "  text-decoration: none !important;\n",
       "  margin-left: 1ex;\n",
       "  /* unfitted */\n",
       "  border: var(--sklearn-color-unfitted-level-1) 1pt solid;\n",
       "  color: var(--sklearn-color-unfitted-level-1);\n",
       "}\n",
       "\n",
       ".sk-estimator-doc-link.fitted,\n",
       "a:link.sk-estimator-doc-link.fitted,\n",
       "a:visited.sk-estimator-doc-link.fitted {\n",
       "  /* fitted */\n",
       "  border: var(--sklearn-color-fitted-level-1) 1pt solid;\n",
       "  color: var(--sklearn-color-fitted-level-1);\n",
       "}\n",
       "\n",
       "/* On hover */\n",
       "div.sk-estimator:hover .sk-estimator-doc-link:hover,\n",
       ".sk-estimator-doc-link:hover,\n",
       "div.sk-label-container:hover .sk-estimator-doc-link:hover,\n",
       ".sk-estimator-doc-link:hover {\n",
       "  /* unfitted */\n",
       "  background-color: var(--sklearn-color-unfitted-level-3);\n",
       "  color: var(--sklearn-color-background);\n",
       "  text-decoration: none;\n",
       "}\n",
       "\n",
       "div.sk-estimator.fitted:hover .sk-estimator-doc-link.fitted:hover,\n",
       ".sk-estimator-doc-link.fitted:hover,\n",
       "div.sk-label-container:hover .sk-estimator-doc-link.fitted:hover,\n",
       ".sk-estimator-doc-link.fitted:hover {\n",
       "  /* fitted */\n",
       "  background-color: var(--sklearn-color-fitted-level-3);\n",
       "  color: var(--sklearn-color-background);\n",
       "  text-decoration: none;\n",
       "}\n",
       "\n",
       "/* Span, style for the box shown on hovering the info icon */\n",
       ".sk-estimator-doc-link span {\n",
       "  display: none;\n",
       "  z-index: 9999;\n",
       "  position: relative;\n",
       "  font-weight: normal;\n",
       "  right: .2ex;\n",
       "  padding: .5ex;\n",
       "  margin: .5ex;\n",
       "  width: min-content;\n",
       "  min-width: 20ex;\n",
       "  max-width: 50ex;\n",
       "  color: var(--sklearn-color-text);\n",
       "  box-shadow: 2pt 2pt 4pt #999;\n",
       "  /* unfitted */\n",
       "  background: var(--sklearn-color-unfitted-level-0);\n",
       "  border: .5pt solid var(--sklearn-color-unfitted-level-3);\n",
       "}\n",
       "\n",
       ".sk-estimator-doc-link.fitted span {\n",
       "  /* fitted */\n",
       "  background: var(--sklearn-color-fitted-level-0);\n",
       "  border: var(--sklearn-color-fitted-level-3);\n",
       "}\n",
       "\n",
       ".sk-estimator-doc-link:hover span {\n",
       "  display: block;\n",
       "}\n",
       "\n",
       "/* \"?\"-specific style due to the `<a>` HTML tag */\n",
       "\n",
       "#sk-container-id-1 a.estimator_doc_link {\n",
       "  float: right;\n",
       "  font-size: 1rem;\n",
       "  line-height: 1em;\n",
       "  font-family: monospace;\n",
       "  background-color: var(--sklearn-color-background);\n",
       "  border-radius: 1rem;\n",
       "  height: 1rem;\n",
       "  width: 1rem;\n",
       "  text-decoration: none;\n",
       "  /* unfitted */\n",
       "  color: var(--sklearn-color-unfitted-level-1);\n",
       "  border: var(--sklearn-color-unfitted-level-1) 1pt solid;\n",
       "}\n",
       "\n",
       "#sk-container-id-1 a.estimator_doc_link.fitted {\n",
       "  /* fitted */\n",
       "  border: var(--sklearn-color-fitted-level-1) 1pt solid;\n",
       "  color: var(--sklearn-color-fitted-level-1);\n",
       "}\n",
       "\n",
       "/* On hover */\n",
       "#sk-container-id-1 a.estimator_doc_link:hover {\n",
       "  /* unfitted */\n",
       "  background-color: var(--sklearn-color-unfitted-level-3);\n",
       "  color: var(--sklearn-color-background);\n",
       "  text-decoration: none;\n",
       "}\n",
       "\n",
       "#sk-container-id-1 a.estimator_doc_link.fitted:hover {\n",
       "  /* fitted */\n",
       "  background-color: var(--sklearn-color-fitted-level-3);\n",
       "}\n",
       "</style><div id=\"sk-container-id-1\" class=\"sk-top-container\"><div class=\"sk-text-repr-fallback\"><pre>Ridge(alpha=10.0)</pre><b>In a Jupyter environment, please rerun this cell to show the HTML representation or trust the notebook. <br />On GitHub, the HTML representation is unable to render, please try loading this page with nbviewer.org.</b></div><div class=\"sk-container\" hidden><div class=\"sk-item\"><div class=\"sk-estimator fitted sk-toggleable\"><input class=\"sk-toggleable__control sk-hidden--visually\" id=\"sk-estimator-id-1\" type=\"checkbox\" checked><label for=\"sk-estimator-id-1\" class=\"sk-toggleable__label fitted sk-toggleable__label-arrow fitted\">&nbsp;&nbsp;Ridge<a class=\"sk-estimator-doc-link fitted\" rel=\"noreferrer\" target=\"_blank\" href=\"https://scikit-learn.org/1.5/modules/generated/sklearn.linear_model.Ridge.html\">?<span>Documentation for Ridge</span></a><span class=\"sk-estimator-doc-link fitted\">i<span>Fitted</span></span></label><div class=\"sk-toggleable__content fitted\"><pre>Ridge(alpha=10.0)</pre></div> </div></div></div></div>"
      ],
      "text/plain": [
       "Ridge(alpha=10.0)"
      ]
     },
     "execution_count": 22,
     "metadata": {},
     "output_type": "execute_result"
    }
   ],
   "source": [
    "# Buat model dengan parameter alpha terbaik\n",
    "model = Ridge(alpha=10.0)\n",
    "model.fit(x,y)"
   ]
  },
  {
   "cell_type": "code",
   "execution_count": 23,
   "metadata": {},
   "outputs": [
    {
     "name": "stdout",
     "output_type": "stream",
     "text": [
      "Mean Squared Error: 6.607112867745231\n",
      "R-squared: 0.5237894508599985\n"
     ]
    }
   ],
   "source": [
    "# prediksi dengan data latih\n",
    "# Prediksi dengan data latih\n",
    "y_train_pred = model.predict(X_train)\n",
    "\n",
    "# Hitung metrik evaluasi untuk data latih\n",
    "mse_train = mean_squared_error(Y_train, y_train_pred)\n",
    "r2_train = r2_score(Y_train, y_train_pred)\n",
    "\n",
    "print(f\"Mean Squared Error: {mse_train}\")\n",
    "print(f\"R-squared: {r2_train}\")"
   ]
  },
  {
   "cell_type": "code",
   "execution_count": 24,
   "metadata": {},
   "outputs": [
    {
     "name": "stdout",
     "output_type": "stream",
     "text": [
      "Mean Squared Error: 3.151518708912877\n",
      "R-squared: 0.7198457886857061\n"
     ]
    }
   ],
   "source": [
    "# Prediksi dengan data uji\n",
    "y_pred = model.predict(X_test)\n",
    "\n",
    "# Hitung metrik evaluasi\n",
    "mse = mean_squared_error(Y_test, y_pred)\n",
    "r2 = r2_score(Y_test, y_pred)\n",
    "\n",
    "print(f\"Mean Squared Error: {mse}\")\n",
    "print(f\"R-squared: {r2}\")"
   ]
  },
  {
   "cell_type": "code",
   "execution_count": 26,
   "metadata": {},
   "outputs": [
    {
     "data": {
      "text/plain": [
       "array([25.58999713, 28.63501404, 21.35845723, 23.7329258 , 22.89275723,\n",
       "       23.04471867, 21.96131476, 29.5576721 , 29.35697898, 22.46038571,\n",
       "       22.99492294, 25.05335488, 18.84900359, 25.35288436, 24.95415997,\n",
       "       22.94532548, 22.89830227, 20.88986434, 23.59913039, 27.1597634 ,\n",
       "       27.17983618, 23.99880816, 20.41735843, 25.20349717, 24.31630539,\n",
       "       24.25313358, 29.02036235, 23.96813182, 27.24930812, 25.35938278,\n",
       "       26.14250211, 25.12417675, 20.84856715, 26.22927431, 24.36982701,\n",
       "       25.91102198])"
      ]
     },
     "execution_count": 26,
     "metadata": {},
     "output_type": "execute_result"
    }
   ],
   "source": [
    "y_pred"
   ]
  },
  {
   "cell_type": "code",
   "execution_count": 25,
   "metadata": {},
   "outputs": [
    {
     "data": {
      "text/plain": [
       "19     25.0\n",
       "42     29.0\n",
       "153    23.0\n",
       "78     25.0\n",
       "145    25.0\n",
       "15     26.0\n",
       "24     21.0\n",
       "68     30.0\n",
       "113    30.0\n",
       "118    21.0\n",
       "93     19.0\n",
       "159    24.0\n",
       "69     19.0\n",
       "142    23.0\n",
       "45     25.0\n",
       "16     24.0\n",
       "51     24.0\n",
       "125    20.0\n",
       "96     24.0\n",
       "56     25.0\n",
       "97     28.0\n",
       "120    21.0\n",
       "143    17.0\n",
       "30     28.0\n",
       "9      27.0\n",
       "172    23.0\n",
       "60     30.0\n",
       "18     26.0\n",
       "148    30.0\n",
       "173    25.0\n",
       "109    25.0\n",
       "55     24.0\n",
       "140    19.0\n",
       "126    26.0\n",
       "66     24.0\n",
       "29     28.0\n",
       "Name: BI, dtype: float64"
      ]
     },
     "execution_count": 25,
     "metadata": {},
     "output_type": "execute_result"
    }
   ],
   "source": [
    "Y_test"
   ]
  },
  {
   "cell_type": "code",
   "execution_count": 27,
   "metadata": {},
   "outputs": [
    {
     "data": {
      "text/plain": [
       "<matplotlib.legend.Legend at 0x2a6ed354110>"
      ]
     },
     "execution_count": 27,
     "metadata": {},
     "output_type": "execute_result"
    },
    {
     "data": {
      "image/png": "[encoded data removed]",
      "text/plain": [
       "<Figure size 1200x600 with 1 Axes>"
      ]
     },
     "metadata": {},
     "output_type": "display_data"
    }
   ],
   "source": [
    "# Create the line plot\n",
    "plt.figure(figsize=(12, 6))\n",
    "plt.plot(range(len(Y_test)), Y_test, label='Actual', color='blue')\n",
    "plt.plot(range(len(y_pred)), y_pred, label='Predicted', color='red', linestyle='--')\n",
    "\n",
    "plt.xlabel('Data Points')\n",
    "plt.ylabel('Values')\n",
    "plt.title('Comparison of Actual vs Predicted Values')\n",
    "plt.legend()"
   ]
  },
  {
   "cell_type": "markdown",
   "metadata": {},
   "source": [
    "The blue line represents the actual values, while the red dashed line represents the predicted values. This allows you to see how closely the predictions align with the actual data.\n",
    "\n",
    "The Mean Squared Error is 3.2113, and the R-squared score is 0.7145, indicating that the model explains about 71.45% of the variance in the target variable."
   ]
  },
  {
   "cell_type": "code",
   "execution_count": 28,
   "metadata": {},
   "outputs": [],
   "source": [
    "df.to_csv('olahdata.csv',index=False)"
   ]
  },
  {
   "cell_type": "code",
   "execution_count": 32,
   "metadata": {},
   "outputs": [
    {
     "name": "stdout",
     "output_type": "stream",
     "text": [
      "[0.38534831 0.30210373 0.4847415  0.33555258]\n"
     ]
    }
   ],
   "source": [
    "# Mendapatkan koefisien sebagai pengganti feature importance\n",
    "feature_importances = abs(model.coef_)\n",
    "print(feature_importances)"
   ]
  },
  {
   "cell_type": "code",
   "execution_count": 31,
   "metadata": {},
   "outputs": [
    {
     "data": {
      "image/png": "[encoded data removed]",
      "text/plain": [
       "<Figure size 1200x800 with 1 Axes>"
      ]
     },
     "metadata": {},
     "output_type": "display_data"
    }
   ],
   "source": [
    "# Membuat DataFrame untuk visualisasi\n",
    "features = pd.DataFrame({'Feature': x.columns, 'Importance': feature_importances})\n",
    "features = features.sort_values(by='Importance', ascending=False)\n",
    "\n",
    "# Visualisasi pentingnya fitur\n",
    "plt.figure(figsize=(12, 8))\n",
    "sns.barplot(x='Importance', y='Feature', data=features)\n",
    "plt.title('Feature Importance')\n",
    "plt.show()"
   ]
  }
 ],
 "metadata": {
  "kernelspec": {
   "display_name": "Python 3",
   "language": "python",
   "name": "python3"
  },
  "language_info": {
   "codemirror_mode": {
    "name": "ipython",
    "version": 3
   },
   "file_extension": ".py",
   "mimetype": "text/x-python",
   "name": "python",
   "nbconvert_exporter": "python",
   "pygments_lexer": "ipython3",
   "version": "3.12.4"
  }
 },
 "nbformat": 4,
 "nbformat_minor": 2
}
